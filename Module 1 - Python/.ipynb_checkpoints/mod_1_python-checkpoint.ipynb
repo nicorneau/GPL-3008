{
 "cells": [
  {
   "cell_type": "markdown",
   "metadata": {
    "slideshow": {
     "slide_type": "slide"
    }
   },
   "source": [
    "# Introduction à l'analyse de données\n",
    "\n",
    "## Module 1 : Révision Python et introduction au Markdown\n",
    "\n",
    "### Par Nicolas Corneau-Tremblay"
   ]
  },
  {
   "cell_type": "markdown",
   "metadata": {
    "slideshow": {
     "slide_type": "slide"
    }
   },
   "source": [
    "# Plan du module\n",
    "***\n",
    "\n",
    "1. Qu'est-ce que Python?\n",
    "2. Conda et Anaconda\n",
    "3. Jupyter Notebook\n",
    "4. Notions de base\n",
    "5. Types de données\n",
    "6. *if/if...else/elif*\n",
    "7. Boucle *for*\n",
    "8. Fonction\n",
    "9. Classe\n",
    "10. Module\n",
    "11. Introduction au Markdown\n",
    "12. Questions\n",
    "13. Devoir"
   ]
  },
  {
   "cell_type": "markdown",
   "metadata": {
    "slideshow": {
     "slide_type": "slide"
    }
   },
   "source": [
    "# 1.1 Qu'est-ce que Python?\n",
    "***\n",
    "\n",
    "- Langage de programmation multifonction développé par **Guido van Rossum**.\n",
    "- Langage de programmation interprété (VS compilé).\n",
    "- Première version sortie en 1991.\n",
    "- Deux versions utilisées de Python : 2.7 et **3.6**.\n",
    "- Site web de [Python](https://www.python.org/)."
   ]
  },
  {
   "cell_type": "markdown",
   "metadata": {
    "slideshow": {
     "slide_type": "slide"
    }
   },
   "source": [
    "# 1.2 Conda et Anaconda*\n",
    "***\n",
    "\n",
    "## Conda\n",
    "- Un *package manager*.\n",
    "- Provient d'un projet de la communauté Python.\n",
    "- Supporte maintenant une multitude de langages (R, Ruby, Java, etc.).\n",
    "\n",
    "## Anaconda \n",
    "- Distribution de logiciels.\n",
    "- Vient avec conda, Python (2 ou 3), Jupyter et de nombreux *packages*.\n",
    "- Installation : [ici](https://www.anaconda.com/download/#macos).\n",
    "\n",
    "*<sub>Pour en savoir davantage sur la distinction entre Conda et Anaconda, voir [ce lien](https://jakevdp.github.io/blog/2016/08/25/conda-myths-and-misconceptions/) (en anglais).<sub>"
   ]
  },
  {
   "cell_type": "markdown",
   "metadata": {
    "collapsed": true,
    "slideshow": {
     "slide_type": "slide"
    }
   },
   "source": [
    "# 1.3 Jupyter Notebook\n",
    "***\n",
    "\n",
    "- Application web permettant de programmer, d'effectuer de la visualisation, etc. (les présentes diapositives ont été faites à l'aide de Jupyter).\n",
    "- Interface simple et pratique.\n",
    "- Permet le partage de fichiers de code facilement (Attention : le travail long devra être fait avec Jupyter).\n",
    "- Exemple..."
   ]
  },
  {
   "cell_type": "markdown",
   "metadata": {
    "slideshow": {
     "slide_type": "slide"
    }
   },
   "source": [
    "# 1.4 Notions de base\n",
    "***\n",
    "- Variable\n",
    "\n",
    "Une variable est un endroit réservé dans la mémoire de l'ordinateur pour stocker des valeurs.\n",
    "\n",
    "- Assignation à une variable\n"
   ]
  },
  {
   "cell_type": "code",
   "execution_count": 28,
   "metadata": {
    "slideshow": {
     "slide_type": "-"
    }
   },
   "outputs": [
    {
     "data": {
      "text/plain": [
       "5"
      ]
     },
     "execution_count": 28,
     "metadata": {},
     "output_type": "execute_result"
    }
   ],
   "source": [
    "x = 5\n",
    "x"
   ]
  },
  {
   "cell_type": "markdown",
   "metadata": {},
   "source": [
    "- Demande d'aide"
   ]
  },
  {
   "cell_type": "code",
   "execution_count": 29,
   "metadata": {},
   "outputs": [
    {
     "name": "stdout",
     "output_type": "stream",
     "text": [
      "Help on built-in function print in module builtins:\n",
      "\n",
      "print(...)\n",
      "    print(value, ..., sep=' ', end='\\n', file=sys.stdout, flush=False)\n",
      "    \n",
      "    Prints the values to a stream, or to sys.stdout by default.\n",
      "    Optional keyword arguments:\n",
      "    file:  a file-like object (stream); defaults to the current sys.stdout.\n",
      "    sep:   string inserted between values, default a space.\n",
      "    end:   string appended after the last value, default a newline.\n",
      "    flush: whether to forcibly flush the stream.\n",
      "\n"
     ]
    }
   ],
   "source": [
    "help(print)"
   ]
  },
  {
   "cell_type": "markdown",
   "metadata": {
    "slideshow": {
     "slide_type": "slide"
    }
   },
   "source": [
    "- Commentaires.\n",
    "\n",
    "Les commentaires sont **essentiels** et **nécessaires** afin de documenter votre code et de le rendre compréhensible pour les autres (ou pour votre vous futur).\n",
    "\n",
    "Réflexion : je n'ai pas encore croisé un fichier de code trop documenté."
   ]
  },
  {
   "cell_type": "code",
   "execution_count": 30,
   "metadata": {
    "collapsed": true,
    "slideshow": {
     "slide_type": "-"
    }
   },
   "outputs": [],
   "source": [
    "# Ceci est un commentaire"
   ]
  },
  {
   "cell_type": "markdown",
   "metadata": {
    "slideshow": {
     "slide_type": "-"
    }
   },
   "source": [
    "- Impression du contenu d'une variable"
   ]
  },
  {
   "cell_type": "code",
   "execution_count": 31,
   "metadata": {
    "slideshow": {
     "slide_type": "-"
    }
   },
   "outputs": [
    {
     "name": "stdout",
     "output_type": "stream",
     "text": [
      "'x' prend la valeur 5 !\n"
     ]
    }
   ],
   "source": [
    "print(\"'x' prend la valeur\", x, \"!\")"
   ]
  },
  {
   "cell_type": "markdown",
   "metadata": {
    "slideshow": {
     "slide_type": "slide"
    }
   },
   "source": [
    "## 1.5 Types de données\n",
    "\n",
    "***\n",
    "\n",
    "Les variables peuvent avoir différents types.\n",
    "\n",
    "- Nombre (*integer, float, complex*)"
   ]
  },
  {
   "cell_type": "code",
   "execution_count": 1,
   "metadata": {
    "slideshow": {
     "slide_type": "-"
    }
   },
   "outputs": [
    {
     "name": "stdout",
     "output_type": "stream",
     "text": [
      "17 3.14159265359 (1-1j)\n"
     ]
    }
   ],
   "source": [
    "# entier (integer)\n",
    "dix_sept = 17\n",
    "\n",
    "# réel(float)\n",
    "pi = 3.14159265359\n",
    "\n",
    "# nombre complexe (complex)\n",
    "rc_moins_un = complex(1., -1.)\n",
    "\n",
    "print(dix_sept, pi, rc_moins_un)"
   ]
  },
  {
   "cell_type": "markdown",
   "metadata": {
    "slideshow": {
     "slide_type": "slide"
    }
   },
   "source": [
    "Un mot au passage sur la définition des noms de variables. Deux standards prédominent en programmation :\n",
    "\n",
    "1. [*Camel case*](https://fr.wikipedia.org/wiki/Camel_case). Exemple : `DixSept = 17`\n",
    "2. [*Snake case*](https://fr.wikipedia.org/wiki/Snake_case). Exemple : `dix_sept = 17`\n",
    "\n",
    "Dans ce cours, peu importe lequel vous choisissez, en autant que vous soyez constant dans votre choix."
   ]
  },
  {
   "cell_type": "markdown",
   "metadata": {
    "slideshow": {
     "slide_type": "slide"
    }
   },
   "source": [
    "- Booléen (*boolean*)\n",
    "\n",
    "Vrai ou faux\n",
    "\n",
    "Permet par exemple de définir une variable  `femme` = {0, 1}.\n",
    "\n",
    "Permet également de vérifier et d'introduire des conditions."
   ]
  },
  {
   "cell_type": "code",
   "execution_count": 33,
   "metadata": {
    "slideshow": {
     "slide_type": "-"
    }
   },
   "outputs": [
    {
     "name": "stdout",
     "output_type": "stream",
     "text": [
      "True\n"
     ]
    },
    {
     "data": {
      "text/plain": [
       "2"
      ]
     },
     "execution_count": 33,
     "metadata": {},
     "output_type": "execute_result"
    }
   ],
   "source": [
    "vitesse = 110\n",
    "dessus_de_la_limite = vitesse > 100\n",
    "print(dessus_de_la_limite)\n",
    "\n",
    "# 0/1\n",
    "dessus_de_la_limite + 1"
   ]
  },
  {
   "cell_type": "markdown",
   "metadata": {
    "slideshow": {
     "slide_type": "slide"
    }
   },
   "source": [
    "- chaine de caractères (*string*)"
   ]
  },
  {
   "cell_type": "code",
   "execution_count": 2,
   "metadata": {
    "slideshow": {
     "slide_type": "-"
    }
   },
   "outputs": [
    {
     "name": "stdout",
     "output_type": "stream",
     "text": [
      "Chaine de caractères.\n",
      "\n",
      "Longue\n",
      "chaine\n",
      "de\n",
      "caractères.\n",
      "\n"
     ]
    }
   ],
   "source": [
    "#courte\n",
    "carac_court = \"Chaine de caractères.\"\n",
    "print(carac_court)\n",
    "\n",
    "#longue\n",
    "carac_long = '''\n",
    "Longue\n",
    "chaine\n",
    "de\n",
    "caractères.\n",
    "'''\n",
    "\n",
    "print(carac_long)"
   ]
  },
  {
   "cell_type": "markdown",
   "metadata": {
    "slideshow": {
     "slide_type": "slide"
    }
   },
   "source": [
    "Possibilité d'utiliser les guillemets doubles (\") ou les guillemets simples (') pour définir une chaine de caractères, en autant qu'ils balancent."
   ]
  },
  {
   "cell_type": "code",
   "execution_count": 3,
   "metadata": {
    "slideshow": {
     "slide_type": "-"
    }
   },
   "outputs": [
    {
     "name": "stdout",
     "output_type": "stream",
     "text": [
      "Wouf! Miaou!\n"
     ]
    }
   ],
   "source": [
    "chien = \"Wouf!\"\n",
    "chat = 'Miaou!'\n",
    "print(chien, chat)"
   ]
  },
  {
   "cell_type": "markdown",
   "metadata": {
    "slideshow": {
     "slide_type": "slide"
    }
   },
   "source": [
    "- Liste (*list*)\n",
    "\n",
    "Structure de données formée par une collection d'items.\n",
    "\n",
    "Définie par des crochets : [ ]."
   ]
  },
  {
   "cell_type": "code",
   "execution_count": 1,
   "metadata": {
    "slideshow": {
     "slide_type": "-"
    }
   },
   "outputs": [
    {
     "name": "stdout",
     "output_type": "stream",
     "text": [
      "Le lait coûte 3.49 $.\n"
     ]
    }
   ],
   "source": [
    "boisson = [\"lait\", \"jus\", \"eau\"]\n",
    "\n",
    "prix = [3.49, 3.99, 1.99]\n",
    "\n",
    "breuvages = [boisson, prix]\n",
    "\n",
    "print(\"Le\", breuvages[0][0], \"coûte\", breuvages[1][0], \"$.\")"
   ]
  },
  {
   "cell_type": "markdown",
   "metadata": {
    "slideshow": {
     "slide_type": "-"
    }
   },
   "source": [
    "À noter que Python commence à compter à partir de 0 et non de 1.\n",
    "\n",
    "À noter également que la liste \"breuvages\" et composée elle-même de listes, `boisson` et `prix`. Toutefois, ces deux listes ne peuvent être référencées par leur nom une fois intégrées dans la liste `breuvages`. Cela doit être fait à l'aide de leur position."
   ]
  },
  {
   "cell_type": "markdown",
   "metadata": {
    "slideshow": {
     "slide_type": "slide"
    }
   },
   "source": [
    "Il est possible de réassigner une valeur à l'intérieur d'une liste ou d'en ajouter une nouvelle."
   ]
  },
  {
   "cell_type": "code",
   "execution_count": 2,
   "metadata": {
    "slideshow": {
     "slide_type": "-"
    }
   },
   "outputs": [
    {
     "name": "stdout",
     "output_type": "stream",
     "text": [
      "['lait', 'boisson gazeuse', 'eau']\n"
     ]
    }
   ],
   "source": [
    "breuvages[0][1] = \"boisson gazeuse\"\n",
    "print(breuvages[0])"
   ]
  },
  {
   "cell_type": "code",
   "execution_count": 3,
   "metadata": {},
   "outputs": [
    {
     "name": "stdout",
     "output_type": "stream",
     "text": [
      "['lait', 'thé glacé', 'boisson gazeuse']\n",
      "['eau']\n"
     ]
    }
   ],
   "source": [
    "breuvages[0].insert(1, \"thé glacé\")\n",
    "print(breuvages[0][:3])\n",
    "print(breuvages[0][3:])"
   ]
  },
  {
   "cell_type": "markdown",
   "metadata": {
    "slideshow": {
     "slide_type": "-"
    }
   },
   "source": [
    "L'expression list`.insert` est une **méthode**. Une méthode est une fonction, dans ce cas-ci permettant d'insérer un nouvel élément dans une liste à une position précise. Pour connaitre les méthodes associées à un objet : `help`(objet) (par exemple, dans ce cas, `help(list)`).\n",
    "\n",
    "L'expression `:3` désigne tout ce qui précède l'élément en position 3 (excluant celui) de la liste. À l'inverse, l'expression `3:` désigne tout ce qui suit l'élément en position 3 (incluant celui-ci) de la liste."
   ]
  },
  {
   "cell_type": "markdown",
   "metadata": {
    "slideshow": {
     "slide_type": "slide"
    }
   },
   "source": [
    "- *tuple*\n",
    "\n",
    "Une liste, mais immuable.\n",
    "\n",
    "Défini par des parenthèses : ()"
   ]
  },
  {
   "cell_type": "code",
   "execution_count": 38,
   "metadata": {
    "slideshow": {
     "slide_type": "-"
    }
   },
   "outputs": [
    {
     "data": {
      "text/plain": [
       "'frambroise'"
      ]
     },
     "execution_count": 38,
     "metadata": {},
     "output_type": "execute_result"
    }
   ],
   "source": [
    "saveur = (\"frambroise\", \"fraise\", \"pomme\")\n",
    "saveur[0]"
   ]
  },
  {
   "cell_type": "markdown",
   "metadata": {
    "slideshow": {
     "slide_type": "-"
    }
   },
   "source": [
    "À noter que pour faire référence à un élément dans un tuple, il faut tout de même utiliser les crochets."
   ]
  },
  {
   "cell_type": "code",
   "execution_count": 39,
   "metadata": {
    "slideshow": {
     "slide_type": "-"
    }
   },
   "outputs": [
    {
     "ename": "TypeError",
     "evalue": "'tuple' object does not support item assignment",
     "output_type": "error",
     "traceback": [
      "\u001b[0;31m---------------------------------------------------------------------------\u001b[0m",
      "\u001b[0;31mTypeError\u001b[0m                                 Traceback (most recent call last)",
      "\u001b[0;32m<ipython-input-39-010080e8bfb5>\u001b[0m in \u001b[0;36m<module>\u001b[0;34m()\u001b[0m\n\u001b[0;32m----> 1\u001b[0;31m \u001b[0msaveur\u001b[0m\u001b[0;34m[\u001b[0m\u001b[0;36m0\u001b[0m\u001b[0;34m]\u001b[0m \u001b[0;34m=\u001b[0m \u001b[0;34m\"baies des champs\"\u001b[0m\u001b[0;34m\u001b[0m\u001b[0m\n\u001b[0m",
      "\u001b[0;31mTypeError\u001b[0m: 'tuple' object does not support item assignment"
     ]
    }
   ],
   "source": [
    "saveur[0] = \"baies des champs\""
   ]
  },
  {
   "cell_type": "markdown",
   "metadata": {
    "slideshow": {
     "slide_type": "slide"
    }
   },
   "source": [
    "- Dictionnaire (*dictionary*)\n",
    "\n",
    "Structure de données non-ordonnée mettant en lien une **clé** (*key*) et une **valeur** (*value*) dans une relation clé-valeur.\n",
    "\n",
    "Les clés doivent être uniques; elles sont utilisées pour référer les éléments du dictionnaire (contrairement aux positions pour les listes et les *tuples*)\n",
    "\n",
    "Les valeurs peuvent prendre n'importe quelle forme : nombre, liste, fonction, etc.\n",
    "\n",
    "Un dictionnaire est défini par des accolades : { }"
   ]
  },
  {
   "cell_type": "code",
   "execution_count": 4,
   "metadata": {
    "slideshow": {
     "slide_type": "-"
    }
   },
   "outputs": [
    {
     "name": "stdout",
     "output_type": "stream",
     "text": [
      "['États-Unis', 8.5]\n",
      "8.5\n"
     ]
    }
   ],
   "source": [
    "villes = {\"New-York\" : [\"États-Unis\", 8.5],\n",
    "         \"Montréal\": [\"Canada\", 1.7],\n",
    "         \"Berlin\" : [\"Allemagne\", 3.5]}\n",
    "print(villes[\"New-York\"])\n",
    "print(villes[\"New-York\"][1])"
   ]
  },
  {
   "cell_type": "code",
   "execution_count": 5,
   "metadata": {
    "slideshow": {
     "slide_type": "-"
    }
   },
   "outputs": [
    {
     "name": "stdout",
     "output_type": "stream",
     "text": [
      "{'New-York': ['États-Unis', 8.5], 'Montréal': ['Canada', 1.7], 'Berlin': ['Allemagne', 3.5], 'Ouagadougou': ['Burkina Faso', 2.2]}\n"
     ]
    }
   ],
   "source": [
    "villes[\"Ouagadougou\"] = [\"Burkina Faso\", 2.2]\n",
    "print(villes)"
   ]
  },
  {
   "cell_type": "markdown",
   "metadata": {
    "slideshow": {
     "slide_type": "slide"
    }
   },
   "source": [
    "Pour obtenir les clés d'un dictionnaire, utiliser dict`.key`. \n",
    "\n",
    "Pour obtenir les valeurs d'un dictionnaire, utiliser dict`.values`."
   ]
  },
  {
   "cell_type": "code",
   "execution_count": 6,
   "metadata": {
    "slideshow": {
     "slide_type": "-"
    }
   },
   "outputs": [
    {
     "name": "stdout",
     "output_type": "stream",
     "text": [
      "{'New-York': ['États-Unis', 8.5], 'Montréal': ['Canada', 1.7], 'Berlin': ['Allemagne', 3.5], 'Ouagadougou': ['Burkina Faso', 2.2]}\n"
     ]
    }
   ],
   "source": [
    "print(villes)"
   ]
  },
  {
   "cell_type": "code",
   "execution_count": 7,
   "metadata": {},
   "outputs": [
    {
     "name": "stdout",
     "output_type": "stream",
     "text": [
      "dict_keys(['New-York', 'Montréal', 'Berlin', 'Ouagadougou'])\n"
     ]
    }
   ],
   "source": [
    "print(villes.keys())"
   ]
  },
  {
   "cell_type": "code",
   "execution_count": 8,
   "metadata": {},
   "outputs": [
    {
     "name": "stdout",
     "output_type": "stream",
     "text": [
      "dict_values([['États-Unis', 8.5], ['Canada', 1.7], ['Allemagne', 3.5], ['Burkina Faso', 2.2]])\n"
     ]
    }
   ],
   "source": [
    "print(villes.values())"
   ]
  },
  {
   "cell_type": "markdown",
   "metadata": {
    "slideshow": {
     "slide_type": "slide"
    }
   },
   "source": [
    "- Incertain du type de données d'une variable? Utiliser `type`."
   ]
  },
  {
   "cell_type": "code",
   "execution_count": 43,
   "metadata": {
    "slideshow": {
     "slide_type": "-"
    }
   },
   "outputs": [
    {
     "name": "stdout",
     "output_type": "stream",
     "text": [
      "x: <class 'int'> y: <class 'float'> z: <class 'list'>\n"
     ]
    }
   ],
   "source": [
    "x = 11\n",
    "y = 11.1\n",
    "z = [11]\n",
    "print(\"x:\", type(x), \"y:\", type(y), \"z:\", type(z))"
   ]
  },
  {
   "cell_type": "markdown",
   "metadata": {
    "slideshow": {
     "slide_type": "slide"
    }
   },
   "source": [
    "## 1.6 *if/if...else/elif*\n",
    "***\n",
    "\n",
    "- Le mot-clé `if` permet d'effectuer une action lorsqu'une condition est respectée.\n"
   ]
  },
  {
   "cell_type": "code",
   "execution_count": 44,
   "metadata": {
    "slideshow": {
     "slide_type": "-"
    }
   },
   "outputs": [
    {
     "name": "stdout",
     "output_type": "stream",
     "text": [
      "Tu es majeur.\n"
     ]
    }
   ],
   "source": [
    "age = 35\n",
    "if age >= 18:\n",
    "    print(\"Tu es majeur.\")"
   ]
  },
  {
   "cell_type": "markdown",
   "metadata": {
    "slideshow": {
     "slide_type": "-"
    }
   },
   "source": [
    "À noter, l'indentation est nécessaire pour que ce code fonctionne :"
   ]
  },
  {
   "cell_type": "code",
   "execution_count": 45,
   "metadata": {
    "slideshow": {
     "slide_type": "-"
    }
   },
   "outputs": [
    {
     "ename": "IndentationError",
     "evalue": "expected an indented block (<ipython-input-45-3b47a7d69716>, line 3)",
     "output_type": "error",
     "traceback": [
      "\u001b[0;36m  File \u001b[0;32m\"<ipython-input-45-3b47a7d69716>\"\u001b[0;36m, line \u001b[0;32m3\u001b[0m\n\u001b[0;31m    print(\"Tu es majeur.\")\u001b[0m\n\u001b[0m        ^\u001b[0m\n\u001b[0;31mIndentationError\u001b[0m\u001b[0;31m:\u001b[0m expected an indented block\n"
     ]
    }
   ],
   "source": [
    "age = 35\n",
    "if age >= 18:\n",
    "print(\"Tu es majeur.\")"
   ]
  },
  {
   "cell_type": "markdown",
   "metadata": {
    "slideshow": {
     "slide_type": "-"
    }
   },
   "source": [
    "Python est très sensible à l'indentation $\\rightarrow$ Être vigilant lorsque l'on écrit des conditions, des boucles, des fonctions, etc."
   ]
  },
  {
   "cell_type": "markdown",
   "metadata": {
    "slideshow": {
     "slide_type": "slide"
    }
   },
   "source": [
    "- Les mots-clés `if...else` permettent d'effectuer une action lorsqu'une condition est respectée, mais indiquent également quoi faire lorsque cette condition ne l'est pas."
   ]
  },
  {
   "cell_type": "code",
   "execution_count": 46,
   "metadata": {
    "slideshow": {
     "slide_type": "-"
    }
   },
   "outputs": [
    {
     "name": "stdout",
     "output_type": "stream",
     "text": [
      "Tu es mineur.\n"
     ]
    }
   ],
   "source": [
    "age = 17\n",
    "if age >= 18 :\n",
    "    print(\"Tu es majeur.\")\n",
    "else :\n",
    "    print(\"Tu es mineur.\")"
   ]
  },
  {
   "cell_type": "markdown",
   "metadata": {
    "slideshow": {
     "slide_type": "slide"
    }
   },
   "source": [
    "- Le mot-clé `elif` peut accompagner `if` et permettre d'introduire plusieurs conditions afin de déterminer l'action à effectuer.    "
   ]
  },
  {
   "cell_type": "code",
   "execution_count": 47,
   "metadata": {
    "slideshow": {
     "slide_type": "-"
    }
   },
   "outputs": [
    {
     "name": "stdout",
     "output_type": "stream",
     "text": [
      "Tu es majeur au Québec, mais pas en Ontario.\n"
     ]
    }
   ],
   "source": [
    "age = 20\n",
    "if age >= 21 :\n",
    "    print(\"Tu es majeur.\")\n",
    "elif age < 21 and age >= 18 :\n",
    "    print(\"Tu es majeur au Québec, mais pas en Ontario.\")\n",
    "else :\n",
    "    print(\"Tu es mineur.\")"
   ]
  },
  {
   "cell_type": "markdown",
   "metadata": {
    "slideshow": {
     "slide_type": "-"
    }
   },
   "source": [
    "Dans l'exemple précédent, le mot-clé `and` a été utilisé pour imposer simultanément deux contraintes : si ton âge est de moins de 21 ans ET supérieur ou égal à 18 ans.\n",
    "\n",
    "Pour imposer des contraintes alternatives, il faut plutôt utiliser le mot-clé `or`."
   ]
  },
  {
   "cell_type": "code",
   "execution_count": 6,
   "metadata": {
    "slideshow": {
     "slide_type": "-"
    }
   },
   "outputs": [
    {
     "name": "stdout",
     "output_type": "stream",
     "text": [
      "Ton statut diffère entre le Québec et l'Ontario.\n"
     ]
    }
   ],
   "source": [
    "age = 19\n",
    "if age >=21 or age<18 :\n",
    "    print(\"Ton statut légal est le même au Québec qu'en Ontario.\")\n",
    "else :\n",
    "    print(\"Ton statut diffère entre le Québec et l'Ontario.\")"
   ]
  },
  {
   "cell_type": "markdown",
   "metadata": {
    "collapsed": true,
    "slideshow": {
     "slide_type": "slide"
    }
   },
   "source": [
    "## 1.7 Boucle *for*\n",
    "\n",
    "***\n",
    "\n",
    "- Une boucle permet de créer un processus itératif.\n",
    "- Exemple : Effectuer une opération sur tous les éléments d'une liste ou pour une série de nombres.\n",
    "- Une boucle est généralement implémentée à l'aide du mot clé `for`."
   ]
  },
  {
   "cell_type": "code",
   "execution_count": 9,
   "metadata": {
    "slideshow": {
     "slide_type": "-"
    }
   },
   "outputs": [
    {
     "name": "stdout",
     "output_type": "stream",
     "text": [
      "[['lait', 'jus', 'eau'], [3.49, 3.99, 1.99], [2, 1, 3]]\n",
      "Les boissons coûtent au total 16.94 $\n"
     ]
    }
   ],
   "source": [
    "# Exemple : cout total des breuvages\n",
    "# recréer la liste breuvages\n",
    "boisson = [\"lait\", \"jus\", \"eau\"]\n",
    "prix = [3.49, 3.99, 1.99]\n",
    "breuvages = [boisson, prix]\n",
    "\n",
    "# y ajouter un nombre par breuvage\n",
    "nombres = [2, 1, 3]\n",
    "breuvages.append(nombres)\n",
    "print(breuvages)\n",
    "\n",
    "cout_total = 0\n",
    "for boisson in range(0, len(breuvages[0])):\n",
    "    cout_total += breuvages[1][boisson]*breuvages[2][boisson]\n",
    "    \n",
    "print(\"Les boissons coûtent au total\", cout_total, \"$\")"
   ]
  },
  {
   "cell_type": "markdown",
   "metadata": {
    "slideshow": {
     "slide_type": "slide"
    }
   },
   "source": [
    "Également, l'opérateur `+=` permet d'additionner une nouvelle valeur à une variable déjà existante.\n",
    "\n",
    "Il serait aussi possible d'écrire `cout_total = cout_total + breuvages[1][boisson]*breuvages[2][boisson]` afin d'obtenir le même résultat."
   ]
  },
  {
   "cell_type": "markdown",
   "metadata": {
    "collapsed": true,
    "slideshow": {
     "slide_type": "slide"
    }
   },
   "source": [
    "## 1.8 Fonction\n",
    "\n",
    "***\n",
    "\n",
    "- Une fonction effectue une ou plusieurs actions.\n",
    "- Permet de réutiliser du code afin de reproduire systématiquement la même action.\n",
    "- Par exemple, `print` et `type` sont des fonctions.\n",
    "- Possibilité d'écrire ses propres fonctions $\\rightarrow$ très utile pour éviter le copier-coller et lors de la correction d'erreurs!\n",
    "- Pour définir une fonction, utiliser le mot-clé `def`.\n",
    "- Contient généralement un ou des paramètres (mais pas obligatoirement) $\\rightarrow$ intrants de la fonction.\n",
    "- Retourne généralement une valeur à l'aide du mot-clé `return` $\\rightarrow$ extrants de la fonction."
   ]
  },
  {
   "cell_type": "code",
   "execution_count": 10,
   "metadata": {
    "collapsed": true,
    "slideshow": {
     "slide_type": "slide"
    }
   },
   "outputs": [],
   "source": [
    "# Exemple : transformer du texte\n",
    "def carac_cool(string):\n",
    "    '''\n",
    "    fonction qui rend une chaine de caractère \"cool\"!\n",
    "    '''\n",
    "    temp = list(string)\n",
    "\n",
    "    for lettres in range(0, len(temp)) :\n",
    "        if lettres % 2 == 0 :\n",
    "            temp[lettres] = temp[lettres].upper()\n",
    "        else :\n",
    "            continue\n",
    "            \n",
    "    output = \"\".join(temp)\n",
    "    \n",
    "    return output"
   ]
  },
  {
   "cell_type": "markdown",
   "metadata": {
    "slideshow": {
     "slide_type": "-"
    }
   },
   "source": [
    "Expliquer ce que fait une fonction au début de celle-ci est considéré comme une bonne pratique. Écrire des fonctions courtes n'effectuant qu'une seule action est une autre bonne pratique."
   ]
  },
  {
   "cell_type": "code",
   "execution_count": 11,
   "metadata": {
    "slideshow": {
     "slide_type": "-"
    }
   },
   "outputs": [
    {
     "data": {
      "text/plain": [
       "'BoNjOuR À ToUtEs eT À ToUs!'"
      ]
     },
     "execution_count": 11,
     "metadata": {},
     "output_type": "execute_result"
    }
   ],
   "source": [
    "carac_cool(\"Bonjour à toutes et à tous!\")"
   ]
  },
  {
   "cell_type": "markdown",
   "metadata": {
    "slideshow": {
     "slide_type": "slide"
    }
   },
   "source": [
    "- Pour des fonctions très courtes, il est possible d'utiliser le mot-clé `lambda` pour créer des fonctions anonymes."
   ]
  },
  {
   "cell_type": "code",
   "execution_count": 52,
   "metadata": {
    "slideshow": {
     "slide_type": "-"
    }
   },
   "outputs": [
    {
     "data": {
      "text/plain": [
       "729"
      ]
     },
     "execution_count": 52,
     "metadata": {},
     "output_type": "execute_result"
    }
   ],
   "source": [
    "au_cube = lambda x : x**3\n",
    "au_cube(9)"
   ]
  },
  {
   "cell_type": "markdown",
   "metadata": {
    "slideshow": {
     "slide_type": "slide"
    }
   },
   "source": [
    "## 1.9 Classe\n",
    "\n",
    "***\n",
    "\n",
    "Une classe est un concept.\n",
    "\n",
    "Permet d'imposer une structure similaire afin de créer des objets.\n",
    "\n",
    "Composée de trois éléments :\n",
    "\n",
    "1. Constructeur\n",
    "2. Attributs\n",
    "2. Méthodes\n",
    "\n",
    "\n",
    "Ce que l'on appelle une fonction s'appelle ainsi lorsqu'elle se trouve en dehors d'une classe. Une fonction à l'intérieur d'une classe est une méthode (voir par exemple list`.insert` vue précédemment).\n",
    "\n",
    "Ce que l'on appelle une variable s'appelle ainsi lorsqu'elle se trouve en dehors d'une classe. Une variable à l'intérieur d'une classe est un attribut."
   ]
  },
  {
   "cell_type": "code",
   "execution_count": 1,
   "metadata": {
    "collapsed": true,
    "slideshow": {
     "slide_type": "slide"
    }
   },
   "outputs": [],
   "source": [
    "# Exemple de classe\n",
    "class Ami :\n",
    "    '''\n",
    "    Classe définissant un ami selon son prénom, son nom de famille,\n",
    "    son numéro de téléphone et son courriel.\n",
    "    '''\n",
    "    # Constructeur\n",
    "    def __init__(self, prenom, nom_famille, telephone, courriel) :\n",
    "        \n",
    "        print(\"Un nouvel ami!\")\n",
    "        \n",
    "        # Attributs\n",
    "        self.prenom = prenom\n",
    "        self.nom_famille = nom_famille\n",
    "        self.telephone = telephone\n",
    "        self.courriel = courriel\n",
    "        \n",
    "    # Méthodes\n",
    "    def information(self) :\n",
    "        info = \"%s %s. Telephone : %s, Courriel : %s\" % \\\n",
    "        (self.prenom, self.nom_famille, self.telephone, self.courriel)\n",
    "        return info"
   ]
  },
  {
   "cell_type": "markdown",
   "metadata": {
    "slideshow": {
     "slide_type": "-"
    }
   },
   "source": [
    "À noter, le charactère `\\` est utilisé dans la définition de la fonction `information` afin de poursuivre le code sur la ligne suivante."
   ]
  },
  {
   "cell_type": "code",
   "execution_count": 3,
   "metadata": {
    "slideshow": {
     "slide_type": "slide"
    }
   },
   "outputs": [
    {
     "name": "stdout",
     "output_type": "stream",
     "text": [
      "Un nouvel ami!\n"
     ]
    }
   ],
   "source": [
    "# Définition d'un ami : TC\n",
    "TC = Ami(\"Tom\", \"Cruise\", \"555-418-5432\", \"t_cruise_MI@gmail.com\")"
   ]
  },
  {
   "cell_type": "code",
   "execution_count": 4,
   "metadata": {
    "slideshow": {
     "slide_type": "-"
    }
   },
   "outputs": [
    {
     "name": "stdout",
     "output_type": "stream",
     "text": [
      "Tom Cruise. Telephone : 555-418-5432, Courriel : t_cruise_MI@gmail.com\n"
     ]
    }
   ],
   "source": [
    "# Information de TC\n",
    "print(TC.information())"
   ]
  },
  {
   "cell_type": "code",
   "execution_count": 5,
   "metadata": {
    "slideshow": {
     "slide_type": "-"
    }
   },
   "outputs": [
    {
     "name": "stdout",
     "output_type": "stream",
     "text": [
      "Tom Hanks. Telephone : 555-418-5432, Courriel : t_cruise_MI@gmail.com\n"
     ]
    }
   ],
   "source": [
    "# Modification des attributs de TC\n",
    "TC.nom_famille = \"Hanks\"\n",
    "print(TC.information())"
   ]
  },
  {
   "cell_type": "markdown",
   "metadata": {
    "slideshow": {
     "slide_type": "-"
    }
   },
   "source": [
    "Les classes sont utilisées en **programmation orientée objet** (POO), un paradigme de programmation.\n",
    "\n",
    "Pour en savoir davantage sur la POO : [Wikipédia](https://fr.wikipedia.org/wiki/Programmation_orient%C3%A9e_objet)."
   ]
  },
  {
   "cell_type": "markdown",
   "metadata": {
    "slideshow": {
     "slide_type": "slide"
    }
   },
   "source": [
    "## 1.10 Module\n",
    "\n",
    "***\n",
    "\n",
    "- Un module est un fichier contenant un ensemble de fonctions pouvant être utilisées.\n",
    "- Pour utiliser un module, il faut d'abord le charger à l'aide du mot-clé `import`.\n",
    "- Les fonctions qu'il contient peuvent ensuite être utilisées, généralement avec un préfixe."
   ]
  },
  {
   "cell_type": "code",
   "execution_count": 57,
   "metadata": {
    "slideshow": {
     "slide_type": "-"
    }
   },
   "outputs": [
    {
     "data": {
      "text/plain": [
       "'/Users/nct/Dropbox (CEDIA)/ULaval/GPL-3008/Module 1 - Python'"
      ]
     },
     "execution_count": 57,
     "metadata": {},
     "output_type": "execute_result"
    }
   ],
   "source": [
    "# Exemple de module\n",
    "import os\n",
    "os.getcwd()"
   ]
  },
  {
   "cell_type": "markdown",
   "metadata": {
    "slideshow": {
     "slide_type": "slide"
    }
   },
   "source": [
    "- Les modules peuvent aussi avoir des *alias*, notamment lorsque leur nom est trop long. Dans ce cas, l'*alias* est utilisé comme préfixe.\n",
    "- Des standards existent dans la communauté Python pour les modules les plus fréquents (NumPy, Pandas, etc.)."
   ]
  },
  {
   "cell_type": "code",
   "execution_count": 58,
   "metadata": {
    "collapsed": true,
    "slideshow": {
     "slide_type": "-"
    }
   },
   "outputs": [],
   "source": [
    "# Exemple d'alias\n",
    "import numpy as np\n",
    "import pandas as pd"
   ]
  },
  {
   "cell_type": "markdown",
   "metadata": {
    "slideshow": {
     "slide_type": "-"
    }
   },
   "source": [
    "- Pour plus d'informations sur un module, encore une fois utiliser `help`.\n",
    "\n",
    "- Plusieurs modules seront utilisés dans le cadre de ce cours. Ils seront présentés en temps et lieu."
   ]
  },
  {
   "cell_type": "markdown",
   "metadata": {
    "slideshow": {
     "slide_type": "slide"
    }
   },
   "source": [
    "## 1.11 Introduction au Markdown\n",
    "\n",
    "***\n",
    "\n",
    "- Le Markdown est un langage de balisage léger, c'est-à-dire un langage permettant la rédaction et la lecture de texte dans un éditeur de texte (e.g. Notepad, TextWrangler, etc.).\n",
    "- Il a été créé en 2004 par John Gruber.\n",
    "- L'objectif de ce langage est de pouvoir lire le langage directement, sans formatage.\n",
    "- Il est aisément converti en HTML, par exemple.\n",
    "- Ce langage sera utile dans le travail long (également, le texte dans les diapositives du cours est entièrement en Markdown)."
   ]
  },
  {
   "cell_type": "markdown",
   "metadata": {
    "slideshow": {
     "slide_type": "slide"
    }
   },
   "source": [
    "Quelques règles de formatage :\n",
    "\n",
    "\\# permetant d'introduire un titre, \\## un sous-titre, etc.\n",
    "\n",
    "# Titre\n",
    "\n",
    "\\*italique\\* permet d'écrire en italique : *italique*.\n",
    "\n",
    "\\*\\*gras\\*\\* permet d'écrire en gras : **gras**.\n",
    "\n",
    "\\*\\*\\*italique et gras\\*\\*\\* permet d'écrire en italique et en gras : ***italique et gras***.\n",
    "\n",
    "\\`code\\` permet d'écrire du code : `code`.\n",
    "\n",
    "\\- permet de faire une liste non numérotée.\n",
    "- Mot 1.\n",
    "- Mot 2.\n",
    "\n",
    "\\1. permet de faire une liste numérotée.\n",
    "\n",
    "1. Un.\n",
    "2. Deux."
   ]
  },
  {
   "cell_type": "markdown",
   "metadata": {
    "slideshow": {
     "slide_type": "slide"
    }
   },
   "source": [
    "## 1.12 Questions\n",
    "\n",
    "***\n",
    "\n",
    "Si vous avez des questions (et vous allez en avoir!), plusieurs options existent, entre autres:\n",
    "\n",
    "1. Forum du site de cours\n",
    "    - Avantages : D'autres étudiants ou moi-même pouvons répondre, en français et permet des questions spécifiques.\n",
    "    - Inconvénients : Le forum ne sera pas toujours là!\n",
    "2. Google\n",
    "    - Avantages : Toujours disponible et large communauté à travers le monde.\n",
    "    - Inconvénients : En anglais, requièrt un effort plus grand et les réponses sont parfois moins spécifiques.\n",
    "    \n",
    "Les questions sont évidemment **toujours** bienvenues sur le forum.\n",
    "\n",
    "Sachez que faire de la programmation, c'est tomber sur des bogues et tenter de les résoudre!\n",
    "\n",
    "\n",
    "\n"
   ]
  },
  {
   "cell_type": "markdown",
   "metadata": {
    "slideshow": {
     "slide_type": "slide"
    }
   },
   "source": [
    "## 1.13 Devoir\n",
    "\n",
    "***\n",
    "\n",
    "Pour le travail long, voici le devoir de cette semaine :\n",
    "\n",
    "1. Télécharger et installer Anaconda.\n",
    "2. Se familiariser avec l'environnement Jupyter.\n",
    "3. Réviser les notions de Python couvertes.\n",
    "4. Explorer le Markdown dans Jupyter."
   ]
  }
 ],
 "metadata": {
  "celltoolbar": "Slideshow",
  "kernelspec": {
   "display_name": "Python 3",
   "language": "python",
   "name": "python3"
  },
  "language_info": {
   "codemirror_mode": {
    "name": "ipython",
    "version": 3
   },
   "file_extension": ".py",
   "mimetype": "text/x-python",
   "name": "python",
   "nbconvert_exporter": "python",
   "pygments_lexer": "ipython3",
   "version": "3.6.3"
  }
 },
 "nbformat": 4,
 "nbformat_minor": 2
}
