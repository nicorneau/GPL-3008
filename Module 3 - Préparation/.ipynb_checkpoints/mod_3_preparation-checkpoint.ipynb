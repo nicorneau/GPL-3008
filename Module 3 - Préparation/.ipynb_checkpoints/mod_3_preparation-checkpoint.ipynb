{
 "cells": [
  {
   "cell_type": "markdown",
   "metadata": {
    "slideshow": {
     "slide_type": "slide"
    }
   },
   "source": [
    "# Quiz de révision\n",
    "\n",
    "1.Soit la requête suivante :\n",
    "\n",
    "`SELECT age, revenu, sexe FROM individu`\n",
    "\n",
    "À partir de l'information contenue dans cette requête, écrire une nouvelle requête calculant le revenu moyen pour les personnes âgées de plus de 35 ans.\n",
    "\n",
    "2.Soit la table suivante :\n",
    "\n",
    "|  id  | traitement_A | traitement_B | resultat_A | resultat_B |\n",
    "|:-----|:------------:|:------------:|:----------:|:----------:|\n",
    "| 1234 |      oui     |     non      |     21     |      .     |\n",
    "| 7890 |      non     |     oui      |      .     |      35    |\n",
    "\n",
    "Quelles sont les variables dans cette table? Comment cette table pourrait-elle être réorganisée pour être *tidy*?\n",
    "\n",
    "\n",
    "3.Comment la jointure externe à gauche et la jointure externe complète se distinguent-elles?"
   ]
  },
  {
   "cell_type": "code",
   "execution_count": 1,
   "metadata": {
    "collapsed": true,
    "slideshow": {
     "slide_type": "slide"
    }
   },
   "outputs": [],
   "source": [
    "# Exemple de solution pour la question 1.\n",
    "import numpy as np\n",
    "import sqlite3\n",
    "\n",
    "connect = sqlite3.connect(\"question_1.db\")\n",
    "cur = connect.cursor()\n",
    "\n",
    "cur.execute(\"CREATE TABLE IF NOT EXISTS individu(age INT, revenu FLOAT, sexe TEXT) ;\")\n",
    "\n",
    "cur.execute(\"INSERT INTO individu VALUES(32, 24594.21, 'M');\")\n",
    "cur.execute(\"INSERT INTO individu VALUES(44, 45987.05, 'F');\")\n",
    "cur.execute(\"INSERT INTO individu VALUES(51, 54534.87, 'F');\")\n",
    "\n",
    "connect.commit()"
   ]
  },
  {
   "cell_type": "code",
   "execution_count": 2,
   "metadata": {
    "slideshow": {
     "slide_type": "slide"
    }
   },
   "outputs": [
    {
     "name": "stdout",
     "output_type": "stream",
     "text": [
      "[(50260.96,)] = 50260.96\n"
     ]
    }
   ],
   "source": [
    "cur.execute(\"SELECT AVG(revenu) FROM individu WHERE age > 35;\")\n",
    "reponse_1 = cur.fetchall()\n",
    "\n",
    "cur.close()\n",
    "connect.close()\n",
    "\n",
    "print(reponse_1, \"=\", np.mean([45987.05, 54534.87]))"
   ]
  },
  {
   "cell_type": "markdown",
   "metadata": {
    "slideshow": {
     "slide_type": "slide"
    }
   },
   "source": [
    "- Exemple de solution pour la question 2.\n",
    "\n",
    "Variables : id, traitement, résultat\n",
    "\n",
    "|  id  | traitement |   resultat  |\n",
    "|:-----|:----------:|:-----------:|\n",
    "| 1234 |      A     |      21     |\n",
    "| 7890 |      B     |      35     |"
   ]
  },
  {
   "cell_type": "markdown",
   "metadata": {
    "slideshow": {
     "slide_type": "slide"
    }
   },
   "source": [
    "- Exemple de solution pour la question 3.\n",
    "\n",
    "Les deux types de jointures tentent de réunir deux tables en faisant correspondrent un attribut partagé entre celles-ci.\n",
    "\n",
    "La jointure externe à gauche conserve tous les enregistrements de la table \"de gauche\", mais seulement les enregistrements de la table \"de droite\" ayant trouvé une correspondance lors de la jointure.\n",
    "\n",
    "La jointure externe complète conserve tous les éléments des deux tables, indépendamment qu'ils aient trouvé ou non une correspondance lors de la jointure."
   ]
  },
  {
   "cell_type": "markdown",
   "metadata": {
    "slideshow": {
     "slide_type": "slide"
    }
   },
   "source": [
    "# Introduction à l'analyse de données\n",
    "\n",
    "## Module 3 : Nettoyage et préparation des données\n",
    "\n",
    "### Par Nicolas Corneau-Tremblay"
   ]
  },
  {
   "cell_type": "markdown",
   "metadata": {
    "slideshow": {
     "slide_type": "slide"
    }
   },
   "source": [
    "# Plan du module\n",
    "\n",
    "***\n",
    "\n",
    "1. Partitionnement des données\n",
    "2. Valeur manquante\n",
    "3. Valeur aberrante\n",
    "4. Variable catégorique\n",
    "5. Variable continue\n",
    "6. Et le groupe test?\n",
    "7. Devoir"
   ]
  },
  {
   "cell_type": "markdown",
   "metadata": {
    "slideshow": {
     "slide_type": "slide"
    }
   },
   "source": [
    "## 3.1 Partitionnement des données\n",
    "\n",
    "***\n",
    "\n",
    "- En apprentissage automatique, l'objectif est d'entrainer un modèle statistique à une tâche particulière.\n",
    "- La performance d'un modèle se mesure généralement par la qualité de ses prédictions.\n",
    "- Mesurer la qualité des prédictions du modèle à l'aide des données utilisées pour entrainer ce modèle est une mauvaise idée $\\rightarrow$ Risque de surapprentissage.\n",
    "- Le surapprentissage (*overfitting*) survient lorsqu'un modèle s'ajuste trop aux données qui lui sont fournies et perd ainsi sa capacité à se généraliser à de nouvelles données.\n",
    "- Pour palier ce problème, on entraine généralement un modèle sur une partie des données et on mesure la qualité de ses prédictions sur une autre partie.\n",
    "- C'est ce qu'on appelle le **partitionnement des données**."
   ]
  },
  {
   "cell_type": "markdown",
   "metadata": {
    "collapsed": true,
    "slideshow": {
     "slide_type": "slide"
    }
   },
   "source": [
    "Partitionnement des données :\n",
    "\n",
    "- Généralement en deux groupes : le groupe d'entrainement (*training set*) et le groupe test (*test set*).\n",
    "- Le groupe d'entrainement contient les données utilisées pour faire de l'exploration et entrainer différents modèles afin de les comparer entre eux. Ces données peuvent être utilisées à profusion.\n",
    "- Le groupe test contient les données pour mesurer la qualité des prédictions d'un modèle.\n",
    "- Le groupe test **ne peut être utilisé qu'une seule fois** $\\rightarrow$ Sinon, risque de surapprentissage sur le groupe test.\n",
    "- Parfois, un troisième groupe est ajouté : le groupe de validation.\n",
    "- Ce groupe sert généralement à discriminer différents modèles prédictifs. Le meilleur modèle est ensuite utilisé sur le groupe test pour mesurer sa réelle performance."
   ]
  },
  {
   "cell_type": "markdown",
   "metadata": {
    "slideshow": {
     "slide_type": "slide"
    }
   },
   "source": [
    "- Le partitionnement est l'une des premières choses qui doit être faite après avoir obtenu des données.\n",
    "- Il peut se faire de différentes façons.\n",
    "- Plus commune : échantillonage aléatoire parmi les données disponibles.\n",
    "- Il n'y a pas de règles pour la proportion des données devant être assignée à chacun des groupes (beaucoup de données : 70/30 à 60/40 pour deux groupes, 60, 20, 20 pour trois groupes).\n",
    "- Dans le cas de données en série temporelle : partitionnement sur un moment précis. Entrainement du modèle jusqu'à un certain moment (groupe d'entrainement), puis prédiction de la suite de la série après ce moment (groupe test).\n",
    "- **Attention** : plus le nombre d'observations disponibles dans les données est faible, plus une part importante des données doit être incluse dans le groupe d'entrainement."
   ]
  },
  {
   "cell_type": "markdown",
   "metadata": {
    "slideshow": {
     "slide_type": "slide"
    }
   },
   "source": [
    "Intermède : introduction au module **Pandas**\n",
    "\n",
    "- Avant de poursuivre, il est important d'introduire le module Pandas développé par Wes McKinney.\n",
    "- Module permettant la gestion des données en Python sous la forme de table.\n",
    "- Deux types d'objects importants dans Pandas :\n",
    "    1. Série\n",
    "    2. DataFrame"
   ]
  },
  {
   "cell_type": "markdown",
   "metadata": {
    "slideshow": {
     "slide_type": "slide"
    }
   },
   "source": [
    "**Séries**\n",
    "\n",
    "- Une série est une structure de données ressemblant à une table à une seule colonne dont les rangées sont indexées.\n",
    "- L'index fonctionne comme un identifiant pour chacune des rangées.\n",
    "- Identifiant n'a toutefois pas à être unique."
   ]
  },
  {
   "cell_type": "code",
   "execution_count": 3,
   "metadata": {
    "slideshow": {
     "slide_type": "slide"
    }
   },
   "outputs": [
    {
     "data": {
      "text/plain": [
       "0    a\n",
       "1    b\n",
       "2    c\n",
       "3    d\n",
       "4    e\n",
       "dtype: object"
      ]
     },
     "execution_count": 3,
     "metadata": {},
     "output_type": "execute_result"
    }
   ],
   "source": [
    "import pandas as pd\n",
    "\n",
    "# Création d'une série\n",
    "serie_ae = pd.Series(['a', 'b', 'c', 'd', 'e'], index = [0, 1, 2, 3, 4])\n",
    "serie_ae"
   ]
  },
  {
   "cell_type": "code",
   "execution_count": 4,
   "metadata": {
    "slideshow": {
     "slide_type": "-"
    }
   },
   "outputs": [
    {
     "data": {
      "text/plain": [
       "'c'"
      ]
     },
     "execution_count": 4,
     "metadata": {},
     "output_type": "execute_result"
    }
   ],
   "source": [
    "serie_ae[2]"
   ]
  },
  {
   "cell_type": "code",
   "execution_count": 5,
   "metadata": {
    "slideshow": {
     "slide_type": "slide"
    }
   },
   "outputs": [
    {
     "data": {
      "text/plain": [
       "a    22.20\n",
       "b    31.99\n",
       "c   -11.00\n",
       "dtype: float64"
      ]
     },
     "execution_count": 5,
     "metadata": {},
     "output_type": "execute_result"
    }
   ],
   "source": [
    "# Création d'une série à partir d'un dictionnaire\n",
    "dictionnaire = {'a' : 22.2, 'b' : 31.99, 'c' : -11}\n",
    "dict_ser = pd.Series(dictionnaire)\n",
    "dict_ser"
   ]
  },
  {
   "cell_type": "code",
   "execution_count": 6,
   "metadata": {
    "slideshow": {
     "slide_type": "-"
    }
   },
   "outputs": [
    {
     "data": {
      "text/plain": [
       "a    22.20\n",
       "b    31.99\n",
       "dtype: float64"
      ]
     },
     "execution_count": 6,
     "metadata": {},
     "output_type": "execute_result"
    }
   ],
   "source": [
    "dict_ser[[\"a\", \"b\"]]"
   ]
  },
  {
   "cell_type": "code",
   "execution_count": 26,
   "metadata": {
    "slideshow": {
     "slide_type": "slide"
    }
   },
   "outputs": [
    {
     "data": {
      "text/plain": [
       "1    b\n",
       "1    c\n",
       "dtype: object"
      ]
     },
     "execution_count": 26,
     "metadata": {},
     "output_type": "execute_result"
    }
   ],
   "source": [
    "# Création d'une série avec un index partagé\n",
    "serie_ae2 = pd.Series(['a', 'b', 'c', 'd', 'e'], index = [0, 1, 1, 3, 4])\n",
    "serie_ae2[1]"
   ]
  },
  {
   "cell_type": "markdown",
   "metadata": {
    "slideshow": {
     "slide_type": "-"
    }
   },
   "source": [
    "- Peut être utile avec des données longitudinales (panel)."
   ]
  },
  {
   "cell_type": "markdown",
   "metadata": {
    "slideshow": {
     "slide_type": "slide"
    }
   },
   "source": [
    "**DataFrame**\n",
    "\n",
    "- Un Dataframe est un ensemble joint de séries ayant la même taille.\n",
    "- C'est l'équivalent d'une table (pensez encore une fois feuille Excel) contenant des données de différentes natures et pouvant être manipulées, transformées et fournies à d'autres modules pour effectuer des opérations (e.g. graphiques, modélisation statistique, etc.).\n",
    "- Les rangées d'un Dataframe sont indexées et les colonnes portent chacune un nom.\n",
    "- Le Dataframe est la structure la plus utilisée du module Pandas."
   ]
  },
  {
   "cell_type": "code",
   "execution_count": 8,
   "metadata": {
    "slideshow": {
     "slide_type": "slide"
    }
   },
   "outputs": [
    {
     "data": {
      "text/html": [
       "<div>\n",
       "<style>\n",
       "    .dataframe thead tr:only-child th {\n",
       "        text-align: right;\n",
       "    }\n",
       "\n",
       "    .dataframe thead th {\n",
       "        text-align: left;\n",
       "    }\n",
       "\n",
       "    .dataframe tbody tr th {\n",
       "        vertical-align: top;\n",
       "    }\n",
       "</style>\n",
       "<table border=\"1\" class=\"dataframe\">\n",
       "  <thead>\n",
       "    <tr style=\"text-align: right;\">\n",
       "      <th></th>\n",
       "      <th>var1</th>\n",
       "      <th>var2</th>\n",
       "    </tr>\n",
       "  </thead>\n",
       "  <tbody>\n",
       "    <tr>\n",
       "      <th>0</th>\n",
       "      <td>Paul</td>\n",
       "      <td>4.0</td>\n",
       "    </tr>\n",
       "    <tr>\n",
       "      <th>1</th>\n",
       "      <td>Anne</td>\n",
       "      <td>3.0</td>\n",
       "    </tr>\n",
       "    <tr>\n",
       "      <th>2</th>\n",
       "      <td>Marie</td>\n",
       "      <td>2.0</td>\n",
       "    </tr>\n",
       "    <tr>\n",
       "      <th>3</th>\n",
       "      <td>James</td>\n",
       "      <td>1.0</td>\n",
       "    </tr>\n",
       "  </tbody>\n",
       "</table>\n",
       "</div>"
      ],
      "text/plain": [
       "    var1  var2\n",
       "0   Paul   4.0\n",
       "1   Anne   3.0\n",
       "2  Marie   2.0\n",
       "3  James   1.0"
      ]
     },
     "execution_count": 8,
     "metadata": {},
     "output_type": "execute_result"
    }
   ],
   "source": [
    "df = pd.DataFrame({'var1' : [\"Paul\", \"Anne\", \"Marie\", \"James\"],\n",
    "                   'var2' : [4., 3., 2., 1.]})\n",
    "df"
   ]
  },
  {
   "cell_type": "code",
   "execution_count": 9,
   "metadata": {
    "slideshow": {
     "slide_type": "slide"
    }
   },
   "outputs": [
    {
     "data": {
      "text/html": [
       "<div>\n",
       "<style>\n",
       "    .dataframe thead tr:only-child th {\n",
       "        text-align: right;\n",
       "    }\n",
       "\n",
       "    .dataframe thead th {\n",
       "        text-align: left;\n",
       "    }\n",
       "\n",
       "    .dataframe tbody tr th {\n",
       "        vertical-align: top;\n",
       "    }\n",
       "</style>\n",
       "<table border=\"1\" class=\"dataframe\">\n",
       "  <thead>\n",
       "    <tr style=\"text-align: right;\">\n",
       "      <th></th>\n",
       "      <th>var1</th>\n",
       "      <th>var2</th>\n",
       "    </tr>\n",
       "  </thead>\n",
       "  <tbody>\n",
       "    <tr>\n",
       "      <th>1</th>\n",
       "      <td>Anne</td>\n",
       "      <td>3.0</td>\n",
       "    </tr>\n",
       "    <tr>\n",
       "      <th>2</th>\n",
       "      <td>Marie</td>\n",
       "      <td>2.0</td>\n",
       "    </tr>\n",
       "  </tbody>\n",
       "</table>\n",
       "</div>"
      ],
      "text/plain": [
       "    var1  var2\n",
       "1   Anne   3.0\n",
       "2  Marie   2.0"
      ]
     },
     "execution_count": 9,
     "metadata": {},
     "output_type": "execute_result"
    }
   ],
   "source": [
    "df[1:3]"
   ]
  },
  {
   "cell_type": "code",
   "execution_count": 10,
   "metadata": {
    "slideshow": {
     "slide_type": "-"
    }
   },
   "outputs": [
    {
     "data": {
      "text/plain": [
       "0     Paul\n",
       "1     Anne\n",
       "2    Marie\n",
       "3    James\n",
       "Name: var1, dtype: object"
      ]
     },
     "execution_count": 10,
     "metadata": {},
     "output_type": "execute_result"
    }
   ],
   "source": [
    "df[\"var1\"]"
   ]
  },
  {
   "cell_type": "markdown",
   "metadata": {
    "slideshow": {
     "slide_type": "slide"
    }
   },
   "source": [
    "Retour au partitionnement des données.\n",
    "\n",
    "- Exemple de partitionnement des données :"
   ]
  },
  {
   "cell_type": "code",
   "execution_count": 11,
   "metadata": {
    "collapsed": true,
    "slideshow": {
     "slide_type": "-"
    }
   },
   "outputs": [],
   "source": [
    "# Importation des modules nécessaires\n",
    "import numpy as np\n",
    "import pandas as pd\n",
    "from sklearn import datasets"
   ]
  },
  {
   "cell_type": "markdown",
   "metadata": {
    "slideshow": {
     "slide_type": "-"
    }
   },
   "source": [
    "- NumPy est un module permettant la programmation scientifique. Très utile pour ses *arrays* multidimensionnels.\n",
    "- SciKit-Learn est un module permettant l'implémentation de modèles d'apprentissage automatique. Très utile pour l'estimation de modèles complexes (à voir plus tard dans le cours). Utiliser ici uniquement pour accéder à une base de données qu'il contient."
   ]
  },
  {
   "cell_type": "code",
   "execution_count": 12,
   "metadata": {
    "slideshow": {
     "slide_type": "slide"
    }
   },
   "outputs": [
    {
     "data": {
      "text/html": [
       "<div>\n",
       "<style>\n",
       "    .dataframe thead tr:only-child th {\n",
       "        text-align: right;\n",
       "    }\n",
       "\n",
       "    .dataframe thead th {\n",
       "        text-align: left;\n",
       "    }\n",
       "\n",
       "    .dataframe tbody tr th {\n",
       "        vertical-align: top;\n",
       "    }\n",
       "</style>\n",
       "<table border=\"1\" class=\"dataframe\">\n",
       "  <thead>\n",
       "    <tr style=\"text-align: right;\">\n",
       "      <th></th>\n",
       "      <th>sep_length</th>\n",
       "      <th>sep_width</th>\n",
       "      <th>pet_length</th>\n",
       "      <th>pet_width</th>\n",
       "      <th>flower_type</th>\n",
       "    </tr>\n",
       "  </thead>\n",
       "  <tbody>\n",
       "    <tr>\n",
       "      <th>0</th>\n",
       "      <td>5.1</td>\n",
       "      <td>3.5</td>\n",
       "      <td>1.4</td>\n",
       "      <td>0.2</td>\n",
       "      <td>0.0</td>\n",
       "    </tr>\n",
       "    <tr>\n",
       "      <th>1</th>\n",
       "      <td>4.9</td>\n",
       "      <td>3.0</td>\n",
       "      <td>1.4</td>\n",
       "      <td>0.2</td>\n",
       "      <td>0.0</td>\n",
       "    </tr>\n",
       "    <tr>\n",
       "      <th>2</th>\n",
       "      <td>4.7</td>\n",
       "      <td>3.2</td>\n",
       "      <td>1.3</td>\n",
       "      <td>0.2</td>\n",
       "      <td>0.0</td>\n",
       "    </tr>\n",
       "    <tr>\n",
       "      <th>3</th>\n",
       "      <td>4.6</td>\n",
       "      <td>3.1</td>\n",
       "      <td>1.5</td>\n",
       "      <td>0.2</td>\n",
       "      <td>0.0</td>\n",
       "    </tr>\n",
       "    <tr>\n",
       "      <th>4</th>\n",
       "      <td>5.0</td>\n",
       "      <td>3.6</td>\n",
       "      <td>1.4</td>\n",
       "      <td>0.2</td>\n",
       "      <td>0.0</td>\n",
       "    </tr>\n",
       "  </tbody>\n",
       "</table>\n",
       "</div>"
      ],
      "text/plain": [
       "   sep_length  sep_width  pet_length  pet_width  flower_type\n",
       "0         5.1        3.5         1.4        0.2          0.0\n",
       "1         4.9        3.0         1.4        0.2          0.0\n",
       "2         4.7        3.2         1.3        0.2          0.0\n",
       "3         4.6        3.1         1.5        0.2          0.0\n",
       "4         5.0        3.6         1.4        0.2          0.0"
      ]
     },
     "execution_count": 12,
     "metadata": {},
     "output_type": "execute_result"
    }
   ],
   "source": [
    "# Chargement des données et conversion en dataframe\n",
    "temp = datasets.load_iris()\n",
    "temp.target\n",
    "iris = pd.DataFrame(np.concatenate((temp.data, np.array([temp.target]).T), axis=1),\n",
    "                    columns= [\"sep_length\", \"sep_width\", \"pet_length\", \"pet_width\", \"flower_type\"])\n",
    "iris.head(5)"
   ]
  },
  {
   "cell_type": "code",
   "execution_count": 13,
   "metadata": {
    "slideshow": {
     "slide_type": "slide"
    }
   },
   "outputs": [
    {
     "name": "stdout",
     "output_type": "stream",
     "text": [
      "Dimension du dataframe iris : (150, 5)\n",
      "Dimension du groupe d'entrainement : (101, 5)\n",
      "Dimension du groupe test : (49, 5)\n"
     ]
    }
   ],
   "source": [
    "print(\"Dimension du dataframe iris :\", iris.shape)\n",
    "\n",
    "# Définition d'un seed pour le générateur de nombres pseudo-aléatoires\n",
    "np.random.seed(222)\n",
    "\n",
    "# Partitionnement 70/30\n",
    "partition = np.random.rand(len(iris)) < 0.7\n",
    "\n",
    "iris_train = iris[partition]\n",
    "iris_test = iris[~partition]\n",
    "\n",
    "print(\"Dimension du groupe d'entrainement :\", iris_train.shape)\n",
    "print(\"Dimension du groupe test :\", iris_test.shape)"
   ]
  },
  {
   "cell_type": "markdown",
   "metadata": {
    "collapsed": true,
    "slideshow": {
     "slide_type": "slide"
    }
   },
   "source": [
    "## 3.2 Valeur manquante\n",
    "\n",
    "***\n",
    "\n",
    "- Le nettoyage et le traitement des données consistent à assurer une préparation adéquate des données fournies aux différentes techniques statistiques.\n",
    "- La plupart des techniques statistiques sont sensibles à la forme qu'ont les données.\n",
    "- Première étape lors du nettoyage et du traitement des données est la gestion des valeurs manquantes."
   ]
  },
  {
   "cell_type": "markdown",
   "metadata": {
    "collapsed": true,
    "slideshow": {
     "slide_type": "slide"
    }
   },
   "source": [
    "- Une **valeur manquante** survient lorsqu'un attribut n'est pas disponible pour un certain enregistrement.\n",
    "- Peut survenir pour de multiples raisons : données non disponibles, refus fournir la valeur, etc.\n",
    "- La raison de la valeur manquante est importante dans la gestion de celle-ci.\n",
    "- Une valeur manquante sur les variables explicatives (*inputs, features*) $\\rightarrow$ possibilité de faire quelque chose.\n",
    "- Une valeur manquante sur la variable dépendante (*output, label*) $\\rightarrow$ pas recommandé de faire quelque chose.\n"
   ]
  },
  {
   "cell_type": "markdown",
   "metadata": {
    "collapsed": true,
    "slideshow": {
     "slide_type": "slide"
    }
   },
   "source": [
    "**Quoi faire?**\n",
    "\n",
    "1. Laisser tomber les observations ayant des valeurs manquantes $\\rightarrow$ Pas souhaitable lorsqu'il y a peu d'enregistrements.\n",
    "2. Laisser tomber les variables ayant des valeurs manquantes $\\rightarrow$ Pas souhaitable lorsque la variable contenant les valeurs manquantes est importante.\n",
    "3. Imputation $\\rightarrow$ Pas simple de déterminer avec quelle valeur faire l'imputation.\n"
   ]
  },
  {
   "cell_type": "markdown",
   "metadata": {
    "slideshow": {
     "slide_type": "slide"
    }
   },
   "source": [
    "- Une façon de repérer les valeurs manquantes est d'utiliser la méthode `describe` propre aux dataframes de Pandas :"
   ]
  },
  {
   "cell_type": "code",
   "execution_count": 27,
   "metadata": {
    "slideshow": {
     "slide_type": "-"
    }
   },
   "outputs": [
    {
     "data": {
      "text/html": [
       "<div>\n",
       "<style>\n",
       "    .dataframe thead tr:only-child th {\n",
       "        text-align: right;\n",
       "    }\n",
       "\n",
       "    .dataframe thead th {\n",
       "        text-align: left;\n",
       "    }\n",
       "\n",
       "    .dataframe tbody tr th {\n",
       "        vertical-align: top;\n",
       "    }\n",
       "</style>\n",
       "<table border=\"1\" class=\"dataframe\">\n",
       "  <thead>\n",
       "    <tr style=\"text-align: right;\">\n",
       "      <th></th>\n",
       "      <th>sep_length</th>\n",
       "      <th>sep_width</th>\n",
       "      <th>pet_length</th>\n",
       "      <th>pet_width</th>\n",
       "      <th>flower_type</th>\n",
       "    </tr>\n",
       "  </thead>\n",
       "  <tbody>\n",
       "    <tr>\n",
       "      <th>count</th>\n",
       "      <td>83.000000</td>\n",
       "      <td>150.000000</td>\n",
       "      <td>150.000000</td>\n",
       "      <td>150.000000</td>\n",
       "      <td>150.000000</td>\n",
       "    </tr>\n",
       "    <tr>\n",
       "      <th>mean</th>\n",
       "      <td>5.224096</td>\n",
       "      <td>3.054000</td>\n",
       "      <td>3.758667</td>\n",
       "      <td>1.198667</td>\n",
       "      <td>1.000000</td>\n",
       "    </tr>\n",
       "    <tr>\n",
       "      <th>std</th>\n",
       "      <td>0.424434</td>\n",
       "      <td>0.433594</td>\n",
       "      <td>1.764420</td>\n",
       "      <td>0.763161</td>\n",
       "      <td>0.819232</td>\n",
       "    </tr>\n",
       "    <tr>\n",
       "      <th>min</th>\n",
       "      <td>4.300000</td>\n",
       "      <td>2.000000</td>\n",
       "      <td>1.000000</td>\n",
       "      <td>0.100000</td>\n",
       "      <td>0.000000</td>\n",
       "    </tr>\n",
       "    <tr>\n",
       "      <th>25%</th>\n",
       "      <td>4.900000</td>\n",
       "      <td>2.800000</td>\n",
       "      <td>1.600000</td>\n",
       "      <td>0.300000</td>\n",
       "      <td>0.000000</td>\n",
       "    </tr>\n",
       "    <tr>\n",
       "      <th>50%</th>\n",
       "      <td>5.200000</td>\n",
       "      <td>3.000000</td>\n",
       "      <td>4.350000</td>\n",
       "      <td>1.300000</td>\n",
       "      <td>1.000000</td>\n",
       "    </tr>\n",
       "    <tr>\n",
       "      <th>75%</th>\n",
       "      <td>5.600000</td>\n",
       "      <td>3.300000</td>\n",
       "      <td>5.100000</td>\n",
       "      <td>1.800000</td>\n",
       "      <td>2.000000</td>\n",
       "    </tr>\n",
       "    <tr>\n",
       "      <th>max</th>\n",
       "      <td>5.900000</td>\n",
       "      <td>4.400000</td>\n",
       "      <td>6.900000</td>\n",
       "      <td>2.500000</td>\n",
       "      <td>2.000000</td>\n",
       "    </tr>\n",
       "  </tbody>\n",
       "</table>\n",
       "</div>"
      ],
      "text/plain": [
       "       sep_length   sep_width  pet_length   pet_width  flower_type\n",
       "count   83.000000  150.000000  150.000000  150.000000   150.000000\n",
       "mean     5.224096    3.054000    3.758667    1.198667     1.000000\n",
       "std      0.424434    0.433594    1.764420    0.763161     0.819232\n",
       "min      4.300000    2.000000    1.000000    0.100000     0.000000\n",
       "25%      4.900000    2.800000    1.600000    0.300000     0.000000\n",
       "50%      5.200000    3.000000    4.350000    1.300000     1.000000\n",
       "75%      5.600000    3.300000    5.100000    1.800000     2.000000\n",
       "max      5.900000    4.400000    6.900000    2.500000     2.000000"
      ]
     },
     "execution_count": 27,
     "metadata": {},
     "output_type": "execute_result"
    }
   ],
   "source": [
    "iris2 = iris.copy()\n",
    "iris2[\"sep_length\"] = np.where(iris2[\"sep_length\"] >= 6, np.NaN, iris2[\"sep_length\"])\n",
    "iris2.describe()"
   ]
  },
  {
   "cell_type": "markdown",
   "metadata": {
    "slideshow": {
     "slide_type": "-"
    }
   },
   "source": [
    "**Attention**, `describe` omet les variables non numériques."
   ]
  },
  {
   "cell_type": "markdown",
   "metadata": {
    "slideshow": {
     "slide_type": "slide"
    }
   },
   "source": [
    "Une autre façon de détecter les valeurs manquantes : la méthode `isnull` :"
   ]
  },
  {
   "cell_type": "code",
   "execution_count": 28,
   "metadata": {
    "slideshow": {
     "slide_type": "-"
    }
   },
   "outputs": [
    {
     "name": "stdout",
     "output_type": "stream",
     "text": [
      "'Sep_length' contient 67 valeurs manquantes, ce qui représente 44.67 % des données.\n"
     ]
    }
   ],
   "source": [
    "nbre = np.sum(iris2.sep_length.isnull())\n",
    "prop = np.sum(iris2.sep_length.isnull()) / len(iris2.sep_length)\n",
    "\n",
    "print(\"'Sep_length' contient\", nbre, \"valeurs manquantes, ce qui représente\", round(prop*100,2), \"% des données.\")"
   ]
  },
  {
   "cell_type": "code",
   "execution_count": 16,
   "metadata": {
    "slideshow": {
     "slide_type": "slide"
    }
   },
   "outputs": [
    {
     "data": {
      "text/html": [
       "<div>\n",
       "<style>\n",
       "    .dataframe thead tr:only-child th {\n",
       "        text-align: right;\n",
       "    }\n",
       "\n",
       "    .dataframe thead th {\n",
       "        text-align: left;\n",
       "    }\n",
       "\n",
       "    .dataframe tbody tr th {\n",
       "        vertical-align: top;\n",
       "    }\n",
       "</style>\n",
       "<table border=\"1\" class=\"dataframe\">\n",
       "  <thead>\n",
       "    <tr style=\"text-align: right;\">\n",
       "      <th></th>\n",
       "      <th>sep_length</th>\n",
       "      <th>sep_width</th>\n",
       "      <th>pet_length</th>\n",
       "      <th>pet_width</th>\n",
       "      <th>flower_type</th>\n",
       "    </tr>\n",
       "  </thead>\n",
       "  <tbody>\n",
       "    <tr>\n",
       "      <th>count</th>\n",
       "      <td>83.000000</td>\n",
       "      <td>83.000000</td>\n",
       "      <td>83.000000</td>\n",
       "      <td>83.000000</td>\n",
       "      <td>83.000000</td>\n",
       "    </tr>\n",
       "    <tr>\n",
       "      <th>mean</th>\n",
       "      <td>5.224096</td>\n",
       "      <td>3.125301</td>\n",
       "      <td>2.544578</td>\n",
       "      <td>0.700000</td>\n",
       "      <td>0.481928</td>\n",
       "    </tr>\n",
       "    <tr>\n",
       "      <th>std</th>\n",
       "      <td>0.424434</td>\n",
       "      <td>0.495059</td>\n",
       "      <td>1.391021</td>\n",
       "      <td>0.613268</td>\n",
       "      <td>0.650730</td>\n",
       "    </tr>\n",
       "    <tr>\n",
       "      <th>min</th>\n",
       "      <td>4.300000</td>\n",
       "      <td>2.000000</td>\n",
       "      <td>1.000000</td>\n",
       "      <td>0.100000</td>\n",
       "      <td>0.000000</td>\n",
       "    </tr>\n",
       "    <tr>\n",
       "      <th>25%</th>\n",
       "      <td>4.900000</td>\n",
       "      <td>2.750000</td>\n",
       "      <td>1.400000</td>\n",
       "      <td>0.200000</td>\n",
       "      <td>0.000000</td>\n",
       "    </tr>\n",
       "    <tr>\n",
       "      <th>50%</th>\n",
       "      <td>5.200000</td>\n",
       "      <td>3.100000</td>\n",
       "      <td>1.600000</td>\n",
       "      <td>0.400000</td>\n",
       "      <td>0.000000</td>\n",
       "    </tr>\n",
       "    <tr>\n",
       "      <th>75%</th>\n",
       "      <td>5.600000</td>\n",
       "      <td>3.450000</td>\n",
       "      <td>4.000000</td>\n",
       "      <td>1.200000</td>\n",
       "      <td>1.000000</td>\n",
       "    </tr>\n",
       "    <tr>\n",
       "      <th>max</th>\n",
       "      <td>5.900000</td>\n",
       "      <td>4.400000</td>\n",
       "      <td>5.100000</td>\n",
       "      <td>2.400000</td>\n",
       "      <td>2.000000</td>\n",
       "    </tr>\n",
       "  </tbody>\n",
       "</table>\n",
       "</div>"
      ],
      "text/plain": [
       "       sep_length  sep_width  pet_length  pet_width  flower_type\n",
       "count   83.000000  83.000000   83.000000  83.000000    83.000000\n",
       "mean     5.224096   3.125301    2.544578   0.700000     0.481928\n",
       "std      0.424434   0.495059    1.391021   0.613268     0.650730\n",
       "min      4.300000   2.000000    1.000000   0.100000     0.000000\n",
       "25%      4.900000   2.750000    1.400000   0.200000     0.000000\n",
       "50%      5.200000   3.100000    1.600000   0.400000     0.000000\n",
       "75%      5.600000   3.450000    4.000000   1.200000     1.000000\n",
       "max      5.900000   4.400000    5.100000   2.400000     2.000000"
      ]
     },
     "execution_count": 16,
     "metadata": {},
     "output_type": "execute_result"
    }
   ],
   "source": [
    "# Option 1 : Laisser tomber les enregistrements ayant des valeurs manquantes\n",
    "iris3 = iris2.copy()\n",
    "iris3 = iris3.dropna(axis=0, how = \"any\")\n",
    "iris3.describe()"
   ]
  },
  {
   "cell_type": "code",
   "execution_count": 17,
   "metadata": {
    "slideshow": {
     "slide_type": "slide"
    }
   },
   "outputs": [
    {
     "data": {
      "text/html": [
       "<div>\n",
       "<style>\n",
       "    .dataframe thead tr:only-child th {\n",
       "        text-align: right;\n",
       "    }\n",
       "\n",
       "    .dataframe thead th {\n",
       "        text-align: left;\n",
       "    }\n",
       "\n",
       "    .dataframe tbody tr th {\n",
       "        vertical-align: top;\n",
       "    }\n",
       "</style>\n",
       "<table border=\"1\" class=\"dataframe\">\n",
       "  <thead>\n",
       "    <tr style=\"text-align: right;\">\n",
       "      <th></th>\n",
       "      <th>sep_width</th>\n",
       "      <th>pet_length</th>\n",
       "      <th>pet_width</th>\n",
       "      <th>flower_type</th>\n",
       "    </tr>\n",
       "  </thead>\n",
       "  <tbody>\n",
       "    <tr>\n",
       "      <th>count</th>\n",
       "      <td>150.000000</td>\n",
       "      <td>150.000000</td>\n",
       "      <td>150.000000</td>\n",
       "      <td>150.000000</td>\n",
       "    </tr>\n",
       "    <tr>\n",
       "      <th>mean</th>\n",
       "      <td>3.054000</td>\n",
       "      <td>3.758667</td>\n",
       "      <td>1.198667</td>\n",
       "      <td>1.000000</td>\n",
       "    </tr>\n",
       "    <tr>\n",
       "      <th>std</th>\n",
       "      <td>0.433594</td>\n",
       "      <td>1.764420</td>\n",
       "      <td>0.763161</td>\n",
       "      <td>0.819232</td>\n",
       "    </tr>\n",
       "    <tr>\n",
       "      <th>min</th>\n",
       "      <td>2.000000</td>\n",
       "      <td>1.000000</td>\n",
       "      <td>0.100000</td>\n",
       "      <td>0.000000</td>\n",
       "    </tr>\n",
       "    <tr>\n",
       "      <th>25%</th>\n",
       "      <td>2.800000</td>\n",
       "      <td>1.600000</td>\n",
       "      <td>0.300000</td>\n",
       "      <td>0.000000</td>\n",
       "    </tr>\n",
       "    <tr>\n",
       "      <th>50%</th>\n",
       "      <td>3.000000</td>\n",
       "      <td>4.350000</td>\n",
       "      <td>1.300000</td>\n",
       "      <td>1.000000</td>\n",
       "    </tr>\n",
       "    <tr>\n",
       "      <th>75%</th>\n",
       "      <td>3.300000</td>\n",
       "      <td>5.100000</td>\n",
       "      <td>1.800000</td>\n",
       "      <td>2.000000</td>\n",
       "    </tr>\n",
       "    <tr>\n",
       "      <th>max</th>\n",
       "      <td>4.400000</td>\n",
       "      <td>6.900000</td>\n",
       "      <td>2.500000</td>\n",
       "      <td>2.000000</td>\n",
       "    </tr>\n",
       "  </tbody>\n",
       "</table>\n",
       "</div>"
      ],
      "text/plain": [
       "        sep_width  pet_length   pet_width  flower_type\n",
       "count  150.000000  150.000000  150.000000   150.000000\n",
       "mean     3.054000    3.758667    1.198667     1.000000\n",
       "std      0.433594    1.764420    0.763161     0.819232\n",
       "min      2.000000    1.000000    0.100000     0.000000\n",
       "25%      2.800000    1.600000    0.300000     0.000000\n",
       "50%      3.000000    4.350000    1.300000     1.000000\n",
       "75%      3.300000    5.100000    1.800000     2.000000\n",
       "max      4.400000    6.900000    2.500000     2.000000"
      ]
     },
     "execution_count": 17,
     "metadata": {},
     "output_type": "execute_result"
    }
   ],
   "source": [
    "# Option 2 : Laisser tomber les variables ayant des valeurs manquantes\n",
    "iris4 = iris2.copy()\n",
    "iris4 = iris4.dropna(axis=1, how = \"any\")\n",
    "iris4.describe()"
   ]
  },
  {
   "cell_type": "code",
   "execution_count": 19,
   "metadata": {
    "slideshow": {
     "slide_type": "slide"
    }
   },
   "outputs": [
    {
     "data": {
      "text/html": [
       "<div>\n",
       "<style>\n",
       "    .dataframe thead tr:only-child th {\n",
       "        text-align: right;\n",
       "    }\n",
       "\n",
       "    .dataframe thead th {\n",
       "        text-align: left;\n",
       "    }\n",
       "\n",
       "    .dataframe tbody tr th {\n",
       "        vertical-align: top;\n",
       "    }\n",
       "</style>\n",
       "<table border=\"1\" class=\"dataframe\">\n",
       "  <thead>\n",
       "    <tr style=\"text-align: right;\">\n",
       "      <th></th>\n",
       "      <th>sep_length</th>\n",
       "      <th>sep_width</th>\n",
       "      <th>pet_length</th>\n",
       "      <th>pet_width</th>\n",
       "      <th>flower_type</th>\n",
       "    </tr>\n",
       "  </thead>\n",
       "  <tbody>\n",
       "    <tr>\n",
       "      <th>count</th>\n",
       "      <td>150.000000</td>\n",
       "      <td>150.000000</td>\n",
       "      <td>150.000000</td>\n",
       "      <td>150.000000</td>\n",
       "      <td>150.000000</td>\n",
       "    </tr>\n",
       "    <tr>\n",
       "      <th>mean</th>\n",
       "      <td>5.224096</td>\n",
       "      <td>3.054000</td>\n",
       "      <td>3.758667</td>\n",
       "      <td>1.198667</td>\n",
       "      <td>1.000000</td>\n",
       "    </tr>\n",
       "    <tr>\n",
       "      <th>std</th>\n",
       "      <td>0.314864</td>\n",
       "      <td>0.433594</td>\n",
       "      <td>1.764420</td>\n",
       "      <td>0.763161</td>\n",
       "      <td>0.819232</td>\n",
       "    </tr>\n",
       "    <tr>\n",
       "      <th>min</th>\n",
       "      <td>4.300000</td>\n",
       "      <td>2.000000</td>\n",
       "      <td>1.000000</td>\n",
       "      <td>0.100000</td>\n",
       "      <td>0.000000</td>\n",
       "    </tr>\n",
       "    <tr>\n",
       "      <th>25%</th>\n",
       "      <td>5.100000</td>\n",
       "      <td>2.800000</td>\n",
       "      <td>1.600000</td>\n",
       "      <td>0.300000</td>\n",
       "      <td>0.000000</td>\n",
       "    </tr>\n",
       "    <tr>\n",
       "      <th>50%</th>\n",
       "      <td>5.224096</td>\n",
       "      <td>3.000000</td>\n",
       "      <td>4.350000</td>\n",
       "      <td>1.300000</td>\n",
       "      <td>1.000000</td>\n",
       "    </tr>\n",
       "    <tr>\n",
       "      <th>75%</th>\n",
       "      <td>5.281024</td>\n",
       "      <td>3.300000</td>\n",
       "      <td>5.100000</td>\n",
       "      <td>1.800000</td>\n",
       "      <td>2.000000</td>\n",
       "    </tr>\n",
       "    <tr>\n",
       "      <th>max</th>\n",
       "      <td>5.900000</td>\n",
       "      <td>4.400000</td>\n",
       "      <td>6.900000</td>\n",
       "      <td>2.500000</td>\n",
       "      <td>2.000000</td>\n",
       "    </tr>\n",
       "  </tbody>\n",
       "</table>\n",
       "</div>"
      ],
      "text/plain": [
       "       sep_length   sep_width  pet_length   pet_width  flower_type\n",
       "count  150.000000  150.000000  150.000000  150.000000   150.000000\n",
       "mean     5.224096    3.054000    3.758667    1.198667     1.000000\n",
       "std      0.314864    0.433594    1.764420    0.763161     0.819232\n",
       "min      4.300000    2.000000    1.000000    0.100000     0.000000\n",
       "25%      5.100000    2.800000    1.600000    0.300000     0.000000\n",
       "50%      5.224096    3.000000    4.350000    1.300000     1.000000\n",
       "75%      5.281024    3.300000    5.100000    1.800000     2.000000\n",
       "max      5.900000    4.400000    6.900000    2.500000     2.000000"
      ]
     },
     "execution_count": 19,
     "metadata": {},
     "output_type": "execute_result"
    }
   ],
   "source": [
    "# Option 3 : Imputer les valeurs manquantes\n",
    "iris5 = iris2.copy()\n",
    "iris5 = iris5.fillna(value = iris5.mean())\n",
    "iris5.describe()"
   ]
  },
  {
   "cell_type": "markdown",
   "metadata": {
    "slideshow": {
     "slide_type": "-"
    }
   },
   "source": [
    "- L'imputation peut être faite avec différentes valeurs, par exemple la moyenne ou la médiane.\n",
    "- Pour des variables catégoriques, l'imputation peut être faite avec le mode.\n",
    "- Aussi possible de créer un modèle permettant de prédire la valeur à imputer."
   ]
  },
  {
   "cell_type": "markdown",
   "metadata": {
    "collapsed": true,
    "slideshow": {
     "slide_type": "slide"
    }
   },
   "source": [
    "**Attention**\n",
    "\n",
    "- Toutes de ces procédures sont très simples à implémenter, mais elles reposent toutes sur des hypothèses différentes.\n",
    "- Il est important de garder en tête que la gestion des valeurs manquantes est un sujet très vaste dont les conséquences peuvent être importantes sur l'estimation des modèles statistiques."
   ]
  },
  {
   "cell_type": "markdown",
   "metadata": {
    "slideshow": {
     "slide_type": "slide"
    }
   },
   "source": [
    "## 3.3 Valeur aberrante\n",
    "\n",
    "***\n",
    "\n",
    "- Une valeur aberrante (*outliers*) est une valeur qui s'écarte de façon marquée de la distribution de l'attribut auquel elle appartient.\n",
    "- En pratique, une valeur aberrante est problématique si son inclusion dans le modèle modifie passablement les résultats obtenus $\\rightarrow$ C'est donc davantage un problème survenant en présence de petits échantillons.\n",
    "- Attention, une valeur aberrante peut aussi être une valeur impossible. Ex.: un poids négatif.\n",
    "- Parfois : signal à l'analyste (âge = 999 : refus de répondre) $\\rightarrow$ Important de lire la documentation sur les données (s'il y en a!) et de travailler en collaboration avec les gens les connaissant bien.\n",
    "- Souvent : erreur de saisie.\n",
    "- **Quoi faire?** Même chose qu'une valeur manquante + simplement ignorer la valeur aberrante!"
   ]
  },
  {
   "cell_type": "markdown",
   "metadata": {
    "slideshow": {
     "slide_type": "slide"
    }
   },
   "source": [
    "Intermède : introduction au module **Matplotlib**\n",
    "\n",
    "- Avant de poursuivre, il est important d'introduire le module Matplotlib.\n",
    "- Ce module est l'un des plus utilisés pour effectuer de la visualisation en Python.\n",
    "- Il a été développé dans le but de permettre une interface de visualisation semblable à `MATLAB`.\n",
    "- Premièrement : construire le graphique :"
   ]
  },
  {
   "cell_type": "code",
   "execution_count": 104,
   "metadata": {
    "slideshow": {
     "slide_type": "-"
    }
   },
   "outputs": [
    {
     "data": {
      "text/plain": [
       "[<matplotlib.lines.Line2D at 0x111e50908>]"
      ]
     },
     "execution_count": 104,
     "metadata": {},
     "output_type": "execute_result"
    }
   ],
   "source": [
    "import matplotlib.pyplot as plt\n",
    "\n",
    "np.random.seed(222)\n",
    "\n",
    "x = np.arange(10)\n",
    "y = np.random.randn(10)\n",
    "plt.plot(x, y)"
   ]
  },
  {
   "cell_type": "markdown",
   "metadata": {
    "slideshow": {
     "slide_type": "slide"
    }
   },
   "source": [
    "- Deuxièmement : imprimer le graphique."
   ]
  },
  {
   "cell_type": "code",
   "execution_count": 107,
   "metadata": {
    "slideshow": {
     "slide_type": "-"
    }
   },
   "outputs": [
    {
     "data": {
      "image/png": "[encoded data removed]",
      "text/plain": [
       "<matplotlib.figure.Figure at 0x1117efa90>"
      ]
     },
     "metadata": {},
     "output_type": "display_data"
    }
   ],
   "source": [
    "plt.plot(x, y)\n",
    "plt.show()"
   ]
  },
  {
   "cell_type": "markdown",
   "metadata": {
    "slideshow": {
     "slide_type": "slide"
    }
   },
   "source": [
    "- Possibilité d'ajouter différents éléments comme un titre, une légende, etc."
   ]
  },
  {
   "cell_type": "code",
   "execution_count": 118,
   "metadata": {},
   "outputs": [
    {
     "data": {
      "image/png": "[encoded data removed]",
      "text/plain": [
       "<matplotlib.figure.Figure at 0x112fd13c8>"
      ]
     },
     "metadata": {},
     "output_type": "display_data"
    }
   ],
   "source": [
    "plt.plot(x, y, color = \"orange\", label = \"Ligne\")\n",
    "plt.title(\"Séquence aléatoire \\n (N = 10)\")\n",
    "plt.xlabel(\"X\")\n",
    "plt.ylabel(\"Y\")\n",
    "plt.legend(loc = \"upper right\")\n",
    "plt.show()"
   ]
  },
  {
   "cell_type": "markdown",
   "metadata": {
    "slideshow": {
     "slide_type": "slide"
    }
   },
   "source": [
    "Retour aux valeurs aberrantes.\n",
    "\n",
    "- Pour repérer les valeurs aberrantes, il est possible de s'aider avec la visualisation :"
   ]
  },
  {
   "cell_type": "code",
   "execution_count": 20,
   "metadata": {
    "slideshow": {
     "slide_type": "-"
    }
   },
   "outputs": [
    {
     "data": {
      "image/png": "[encoded data removed]",
      "text/plain": [
       "<matplotlib.figure.Figure at 0x10e17a5c0>"
      ]
     },
     "metadata": {},
     "output_type": "display_data"
    }
   ],
   "source": [
    "import numpy as np\n",
    "import matplotlib.pyplot as plt\n",
    "\n",
    "np.random.seed(222)\n",
    "age = pd.Series(np.floor(np.append(np.random.normal(loc = 30,scale = 10, size = 99), 102)))\n",
    "\n",
    "plt.hist(age, color = \"orange\", ec= \"black\")\n",
    "plt.title(\"Présence d'une valeur aberrante (N = 100)\")\n",
    "plt.xlabel(\"Âge (en année)\")\n",
    "plt.show()"
   ]
  },
  {
   "cell_type": "code",
   "execution_count": 40,
   "metadata": {
    "slideshow": {
     "slide_type": "slide"
    }
   },
   "outputs": [
    {
     "data": {
      "image/png": "[encoded data removed]",
      "text/plain": [
       "<matplotlib.figure.Figure at 0x11202a0f0>"
      ]
     },
     "metadata": {},
     "output_type": "display_data"
    }
   ],
   "source": [
    "age2 = age.replace(102, age.mean())\n",
    "\n",
    "plt.hist(age2, color = \"orange\", ec= \"black\")\n",
    "plt.title(\"Remplacement de la valeur aberrante (N = 100)\")\n",
    "plt.xlabel(\"Âge (en année)\")\n",
    "plt.show()"
   ]
  },
  {
   "cell_type": "markdown",
   "metadata": {
    "slideshow": {
     "slide_type": "slide"
    }
   },
   "source": [
    "- Et les valeurs aberrantes dans les variables catégoriques?\n",
    "- Souvent une erreur d'encodage $\\rightarrow$ Peuvent être repérées à l'aide d'une tabulation des valeurs."
   ]
  },
  {
   "cell_type": "code",
   "execution_count": 15,
   "metadata": {
    "slideshow": {
     "slide_type": "-"
    }
   },
   "outputs": [
    {
     "data": {
      "text/plain": [
       "Ford        2\n",
       "Toyota      2\n",
       "Crysler     1\n",
       "Chrysler    1\n",
       "ford        1\n",
       "dtype: int64"
      ]
     },
     "execution_count": 15,
     "metadata": {},
     "output_type": "execute_result"
    }
   ],
   "source": [
    "import pandas as pd\n",
    "\n",
    "marques = pd.Series([\"Ford\", \"Chrysler\", \"Crysler\", \"Toyota\", \"ford\", \"Toyota\", \"Ford\"])\n",
    "marques.value_counts()"
   ]
  },
  {
   "cell_type": "markdown",
   "metadata": {
    "slideshow": {
     "slide_type": "slide"
    }
   },
   "source": [
    "- Il est ensuite possible de corriger les erreurs."
   ]
  },
  {
   "cell_type": "code",
   "execution_count": 16,
   "metadata": {
    "slideshow": {
     "slide_type": "-"
    }
   },
   "outputs": [
    {
     "data": {
      "text/plain": [
       "Ford        3\n",
       "Chrysler    2\n",
       "Toyota      2\n",
       "dtype: int64"
      ]
     },
     "execution_count": 16,
     "metadata": {},
     "output_type": "execute_result"
    }
   ],
   "source": [
    "marques = marques.replace([\"ford\", \"Crysler\"], [\"Ford\", \"Chrysler\"])\n",
    "marques.value_counts()"
   ]
  },
  {
   "cell_type": "markdown",
   "metadata": {
    "collapsed": true,
    "slideshow": {
     "slide_type": "slide"
    }
   },
   "source": [
    "## 3.4 Variable catégorique\n",
    "\n",
    "***\n",
    "\n",
    "- Une variable catégorique est une variable discrète prenant un attribut qualitatif comme valeur. Ex.: sexe (homme/femme), apprécation (n'a pas aimé/indifférent/a aimé), scolarité (secondaire/collégial/universitaire).\n",
    "- Les valeurs peuvent être ordonnées (e.g. scolarité) ou non (e.g. sexe).\n",
    "- Quiz : Soit la variable sexe = {\"Homme\", \"Femme\"}. Que se passera-t-il si cette variable est introduite dans un modèle statistique?"
   ]
  },
  {
   "cell_type": "code",
   "execution_count": 29,
   "metadata": {
    "slideshow": {
     "slide_type": "slide"
    }
   },
   "outputs": [
    {
     "data": {
      "text/plain": [
       "3.0"
      ]
     },
     "execution_count": 29,
     "metadata": {},
     "output_type": "execute_result"
    }
   ],
   "source": [
    "import numpy as np\n",
    "import pandas as pd\n",
    "\n",
    "toto = [1, 2, 1, 4, 7]\n",
    "np.mean(toto)"
   ]
  },
  {
   "cell_type": "code",
   "execution_count": 50,
   "metadata": {
    "scrolled": false
   },
   "outputs": [
    {
     "ename": "TypeError",
     "evalue": "cannot perform reduce with flexible type",
     "output_type": "error",
     "traceback": [
      "\u001b[0;31m---------------------------------------------------------------------------\u001b[0m",
      "\u001b[0;31mTypeError\u001b[0m                                 Traceback (most recent call last)",
      "\u001b[0;32m<ipython-input-50-7348fd86cd7a>\u001b[0m in \u001b[0;36m<module>\u001b[0;34m()\u001b[0m\n\u001b[1;32m      1\u001b[0m \u001b[0msexe\u001b[0m \u001b[0;34m=\u001b[0m \u001b[0;34m[\u001b[0m\u001b[0;34m\"Homme\"\u001b[0m\u001b[0;34m,\u001b[0m \u001b[0;34m\"Homme\"\u001b[0m\u001b[0;34m,\u001b[0m \u001b[0;34m\"Femme\"\u001b[0m\u001b[0;34m,\u001b[0m \u001b[0;34m\"Femme\"\u001b[0m\u001b[0;34m,\u001b[0m \u001b[0;34m\"Femme\"\u001b[0m\u001b[0;34m,\u001b[0m \u001b[0;34m\"Homme\"\u001b[0m\u001b[0;34m]\u001b[0m\u001b[0;34m\u001b[0m\u001b[0m\n\u001b[0;32m----> 2\u001b[0;31m \u001b[0mnp\u001b[0m\u001b[0;34m.\u001b[0m\u001b[0mmean\u001b[0m\u001b[0;34m(\u001b[0m\u001b[0msexe\u001b[0m\u001b[0;34m)\u001b[0m\u001b[0;34m\u001b[0m\u001b[0m\n\u001b[0m",
      "\u001b[0;32m/Users/nct/anaconda/lib/python3.6/site-packages/numpy/core/fromnumeric.py\u001b[0m in \u001b[0;36mmean\u001b[0;34m(a, axis, dtype, out, keepdims)\u001b[0m\n\u001b[1;32m   2940\u001b[0m \u001b[0;34m\u001b[0m\u001b[0m\n\u001b[1;32m   2941\u001b[0m     return _methods._mean(a, axis=axis, dtype=dtype,\n\u001b[0;32m-> 2942\u001b[0;31m                             out=out, **kwargs)\n\u001b[0m\u001b[1;32m   2943\u001b[0m \u001b[0;34m\u001b[0m\u001b[0m\n\u001b[1;32m   2944\u001b[0m \u001b[0;34m\u001b[0m\u001b[0m\n",
      "\u001b[0;32m/Users/nct/anaconda/lib/python3.6/site-packages/numpy/core/_methods.py\u001b[0m in \u001b[0;36m_mean\u001b[0;34m(a, axis, dtype, out, keepdims)\u001b[0m\n\u001b[1;32m     63\u001b[0m         \u001b[0mdtype\u001b[0m \u001b[0;34m=\u001b[0m \u001b[0mmu\u001b[0m\u001b[0;34m.\u001b[0m\u001b[0mdtype\u001b[0m\u001b[0;34m(\u001b[0m\u001b[0;34m'f8'\u001b[0m\u001b[0;34m)\u001b[0m\u001b[0;34m\u001b[0m\u001b[0m\n\u001b[1;32m     64\u001b[0m \u001b[0;34m\u001b[0m\u001b[0m\n\u001b[0;32m---> 65\u001b[0;31m     \u001b[0mret\u001b[0m \u001b[0;34m=\u001b[0m \u001b[0mumr_sum\u001b[0m\u001b[0;34m(\u001b[0m\u001b[0marr\u001b[0m\u001b[0;34m,\u001b[0m \u001b[0maxis\u001b[0m\u001b[0;34m,\u001b[0m \u001b[0mdtype\u001b[0m\u001b[0;34m,\u001b[0m \u001b[0mout\u001b[0m\u001b[0;34m,\u001b[0m \u001b[0mkeepdims\u001b[0m\u001b[0;34m)\u001b[0m\u001b[0;34m\u001b[0m\u001b[0m\n\u001b[0m\u001b[1;32m     66\u001b[0m     \u001b[0;32mif\u001b[0m \u001b[0misinstance\u001b[0m\u001b[0;34m(\u001b[0m\u001b[0mret\u001b[0m\u001b[0;34m,\u001b[0m \u001b[0mmu\u001b[0m\u001b[0;34m.\u001b[0m\u001b[0mndarray\u001b[0m\u001b[0;34m)\u001b[0m\u001b[0;34m:\u001b[0m\u001b[0;34m\u001b[0m\u001b[0m\n\u001b[1;32m     67\u001b[0m         ret = um.true_divide(\n",
      "\u001b[0;31mTypeError\u001b[0m: cannot perform reduce with flexible type"
     ]
    }
   ],
   "source": [
    "sexe = [\"Homme\", \"Homme\", \"Femme\", \"Femme\", \"Femme\", \"Homme\"]\n",
    "np.mean(sexe)"
   ]
  },
  {
   "cell_type": "markdown",
   "metadata": {
    "collapsed": true,
    "slideshow": {
     "slide_type": "slide"
    }
   },
   "source": [
    "- Les variables catégoriques doivent être transformées en variables numériques pour être manipulées statistiquement.\n",
    "- Comment faire? **Dichotomisation** : transformer une variable catégorique en variable dichotomique (binaire, *dummy*).\n",
    "- Première étape : attribuer une valeur numérique à chaque catégorie de la variable."
   ]
  },
  {
   "cell_type": "code",
   "execution_count": 55,
   "metadata": {
    "slideshow": {
     "slide_type": "-"
    }
   },
   "outputs": [
    {
     "data": {
      "text/plain": [
       "0.5"
      ]
     },
     "execution_count": 55,
     "metadata": {},
     "output_type": "execute_result"
    }
   ],
   "source": [
    "sexe = pd.Series([\"Homme\", \"Homme\", \"Femme\", \"Femme\", \"Femme\", \"Homme\"])\n",
    "\n",
    "mapping = {\"Homme\" : 0,\n",
    "          \"Femme\" : 1}\n",
    "\n",
    "femme = sexe.map(mapping)\n",
    "femme.mean()"
   ]
  },
  {
   "cell_type": "markdown",
   "metadata": {
    "slideshow": {
     "slide_type": "-"
    }
   },
   "source": [
    "Quiz : comment s'interprète ce 0.5?"
   ]
  },
  {
   "cell_type": "markdown",
   "metadata": {
    "slideshow": {
     "slide_type": "slide"
    }
   },
   "source": [
    "- Que ce passe-t-il s'il y a plus de deux catégories?"
   ]
  },
  {
   "cell_type": "code",
   "execution_count": 31,
   "metadata": {
    "slideshow": {
     "slide_type": "-"
    }
   },
   "outputs": [
    {
     "data": {
      "text/plain": [
       "1.1666666666666667"
      ]
     },
     "execution_count": 31,
     "metadata": {},
     "output_type": "execute_result"
    }
   ],
   "source": [
    "scolarite = pd.Series([\"Secondaire\", \"Universitaire\", \"Universitaire\", \"Collegial\", \"Collegial\", \"Collegial\"])\n",
    "mapping2 = {\"Secondaire\" : 0,\n",
    "          \"Collegial\" : 1,\n",
    "          \"Universitaire\" : 2}\n",
    "\n",
    "scolarite2 = scolarite.map(mapping2)\n",
    "scolarite2.mean()"
   ]
  },
  {
   "cell_type": "markdown",
   "metadata": {
    "slideshow": {
     "slide_type": "-"
    }
   },
   "source": [
    "Quiz : que représente la valeur 1.17?"
   ]
  },
  {
   "cell_type": "markdown",
   "metadata": {
    "slideshow": {
     "slide_type": "slide"
    }
   },
   "source": [
    "- Deuxième étape : créer une nouvelle variable dichotomique pour chaque catégorie de la variable."
   ]
  },
  {
   "cell_type": "code",
   "execution_count": 32,
   "metadata": {
    "slideshow": {
     "slide_type": "-"
    }
   },
   "outputs": [
    {
     "data": {
      "text/plain": [
       "Secondaire       0.166667\n",
       "Collegial        0.500000\n",
       "Universitaire    0.333333\n",
       "dtype: float64"
      ]
     },
     "execution_count": 32,
     "metadata": {},
     "output_type": "execute_result"
    }
   ],
   "source": [
    "scolarite3 = pd.DataFrame(scolarite2, columns = [\"Scolarite\"])\n",
    "scolarite3[\"Secondaire\"] = scolarite3[\"Scolarite\"] == 0\n",
    "scolarite3[\"Collegial\"] = scolarite3[\"Scolarite\"] == 1\n",
    "scolarite3[\"Universitaire\"] = scolarite3[\"Scolarite\"] == 2\n",
    "scolarite3[[\"Secondaire\", \"Collegial\", \"Universitaire\"]].mean()"
   ]
  },
  {
   "cell_type": "markdown",
   "metadata": {
    "slideshow": {
     "slide_type": "slide"
    }
   },
   "source": [
    "- Avec Pandas, ces étapes peuvent être complétées simplement :"
   ]
  },
  {
   "cell_type": "code",
   "execution_count": 82,
   "metadata": {
    "slideshow": {
     "slide_type": "-"
    }
   },
   "outputs": [
    {
     "data": {
      "text/html": [
       "<div>\n",
       "<style>\n",
       "    .dataframe thead tr:only-child th {\n",
       "        text-align: right;\n",
       "    }\n",
       "\n",
       "    .dataframe thead th {\n",
       "        text-align: left;\n",
       "    }\n",
       "\n",
       "    .dataframe tbody tr th {\n",
       "        vertical-align: top;\n",
       "    }\n",
       "</style>\n",
       "<table border=\"1\" class=\"dataframe\">\n",
       "  <thead>\n",
       "    <tr style=\"text-align: right;\">\n",
       "      <th></th>\n",
       "      <th>Secondaire</th>\n",
       "      <th>Collegial</th>\n",
       "      <th>Universitaire</th>\n",
       "    </tr>\n",
       "  </thead>\n",
       "  <tbody>\n",
       "    <tr>\n",
       "      <th>0</th>\n",
       "      <td>1</td>\n",
       "      <td>0</td>\n",
       "      <td>0</td>\n",
       "    </tr>\n",
       "    <tr>\n",
       "      <th>1</th>\n",
       "      <td>0</td>\n",
       "      <td>0</td>\n",
       "      <td>1</td>\n",
       "    </tr>\n",
       "    <tr>\n",
       "      <th>2</th>\n",
       "      <td>0</td>\n",
       "      <td>0</td>\n",
       "      <td>1</td>\n",
       "    </tr>\n",
       "    <tr>\n",
       "      <th>3</th>\n",
       "      <td>0</td>\n",
       "      <td>1</td>\n",
       "      <td>0</td>\n",
       "    </tr>\n",
       "    <tr>\n",
       "      <th>4</th>\n",
       "      <td>0</td>\n",
       "      <td>1</td>\n",
       "      <td>0</td>\n",
       "    </tr>\n",
       "    <tr>\n",
       "      <th>5</th>\n",
       "      <td>0</td>\n",
       "      <td>1</td>\n",
       "      <td>0</td>\n",
       "    </tr>\n",
       "  </tbody>\n",
       "</table>\n",
       "</div>"
      ],
      "text/plain": [
       "   Secondaire  Collegial  Universitaire\n",
       "0           1          0              0\n",
       "1           0          0              1\n",
       "2           0          0              1\n",
       "3           0          1              0\n",
       "4           0          1              0\n",
       "5           0          1              0"
      ]
     },
     "execution_count": 82,
     "metadata": {},
     "output_type": "execute_result"
    }
   ],
   "source": [
    "scolarite4 = pd.get_dummies(scolarite)\n",
    "scolarite4 = scolarite4[[\"Secondaire\", \"Collegial\", \"Universitaire\"]]\n",
    "scolarite4"
   ]
  },
  {
   "cell_type": "code",
   "execution_count": 83,
   "metadata": {},
   "outputs": [
    {
     "data": {
      "text/plain": [
       "Secondaire       0.166667\n",
       "Collegial        0.500000\n",
       "Universitaire    0.333333\n",
       "dtype: float64"
      ]
     },
     "execution_count": 83,
     "metadata": {},
     "output_type": "execute_result"
    }
   ],
   "source": [
    "scolarite4.mean()"
   ]
  },
  {
   "cell_type": "markdown",
   "metadata": {
    "slideshow": {
     "slide_type": "slide"
    }
   },
   "source": [
    "- À présent, les variables catégoriques sont dichotomisées.\n",
    "- Elles peuvent être utilisées dans un modèle statistique quelconque.\n",
    "- **Attention** : des fréquences trop faibles dans certaines catégories pourraient causer problème $\\rightarrow$ Nécessaire parfois de faire du regroupement."
   ]
  },
  {
   "cell_type": "markdown",
   "metadata": {
    "collapsed": true,
    "slideshow": {
     "slide_type": "slide"
    }
   },
   "source": [
    "## 3.5 Variable continue\n",
    "\n",
    "***\n",
    "\n",
    "- Tel que mentionné précédemment, de nombreux modèles statistiques sont sensibles à la forme des données.\n",
    "- C'est vrai aussi bien en ce qui concerne les variables catégoriques que continues."
   ]
  },
  {
   "cell_type": "code",
   "execution_count": 19,
   "metadata": {
    "slideshow": {
     "slide_type": "slide"
    }
   },
   "outputs": [
    {
     "name": "stdout",
     "output_type": "stream",
     "text": [
      "Variance du poids en kilogrammes : 258.24 \n",
      "Variance du poids en livres : 1249.88\n"
     ]
    }
   ],
   "source": [
    "import numpy as np\n",
    "\n",
    "poids_kg = [54, 71, 102, 66, 80]\n",
    "poids_lbs = [poids * 2.2 for poids in poids_kg]\n",
    "print(\"Variance du poids en kilogrammes :\", round(np.var(poids_kg), 2),\n",
    "      \"\\nVariance du poids en livres :\", round(np.var(poids_lbs), 2))"
   ]
  },
  {
   "cell_type": "markdown",
   "metadata": {
    "slideshow": {
     "slide_type": "-"
    }
   },
   "source": [
    "- Un modèle statistique dans lequel la variance serait un facteur déterminant pourrait donc potentiellement mener à des résultats différents avec ces deux ensembles de données qui représentent pourtant la même information.\n"
   ]
  },
  {
   "cell_type": "markdown",
   "metadata": {
    "slideshow": {
     "slide_type": "slide"
    }
   },
   "source": [
    "- Une autre situation où les échelles de mesure peuvent être problématiques, c'est lors de l'utilisation des méthodes calculant une mesure de distance (e.g. méthode des k-moyennes $\\rightarrow$ prochain module).\n",
    "- Comment comparer la distance entre 2 âges (30 ans versus 45 ans) et deux tailles par exemple (130 lbs versus 145 lbs)? Les deux exemples diffèrent de 15 unités, mais ces unités n'ont évidemment pas la même valeur dans les deux cas.\n",
    "\n",
    "**Quoi faire?**\n",
    "\n",
    "Retirer l'impact que peut avoir l'échelle de mesure.\n",
    "\n",
    "1. Normalisation\n",
    "2. Standardisation"
   ]
  },
  {
   "cell_type": "markdown",
   "metadata": {
    "slideshow": {
     "slide_type": "slide"
    }
   },
   "source": [
    "**Normalisation**\n",
    "\n",
    "- La normalisation transforme la variable continue pour s'assurer que son support soit borné entre 0 et 1.\n",
    "- Certaines méthodes statistiques nécessitent ce type de contraintes (e.g. certains réseaux de neurones)\n",
    "- Procédure :\n",
    "\n",
    "$$\\tilde{x}_i = \\frac{x_i - \\min(x)}{\\max(x) - \\min(x)}$$"
   ]
  },
  {
   "cell_type": "code",
   "execution_count": 28,
   "metadata": {
    "slideshow": {
     "slide_type": "slide"
    }
   },
   "outputs": [
    {
     "name": "stdout",
     "output_type": "stream",
     "text": [
      "Poids en kilogrammes normalisés : [ 0.     0.354  1.     0.25   0.542]\n",
      "Poids en livres normalisés      : [ 0.     0.354  1.     0.25   0.542]\n"
     ]
    }
   ],
   "source": [
    "poids_kg_norm = [(poids - min(poids_kg)) / (max(poids_kg) - min(poids_kg)) for poids in poids_kg]\n",
    "poids_lbs_norm = [(poids - min(poids_lbs)) / (max(poids_lbs) - min(poids_lbs)) for poids in poids_lbs]\n",
    "\n",
    "print(\"Poids en kilogrammes normalisés : \", np.round(poids_kg_norm, 3), \"\\n\",\n",
    "      \"Poids en livres normalisés      : \", np.round(poids_lbs_norm, 3), sep = \"\")"
   ]
  },
  {
   "cell_type": "markdown",
   "metadata": {
    "collapsed": true,
    "slideshow": {
     "slide_type": "-"
    }
   },
   "source": [
    "- Les poids individuels prennent la même valeur lorsqu'ils sont normalisés.\n",
    "- **Attention** la normalisation a tendance à être sensible aux valeurs aberrantes."
   ]
  },
  {
   "cell_type": "code",
   "execution_count": 29,
   "metadata": {
    "slideshow": {
     "slide_type": "-"
    }
   },
   "outputs": [
    {
     "name": "stdout",
     "output_type": "stream",
     "text": [
      "Poids en kilogrammes normalisés :  [ 0.     0.049  0.139  0.035  0.075  1.   ]\n"
     ]
    }
   ],
   "source": [
    "poids_kg2 = [54, 71, 102, 66, 80, 400]\n",
    "poids_kg_norm2 = [(poids - min(poids_kg2)) / (max(poids_kg2) - min(poids_kg2)) for poids in poids_kg2]\n",
    "print(\"Poids en kilogrammes normalisés : \", np.round(poids_kg_norm2, 3))"
   ]
  },
  {
   "cell_type": "markdown",
   "metadata": {
    "collapsed": true,
    "slideshow": {
     "slide_type": "-"
    }
   },
   "source": [
    "- À cause de la présence d'une valeur aberrante, aucune valeur ne vaut plus que 0.14, hormis la valeur aberrante."
   ]
  },
  {
   "cell_type": "markdown",
   "metadata": {
    "collapsed": true,
    "slideshow": {
     "slide_type": "slide"
    }
   },
   "source": [
    "**Standardisation**\n",
    "- La standardisation consiste à transformer les données afin quelles aquièrent les propriétés de la loi normale centrée et réduite : $N(0,1)$.\n",
    "- Pour ce faire, chaque observation d'une variable est soustraite par la moyenne de cette variable puis divisée par son écart type : \n",
    "\n",
    "$$\\tilde{x_i} = \\frac{x_i - \\bar{x}}{s}$$\n",
    "\n",
    "où $\\bar{x} = \\frac{1}{N}\\sum_{i=1}^N x_i$ et $s = \\sqrt{\\frac{1}{N-1}\\sum_{i=1}^N(x_i - \\bar{x})^2}$\n",
    "\n",
    "- La standardisation est moins sensible aux valeurs aberrantes, mais ne permet pas de contraindre le support d'une variable dans un certain intervalle."
   ]
  },
  {
   "cell_type": "code",
   "execution_count": 9,
   "metadata": {
    "slideshow": {
     "slide_type": "slide"
    }
   },
   "outputs": [
    {
     "data": {
      "text/plain": [
       "0    154201.51\n",
       "1      3041.96\n",
       "2      8414.69\n",
       "3     40101.24\n",
       "4     23337.78\n",
       "5     20847.18\n",
       "6     32795.01\n",
       "7     40150.01\n",
       "8     10846.91\n",
       "9      3818.07\n",
       "dtype: float64"
      ]
     },
     "execution_count": 9,
     "metadata": {},
     "output_type": "execute_result"
    }
   ],
   "source": [
    "import numpy as np\n",
    "import pandas as pd\n",
    "\n",
    "np.random.seed(222)\n",
    "revenu = pd.Series(np.round((np.random.randn(10) * 200)**2, 2))\n",
    "revenu"
   ]
  },
  {
   "cell_type": "code",
   "execution_count": 10,
   "metadata": {},
   "outputs": [
    {
     "name": "stdout",
     "output_type": "stream",
     "text": [
      "Variable 'revenu' non standardisée :\n",
      "Moyenne :33755.436; écart-type :42274.114\n"
     ]
    }
   ],
   "source": [
    "print(\"Variable 'revenu' non standardisée :\",\n",
    "      \"\\nMoyenne :\", np.round(np.mean(revenu), 3), \"; écart-type :\", np.round(np.std(revenu), 3), sep = \"\")"
   ]
  },
  {
   "cell_type": "code",
   "execution_count": 11,
   "metadata": {
    "slideshow": {
     "slide_type": "slide"
    }
   },
   "outputs": [
    {
     "data": {
      "text/plain": [
       "0    2.849169\n",
       "1   -0.726532\n",
       "2   -0.599439\n",
       "3    0.150111\n",
       "4   -0.246431\n",
       "5   -0.305347\n",
       "6   -0.022719\n",
       "7    0.151265\n",
       "8   -0.541904\n",
       "9   -0.708173\n",
       "dtype: float64"
      ]
     },
     "execution_count": 11,
     "metadata": {},
     "output_type": "execute_result"
    }
   ],
   "source": [
    "revenu_stan = (revenu - np.mean(revenu)) / np.std(revenu)\n",
    "revenu_stan"
   ]
  },
  {
   "cell_type": "code",
   "execution_count": 12,
   "metadata": {
    "slideshow": {
     "slide_type": "-"
    }
   },
   "outputs": [
    {
     "name": "stdout",
     "output_type": "stream",
     "text": [
      "Variable 'revenu' standardisée :\n",
      "Moyenne :0.0; écart-type :1.0\n"
     ]
    }
   ],
   "source": [
    "print(\"Variable 'revenu' standardisée :\",\n",
    "      \"\\nMoyenne :\", np.round(np.mean(revenu_stan), 3), \"; écart-type :\", np.round(np.std(revenu_stan), 3), sep = \"\")"
   ]
  },
  {
   "cell_type": "markdown",
   "metadata": {
    "slideshow": {
     "slide_type": "slide"
    }
   },
   "source": [
    "- Malheureusement, Pandas ne possède pas de méthodes pour effectuer la normalisation et la standardisation des données.\n",
    "- Possible de le faire à la main tel que présenté ici.\n",
    "- Alternative : le module SciKit-Learn (voir exemple travail long). Cet outil sera introduit plus en détails dans le prochain module. "
   ]
  },
  {
   "cell_type": "markdown",
   "metadata": {
    "slideshow": {
     "slide_type": "slide"
    }
   },
   "source": [
    "## 3.6 Et le groupe test?\n",
    "\n",
    "***\n",
    "\n",
    "- Le groupe test a été laissé de côté lors de la préparation des données et le sera également durant la totalité des analyses à venir. Il n'est pas oublié pour autant.\n",
    "- Le groupe test n'est utilisé qu'une seule fois, lorsque le modèle final est choisi avec minutie et que sa performance réelle doit être évaluée.\n",
    "- Lorsqu'il est utilisé, ses données doivent être traitée de la même manière que l'on été les données du groupe d'entrainement.\n",
    "- Les valeurs du groupe d'entrainement utilisées pour imputer/normaliser/standardiser les données doivent donc être conservées, puisqu'elles serviront lors de la péparation du groupe test."
   ]
  },
  {
   "cell_type": "markdown",
   "metadata": {
    "slideshow": {
     "slide_type": "slide"
    }
   },
   "source": [
    "## 3.7 Devoir\n",
    "\n",
    "***\n",
    "\n",
    "1. Documenter la présence de valeurs manquantes et de valeurs aberrantes dans vos données.\n",
    "2. Effectuer le traitement nécessaire de ces valeurs.\n",
    "3. Préparer les variables catégoriques et continues adéquatement."
   ]
  }
 ],
 "metadata": {
  "celltoolbar": "Slideshow",
  "kernelspec": {
   "display_name": "Python 3",
   "language": "python",
   "name": "python3"
  },
  "language_info": {
   "codemirror_mode": {
    "name": "ipython",
    "version": 3
   },
   "file_extension": ".py",
   "mimetype": "text/x-python",
   "name": "python",
   "nbconvert_exporter": "python",
   "pygments_lexer": "ipython3",
   "version": "3.6.3"
  }
 },
 "nbformat": 4,
 "nbformat_minor": 2
}
