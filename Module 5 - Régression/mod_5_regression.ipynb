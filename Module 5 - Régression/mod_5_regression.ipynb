{
 "cells": [
  {
   "cell_type": "markdown",
   "metadata": {
    "slideshow": {
     "slide_type": "slide"
    }
   },
   "source": [
    "# Quiz de révision\n",
    "\n",
    "1. Pourquoi dit-on qu'il n'y aucune façon de valider la performance d'un modèle d'apprentissage non supervisé?\n",
    "2. Pourquoi dit-on que la méthode de regroupement hiérarchique est une méthode *bottom up*?\n",
    "3. En quoi l'analyse par composantes principales peut-elle être utile?"
   ]
  },
  {
   "cell_type": "markdown",
   "metadata": {
    "slideshow": {
     "slide_type": "slide"
    }
   },
   "source": [
    "- Exemple de solution pour la question 1.\n",
    "\n",
    "Dans le cas de l'apprentissage supervisé, les données fournies à l'algorithme possèdent une solution désirée. Ainsi, lorsqu'un modèle est entrainé dans le but de prédire une valeur, il est possible de comparer la valeur prédite à la valeur attendue. Cette comparaison permet alors de vérifier la perfomance du modèle. Quant à l'apprentissage non supervisé, il est un type d'apprentissage automatique où les données fournies à l'algorithme ne possèdent pas une solution désirée. Il est donc impossible de comparer la prédiction du modèle à une valeur attendue et donc de valider la perfomance du modèle."
   ]
  },
  {
   "cell_type": "markdown",
   "metadata": {
    "slideshow": {
     "slide_type": "slide"
    }
   },
   "source": [
    "- Exemple de solution pour la question 2.\n",
    "\n",
    "La méthode de regroupement hiéarchique est dite *bottom up* en comparaison à des méthodes dites *top down* telle que la méthode des k-moyennes. La méthode des k-moyennes est dite *top down* puisqu'elle détermine préalablement le nombre de regroupements à trouver et cherche ensuite ces regroupements dans les données. En comparaison, la méthode de regroupement hiérarchique débute avec les données. Elle regroupe une à une les observations les plus \"proches\" selon une mesure de distance quelconque. Initialement, il existe autant de regroupements que d'observations. Alors que les observations sont regroupées, le nombre de regroupements décroit. À la toute fin, un seul regroupement existe, englobant toutes les observations. L'analyste choisi alors le nombre de regroupements qui lui semble le plus cohérent selon la structure du dendrogramme représentant la séquence des regroupements. La méthode débute donc avec les données et termine avec le nombre de regroupements, ce qui est l'inverse de la méthode des k-moyennes."
   ]
  },
  {
   "cell_type": "markdown",
   "metadata": {
    "slideshow": {
     "slide_type": "slide"
    }
   },
   "source": [
    "- Exemple de solution pour la question 3.\n",
    "\n",
    "Lors de l'estimation d'un modèle, il peut arriver que le nombre de variables explicatives à inclure soit trop important et cause des problèmes d'estimation ou d'interprétabilité du modèle. Ce type de problème est souvent appelé un problème de dimensionnalité. L'analyse par composantes principales peut être une solution à ce problème. L'analyse par composantes principales crée de nouvelles variables en captant l'essentiel de l'information contenue dans les données. Ainsi, un nombre plus restreint de variables contient néanmoins l'essentiel de l'information disponible. L'information est définie dans ce cas par la variation dans les données."
   ]
  },
  {
   "cell_type": "markdown",
   "metadata": {
    "slideshow": {
     "slide_type": "slide"
    }
   },
   "source": [
    "# Introduction à l'analyse de données\n",
    "\n",
    "## Module 5 : Apprentissage automatique supervisé - Régression\n",
    "\n",
    "### Par Nicolas Corneau-Tremblay"
   ]
  },
  {
   "cell_type": "markdown",
   "metadata": {
    "slideshow": {
     "slide_type": "slide"
    }
   },
   "source": [
    "# Plan du module\n",
    "\n",
    "***\n",
    "\n",
    "1. Qu'est-ce que l'apprentissage automatique supervisé?\n",
    "2. Régression linéaire\n",
    "3. Mesure de performance\n",
    "4. Régressions contraintes\n",
    "5. Validation croisée\n",
    "6. K plus proches voisins\n",
    "7. Arbre de décision\n",
    "8. Forêt aléatoire\n",
    "9. Devoir"
   ]
  },
  {
   "cell_type": "markdown",
   "metadata": {
    "slideshow": {
     "slide_type": "slide"
    }
   },
   "source": [
    "## 5.1 Qu'est-ce que l'apprentissage automatique supervisé?\n",
    "\n",
    "***\n",
    "\n",
    "- L'apprentissage automatique supervisé a été défini précédemment comme une forme d'apprentissage automatique où les données fournies à l'algorithme possèdent une solution désirée.\n",
    "- Une variable dépendante et des variables explicatives sont observées de façon aléatoire. Une relation entre ces variables existe sous la forme générale\n",
    "\n",
    "$$y = g(X) + \\epsilon$$\n",
    "\n",
    "où $y$ est un vecteur de taille $n \\times 1$ contenant la variable dépendante, où $X$ est une matrice contenant les variables explicatives de taille $n \\times k$, $k$ étant le nombre de variables incluses dans le modèle, où $\\epsilon$ est un vecteur de taille $n \\times 1$ contenant un terme d'erreur et où $g(.)$ est la structure réelle définissant la relation entre $X$ et $y$.\n",
    "- En réalité, $g(.)$ est généralement inconnue.\n",
    "- L'objectif de l'apprentissage automatique supervisé est d'estimer $\\hat{g}(.)$ empiriquement de façon à ce que, lorsque de nouveaux $X$ sont rendus disponibles, il devient possible de prédire quelle sera la valeur de $y$ qui leur sera associée."
   ]
  },
  {
   "cell_type": "markdown",
   "metadata": {
    "slideshow": {
     "slide_type": "slide"
    }
   },
   "source": [
    "- Il existe deux types de modèles d'apprentissage supervisé : la régression et la classification.\n",
    "\n",
    "Régression : la variable dépendante à prédire est un nombre (e.g. le salaire, le nombre de visite chez le médecin, le nombre de clics sur une publicité en ligne, etc.).\n",
    "\n",
    "Classification : la variable dépendante est une classe, un état, une caractéristique (e.g. si un individu aura ou non des complications après une opération, si un joueur de hockey dans la ligue de hockey junior majeur sera repêché ou non dans la ligne nationale de hockey, le type de moyen de transport un individu choisira pour se rendre à son travail, etc.).\n",
    "\n",
    "- Certains modèles prédictifs s'appliquent à la régression uniquement, d'autres à la classification uniquement et d'autres encore peuvent être utilisés dans les deux cas.\n",
    "- Ce module porte sur la **régression**."
   ]
  },
  {
   "cell_type": "markdown",
   "metadata": {
    "slideshow": {
     "slide_type": "slide"
    }
   },
   "source": [
    "## 5.2 Régression linéaire\n",
    "\n",
    "***\n",
    "\n",
    "- La régression linéaire est l'un des premiers outils présentés en apprentissage automatique.\n",
    "- Elle postule une forme très stricte pour $g(.)$, à savoir :\n",
    "\n",
    "$$y = \\beta_0 + \\beta_1x_1 + ... + \\beta_kx_k + \\epsilon$$\n",
    "\n",
    "où $\\beta_0, ..., \\beta_k$ sont les paramètres de la fonction $g(.)$.\n",
    "\n",
    "- Cette structure impose que chaque variable explicative affecte de façon linéaire la variable dépendante et que la variable dépendante est définie par une fonction additive des variables explicatives $\\rightarrow$ Hypothèses fortes.\n",
    "- En pratique, le vecteur $\\beta = \\{\\beta_0, ..., \\beta_k\\}$ n'est pas observé. Il doit être estimé.\n",
    "- La méthode généralement utilisée pour estimer le vecteur de paramètres de la régression linéaire est celle des moindres carrés ordinaires (MCO)."
   ]
  },
  {
   "cell_type": "markdown",
   "metadata": {
    "collapsed": true,
    "slideshow": {
     "slide_type": "slide"
    }
   },
   "source": [
    "**Moindres carrés ordinaires**\n",
    "- L'objectif des MCO est de minimiser l'erreur entre la prédiction du modèle et la véritable valeur de $y$, à savoir\n",
    "\n",
    "$$\\hat{\\varepsilon}_i = y_i - \\hat{y}_i$$\n",
    "\n",
    "où $\\hat{y}_i = \\hat{\\beta}_0 + \\hat{\\beta}_1x_{i1} + ... + \\hat{\\beta}_kx_{ik}$, c'est-à-dire la prédiction faite à l'aide du modèle et de ses paramètres $\\hat{\\beta}$ estimés.\n",
    "\n",
    "- Formellement, la méthode des moindres carrés tente de minimiser la somme des erreurs au carré (*sum of squared errors*) :\n",
    "\n",
    "$$S = \\sum_{i=1}^n\\hat{\\varepsilon}_i^2$$\n",
    "\n",
    "où $S$ est ce qui est appelée la fonction objective, c'est-à-dire la fonction qui doit être optimisée (dans le cas des moindres carrées, qui doit être minimisée).\n",
    "\n",
    "- En remplaçant $\\hat{\\varepsilon}_i$ par $y_i - \\sum_{j=0}^k\\beta_jx_{ij}$, le problème de minimisation permettant d'estimer $\\beta$ est\n",
    "\n",
    "$$\\min_{\\beta} ~ S = \\sum_{i=1}^n(y_i - \\sum_{j=0}^k\\beta_jx_{ij})^2$$"
   ]
  },
  {
   "cell_type": "markdown",
   "metadata": {
    "collapsed": true,
    "slideshow": {
     "slide_type": "slide"
    }
   },
   "source": [
    "- En réécrivant le problème de minimisation sous forme matricielle, celui-ci devient alors\n",
    "\n",
    "$$\\min_{\\beta} S = (y-X\\beta)'(y-X\\beta)$$\n",
    "\n",
    "où $y$ est un vecteur de taille $n \\times 1$, où $X$ est une matrice de taille $n \\times k+1$ et où $\\beta$ est un vecteur de taille $k + 1 \\times 1$ (le $+1$ est nécessaire afin de permettre l'introduction d'un intercept dans le modèle).\n",
    "- Pour solutionner ce problème, il est d'abord possible de le réécrire en distribuant la multiplication\n",
    "\n",
    "\\begin{aligned}\n",
    "\\min_{\\beta} S & = y'y - y'X\\beta - \\beta'X'y + \\beta'X'X\\beta \\\\\n",
    "& = y'y - 2y'X\\beta + \\beta'X'X\\beta\n",
    "\\end{aligned}\n",
    "\n",
    "- La première dérivée est ensuite obtenue à l'aide des règles de la dérivation matricielle\n",
    "\n",
    "\\begin{aligned}\n",
    "\\frac{\\partial S}{\\partial \\beta} \\Rightarrow -2X'y + 2X'X\\beta & = 0 \\\\\n",
    "2X'X\\beta & = 2X'y \\\\\n",
    "\\hat{\\beta} & = (X'X)^{-1}X'y\n",
    "\\end{aligned}\n",
    "\n",
    "- La seconde dérivée nous indique s'il s'agit d'un minimum :\n",
    "\n",
    "$$ \\frac{\\partial^2 S}{\\partial \\beta^2} \\Rightarrow 2(X'X)  > 0 $$\n",
    "\n",
    "- Il est possible de montrer que si $X$ est de plein rang, alors $X'X$ est définie positive. Il s'agit donc bien d'un minimum."
   ]
  },
  {
   "cell_type": "markdown",
   "metadata": {
    "slideshow": {
     "slide_type": "slide"
    }
   },
   "source": [
    "- Exemple simple à partir de données simulées :"
   ]
  },
  {
   "cell_type": "code",
   "execution_count": 1,
   "metadata": {
    "slideshow": {
     "slide_type": "-"
    }
   },
   "outputs": [
    {
     "data": {
      "image/png": "[encoded data removed]",
      "text/plain": [
       "<matplotlib.figure.Figure at 0x10ac67a90>"
      ]
     },
     "metadata": {},
     "output_type": "display_data"
    }
   ],
   "source": [
    "import numpy as np\n",
    "import matplotlib.pyplot as plt\n",
    "\n",
    "# Simulation de X et de y\n",
    "np.random.seed(222)\n",
    "n = 400\n",
    "age = 35 + np.random.randn(n) * 10\n",
    "revenu = 1000 + (1000 * age) + (np.random.randn(n) * 10000)\n",
    "\n",
    "fig = plt.figure(); ax = fig.add_subplot(111)\n",
    "ax.scatter(age, revenu, color = \"orange\")\n",
    "ax.set_title(\"Nuage de points \\n(N = 100)\")\n",
    "ax.set_xlabel(\"âge\"); ax.set_ylabel(\"revenu\")\n",
    "plt.show()"
   ]
  },
  {
   "cell_type": "markdown",
   "metadata": {
    "slideshow": {
     "slide_type": "slide"
    }
   },
   "source": [
    "- À partir de ces données, il est possible de retrouver les coefficients de la régression définissant la relation entre $âge$ et $revenu$."
   ]
  },
  {
   "cell_type": "code",
   "execution_count": 2,
   "metadata": {
    "slideshow": {
     "slide_type": "-"
    }
   },
   "outputs": [
    {
     "name": "stdout",
     "output_type": "stream",
     "text": [
      "Coefficients estimés : \n",
      "beta0 : 1086.954 ; beta1 : 1001.73\n"
     ]
    }
   ],
   "source": [
    "# Ajout de l'intercepte à X\n",
    "X = np.array([[1] * n, age]).T\n",
    "y = revenu\n",
    "\n",
    "# B = (X'X)-1X'y\n",
    "beta = np.linalg.inv(X.T.dot(X)).dot(X.T.dot(y))\n",
    "\n",
    "print(\"Coefficients estimés :\",\n",
    "      \"\\nbeta0 :\", np.round(beta[0], 3), \"; beta1 :\", np.round(beta[1], 3))"
   ]
  },
  {
   "cell_type": "markdown",
   "metadata": {
    "slideshow": {
     "slide_type": "-"
    }
   },
   "source": [
    "- Les coefficients estimés sont cohérents avec les vraies valeurs."
   ]
  },
  {
   "cell_type": "code",
   "execution_count": 3,
   "metadata": {
    "slideshow": {
     "slide_type": "slide"
    }
   },
   "outputs": [
    {
     "data": {
      "image/png": "[encoded data removed]",
      "text/plain": [
       "<matplotlib.figure.Figure at 0x1114b15c0>"
      ]
     },
     "metadata": {},
     "output_type": "display_data"
    }
   ],
   "source": [
    "fig = plt.figure()\n",
    "ax = fig.add_subplot(111)\n",
    "ax.scatter(age, revenu, color = \"orange\")\n",
    "ax.plot([10, 65], [beta[0] + beta[1] * 10,\n",
    "                   beta[0] + beta[1] * 65],\n",
    "        color = \"grey\")\n",
    "ax.set_title(\"Nuage de points \\n(N = 100)\")\n",
    "ax.set_xlabel(\"âge\"); ax.set_ylabel(\"revenu\")\n",
    "ax.annotate(r\"$\\hat{y} = X\\hat{\\beta}$\", xy = [61.5, 57000])\n",
    "ax.annotate(\"y\", xy = [61.5, 73000])\n",
    "ax.annotate(r\"$\\hat{\\varepsilon}$\", xy = [58.5, 65000])\n",
    "ax.plot([60.5, 60.5],\n",
    "        [beta[0] + beta[1] * 60.5, 71600], color = \"black\")\n",
    "plt.show()"
   ]
  },
  {
   "cell_type": "markdown",
   "metadata": {
    "slideshow": {
     "slide_type": "slide"
    }
   },
   "source": [
    "- La solution aux moindres carrés est en fait la moyenne de la variable incluse dans la fonction objective. Pour s'en convaincre, soit, à partir de $\\hat{\\varepsilon}_i = y_i - \\alpha$, où $y_i$ est une variable aléatoire et où $\\alpha$ est un paramètre à estimer, le problème de minimisation suivant :\n",
    "\n",
    "$$\\min_{\\alpha} S = \\sum_{i=1}^n(y_i - \\alpha)^2$$\n",
    "\n",
    "- Ce problème se résout de la même façon que précédemment, à savoir :\n",
    "\n",
    "\\begin{aligned}\n",
    "\\min_{\\alpha} S & = \\sum_{i=1}^n(y_i^2 - 2\\alpha y_i + \\alpha^2) \\\\\n",
    "& = \\sum_{i=1}^n y_i^2 - 2\\alpha\\sum_{i=1}^n y_i + n\\alpha^2\n",
    "\\end{aligned}\n",
    "\n",
    "- La première dérivée est ensuite calculée :\n",
    "\n",
    "\\begin{aligned}\n",
    "\\frac{\\partial S}{\\partial \\alpha} \\Rightarrow - 2\\sum_{i=1}^n y_i + 2n\\alpha & = 0 \\\\\n",
    "2n\\alpha & = 2\\sum_{i=1}^n y_i \\\\\n",
    "\\hat{\\alpha} & = \\frac{1}{n}\\sum_{i=1}^n y_i\n",
    "\\end{aligned}"
   ]
  },
  {
   "cell_type": "markdown",
   "metadata": {
    "slideshow": {
     "slide_type": "slide"
    }
   },
   "source": [
    "- Les moindres carrées permettent ainsi de modéliser l'espérance conditionnelle de $y$ par rapport à $X$ en remplaçant $\\alpha$ par $X\\beta$ :\n",
    "\n",
    "$$E[y|X] = X\\beta$$\n",
    "\n",
    "- De cette façon, la moyenne de $y$ devient une fonction prenant comme entrées les variables explicatives.\n",
    "- L'inteprétation de $\\beta$ est donc l'effet moyen d'un changement d'une unité d'une variable $x$ sur $y$.\n",
    "- Dans l'exemple précédent, vieillir d'un an augmenterait en moyenne le salaire de 1000$.\n",
    "- **Attention**, cet effet est un **effet moyen**."
   ]
  },
  {
   "cell_type": "markdown",
   "metadata": {
    "slideshow": {
     "slide_type": "slide"
    }
   },
   "source": [
    "Considérations :\n",
    "\n",
    "- La régression linéaire ne nécessite pas la normalisation/standardisation des données.\n",
    "- Il est possible d'introduire des variables binaires ou catégoriques. Une des catégories doit toutefois être omise du modèle pour que celui-ci puisse être estimé.\n",
    "- Une matrice avec comme variables toutes les catégories d'une variable catégorique n'est pas de plein rang, c'est-à-dire que certaines de ses colonnes sont linéairement dépendantes (à cause de l'introduction de l'intercept dans la matrice $X$).\n",
    "- Dans ce cas, la matrice ne peut pas être inversée $\\rightarrow$ Problématique dans $\\hat{\\beta} = (X'X)^{-1}X'y$."
   ]
  },
  {
   "cell_type": "markdown",
   "metadata": {
    "slideshow": {
     "slide_type": "slide"
    }
   },
   "source": [
    "- Solution : option `drop_first` de Pandas."
   ]
  },
  {
   "cell_type": "code",
   "execution_count": 4,
   "metadata": {
    "slideshow": {
     "slide_type": "-"
    }
   },
   "outputs": [
    {
     "data": {
      "text/html": [
       "<div>\n",
       "<style>\n",
       "    .dataframe thead tr:only-child th {\n",
       "        text-align: right;\n",
       "    }\n",
       "\n",
       "    .dataframe thead th {\n",
       "        text-align: left;\n",
       "    }\n",
       "\n",
       "    .dataframe tbody tr th {\n",
       "        vertical-align: top;\n",
       "    }\n",
       "</style>\n",
       "<table border=\"1\" class=\"dataframe\">\n",
       "  <thead>\n",
       "    <tr style=\"text-align: right;\">\n",
       "      <th></th>\n",
       "      <th>age</th>\n",
       "      <th>inter</th>\n",
       "      <th>sexe</th>\n",
       "    </tr>\n",
       "  </thead>\n",
       "  <tbody>\n",
       "    <tr>\n",
       "      <th>0</th>\n",
       "      <td>21</td>\n",
       "      <td>1</td>\n",
       "      <td>F</td>\n",
       "    </tr>\n",
       "    <tr>\n",
       "      <th>1</th>\n",
       "      <td>34</td>\n",
       "      <td>1</td>\n",
       "      <td>M</td>\n",
       "    </tr>\n",
       "  </tbody>\n",
       "</table>\n",
       "</div>"
      ],
      "text/plain": [
       "   age  inter sexe\n",
       "0   21      1    F\n",
       "1   34      1    M"
      ]
     },
     "execution_count": 4,
     "metadata": {},
     "output_type": "execute_result"
    }
   ],
   "source": [
    "import pandas as pd\n",
    "X = pd.DataFrame({\"inter\" : [1] * 10,\n",
    "                  \"age\" : [21, 34, 59, 65, 82, 36, 18, 19, 43, 27],\n",
    "                  \"sexe\" : [\"F\", \"M\", \"F\", \"F\", \"M\", \"M\", \"F\", \"M\", \"F\", \"F\"]})\n",
    "X.head(2)"
   ]
  },
  {
   "cell_type": "code",
   "execution_count": 5,
   "metadata": {
    "slideshow": {
     "slide_type": "-"
    }
   },
   "outputs": [
    {
     "data": {
      "text/html": [
       "<div>\n",
       "<style>\n",
       "    .dataframe thead tr:only-child th {\n",
       "        text-align: right;\n",
       "    }\n",
       "\n",
       "    .dataframe thead th {\n",
       "        text-align: left;\n",
       "    }\n",
       "\n",
       "    .dataframe tbody tr th {\n",
       "        vertical-align: top;\n",
       "    }\n",
       "</style>\n",
       "<table border=\"1\" class=\"dataframe\">\n",
       "  <thead>\n",
       "    <tr style=\"text-align: right;\">\n",
       "      <th></th>\n",
       "      <th>inter</th>\n",
       "      <th>age</th>\n",
       "      <th>M</th>\n",
       "    </tr>\n",
       "  </thead>\n",
       "  <tbody>\n",
       "    <tr>\n",
       "      <th>0</th>\n",
       "      <td>1</td>\n",
       "      <td>21</td>\n",
       "      <td>0</td>\n",
       "    </tr>\n",
       "    <tr>\n",
       "      <th>1</th>\n",
       "      <td>1</td>\n",
       "      <td>34</td>\n",
       "      <td>1</td>\n",
       "    </tr>\n",
       "  </tbody>\n",
       "</table>\n",
       "</div>"
      ],
      "text/plain": [
       "   inter  age  M\n",
       "0      1   21  0\n",
       "1      1   34  1"
      ]
     },
     "execution_count": 5,
     "metadata": {},
     "output_type": "execute_result"
    }
   ],
   "source": [
    "dummy = pd.get_dummies(X[\"sexe\"], drop_first = True)\n",
    "X = pd.concat([X[[\"inter\", \"age\"]], dummy], axis = 1)\n",
    "X.head(2)"
   ]
  },
  {
   "cell_type": "markdown",
   "metadata": {
    "slideshow": {
     "slide_type": "slide"
    }
   },
   "source": [
    "- Il est possible de dériver le biais des paramètre estimés par MCO.\n",
    "\n",
    "\\begin{aligned}\n",
    "\\hat{\\beta} & = (X'X)^{-1}X'y \\\\\n",
    "& = (X'X)^{-1}X'(X\\beta + \\varepsilon) \\\\\n",
    "& = \\beta + (X'X)^{-1}X'\\varepsilon\n",
    "\\end{aligned}\n",
    "\n",
    "- L'espérance de cette expression peut ensuite être obtenue pour obtenir le biais : \n",
    "\n",
    "\\begin{aligned}\n",
    "E[\\hat{\\beta}|X] & = E[\\beta|X] + E[(X'X)^{-1}X'\\varepsilon|X] \\\\\n",
    "& = \\beta + E[(X'X)^{-1}X'\\varepsilon|X] \\\\\n",
    "& = \\beta + (X'X)^{-1}X'E[\\varepsilon|X]\n",
    "\\end{aligned}\n",
    "\n",
    "- Il est possible de voir que le vecteur de paramètre $\\beta$ est estimé sans biais si $E[\\varepsilon|X] = 0$. En somme, les MCO mènent à une estimation sans biais si le terme d'erreur est non corrélé aux variables explicatives."
   ]
  },
  {
   "cell_type": "markdown",
   "metadata": {
    "slideshow": {
     "slide_type": "slide"
    }
   },
   "source": [
    "**Hypothèses**\n",
    "\n",
    "Implicitement, les quatre hypothèses nécessaires à l'estimation des moindres carrés ordinaires ont été abordées ci-haut. Formellement, celles-ci sont :\n",
    "\n",
    "1. Le modèle populationnel de $y$ par rapport à $X$ possède la forme suivante :\n",
    "\n",
    "    $$y = X\\beta + \\varepsilon$$\n",
    "\n",
    "2. Les observations $\\{(y_1, x_1), (y_1, x_2), ...\\}$ ont été sélectionnées de façon aléatoire.\n",
    "3. La matrice $X$ est de plein rang.\n",
    "4. Le terme d'erreur à une espérance conditionnelle à $X$ égale à zéro : $E[\\varepsilon|X] = 0$."
   ]
  },
  {
   "cell_type": "markdown",
   "metadata": {
    "slideshow": {
     "slide_type": "slide"
    }
   },
   "source": [
    "- Les hypothèses ci-haut permettent d'estimer les moindres carrés sans biais, mais pour effectuer de l'inférence statistique à propos du modèle, il est également nécessaire de calculer la variance des coefficients $\\hat{\\beta}$ :\n",
    "\n",
    "$$ \\hat{\\beta} = \\beta + (X'X)^{-1}X'\\varepsilon $$\n",
    "\n",
    "\\begin{aligned}\n",
    "\\Rightarrow V[\\hat{\\beta}|X] & = V[\\beta + (X'X)^{-1}X'\\varepsilon|X] \\\\\n",
    "& = 0 + V[(X'X)^{-1}X'\\varepsilon|X] \\\\\n",
    "& = (X'X)^{-1}X'V[\\varepsilon|X]X(X'X)^{-1}\n",
    "\\end{aligned}\n",
    "\n",
    "- Pour $V[\\varepsilon|X]$, il existe deux possibilités :\n",
    "\n",
    "1. Homoscédasticité : $V[\\hat{\\beta}|X] = \\sigma^2(X'X)^{-1} ~~\\text{où}~~  V[\\varepsilon|X] = \\sigma^2 = \\frac{1}{n-k}\\varepsilon'\\varepsilon$\n",
    "2. Hétéroscédasticité : $V[\\hat{\\beta}|X] = (X'X)^{-1}X'\\Omega X(X'X)^{-1} ~~\\text{où}~~ V[\\varepsilon|X] = \\Omega = \\varepsilon\\varepsilon'$"
   ]
  },
  {
   "cell_type": "markdown",
   "metadata": {
    "slideshow": {
     "slide_type": "slide"
    }
   },
   "source": [
    "- La matrice de covariance $V[\\beta|X]$ peut ensuite être utilisée pour effectuer des tests sur les coefficients.\n",
    "- Est-ce qu'au moins une des variables explicatives est utile pour prédire $y$?\n",
    "\n",
    "\\begin{aligned}\n",
    "H_0 & : \\beta_0 = \\beta_1 = ... = \\beta_k = 0 \\\\\n",
    "H_A & : ~\\text{Au moins un des}~ \\beta_j \\neq 0\n",
    "\\end{aligned}\n",
    "\n",
    "Test de Fisher (statistique F) :\n",
    "\n",
    "$$F = \\frac{n - k - 1}{k}\\frac{\\sum_{i=1}^n(y_i-\\bar{y})^2 - \\sum_{i=1}^n (y_i-\\hat{y}_i)^2}{\\sum_{i=1}^n (y_i-\\hat{y}_i)^2}$$\n",
    "\n",
    "Intuition\n",
    "\n",
    "- Si les variables explicatives influencent peu la variation dans $y$, $\\hat{y}_i \\rightarrow \\bar{y}$ donc le numérateur tend vers zéro.\n",
    "- Si les variables explicatives influencent beaucoup la variation dans $y$, $(y_i-\\hat{y}_i) \\rightarrow 0$ donc le dénominateur tend vers zéro."
   ]
  },
  {
   "cell_type": "markdown",
   "metadata": {
    "slideshow": {
     "slide_type": "slide"
    }
   },
   "source": [
    "- Est-ce qu'une des variables en particulier est liée à $y$?\n",
    "\n",
    "\\begin{aligned}\n",
    "H_0 & : \\beta_j = 0 \\\\\n",
    "H_A & : \\beta_j \\neq 0\n",
    "\\end{aligned}\n",
    "\n",
    "Test de Student (statistique t) :\n",
    "\n",
    "$$t = \\left| \\frac{\\beta_j - 0}{SE(\\beta_j)} \\right|$$\n",
    "\n",
    "Intuition\n",
    "\n",
    "- Si la variable $x_j$ explique mal la variation dans $y$, $\\beta_j \\rightarrow 0$ donc le numérateur tend vers zéro.\n",
    "- Si le coefficient $\\beta_j$ est mesuré avec précision, $SE(\\beta_j) \\rightarrow 0$ donc le dénominateur tend vers zéro."
   ]
  },
  {
   "cell_type": "markdown",
   "metadata": {
    "slideshow": {
     "slide_type": "slide"
    }
   },
   "source": [
    "Exemple de régression linéaire à l'aide d'un véritable jeu de données portant sur le diabète :"
   ]
  },
  {
   "cell_type": "code",
   "execution_count": 8,
   "metadata": {},
   "outputs": [
    {
     "data": {
      "text/html": [
       "<div>\n",
       "<style>\n",
       "    .dataframe thead tr:only-child th {\n",
       "        text-align: right;\n",
       "    }\n",
       "\n",
       "    .dataframe thead th {\n",
       "        text-align: left;\n",
       "    }\n",
       "\n",
       "    .dataframe tbody tr th {\n",
       "        vertical-align: top;\n",
       "    }\n",
       "</style>\n",
       "<table border=\"1\" class=\"dataframe\">\n",
       "  <thead>\n",
       "    <tr style=\"text-align: right;\">\n",
       "      <th></th>\n",
       "      <th>age</th>\n",
       "      <th>sex</th>\n",
       "      <th>bmi</th>\n",
       "      <th>bp</th>\n",
       "      <th>bs1</th>\n",
       "      <th>bs2</th>\n",
       "    </tr>\n",
       "  </thead>\n",
       "  <tbody>\n",
       "    <tr>\n",
       "      <th>0</th>\n",
       "      <td>0.038076</td>\n",
       "      <td>0.050680</td>\n",
       "      <td>0.061696</td>\n",
       "      <td>0.021872</td>\n",
       "      <td>-0.044223</td>\n",
       "      <td>-0.034821</td>\n",
       "    </tr>\n",
       "    <tr>\n",
       "      <th>1</th>\n",
       "      <td>-0.001882</td>\n",
       "      <td>-0.044642</td>\n",
       "      <td>-0.051474</td>\n",
       "      <td>-0.026328</td>\n",
       "      <td>-0.008449</td>\n",
       "      <td>-0.019163</td>\n",
       "    </tr>\n",
       "    <tr>\n",
       "      <th>2</th>\n",
       "      <td>0.085299</td>\n",
       "      <td>0.050680</td>\n",
       "      <td>0.044451</td>\n",
       "      <td>-0.005671</td>\n",
       "      <td>-0.045599</td>\n",
       "      <td>-0.034194</td>\n",
       "    </tr>\n",
       "  </tbody>\n",
       "</table>\n",
       "</div>"
      ],
      "text/plain": [
       "        age       sex       bmi        bp       bs1       bs2\n",
       "0  0.038076  0.050680  0.061696  0.021872 -0.044223 -0.034821\n",
       "1 -0.001882 -0.044642 -0.051474 -0.026328 -0.008449 -0.019163\n",
       "2  0.085299  0.050680  0.044451 -0.005671 -0.045599 -0.034194"
      ]
     },
     "execution_count": 8,
     "metadata": {},
     "output_type": "execute_result"
    }
   ],
   "source": [
    "import pandas as pd\n",
    "from sklearn.datasets import load_diabetes\n",
    "\n",
    "# voir http://scikit-learn.org/stable/datasets/index.html\n",
    "# pour des information sur la base de données\n",
    "X, y = load_diabetes(return_X_y = True)\n",
    "col_names = [\"age\", \"sex\", \"bmi\", \"bp\", \"bs1\",\n",
    "           \"bs2\", \"bs3\", \"bs4\", \"bs5\", \"bs6\"]\n",
    "diab_cov = pd.DataFrame(X, columns = col_names)\n",
    "dis_prog = pd.Series(y)\n",
    "diab_cov[[\"age\", \"sex\", \"bmi\", \"bp\", \"bs1\", \"bs2\"]].head(3)"
   ]
  },
  {
   "cell_type": "markdown",
   "metadata": {
    "slideshow": {
     "slide_type": "slide"
    }
   },
   "source": [
    "L'estimation de la régression linéaire est effectuée avec le module **StatsModels** :"
   ]
  },
  {
   "cell_type": "code",
   "execution_count": 9,
   "metadata": {
    "collapsed": true,
    "slideshow": {
     "slide_type": "-"
    }
   },
   "outputs": [],
   "source": [
    "from sklearn.preprocessing import StandardScaler\n",
    "from statsmodels.tools.tools import add_constant\n",
    "from statsmodels.regression.linear_model import OLS\n",
    "\n",
    "# Standardisation des données\n",
    "scaler = StandardScaler()\n",
    "diab_cov = pd.DataFrame(scaler.fit_transform(diab_cov), columns = diab_cov.columns)\n",
    "\n",
    "# Ajout d'une constante à la matrice X\n",
    "diab_cov_con = add_constant(diab_cov)\n",
    "\n",
    "# Chargement de la régression linéaire\n",
    "reg_lin = OLS(dis_prog, diab_cov_con)\n",
    "\n",
    "# Estimation de la régression linéaire\n",
    "lin_res = reg_lin.fit()"
   ]
  },
  {
   "cell_type": "code",
   "execution_count": 10,
   "metadata": {
    "slideshow": {
     "slide_type": "slide"
    }
   },
   "outputs": [
    {
     "data": {
      "text/html": [
       "<table class=\"simpletable\">\n",
       "<caption>OLS Regression Results</caption>\n",
       "<tr>\n",
       "  <th>Dep. Variable:</th>            <td>y</td>        <th>  R-squared:         </th> <td>   0.518</td>\n",
       "</tr>\n",
       "<tr>\n",
       "  <th>Model:</th>                   <td>OLS</td>       <th>  Adj. R-squared:    </th> <td>   0.507</td>\n",
       "</tr>\n",
       "<tr>\n",
       "  <th>Method:</th>             <td>Least Squares</td>  <th>  F-statistic:       </th> <td>   46.27</td>\n",
       "</tr>\n",
       "<tr>\n",
       "  <th>Date:</th>             <td>Tue, 09 Jan 2018</td> <th>  Prob (F-statistic):</th> <td>3.83e-62</td>\n",
       "</tr>\n",
       "<tr>\n",
       "  <th>Time:</th>                 <td>15:26:05</td>     <th>  Log-Likelihood:    </th> <td> -2386.0</td>\n",
       "</tr>\n",
       "<tr>\n",
       "  <th>No. Observations:</th>      <td>   442</td>      <th>  AIC:               </th> <td>   4794.</td>\n",
       "</tr>\n",
       "<tr>\n",
       "  <th>Df Residuals:</th>          <td>   431</td>      <th>  BIC:               </th> <td>   4839.</td>\n",
       "</tr>\n",
       "<tr>\n",
       "  <th>Df Model:</th>              <td>    10</td>      <th>                     </th>     <td> </td>   \n",
       "</tr>\n",
       "<tr>\n",
       "  <th>Covariance Type:</th>      <td>nonrobust</td>    <th>                     </th>     <td> </td>   \n",
       "</tr>\n",
       "</table>\n",
       "<table class=\"simpletable\">\n",
       "<tr>\n",
       "    <td></td>       <th>coef</th>     <th>std err</th>      <th>t</th>      <th>P>|t|</th>  <th>[0.025</th>    <th>0.975]</th>  \n",
       "</tr>\n",
       "<tr>\n",
       "  <th>const</th> <td>  152.1335</td> <td>    2.576</td> <td>   59.061</td> <td> 0.000</td> <td>  147.071</td> <td>  157.196</td>\n",
       "</tr>\n",
       "<tr>\n",
       "  <th>age</th>   <td>   -0.4762</td> <td>    2.842</td> <td>   -0.168</td> <td> 0.867</td> <td>   -6.062</td> <td>    5.110</td>\n",
       "</tr>\n",
       "<tr>\n",
       "  <th>sex</th>   <td>  -11.4070</td> <td>    2.912</td> <td>   -3.917</td> <td> 0.000</td> <td>  -17.131</td> <td>   -5.683</td>\n",
       "</tr>\n",
       "<tr>\n",
       "  <th>bmi</th>   <td>   24.7263</td> <td>    3.165</td> <td>    7.813</td> <td> 0.000</td> <td>   18.506</td> <td>   30.946</td>\n",
       "</tr>\n",
       "<tr>\n",
       "  <th>bp</th>    <td>   15.4297</td> <td>    3.112</td> <td>    4.958</td> <td> 0.000</td> <td>    9.313</td> <td>   21.546</td>\n",
       "</tr>\n",
       "<tr>\n",
       "  <th>bs1</th>   <td>  -37.6804</td> <td>   19.820</td> <td>   -1.901</td> <td> 0.058</td> <td>  -76.636</td> <td>    1.275</td>\n",
       "</tr>\n",
       "<tr>\n",
       "  <th>bs2</th>   <td>   22.6765</td> <td>   16.126</td> <td>    1.406</td> <td> 0.160</td> <td>   -9.019</td> <td>   54.372</td>\n",
       "</tr>\n",
       "<tr>\n",
       "  <th>bs3</th>   <td>    4.8062</td> <td>   10.109</td> <td>    0.475</td> <td> 0.635</td> <td>  -15.063</td> <td>   24.676</td>\n",
       "</tr>\n",
       "<tr>\n",
       "  <th>bs4</th>   <td>    8.4221</td> <td>    7.681</td> <td>    1.097</td> <td> 0.273</td> <td>   -6.674</td> <td>   23.518</td>\n",
       "</tr>\n",
       "<tr>\n",
       "  <th>bs5</th>   <td>   35.7347</td> <td>    8.177</td> <td>    4.370</td> <td> 0.000</td> <td>   19.664</td> <td>   51.806</td>\n",
       "</tr>\n",
       "<tr>\n",
       "  <th>bs6</th>   <td>    3.2166</td> <td>    3.139</td> <td>    1.025</td> <td> 0.306</td> <td>   -2.952</td> <td>    9.385</td>\n",
       "</tr>\n",
       "</table>\n",
       "<table class=\"simpletable\">\n",
       "<tr>\n",
       "  <th>Omnibus:</th>       <td> 1.506</td> <th>  Durbin-Watson:     </th> <td>   2.029</td>\n",
       "</tr>\n",
       "<tr>\n",
       "  <th>Prob(Omnibus):</th> <td> 0.471</td> <th>  Jarque-Bera (JB):  </th> <td>   1.404</td>\n",
       "</tr>\n",
       "<tr>\n",
       "  <th>Skew:</th>          <td> 0.017</td> <th>  Prob(JB):          </th> <td>   0.496</td>\n",
       "</tr>\n",
       "<tr>\n",
       "  <th>Kurtosis:</th>      <td> 2.726</td> <th>  Cond. No.          </th> <td>    21.7</td>\n",
       "</tr>\n",
       "</table>"
      ],
      "text/plain": [
       "<class 'statsmodels.iolib.summary.Summary'>\n",
       "\"\"\"\n",
       "                            OLS Regression Results                            \n",
       "==============================================================================\n",
       "Dep. Variable:                      y   R-squared:                       0.518\n",
       "Model:                            OLS   Adj. R-squared:                  0.507\n",
       "Method:                 Least Squares   F-statistic:                     46.27\n",
       "Date:                Tue, 09 Jan 2018   Prob (F-statistic):           3.83e-62\n",
       "Time:                        15:26:05   Log-Likelihood:                -2386.0\n",
       "No. Observations:                 442   AIC:                             4794.\n",
       "Df Residuals:                     431   BIC:                             4839.\n",
       "Df Model:                          10                                         \n",
       "Covariance Type:            nonrobust                                         \n",
       "==============================================================================\n",
       "                 coef    std err          t      P>|t|      [0.025      0.975]\n",
       "------------------------------------------------------------------------------\n",
       "const        152.1335      2.576     59.061      0.000     147.071     157.196\n",
       "age           -0.4762      2.842     -0.168      0.867      -6.062       5.110\n",
       "sex          -11.4070      2.912     -3.917      0.000     -17.131      -5.683\n",
       "bmi           24.7263      3.165      7.813      0.000      18.506      30.946\n",
       "bp            15.4297      3.112      4.958      0.000       9.313      21.546\n",
       "bs1          -37.6804     19.820     -1.901      0.058     -76.636       1.275\n",
       "bs2           22.6765     16.126      1.406      0.160      -9.019      54.372\n",
       "bs3            4.8062     10.109      0.475      0.635     -15.063      24.676\n",
       "bs4            8.4221      7.681      1.097      0.273      -6.674      23.518\n",
       "bs5           35.7347      8.177      4.370      0.000      19.664      51.806\n",
       "bs6            3.2166      3.139      1.025      0.306      -2.952       9.385\n",
       "==============================================================================\n",
       "Omnibus:                        1.506   Durbin-Watson:                   2.029\n",
       "Prob(Omnibus):                  0.471   Jarque-Bera (JB):                1.404\n",
       "Skew:                           0.017   Prob(JB):                        0.496\n",
       "Kurtosis:                       2.726   Cond. No.                         21.7\n",
       "==============================================================================\n",
       "\n",
       "Warnings:\n",
       "[1] Standard Errors assume that the covariance matrix of the errors is correctly specified.\n",
       "\"\"\""
      ]
     },
     "execution_count": 10,
     "metadata": {},
     "output_type": "execute_result"
    }
   ],
   "source": [
    "lin_res.summary()"
   ]
  },
  {
   "cell_type": "markdown",
   "metadata": {
    "slideshow": {
     "slide_type": "slide"
    }
   },
   "source": [
    "- Possibilité également d'extraire certains éléments :"
   ]
  },
  {
   "cell_type": "code",
   "execution_count": 11,
   "metadata": {
    "collapsed": true,
    "slideshow": {
     "slide_type": "-"
    }
   },
   "outputs": [],
   "source": [
    "col_names_con = [\"cons\"] + col_names\n",
    "lin_coefs = pd.DataFrame(np.round(np.array([lin_res.params,\n",
    "                                        lin_res.bse.T,\n",
    "                                        lin_res.tvalues,\n",
    "                                        lin_res.pvalues]).T, 4),\n",
    "                     columns = [\"Coefficient\",\n",
    "                                \"Erreur-type\",\n",
    "                                \"t-Student\",\n",
    "                                \"P-value\"],\n",
    "                     index = col_names_con)"
   ]
  },
  {
   "cell_type": "code",
   "execution_count": 12,
   "metadata": {
    "slideshow": {
     "slide_type": "slide"
    }
   },
   "outputs": [
    {
     "data": {
      "text/html": [
       "<div>\n",
       "<style>\n",
       "    .dataframe thead tr:only-child th {\n",
       "        text-align: right;\n",
       "    }\n",
       "\n",
       "    .dataframe thead th {\n",
       "        text-align: left;\n",
       "    }\n",
       "\n",
       "    .dataframe tbody tr th {\n",
       "        vertical-align: top;\n",
       "    }\n",
       "</style>\n",
       "<table border=\"1\" class=\"dataframe\">\n",
       "  <thead>\n",
       "    <tr style=\"text-align: right;\">\n",
       "      <th></th>\n",
       "      <th>Coefficient</th>\n",
       "      <th>Erreur-type</th>\n",
       "      <th>t-Student</th>\n",
       "      <th>P-value</th>\n",
       "    </tr>\n",
       "  </thead>\n",
       "  <tbody>\n",
       "    <tr>\n",
       "      <th>cons</th>\n",
       "      <td>152.1335</td>\n",
       "      <td>2.5759</td>\n",
       "      <td>59.0614</td>\n",
       "      <td>0.0000</td>\n",
       "    </tr>\n",
       "    <tr>\n",
       "      <th>age</th>\n",
       "      <td>-0.4762</td>\n",
       "      <td>2.8420</td>\n",
       "      <td>-0.1676</td>\n",
       "      <td>0.8670</td>\n",
       "    </tr>\n",
       "    <tr>\n",
       "      <th>sex</th>\n",
       "      <td>-11.4070</td>\n",
       "      <td>2.9120</td>\n",
       "      <td>-3.9172</td>\n",
       "      <td>0.0001</td>\n",
       "    </tr>\n",
       "    <tr>\n",
       "      <th>bmi</th>\n",
       "      <td>24.7263</td>\n",
       "      <td>3.1647</td>\n",
       "      <td>7.8132</td>\n",
       "      <td>0.0000</td>\n",
       "    </tr>\n",
       "    <tr>\n",
       "      <th>bp</th>\n",
       "      <td>15.4297</td>\n",
       "      <td>3.1118</td>\n",
       "      <td>4.9584</td>\n",
       "      <td>0.0000</td>\n",
       "    </tr>\n",
       "    <tr>\n",
       "      <th>bs1</th>\n",
       "      <td>-37.6804</td>\n",
       "      <td>19.8196</td>\n",
       "      <td>-1.9012</td>\n",
       "      <td>0.0579</td>\n",
       "    </tr>\n",
       "  </tbody>\n",
       "</table>\n",
       "</div>"
      ],
      "text/plain": [
       "      Coefficient  Erreur-type  t-Student  P-value\n",
       "cons     152.1335       2.5759    59.0614   0.0000\n",
       "age       -0.4762       2.8420    -0.1676   0.8670\n",
       "sex      -11.4070       2.9120    -3.9172   0.0001\n",
       "bmi       24.7263       3.1647     7.8132   0.0000\n",
       "bp        15.4297       3.1118     4.9584   0.0000\n",
       "bs1      -37.6804      19.8196    -1.9012   0.0579"
      ]
     },
     "execution_count": 12,
     "metadata": {},
     "output_type": "execute_result"
    }
   ],
   "source": [
    "lin_coefs.loc[[\"cons\",\"age\", \"sex\", \"bmi\", \"bp\", \"bs1\"]]"
   ]
  },
  {
   "cell_type": "markdown",
   "metadata": {
    "collapsed": true,
    "slideshow": {
     "slide_type": "-"
    }
   },
   "source": [
    "Les *p-values* sont celles associées aux tests de Student. Par convention, lorsque la *p-value* est inférieure à 5% (0.05), la variable est dite \"statistiquement significative\"."
   ]
  },
  {
   "cell_type": "markdown",
   "metadata": {
    "slideshow": {
     "slide_type": "slide"
    }
   },
   "source": [
    "## 5.3 Mesure de performance\n",
    "\n",
    "***\n",
    "\n",
    "- L'objectif premier lors de l'estimation d'un modèle en apprentissage automatique est de faire de la prédiction.\n",
    "- Question : comment savoir si le modèle prédit bien?\n",
    "- Solution : l'**erreur quadratique moyenne** (*mean square errors, MSE*).\n",
    "\n",
    "$$MSE = \\frac{1}{n}\\sum_{i=1}^n(y_i - \\hat{y}_i)^2$$\n",
    "\n",
    "- Cette mesure permet de quantifier la qualité des prédictions de **tous les modèles de régression**. Elle permet donc de les comparer entre eux.\n",
    "- Une alternative est d'utiliser la racine carré de l'erreur quadratique moyenne (*root-mean-square error, RMSE*) qui à l'avantage d'être plus facilement interprétable.\n",
    "\n",
    "$$RMSE = \\sqrt{\\frac{1}{n}\\sum_{i=1}^n(y_i - \\hat{y}_i)^2}$$\n"
   ]
  },
  {
   "cell_type": "code",
   "execution_count": 13,
   "metadata": {
    "slideshow": {
     "slide_type": "slide"
    }
   },
   "outputs": [
    {
     "name": "stdout",
     "output_type": "stream",
     "text": [
      "MSE intra échantillon des MCO :  2859.69\n"
     ]
    }
   ],
   "source": [
    "lin_pred = lin_res.predict(diab_cov_con)\n",
    "print(\"MSE intra échantillon des MCO : \",\n",
    "      np.round(np.mean(np.square(dis_prog - lin_pred)), 3))"
   ]
  },
  {
   "cell_type": "markdown",
   "metadata": {
    "slideshow": {
     "slide_type": "-"
    }
   },
   "source": [
    "- La MSE est dite intra échantillon pour la différencier de la MSE hors échantillon, la véritable MSE d'intérêt qui est calculée sur le groupe test."
   ]
  },
  {
   "cell_type": "markdown",
   "metadata": {
    "slideshow": {
     "slide_type": "slide"
    }
   },
   "source": [
    "- L'erreur quadratique moyenne a la particularité de représenter simultanément le biais et la variance d'un modèle. Pour en faire la preuve, il est d'abord possible de définir le biais pour un estimateur $\\hat{g}(.)$ tel que :\n",
    "\n",
    "$$Biais[\\hat{g}(X)] = y - E[\\hat{g}(X)]$$\n",
    "\n",
    "et de définir la variance de cet estimateur telle que :\n",
    "\n",
    "$$V[\\hat{g}(X)] = E[\\hat{g}(X)^2] - E[\\hat{g}(X)]^2$$\n",
    "\n",
    "- Rappel également que pour une variable aléatoie $z$ :\n",
    "\n",
    "\\begin{aligned}\n",
    "V[z] & = E[z^2] - E[z]^2 \\\\\n",
    "\\Rightarrow E[z^2] & = V[z] + E[z]^2\n",
    "\\end{aligned}\n",
    "\n",
    "- Enfin, puisqu'un modèle de la forme $y = g(X) + \\varepsilon$ est spécifié, où $E[\\varepsilon] = 0$, il est possible d'effectuer la dérivation suivante :\n",
    "\n",
    "\\begin{aligned}\n",
    "V[y] & = E[(y - E[y])^2] \\\\\n",
    "& = E[(g(X) + \\varepsilon - g(X))^2] \\\\\n",
    "& = E[\\varepsilon^2] \\\\\n",
    "& = V[\\varepsilon] + E[\\varepsilon]^2 \\\\\n",
    "& = V[\\varepsilon] = \\sigma^2\n",
    "\\end{aligned}\n"
   ]
  },
  {
   "cell_type": "markdown",
   "metadata": {
    "slideshow": {
     "slide_type": "slide"
    }
   },
   "source": [
    "\\begin{aligned}\n",
    "MSE & = E[(y - \\hat{g}(X))^2] \\\\\n",
    "& = E\\left[y^2 - 2y\\hat{g}(X) + \\hat{g}(X))^2\\right] \\\\\n",
    "& = E[y^2] - E[2y\\hat{g}(X)] + E[\\hat{g}(X))^2] \\\\\n",
    "& = V[y] + E[y]^2 - 2E\\left[(g(X) + \\varepsilon)\\hat{g}(X)\\right] + V[\\hat{g}(X)] + E[\\hat{g}(X)]^2 \\\\\n",
    "& = V[y] + g(X)^2 - 2g(X)E[\\hat{g}(X)] + V[\\hat{g}(X)] + E[\\hat{g}(X)]^2 \\\\\n",
    "& = V[y] + V[\\hat{g}(X)] + \\left(g(X)^2 - 2g(X)E[\\hat{g}(X)] + E[\\hat{g}(X)]^2\\right) \\\\\n",
    "& = \\underbrace{\\sigma^2}_{\\text{erreur irréductible}} + \\underbrace{V[\\hat{g}(X)]}_{\\text{Variance de l'estimateur}} + \\underbrace{\\left(g(X) - E[\\hat{g}(X)\\right)^2}_{\\text{Biais de l'estimateur}}\n",
    "\\end{aligned}\n",
    "\n",
    "- Ainsi, la MSE est un arbitrage entre le biais d'un estimateur et sa variance."
   ]
  },
  {
   "cell_type": "markdown",
   "metadata": {
    "collapsed": true,
    "slideshow": {
     "slide_type": "slide"
    }
   },
   "source": [
    "- Il est possible de montrer que l'estimateur MCO est *BLUE* : *best linear unbiased estimator* (voir théorème Gauss-Markov).\n",
    "- Toutefois, sachant que la MSE est un arbitrage entre le biais et la variance, il pourrait être potentiellement avantageux pour la qualité des prédictions d'introduire un peu de biais afin de réduire la variance.\n",
    "- En effet, bien que les MCO soient sans biais, il arrive souvent qu'ils souffrent d'une variance importante, notamment à cause d'un problème de collinéarité.\n",
    "- Le **problème de collinéarité** survient lorsque deux variables explicatives sont fortement corrélées entre elles.\n",
    "- Conséquences : La variance de l'estimateur explose et l'estimation des coefficients est très sensible à la spécification du modèle.\n",
    "- Solutions :\n",
    "    1. Sélection des variables à introduire par un processus *stepwise*.\n",
    "    2. Régression par composantes principales (les composantes principales ont la propriété d'être orthogonales, c'est-à-dire non corrélées les unes aux autres).\n",
    "    3. Régressions contraintes.\n",
    "    \n",
    "\n",
    "- **Attention**, ne pas confondre le problème de collinéarité avec le problème de dépendance linéaire entre les variables explicatives (matrice $X$ qui n'est pas plein rang)."
   ]
  },
  {
   "cell_type": "markdown",
   "metadata": {
    "collapsed": true,
    "slideshow": {
     "slide_type": "slide"
    }
   },
   "source": [
    "## 5.4 Régressions contraintes\n",
    "\n",
    "***\n",
    "\n",
    "- Comme leur nom l'indique, les régressions contraintes imposent une contrainte sur le problème d'estimation des moindres carrés ordinaires.\n",
    "- Plus précisément, les régressions contraintes pénalisent les coefficients en fonction de leur taille et les contraingnant vers zéro.\n",
    "- Ceci permet de restreindre la variabilité des paramètres dans le cas des variables collinéaires et d'identifier les variables qui ne sont pas associées à la variable dépendante.\n",
    "\n",
    "- Les régressions contraintes possèdent donc deux avantages :\n",
    "    1. Permettent de réduire la variance et potentiellement la MSE.\n",
    "    2. Permettent de faire une sélection des variables explicatives d'intérêt.\n",
    "\n",
    "- Deux régressions contraintes sont présentées ici : la régression ridge et la régression LASSO.\n",
    "- **Attention**, les modèles de régressions contraintes nécessitent la normalisation/standardisation des données contenues dans $X$."
   ]
  },
  {
   "cell_type": "markdown",
   "metadata": {
    "collapsed": true,
    "slideshow": {
     "slide_type": "slide"
    }
   },
   "source": [
    "**Régression ridge**\n",
    "\n",
    "- la régression ridge impose une contrainte correspondant au carré des coefficients. Le problème de minimisation sous la régression ridge devient ainsi\n",
    "\n",
    "$$\\min_{\\beta} S = \\sum_{i=1}^n(y_i - \\sum_{j=1}^{k} \\beta_jx_{ij})^2 + \\alpha\\sum_{j=1}^k\\beta_j^2$$\n",
    "\n",
    "- Sous forme matricielle, ce problème devient\n",
    "\n",
    "$$\\min_{\\beta} S = (y - X\\beta)'(y - X\\beta) + \\alpha\\mid\\mid\\beta\\mid\\mid_2 $$\n",
    "\n",
    "où $\\alpha$ est un paramètre de complexité déterminant le niveau de contrainte. Si $\\alpha = 0$, les MCO sont retrouvés. Avec $\\alpha \\rightarrow 0$, tous les cofficients tendent vers zéro et le modèle calcul simplement une moyenne.\n",
    "- À remarquer, la somme sur les $\\beta$ commence à un plutôt qu'à zéro puisque la contrainte doit-être imposée sur les coefficients des variables. Or $\\beta_0$ capte l'intercept du modèle. Deux choix s'offrent alors :\n",
    "    1. Centrer $y$ afin qu'il soit de moyenne zéro tel que $\\tilde{y}_i = y_i - \\bar{y}$. \n",
    "    2. Calculer $\\beta_0$ séparemment tel que $\\beta_0 = \\frac{1}{n}\\sum_{i=1}^ny_i$.\n",
    "- À noter également que $\\alpha$ n'est pas estimé, mais choisi par l'analyste. C'est un hyperparamètre."
   ]
  },
  {
   "cell_type": "markdown",
   "metadata": {
    "collapsed": true,
    "slideshow": {
     "slide_type": "slide"
    }
   },
   "source": [
    "- Le problème de minimisation de la régression ridge se résout de façon similaire à celui des MCO :\n",
    "\n",
    "\\begin{aligned}\n",
    "\\frac{\\partial S}{\\partial\\beta} \\Rightarrow -2X'y + 2X'X\\beta + 2\\alpha\\beta & = 0 \\\\\n",
    "2\\beta(X'X+ \\alpha I) & = 2X'y \\\\\n",
    "\\hat{\\beta} & = (X'X+ \\alpha I)^{-1}X'y\n",
    "\\end{aligned}\n",
    "\n",
    "où $I$ est la matrice identité de taille $k \\times k$.\n",
    "\n",
    "- À noter que l'addition de $\\alpha I$ à $X'X$ fait en sorte que même si $X$ n'est pas de plein rang, l'inversion de la matrice peut tout de même être fait (historique, c'est la cause du développement de cette méthode).\n",
    "- Ceci implique aussi que même s'il existe plus de variables que d'observations, la matrice $(X'X+ \\alpha I)$ peut être inversée."
   ]
  },
  {
   "cell_type": "markdown",
   "metadata": {
    "slideshow": {
     "slide_type": "slide"
    }
   },
   "source": [
    "- Application sur les données de diabètes :"
   ]
  },
  {
   "cell_type": "code",
   "execution_count": 14,
   "metadata": {
    "slideshow": {
     "slide_type": "-"
    }
   },
   "outputs": [
    {
     "name": "stdout",
     "output_type": "stream",
     "text": [
      "Intercept du modèle :  152.133\n"
     ]
    }
   ],
   "source": [
    "from sklearn.linear_model import Ridge\n",
    "\n",
    "# Paramétrisation de la régression ridge\n",
    "reg_ridge = Ridge(alpha = 1, fit_intercept = True)\n",
    "\n",
    "# Estimation de la régression ridge\n",
    "ridge_res = reg_ridge.fit(diab_cov, dis_prog)\n",
    "print(\"Intercept du modèle : \", np.round(ridge_res.intercept_, 3))"
   ]
  },
  {
   "cell_type": "markdown",
   "metadata": {
    "slideshow": {
     "slide_type": "slide"
    }
   },
   "source": [
    "- Coefficients :"
   ]
  },
  {
   "cell_type": "code",
   "execution_count": 15,
   "metadata": {},
   "outputs": [
    {
     "data": {
      "text/html": [
       "<div>\n",
       "<style>\n",
       "    .dataframe thead tr:only-child th {\n",
       "        text-align: right;\n",
       "    }\n",
       "\n",
       "    .dataframe thead th {\n",
       "        text-align: left;\n",
       "    }\n",
       "\n",
       "    .dataframe tbody tr th {\n",
       "        vertical-align: top;\n",
       "    }\n",
       "</style>\n",
       "<table border=\"1\" class=\"dataframe\">\n",
       "  <thead>\n",
       "    <tr style=\"text-align: right;\">\n",
       "      <th></th>\n",
       "      <th>Coef. Ridge</th>\n",
       "      <th>Coef. Lin.</th>\n",
       "    </tr>\n",
       "    <tr>\n",
       "      <th>variables</th>\n",
       "      <th></th>\n",
       "      <th></th>\n",
       "    </tr>\n",
       "  </thead>\n",
       "  <tbody>\n",
       "    <tr>\n",
       "      <th>age</th>\n",
       "      <td>-0.431276</td>\n",
       "      <td>-0.4762</td>\n",
       "    </tr>\n",
       "    <tr>\n",
       "      <th>sex</th>\n",
       "      <td>-11.3338</td>\n",
       "      <td>-11.407</td>\n",
       "    </tr>\n",
       "    <tr>\n",
       "      <th>bmi</th>\n",
       "      <td>24.771</td>\n",
       "      <td>24.7263</td>\n",
       "    </tr>\n",
       "    <tr>\n",
       "      <th>bp</th>\n",
       "      <td>15.3738</td>\n",
       "      <td>15.4297</td>\n",
       "    </tr>\n",
       "    <tr>\n",
       "      <th>bs1</th>\n",
       "      <td>-30.0886</td>\n",
       "      <td>-37.6804</td>\n",
       "    </tr>\n",
       "  </tbody>\n",
       "</table>\n",
       "</div>"
      ],
      "text/plain": [
       "          Coef. Ridge Coef. Lin.\n",
       "variables                       \n",
       "age         -0.431276    -0.4762\n",
       "sex          -11.3338    -11.407\n",
       "bmi            24.771    24.7263\n",
       "bp            15.3738    15.4297\n",
       "bs1          -30.0886   -37.6804"
      ]
     },
     "execution_count": 15,
     "metadata": {},
     "output_type": "execute_result"
    }
   ],
   "source": [
    "ridge_coefs = pd.DataFrame(np.array([diab_cov.columns,\n",
    "                                     ridge_res.coef_,\n",
    "                                     lin_coefs.iloc[1:, 0]]).T,\n",
    "                           columns = [\"variables\", \"Coef. Ridge\", \"Coef. Lin.\"])\n",
    "ridge_coefs = ridge_coefs.set_index(\"variables\")\n",
    "ridge_coefs.iloc[0:5, :]"
   ]
  },
  {
   "cell_type": "markdown",
   "metadata": {
    "slideshow": {
     "slide_type": "-"
    }
   },
   "source": [
    "- Il est possible de constater que les coefficients de la régression ridge sont tous plus petits que la régression linéaire. C'est le résultat de la contrainte sur les coefficients.\n",
    "- Quiz : Que peut-on également comparer entre les deux modèles pour évaluer leur performance?"
   ]
  },
  {
   "cell_type": "markdown",
   "metadata": {
    "slideshow": {
     "slide_type": "slide"
    }
   },
   "source": [
    "- La MSE intra échantillon :"
   ]
  },
  {
   "cell_type": "code",
   "execution_count": 16,
   "metadata": {},
   "outputs": [
    {
     "name": "stdout",
     "output_type": "stream",
     "text": [
      "MSE intra échantillon de la régression ridge :  2860.676\n"
     ]
    }
   ],
   "source": [
    "ridge_pred = reg_ridge.predict(diab_cov)\n",
    "print(\"MSE intra échantillon de la régression ridge : \",\n",
    "      np.round(np.mean(np.square(dis_prog - ridge_pred)), 3))"
   ]
  },
  {
   "cell_type": "markdown",
   "metadata": {
    "slideshow": {
     "slide_type": "-"
    }
   },
   "source": [
    "- Très semblable à ce qui a été obtenu avec les MCO (2859.69). Toutefois, ce résultats est pour $\\alpha = 1$. Peut-être est-il possible de faire mieux avec une autre valeur de $\\alpha$."
   ]
  },
  {
   "cell_type": "markdown",
   "metadata": {
    "slideshow": {
     "slide_type": "slide"
    }
   },
   "source": [
    "- Comportement de la régression lorsque $\\alpha$ prend différentes valeurs."
   ]
  },
  {
   "cell_type": "code",
   "execution_count": 75,
   "metadata": {
    "collapsed": true,
    "slideshow": {
     "slide_type": "-"
    }
   },
   "outputs": [],
   "source": [
    "alpha = np.arange(0, 3, 0.05)\n",
    "\n",
    "coefs =[]\n",
    "mse = []\n",
    "\n",
    "for a in alpha :\n",
    "    # Estimation de la regression\n",
    "    temp_ridge = Ridge(alpha = a, fit_intercept = True)\n",
    "    temp_res = temp_ridge.fit(diab_cov, dis_prog)\n",
    "    \n",
    "    # Estimation des valeurs\n",
    "    coefs_temp = temp_res.coef_\n",
    "    mse_temp = np.mean(np.square(dis_prog -\n",
    "                                 temp_ridge.predict(diab_cov)))\n",
    "    \n",
    "    # Entreprosage des valeurs\n",
    "    coefs.append(coefs_temp)\n",
    "    mse.append(mse_temp)"
   ]
  },
  {
   "cell_type": "code",
   "execution_count": 76,
   "metadata": {
    "slideshow": {
     "slide_type": "slide"
    }
   },
   "outputs": [
    {
     "data": {
      "image/png": "[encoded data removed]",
      "text/plain": [
       "<matplotlib.figure.Figure at 0x11a861208>"
      ]
     },
     "metadata": {},
     "output_type": "display_data"
    }
   ],
   "source": [
    "plt.plot(alpha, mse, color = \"orange\")\n",
    "plt.xlabel(\"alpha\"); plt.ylabel(\"MSE\")\n",
    "plt.title(\"Regression ridge\")\n",
    "plt.show()"
   ]
  },
  {
   "cell_type": "markdown",
   "metadata": {
    "slideshow": {
     "slide_type": "-"
    }
   },
   "source": [
    "- Dans ce cas particulier, il semble que la régression ridge ne puisse faire mieux que la régression linéaire.\n",
    "- Quiz : Qu'est-ce qui pourrait expliquer ce résultat?"
   ]
  },
  {
   "cell_type": "markdown",
   "metadata": {
    "slideshow": {
     "slide_type": "slide"
    }
   },
   "source": [
    "- Matrice de corrélation entre les variables explicatives :"
   ]
  },
  {
   "cell_type": "code",
   "execution_count": 92,
   "metadata": {},
   "outputs": [
    {
     "data": {
      "text/html": [
       "<div>\n",
       "<style>\n",
       "    .dataframe thead tr:only-child th {\n",
       "        text-align: right;\n",
       "    }\n",
       "\n",
       "    .dataframe thead th {\n",
       "        text-align: left;\n",
       "    }\n",
       "\n",
       "    .dataframe tbody tr th {\n",
       "        vertical-align: top;\n",
       "    }\n",
       "</style>\n",
       "<table border=\"1\" class=\"dataframe\">\n",
       "  <thead>\n",
       "    <tr style=\"text-align: right;\">\n",
       "      <th></th>\n",
       "      <th>age</th>\n",
       "      <th>sex</th>\n",
       "      <th>bmi</th>\n",
       "      <th>bp</th>\n",
       "      <th>bs1</th>\n",
       "      <th>bs2</th>\n",
       "      <th>bs3</th>\n",
       "      <th>bs4</th>\n",
       "      <th>bs5</th>\n",
       "      <th>bs6</th>\n",
       "    </tr>\n",
       "  </thead>\n",
       "  <tbody>\n",
       "    <tr>\n",
       "      <th>age</th>\n",
       "      <td>1.00</td>\n",
       "      <td>0.17</td>\n",
       "      <td>0.19</td>\n",
       "      <td>0.34</td>\n",
       "      <td>0.26</td>\n",
       "      <td>0.22</td>\n",
       "      <td>-0.08</td>\n",
       "      <td>0.20</td>\n",
       "      <td>0.27</td>\n",
       "      <td>0.30</td>\n",
       "    </tr>\n",
       "    <tr>\n",
       "      <th>sex</th>\n",
       "      <td>0.17</td>\n",
       "      <td>1.00</td>\n",
       "      <td>0.09</td>\n",
       "      <td>0.24</td>\n",
       "      <td>0.04</td>\n",
       "      <td>0.14</td>\n",
       "      <td>-0.38</td>\n",
       "      <td>0.33</td>\n",
       "      <td>0.15</td>\n",
       "      <td>0.21</td>\n",
       "    </tr>\n",
       "    <tr>\n",
       "      <th>bmi</th>\n",
       "      <td>0.19</td>\n",
       "      <td>0.09</td>\n",
       "      <td>1.00</td>\n",
       "      <td>0.40</td>\n",
       "      <td>0.25</td>\n",
       "      <td>0.26</td>\n",
       "      <td>-0.37</td>\n",
       "      <td>0.41</td>\n",
       "      <td>0.45</td>\n",
       "      <td>0.39</td>\n",
       "    </tr>\n",
       "    <tr>\n",
       "      <th>bp</th>\n",
       "      <td>0.34</td>\n",
       "      <td>0.24</td>\n",
       "      <td>0.40</td>\n",
       "      <td>1.00</td>\n",
       "      <td>0.24</td>\n",
       "      <td>0.19</td>\n",
       "      <td>-0.18</td>\n",
       "      <td>0.26</td>\n",
       "      <td>0.39</td>\n",
       "      <td>0.39</td>\n",
       "    </tr>\n",
       "    <tr>\n",
       "      <th>bs1</th>\n",
       "      <td>0.26</td>\n",
       "      <td>0.04</td>\n",
       "      <td>0.25</td>\n",
       "      <td>0.24</td>\n",
       "      <td>1.00</td>\n",
       "      <td>0.90</td>\n",
       "      <td>0.05</td>\n",
       "      <td>0.54</td>\n",
       "      <td>0.52</td>\n",
       "      <td>0.33</td>\n",
       "    </tr>\n",
       "    <tr>\n",
       "      <th>bs2</th>\n",
       "      <td>0.22</td>\n",
       "      <td>0.14</td>\n",
       "      <td>0.26</td>\n",
       "      <td>0.19</td>\n",
       "      <td>0.90</td>\n",
       "      <td>1.00</td>\n",
       "      <td>-0.20</td>\n",
       "      <td>0.66</td>\n",
       "      <td>0.32</td>\n",
       "      <td>0.29</td>\n",
       "    </tr>\n",
       "    <tr>\n",
       "      <th>bs3</th>\n",
       "      <td>-0.08</td>\n",
       "      <td>-0.38</td>\n",
       "      <td>-0.37</td>\n",
       "      <td>-0.18</td>\n",
       "      <td>0.05</td>\n",
       "      <td>-0.20</td>\n",
       "      <td>1.00</td>\n",
       "      <td>-0.74</td>\n",
       "      <td>-0.40</td>\n",
       "      <td>-0.27</td>\n",
       "    </tr>\n",
       "    <tr>\n",
       "      <th>bs4</th>\n",
       "      <td>0.20</td>\n",
       "      <td>0.33</td>\n",
       "      <td>0.41</td>\n",
       "      <td>0.26</td>\n",
       "      <td>0.54</td>\n",
       "      <td>0.66</td>\n",
       "      <td>-0.74</td>\n",
       "      <td>1.00</td>\n",
       "      <td>0.62</td>\n",
       "      <td>0.42</td>\n",
       "    </tr>\n",
       "    <tr>\n",
       "      <th>bs5</th>\n",
       "      <td>0.27</td>\n",
       "      <td>0.15</td>\n",
       "      <td>0.45</td>\n",
       "      <td>0.39</td>\n",
       "      <td>0.52</td>\n",
       "      <td>0.32</td>\n",
       "      <td>-0.40</td>\n",
       "      <td>0.62</td>\n",
       "      <td>1.00</td>\n",
       "      <td>0.46</td>\n",
       "    </tr>\n",
       "    <tr>\n",
       "      <th>bs6</th>\n",
       "      <td>0.30</td>\n",
       "      <td>0.21</td>\n",
       "      <td>0.39</td>\n",
       "      <td>0.39</td>\n",
       "      <td>0.33</td>\n",
       "      <td>0.29</td>\n",
       "      <td>-0.27</td>\n",
       "      <td>0.42</td>\n",
       "      <td>0.46</td>\n",
       "      <td>1.00</td>\n",
       "    </tr>\n",
       "  </tbody>\n",
       "</table>\n",
       "</div>"
      ],
      "text/plain": [
       "      age   sex   bmi    bp   bs1   bs2   bs3   bs4   bs5   bs6\n",
       "age  1.00  0.17  0.19  0.34  0.26  0.22 -0.08  0.20  0.27  0.30\n",
       "sex  0.17  1.00  0.09  0.24  0.04  0.14 -0.38  0.33  0.15  0.21\n",
       "bmi  0.19  0.09  1.00  0.40  0.25  0.26 -0.37  0.41  0.45  0.39\n",
       "bp   0.34  0.24  0.40  1.00  0.24  0.19 -0.18  0.26  0.39  0.39\n",
       "bs1  0.26  0.04  0.25  0.24  1.00  0.90  0.05  0.54  0.52  0.33\n",
       "bs2  0.22  0.14  0.26  0.19  0.90  1.00 -0.20  0.66  0.32  0.29\n",
       "bs3 -0.08 -0.38 -0.37 -0.18  0.05 -0.20  1.00 -0.74 -0.40 -0.27\n",
       "bs4  0.20  0.33  0.41  0.26  0.54  0.66 -0.74  1.00  0.62  0.42\n",
       "bs5  0.27  0.15  0.45  0.39  0.52  0.32 -0.40  0.62  1.00  0.46\n",
       "bs6  0.30  0.21  0.39  0.39  0.33  0.29 -0.27  0.42  0.46  1.00"
      ]
     },
     "execution_count": 92,
     "metadata": {},
     "output_type": "execute_result"
    }
   ],
   "source": [
    "import numpy as np\n",
    "import pandas as pd\n",
    "\n",
    "pd.DataFrame(np.round(np.corrcoef(diab_cov.T), 2),\n",
    "             columns = diab_cov.columns,\n",
    "             index = diab_cov.columns)"
   ]
  },
  {
   "cell_type": "markdown",
   "metadata": {
    "slideshow": {
     "slide_type": "slide"
    }
   },
   "source": [
    "**Régression LASSO**\n",
    "\n",
    "- La régression LASSO (pour *Least Absolute Shrinkage and Selection Operator*).\n",
    "- La régression LASSO impose une contrainte correspondant à la valeur absolue des coefficients.\n",
    "- Le problème de minimisation sous la régression LASSO devient ainsi\n",
    "\n",
    "$$\\min_{\\beta} S = \\sum_{i=1}^n(y_i - \\sum_{j=1}^{k} \\beta_jx_{ij})^2 + \\alpha\\sum_{j=1}^k\\mid\\beta_j\\mid$$\n",
    "\n",
    "- Sous forme matricielle, ce problème devient\n",
    "\n",
    "$$\\min_{\\beta} S = (y - X\\beta)'(y - X\\beta) + \\alpha\\mid\\mid\\beta\\mid\\mid_1 $$\n",
    "\n",
    "où $\\alpha$ est encore une fois un paramètre de complexité déterminant le niveau de contrainte.\n",
    "- Étant donné la structure de la contrainte, il n'existe pas de solution analytique pour la régression LASSO (il n'est pas possible de solutionner le problème tel que $\\hat{\\beta} = ...$). Le problème est solutionné par des algorithmes qui permettent de résoudre ce genre de problèmes d'optimisation.\n",
    "- Tandis que la régression ridge fait tendre les coefficients vers zéro, la régression LASSO égalise certains d'entre eux à zéro même lorsque $\\alpha < \\infty$."
   ]
  },
  {
   "cell_type": "code",
   "execution_count": 19,
   "metadata": {
    "slideshow": {
     "slide_type": "slide"
    }
   },
   "outputs": [
    {
     "data": {
      "text/plain": [
       "152.13"
      ]
     },
     "execution_count": 19,
     "metadata": {},
     "output_type": "execute_result"
    }
   ],
   "source": [
    "from sklearn.linear_model import Lasso\n",
    "\n",
    "# Paramétrisation de la régression LASSO\n",
    "reg_lasso = Lasso(alpha = 1, fit_intercept = True)\n",
    "\n",
    "# Estimation de la régression LASSO\n",
    "lasso_res = reg_lasso.fit(diab_cov, dis_prog)\n",
    "\n",
    "# Intercept\n",
    "np.round(lasso_res.intercept_, 2)"
   ]
  },
  {
   "cell_type": "markdown",
   "metadata": {
    "slideshow": {
     "slide_type": "-"
    }
   },
   "source": [
    "- L'intercept est le même que pour la régression ridge, ce qui est cohérent."
   ]
  },
  {
   "cell_type": "code",
   "execution_count": 20,
   "metadata": {
    "slideshow": {
     "slide_type": "slide"
    }
   },
   "outputs": [
    {
     "data": {
      "text/html": [
       "<div>\n",
       "<style>\n",
       "    .dataframe thead tr:only-child th {\n",
       "        text-align: right;\n",
       "    }\n",
       "\n",
       "    .dataframe thead th {\n",
       "        text-align: left;\n",
       "    }\n",
       "\n",
       "    .dataframe tbody tr th {\n",
       "        vertical-align: top;\n",
       "    }\n",
       "</style>\n",
       "<table border=\"1\" class=\"dataframe\">\n",
       "  <thead>\n",
       "    <tr style=\"text-align: right;\">\n",
       "      <th></th>\n",
       "      <th>Coef. Lasso</th>\n",
       "      <th>Coef. Ridge</th>\n",
       "      <th>Coef. Lin.</th>\n",
       "    </tr>\n",
       "    <tr>\n",
       "      <th>variables</th>\n",
       "      <th></th>\n",
       "      <th></th>\n",
       "      <th></th>\n",
       "    </tr>\n",
       "  </thead>\n",
       "  <tbody>\n",
       "    <tr>\n",
       "      <th>age</th>\n",
       "      <td>-0</td>\n",
       "      <td>-0.431276</td>\n",
       "      <td>-0.4762</td>\n",
       "    </tr>\n",
       "    <tr>\n",
       "      <th>sex</th>\n",
       "      <td>-9.31956</td>\n",
       "      <td>-11.3338</td>\n",
       "      <td>-11.407</td>\n",
       "    </tr>\n",
       "    <tr>\n",
       "      <th>bmi</th>\n",
       "      <td>24.831</td>\n",
       "      <td>24.771</td>\n",
       "      <td>24.7263</td>\n",
       "    </tr>\n",
       "    <tr>\n",
       "      <th>bp</th>\n",
       "      <td>14.089</td>\n",
       "      <td>15.3738</td>\n",
       "      <td>15.4297</td>\n",
       "    </tr>\n",
       "    <tr>\n",
       "      <th>bs1</th>\n",
       "      <td>-4.83897</td>\n",
       "      <td>-30.0886</td>\n",
       "      <td>-37.6804</td>\n",
       "    </tr>\n",
       "  </tbody>\n",
       "</table>\n",
       "</div>"
      ],
      "text/plain": [
       "          Coef. Lasso Coef. Ridge Coef. Lin.\n",
       "variables                                   \n",
       "age                -0   -0.431276    -0.4762\n",
       "sex          -9.31956    -11.3338    -11.407\n",
       "bmi            24.831      24.771    24.7263\n",
       "bp             14.089     15.3738    15.4297\n",
       "bs1          -4.83897    -30.0886   -37.6804"
      ]
     },
     "execution_count": 20,
     "metadata": {},
     "output_type": "execute_result"
    }
   ],
   "source": [
    "lasso_coefs = pd.DataFrame(np.array([diab_cov.columns,\n",
    "                                     lasso_res.coef_,\n",
    "                                     ridge_res.coef_,\n",
    "                                     lin_coefs.iloc[1:, 0]]).T,\n",
    "                           columns = [\"variables\", \"Coef. Lasso\",\n",
    "                                      \"Coef. Ridge\", \"Coef. Lin.\"])\n",
    "lasso_coefs = lasso_coefs.set_index(\"variables\")\n",
    "lasso_coefs.iloc[0:5, :]"
   ]
  },
  {
   "cell_type": "markdown",
   "metadata": {
    "slideshow": {
     "slide_type": "-"
    }
   },
   "source": [
    "- Tel qu'attendu, certains des coefficients de la régression LASSO ont été contraints à zéro. C'est l'avantage de cette régression : elle permet une sélection des variables."
   ]
  },
  {
   "cell_type": "markdown",
   "metadata": {
    "slideshow": {
     "slide_type": "slide"
    }
   },
   "source": [
    "- La MSE :"
   ]
  },
  {
   "cell_type": "code",
   "execution_count": 21,
   "metadata": {
    "slideshow": {
     "slide_type": "-"
    }
   },
   "outputs": [
    {
     "name": "stdout",
     "output_type": "stream",
     "text": [
      "MSE de la régression LASSO :  2886.164\n"
     ]
    }
   ],
   "source": [
    "lasso_pred = reg_lasso.predict(diab_cov)\n",
    "print(\"MSE de la régression LASSO : \",\n",
    "      np.round(np.mean(np.square(dis_prog - lasso_pred)), 3))"
   ]
  },
  {
   "cell_type": "markdown",
   "metadata": {
    "slideshow": {
     "slide_type": "-"
    }
   },
   "source": [
    "- Résultat légèrement plus élevé que pour la régression ridge (2860.68) et des MCO (2859.69). Par contre, si la dimensionnalité était également un enjeu, la régression LASSO pourrait tout de même être intéressante pour cet exemple."
   ]
  },
  {
   "cell_type": "markdown",
   "metadata": {
    "slideshow": {
     "slide_type": "slide"
    }
   },
   "source": [
    "- Comportement de la régression lorsque $\\alpha$ prend différentes valeurs."
   ]
  },
  {
   "cell_type": "code",
   "execution_count": 22,
   "metadata": {
    "collapsed": true,
    "slideshow": {
     "slide_type": "-"
    }
   },
   "outputs": [],
   "source": [
    "alpha = np.arange(1e-10, 10, 0.005)\n",
    "\n",
    "coefs =[]\n",
    "mse = []\n",
    "\n",
    "for a in alpha :\n",
    "    # Estimation de la regression\n",
    "    temp_lasso = Lasso(alpha = a, fit_intercept = True, max_iter=1e5)\n",
    "    temp_res = temp_lasso.fit(diab_cov, dis_prog)\n",
    "    \n",
    "    # Estimation des valeurs\n",
    "    coefs_temp = temp_res.coef_\n",
    "    mse_temp = np.mean(np.square(dis_prog - temp_lasso.predict(diab_cov)))\n",
    "    \n",
    "    # Entreprosage des valeurs\n",
    "    coefs.append(coefs_temp)\n",
    "    mse.append(mse_temp)"
   ]
  },
  {
   "cell_type": "code",
   "execution_count": 23,
   "metadata": {
    "slideshow": {
     "slide_type": "slide"
    }
   },
   "outputs": [
    {
     "data": {
      "image/png": "[encoded data removed]",
      "text/plain": [
       "<matplotlib.figure.Figure at 0x113f6ccc0>"
      ]
     },
     "metadata": {},
     "output_type": "display_data"
    }
   ],
   "source": [
    "plt.plot(alpha, mse, color = \"orange\")\n",
    "plt.xlabel(\"alpha\"); plt.ylabel(\"MSE\")\n",
    "plt.title(\"Regression LASSO\")\n",
    "plt.show()"
   ]
  },
  {
   "cell_type": "code",
   "execution_count": 24,
   "metadata": {
    "slideshow": {
     "slide_type": "slide"
    }
   },
   "outputs": [
    {
     "data": {
      "image/png": "[encoded data removed]",
      "text/plain": [
       "<matplotlib.figure.Figure at 0x113e5f710>"
      ]
     },
     "metadata": {},
     "output_type": "display_data"
    }
   ],
   "source": [
    "coefs_lasso = pd.DataFrame(coefs, columns = col_names)\n",
    "fig = plt.figure(figsize = (8, 8))\n",
    "ax = fig.add_subplot(111)\n",
    "for col in col_names :\n",
    "    ax.plot(alpha, coefs_lasso[col])\n",
    "    ax.text(0.1, coefs_lasso[col][0], col, size = 12)\n",
    "plt.show()"
   ]
  },
  {
   "cell_type": "markdown",
   "metadata": {
    "slideshow": {
     "slide_type": "slide"
    }
   },
   "source": [
    "En somme :\n",
    "\n",
    "- Les modèles de régressions contraintes permettent de profiter de l'arbitrage entre le biais et la variance qui composent la MSE.\n",
    "- Ils introduisent du biais afin de réduire la variance du modèle.\n",
    "- La régression ridge contraint la taille des coefficients tandis que la régression LASSO peut définir certains paramètres à zéro.\n",
    "- Ces modèles sont utiles en présence de collinéarité et de grande dimensionnalité.\n",
    "- Ils ont également la propriété de facilité la sélection de variables explicatives influentes."
   ]
  },
  {
   "cell_type": "markdown",
   "metadata": {
    "slideshow": {
     "slide_type": "slide"
    }
   },
   "source": [
    "## 5.5 Validation croisée\n",
    "\n",
    "***\n",
    "\n",
    "- La méthode de validation croisée (*cross-validation*) sert à mesurer la qualité des prédictions d'un modèle en évitant le surapprentissage.\n",
    "- Elle sert également à sélectionner les hyperparamètres tels que ceux présentés dans les modèles de régressions contraintes.\n",
    "- La validation croisée estime le modèle sur une partie des données puis mesure la qualité des prédictions sur les données restantes. Il s'agit d'une méthode d'échantillonage.\n",
    "- Il existe plusieurs méthodes de validation croisée $\\rightarrow$ L'une d'entre elles a déjà été presentée : le partitionnement des données.\n",
    "- L'autre méthode de validation croisée souvent utilisée est la validation croisée avec k échantillons (*k-fold cross-validation*)."
   ]
  },
  {
   "cell_type": "markdown",
   "metadata": {
    "slideshow": {
     "slide_type": "slide"
    }
   },
   "source": [
    "**Estimation de modèles**\n",
    "\n",
    "- La validation croisée divise l'échantillon des données en $k$ groupes de taille égale.\n",
    "- Elle estime ensuite un modèle sur $k-1$ groupes et mesure la performance de celui-ci sur le $k$ ième groupe restant à l'aide d'un critère de performance quelconque, la MSE par exemple :\n",
    "\n",
    "$$MSE_{CV} = \\frac{1}{N_k}\\sum_{i=1}^{N_k}(y_i-\\hat{g}(x_i))^2$$\n",
    "\n",
    "où $n_k$ est le nombre d'observations contenues dans le groupe $k$ utilisé pour mesurer la performance du modèle.\n",
    "\n",
    "- La performance du modèle estimée par la validation croisée est la moyenne des performances estimées pour chacun des groupes.\n",
    "- Cette méthode permet ainsi de tester différentes spécifications en évitant le surapprentissage.\n",
    "- Le nombre de groupes est généralement de 5 ou de 10."
   ]
  },
  {
   "cell_type": "markdown",
   "metadata": {
    "slideshow": {
     "slide_type": "slide"
    }
   },
   "source": [
    "- Le cas de la régression linéaire :"
   ]
  },
  {
   "cell_type": "code",
   "execution_count": 25,
   "metadata": {
    "slideshow": {
     "slide_type": "-"
    }
   },
   "outputs": [
    {
     "name": "stdout",
     "output_type": "stream",
     "text": [
      "MSE pour les k groupes : [ 2533.85  2870.77  3512.72  2759.23  3555.68  2900.38  3696.28  2282.28\n",
      "  4122.94  1769.68]\n",
      "MSE CV : 3000.38\n"
     ]
    }
   ],
   "source": [
    "from sklearn.linear_model import LinearRegression\n",
    "from sklearn.model_selection import cross_val_score\n",
    "\n",
    "# Spécification de la régression linéaire\n",
    "reg_lin = LinearRegression()\n",
    "\n",
    "# Évaluation de la régression linéaire par validation croisée\n",
    "lin_mse_cv = cross_val_score(reg_lin, diab_cov, dis_prog,\n",
    "                         cv = 10, scoring = \"neg_mean_squared_error\")\n",
    "print(\"MSE pour les k groupes :\",np.round(-1 * lin_mse_cv, 2))\n",
    "print(\"MSE CV :\", np.round(np.mean(-1 * lin_mse_cv), 2))"
   ]
  },
  {
   "cell_type": "markdown",
   "metadata": {
    "slideshow": {
     "slide_type": "-"
    }
   },
   "source": [
    "- Il est possible de voir que la MSE estimée par validation croisée est plus élevée que celle estimée sur tout l'échantillon (2859.69). Ce résultat n'a rien de surprenant et permet de rappeler l'importance de valider le modèle sur des données autres que celles sur lesquelles il a été entrainé.\n",
    "- À noter que la fonction `cross_val_score` retourne une valeur négative de la MSE afin de pouvoir utiliser l'output de cette fonction à des fins de maximisation."
   ]
  },
  {
   "cell_type": "markdown",
   "metadata": {
    "slideshow": {
     "slide_type": "slide"
    }
   },
   "source": [
    "**Sélection des hyperparamètres**\n",
    "\n",
    "- Si la fonction $\\hat{g}(.)$ dépend d'un hyperparamètre, la validation croisée peut également être utilisée pour faire la sélection de celui-ci.\n",
    "- Nécessite la spécification d'une série d'hyperparamètres candidats, soit choisis par l'analyste, soit sélectionnés de façon aléatoire.\n",
    "- Ainsi, pour chaque hyperparamètre candidat, la validation croisée estime la performance du modèle sur les k groupes et retourne le critère de performance moyen."
   ]
  },
  {
   "cell_type": "markdown",
   "metadata": {
    "slideshow": {
     "slide_type": "slide"
    }
   },
   "source": [
    "Le cas de la régression LASSO :"
   ]
  },
  {
   "cell_type": "code",
   "execution_count": 81,
   "metadata": {
    "slideshow": {
     "slide_type": "-"
    }
   },
   "outputs": [
    {
     "data": {
      "text/plain": [
       "{'alpha': 1}"
      ]
     },
     "execution_count": 81,
     "metadata": {},
     "output_type": "execute_result"
    }
   ],
   "source": [
    "import numpy as np\n",
    "from sklearn.linear_model import Lasso\n",
    "from sklearn.model_selection import GridSearchCV\n",
    "\n",
    "# Définissions des paramètres à explorer\n",
    "params = {\"alpha\" : [1e-5, 1e-4, 1e-3, 1e-2, 0.1, 1, 1.5, 2, 5, 10]}\n",
    "\n",
    "# Estimation du modèle\n",
    "lasso_cv = GridSearchCV(Lasso(), params, cv = 10,\n",
    "                        scoring=\"neg_mean_squared_error\")\n",
    "lasso_cv.fit(diab_cov, dis_prog)\n",
    "lasso_cv.best_params_"
   ]
  },
  {
   "cell_type": "code",
   "execution_count": 82,
   "metadata": {
    "slideshow": {
     "slide_type": "-"
    }
   },
   "outputs": [
    {
     "name": "stdout",
     "output_type": "stream",
     "text": [
      "MSE CV : 2987.17\n"
     ]
    }
   ],
   "source": [
    "print(\"MSE CV :\", -1 * np.round(lasso_cv.best_score_, 2))"
   ]
  },
  {
   "cell_type": "markdown",
   "metadata": {
    "slideshow": {
     "slide_type": "slide"
    }
   },
   "source": [
    "- Certains modèles ont été optimisés en intégrant directement la validation croisée dans la commande de SciKit-Learn. C'est le cas par exemple de la régression LASSO :"
   ]
  },
  {
   "cell_type": "code",
   "execution_count": 28,
   "metadata": {
    "collapsed": true,
    "slideshow": {
     "slide_type": "-"
    }
   },
   "outputs": [],
   "source": [
    "import numpy as np\n",
    "from sklearn.linear_model import LassoCV\n",
    "\n",
    "cv_lasso = LassoCV(fit_intercept = True, cv = 10)\n",
    "\n",
    "# Estimation de la régression LASSO\n",
    "lasso_cv = cv_lasso.fit(diab_cov, dis_prog)"
   ]
  },
  {
   "cell_type": "code",
   "execution_count": 29,
   "metadata": {
    "slideshow": {
     "slide_type": "slide"
    }
   },
   "outputs": [
    {
     "data": {
      "image/png": "[encoded data removed]",
      "text/plain": [
       "<matplotlib.figure.Figure at 0x116a6b828>"
      ]
     },
     "metadata": {},
     "output_type": "display_data"
    }
   ],
   "source": [
    "plt.plot(lasso_cv.alphas_, lasso_cv.mse_path_.mean(axis = 1),\n",
    "         color = \"orange\")\n",
    "plt.xlabel(\"alpha\"); plt.ylabel(\"MSE\")\n",
    "plt.title(\"Regression LASSO estimée avec CV\")\n",
    "plt.show()"
   ]
  },
  {
   "cell_type": "code",
   "execution_count": 30,
   "metadata": {
    "slideshow": {
     "slide_type": "-"
    }
   },
   "outputs": [
    {
     "name": "stdout",
     "output_type": "stream",
     "text": [
      "MSE pour 1.19949004015 : 2987.23\n"
     ]
    }
   ],
   "source": [
    "# Alpha optimal sélectionné\n",
    "print(\"MSE pour\", lasso_cv.alpha_,\n",
    "      \":\", np.round(lasso_cv.mse_path_[52].mean(), 2))"
   ]
  },
  {
   "cell_type": "markdown",
   "metadata": {
    "slideshow": {
     "slide_type": "-"
    }
   },
   "source": [
    "- Ce résultat est près de ce qui a été obtenu avec la fonction `GridSearchCV`. "
   ]
  },
  {
   "cell_type": "code",
   "execution_count": 31,
   "metadata": {
    "slideshow": {
     "slide_type": "slide"
    }
   },
   "outputs": [
    {
     "data": {
      "text/html": [
       "<div>\n",
       "<style>\n",
       "    .dataframe thead tr:only-child th {\n",
       "        text-align: right;\n",
       "    }\n",
       "\n",
       "    .dataframe thead th {\n",
       "        text-align: left;\n",
       "    }\n",
       "\n",
       "    .dataframe tbody tr th {\n",
       "        vertical-align: top;\n",
       "    }\n",
       "</style>\n",
       "<table border=\"1\" class=\"dataframe\">\n",
       "  <thead>\n",
       "    <tr style=\"text-align: right;\">\n",
       "      <th></th>\n",
       "      <th>Coef. CV</th>\n",
       "    </tr>\n",
       "    <tr>\n",
       "      <th>Variables</th>\n",
       "      <th></th>\n",
       "    </tr>\n",
       "  </thead>\n",
       "  <tbody>\n",
       "    <tr>\n",
       "      <th>age</th>\n",
       "      <td>-0.0</td>\n",
       "    </tr>\n",
       "    <tr>\n",
       "      <th>sex</th>\n",
       "      <td>-8.97</td>\n",
       "    </tr>\n",
       "    <tr>\n",
       "      <th>bmi</th>\n",
       "      <td>24.789</td>\n",
       "    </tr>\n",
       "    <tr>\n",
       "      <th>bp</th>\n",
       "      <td>13.907</td>\n",
       "    </tr>\n",
       "    <tr>\n",
       "      <th>bs1</th>\n",
       "      <td>-4.416</td>\n",
       "    </tr>\n",
       "    <tr>\n",
       "      <th>bs2</th>\n",
       "      <td>-0.0</td>\n",
       "    </tr>\n",
       "    <tr>\n",
       "      <th>bs3</th>\n",
       "      <td>-10.509</td>\n",
       "    </tr>\n",
       "  </tbody>\n",
       "</table>\n",
       "</div>"
      ],
      "text/plain": [
       "          Coef. CV\n",
       "Variables         \n",
       "age           -0.0\n",
       "sex          -8.97\n",
       "bmi         24.789\n",
       "bp          13.907\n",
       "bs1         -4.416\n",
       "bs2           -0.0\n",
       "bs3        -10.509"
      ]
     },
     "execution_count": 31,
     "metadata": {},
     "output_type": "execute_result"
    }
   ],
   "source": [
    "cv_coef = pd.DataFrame(np.array([col_names, np.round(lasso_cv.coef_, 3)]).T,\n",
    "                       columns = [\"Variables\", \"Coef. CV\"])\n",
    "cv_coef = cv_coef.set_index(\"Variables\")\n",
    "cv_coef.iloc[0:7]"
   ]
  },
  {
   "cell_type": "markdown",
   "metadata": {
    "slideshow": {
     "slide_type": "slide"
    }
   },
   "source": [
    "- **Attention**, l'évaluation de modèle et la sélection d'hyperparamètres doivent être faites séparément $\\rightarrow$ Si la sélection du modèle et la sélection des hyperparamètres sont faites sur les mêmes données, il existe un risque de surapprentissage.\n",
    "- Solution : **validation croisée emboitée** (*nested cross validation*).\n",
    "- La validation croisée emboitée sélectionne d'abord les hyperparamètres à l'aide d'une validation croisée avec k échantillons. Elle évalue ensuite la performance du modèle sélectionné à l'aide d'une nouvelle validation croisée.\n",
    "- À noter, la fonction optimisée `LassoCV` effectue déjà cette procédure."
   ]
  },
  {
   "cell_type": "markdown",
   "metadata": {
    "slideshow": {
     "slide_type": "slide"
    }
   },
   "source": [
    "Formellement, la validation croisée emboitée procède ainsi :\n",
    "    \n",
    "1. Déterminer les paramètres à investiguer.\n",
    "2. Séparer les données en $k$ échantillons.\n",
    "3. Pour chacun des $k$ échantillons :\n",
    "4. $\\hspace{1cm}$ Pour chacune des combinaisons de paramètres :\n",
    "5. $\\hspace{2cm}$ Séparer l'échantillon en $l$ échantillons.\n",
    "6. $\\hspace{2cm}$ Pour chacun des $l$ échantillons :\n",
    "7. $\\hspace{3cm}$ Entrainer le modèle avec les $l_{-1}$ échantillons.\n",
    "8. $\\hspace{3cm}$ Mesurer la performance du modèle sur l'échantillon $l$.\n",
    "9. $\\hspace{2cm}$ Mesurer la performance de la validation croisée interne.\n",
    "10. $\\hspace{1cm}$ Sélectionner la meilleure combinaison de paramètres.\n",
    "11. $\\hspace{1cm}$ Entrainer le modèle avec les $k_{-1}$ échantillons.\n",
    "12. $\\hspace{1cm}$ Mesurer la performance du modèle sur l'échantillon $k$.\n",
    "13. Mesurer la performance de la validation croisée externe."
   ]
  },
  {
   "cell_type": "markdown",
   "metadata": {
    "slideshow": {
     "slide_type": "slide"
    }
   },
   "source": [
    "Si l'exemple de la régression LASSO est repris (sans la fonction LassoCV) :"
   ]
  },
  {
   "cell_type": "code",
   "execution_count": 83,
   "metadata": {},
   "outputs": [
    {
     "name": "stdout",
     "output_type": "stream",
     "text": [
      "MSE du meilleur paramètre par VC non emboitée : 2987.17\n",
      "MSE du meilleur paramètre par VC emboitée : 3026.75\n"
     ]
    }
   ],
   "source": [
    "import warnings; warnings.simplefilter(\"ignore\")\n",
    "\n",
    "# Définissions des paramètres à explorer\n",
    "params = {\"alpha\" : [1e-5, 1e-4, 1e-3, 1e-2, 0.1, 1, 1.5, 2, 5, 10]}\n",
    "\n",
    "# Estimation du modèle par validation croisée\n",
    "lasso_cv = GridSearchCV(Lasso(), params, cv = 10,\n",
    "                        scoring=\"neg_mean_squared_error\")\n",
    "lasso_cv.fit(diab_cov, dis_prog)\n",
    "print(\"MSE du meilleur paramètre par VC non emboitée :\", -1 * np.round(lasso_cv.best_score_, 2))\n",
    "\n",
    "# Estimation de la MSE par validation croisée emboitée\n",
    "nested_mse = cross_val_score(lasso_cv, diab_cov, dis_prog,\n",
    "                         cv = 10, scoring = \"neg_mean_squared_error\")\n",
    "nested_mse_mean = nested_mse.mean()\n",
    "print(\"MSE du meilleur paramètre par VC emboitée :\", np.round(-1 * nested_mse_mean, 2))"
   ]
  },
  {
   "cell_type": "markdown",
   "metadata": {
    "slideshow": {
     "slide_type": "-"
    }
   },
   "source": [
    "- Il est possible de constater que si la MSE considérée est celle obtenue lors de la sélection de l'hyperparamètre, celle-ci risque de surestimer la performance du modèle comparativement à ce qui est obtenu avec une validation croisée emboitée."
   ]
  },
  {
   "cell_type": "markdown",
   "metadata": {
    "slideshow": {
     "slide_type": "slide"
    }
   },
   "source": [
    "En somme :\n",
    "\n",
    "- La validation croisée peut être utilisée lorsqu'il n'est pas possible d'obtenir un groupe test, notamment à cause de la taille des données.\n",
    "- Elle peut également être utilisée afin d'éviter le surapprentissage.\n",
    "- Enfin, elle peut être utilisée pour choisir les hyperparamètres des modèles.\n",
    "- Ces deux dernières options doivent toutefois être séparées afin de bien évaluer la performance réelle du modèle.\n",
    "- Enfin, il existe d'autres types de validation croisée, par exemple la validation croisée *leave-one-out* (où $k = n$)."
   ]
  },
  {
   "cell_type": "markdown",
   "metadata": {
    "slideshow": {
     "slide_type": "slide"
    }
   },
   "source": [
    "## 5.6 K plus proches voisions\n",
    "\n",
    "***\n",
    "\n",
    "- Jusqu'à présent, les méthodes présentées imposent des formes strictes sur la relation entre $y$ et $X$. Ce type de modèle est appelé modèle paramétrique.\n",
    "- Les **modèles paramétriques** sont des modèles où le nombre de paramètres est fixe.\n",
    "- Évidemment, il existe également des modèles non paramétriques.\n",
    "- Les **modèles non paramétriques** sont des modèles où le nombre de paramètres augmente avec le nombre d'observations.\n",
    "- Parmi les modèles non paramétriques, l'un des plus simples est la méthode des k plus proches voisins (*k-nearest neighbors, KNN*)."
   ]
  },
  {
   "cell_type": "markdown",
   "metadata": {
    "slideshow": {
     "slide_type": "slide"
    }
   },
   "source": [
    "Soit l'échantillon suivant :"
   ]
  },
  {
   "cell_type": "code",
   "execution_count": 33,
   "metadata": {
    "slideshow": {
     "slide_type": "-"
    }
   },
   "outputs": [
    {
     "data": {
      "image/png": "[encoded data removed]",
      "text/plain": [
       "<matplotlib.figure.Figure at 0x1135115c0>"
      ]
     },
     "metadata": {},
     "output_type": "display_data"
    }
   ],
   "source": [
    "import numpy as np\n",
    "import matplotlib.pyplot as plt\n",
    "\n",
    "np.random.seed(222)\n",
    "x = np.arange(1, 10, 0.5)\n",
    "y = np.sin(x) + np.random.rand(len(x))\n",
    "\n",
    "plt.scatter(x, y, color = \"orange\")\n",
    "plt.title(\"Nuage de points \\n(N = 18)\")\n",
    "plt.xlabel(\"x\"); plt.ylabel(\"y\")\n",
    "plt.show()"
   ]
  },
  {
   "cell_type": "markdown",
   "metadata": {
    "slideshow": {
     "slide_type": "slide"
    }
   },
   "source": [
    "- Possibilité d'estimer une régression linéaire avec cet échantillon."
   ]
  },
  {
   "cell_type": "code",
   "execution_count": 34,
   "metadata": {
    "collapsed": true,
    "slideshow": {
     "slide_type": "-"
    }
   },
   "outputs": [],
   "source": [
    "from statsmodels.tools.tools import add_constant\n",
    "from statsmodels.regression.linear_model import OLS\n",
    "\n",
    "# Ajout d'une constante à la matrice X\n",
    "X = add_constant(x)\n",
    "\n",
    "# Chargement de la régression linéaire\n",
    "reg_ex = OLS(y, X)\n",
    "\n",
    "# Estimation de la régression linéaire\n",
    "res_ex = reg_ex.fit()"
   ]
  },
  {
   "cell_type": "code",
   "execution_count": 35,
   "metadata": {
    "slideshow": {
     "slide_type": "slide"
    }
   },
   "outputs": [
    {
     "data": {
      "image/png": "[encoded data removed]",
      "text/plain": [
       "<matplotlib.figure.Figure at 0x1138a72e8>"
      ]
     },
     "metadata": {},
     "output_type": "display_data"
    }
   ],
   "source": [
    "plt.scatter(x, y, color = \"orange\")\n",
    "plt.title(\"Nuage de points \\n(N = 18)\")\n",
    "plt.plot([0, 10], [res_ex.params[0],\n",
    "                  res_ex.params[0] + res_ex.params[1] * 10],\n",
    "        color = \"grey\")\n",
    "plt.xlabel(\"x\"); plt.ylabel(\"y\")\n",
    "plt.show()"
   ]
  },
  {
   "cell_type": "markdown",
   "metadata": {
    "slideshow": {
     "slide_type": "-"
    }
   },
   "source": [
    "Quiz : Est-ce que la régression linéaire capte bien la relation entre $x$ et $y$?"
   ]
  },
  {
   "cell_type": "markdown",
   "metadata": {
    "slideshow": {
     "slide_type": "slide"
    }
   },
   "source": [
    "- La régression linéaire impose une relation unique entre $X$ et $y$ pour l'ensemble des observations.\n",
    "- Une alternative est de ne pas imposer de structure aux données et de s'intéresser à la situation \"locale\" des variables explicatives."
   ]
  },
  {
   "cell_type": "code",
   "execution_count": 36,
   "metadata": {
    "slideshow": {
     "slide_type": "-"
    }
   },
   "outputs": [
    {
     "data": {
      "image/png": "[encoded data removed]",
      "text/plain": [
       "<matplotlib.figure.Figure at 0x1138dffd0>"
      ]
     },
     "metadata": {},
     "output_type": "display_data"
    }
   ],
   "source": [
    "plt.scatter(x, y, color = \"orange\")\n",
    "plt.title(\"Nuage de points \\n(N = 18)\")\n",
    "plt.xlabel(\"x\"); plt.ylabel(\"y\"); plt.ylim(-0.8, 2)\n",
    "plt.plot([0, 10], [res_ex.params[0],\n",
    "                  res_ex.params[0] + res_ex.params[1] * 10],\n",
    "        color = \"grey\")\n",
    "plt.arrow(8, -0.7, 0, -0.1)\n",
    "plt.text(7.2, -0.6, \"nouveau 'x'\")\n",
    "plt.show()"
   ]
  },
  {
   "cell_type": "code",
   "execution_count": 37,
   "metadata": {
    "slideshow": {
     "slide_type": "slide"
    }
   },
   "outputs": [
    {
     "data": {
      "image/png": "[encoded data removed]",
      "text/plain": [
       "<matplotlib.figure.Figure at 0x113acf908>"
      ]
     },
     "metadata": {},
     "output_type": "display_data"
    }
   ],
   "source": [
    "import pandas as pd\n",
    "data = pd.DataFrame(np.array([x, y]).T,\n",
    "             columns = [\"x\", \"y\"])\n",
    "plt.scatter(data[\"x\"], data[\"y\"], color = \"orange\")\n",
    "plt.title(\"Nuage de points \\n(N = 18)\")\n",
    "plt.xlabel(\"x\"); plt.ylabel(\"y\"); plt.ylim(-0.8, 2)\n",
    "plt.plot([0, 10], [res_ex.params[0],\n",
    "                  res_ex.params[0] + res_ex.params[1] * 10],\n",
    "        color = \"grey\")\n",
    "plt.arrow(8, -0.7, 0, -0.1)\n",
    "plt.text(7.2, -0.6, \"nouveau 'x'\")\n",
    "plt.arrow(8, -0.7, 0, -0.2)\n",
    "plt.scatter(data[\"x\"][data[\"x\"].isin([7.5, 8, 8.5])],\n",
    "            data[\"y\"][data[\"x\"].isin([7.5, 8, 8.5])]\n",
    "            , color = \"red\")\n",
    "plt.show()"
   ]
  },
  {
   "cell_type": "code",
   "execution_count": 38,
   "metadata": {
    "slideshow": {
     "slide_type": "slide"
    }
   },
   "outputs": [
    {
     "data": {
      "image/png": "[encoded data removed]",
      "text/plain": [
       "<matplotlib.figure.Figure at 0x113c29940>"
      ]
     },
     "metadata": {},
     "output_type": "display_data"
    }
   ],
   "source": [
    "plt.scatter(data[\"x\"], data[\"y\"], color = \"orange\")\n",
    "plt.title(\"Nuage de points \\n(N = 18)\")\n",
    "plt.xlabel(\"x\"); plt.ylabel(\"y\"); plt.ylim(-0.8, 2)\n",
    "plt.plot([0, 10], [res_ex.params[0],\n",
    "                  res_ex.params[0] + res_ex.params[1] * 10],\n",
    "        color = \"grey\")\n",
    "plt.arrow(8, -0.7, 0, -0.2)\n",
    "plt.text(7.2, -0.6, \"nouveau 'x'\")\n",
    "plt.arrow(8, -0.7, 0, -0.2)\n",
    "plt.scatter(data[\"x\"][data[\"x\"].isin([7.5, 8, 8.5])],\n",
    "            data[\"y\"][data[\"x\"].isin([7.5, 8, 8.5])],\n",
    "            color = \"red\")\n",
    "plt.scatter(8, np.mean(data[\"y\"][data[\"x\"].isin([7.5, 8, 8.5])]),\n",
    "           color = \"black\", marker = \"x\")\n",
    "plt.show()"
   ]
  },
  {
   "cell_type": "markdown",
   "metadata": {
    "slideshow": {
     "slide_type": "slide"
    }
   },
   "source": [
    "- Une fois les voisins identifiés, la prédiction effectuée est simplement :\n",
    "\n",
    "$$\\hat{y} = \\frac{1}{k}\\sum_{i=1}^ky_i$$\n",
    "\n",
    "où $k$ est le nombre de voisins considérés.\n",
    "\n",
    "- Comment identifier qui sont considérés comme les plus proches voisins? Encore une fois, une mesure de distance est utilisée.\n",
    "- **Attention**, tel que mentionné dans les chapitres précédents, la mesure de distance est sensible à la normalisation/standardisation des données de même qu'aux variables utilisées pour la calculer.\n",
    "- Le nombre de voisins $k$ est choisi en considérant un arbitrage entre le biais et la variance. Un $k$ petit diminue le biais mais augmente la variance, alors qu'un $k$ élevé augmente le biais mais diminue la variance.\n",
    "- En pratique, $k$ est obtenu par validation croisée."
   ]
  },
  {
   "cell_type": "markdown",
   "metadata": {
    "slideshow": {
     "slide_type": "slide"
    }
   },
   "source": [
    "- Utilisation de la méthode KNN sur les données de diabète :"
   ]
  },
  {
   "cell_type": "code",
   "execution_count": 85,
   "metadata": {
    "slideshow": {
     "slide_type": "-"
    }
   },
   "outputs": [
    {
     "data": {
      "text/plain": [
       "{'n_neighbors': 19}"
      ]
     },
     "execution_count": 85,
     "metadata": {},
     "output_type": "execute_result"
    }
   ],
   "source": [
    "import numpy as np\n",
    "from sklearn.model_selection import GridSearchCV\n",
    "from sklearn.neighbors import KNeighborsRegressor\n",
    "\n",
    "# Définissions des paramètres à explorer\n",
    "params = {\"n_neighbors\" : np.arange(1, 30, 1)}\n",
    "\n",
    "# Estimation du modèle\n",
    "cv_knn = GridSearchCV(KNeighborsRegressor(), params, cv = 10,\n",
    "                        scoring=\"neg_mean_squared_error\")\n",
    "cv_knn.fit(diab_cov, dis_prog)\n",
    "cv_knn.best_params_"
   ]
  },
  {
   "cell_type": "code",
   "execution_count": 86,
   "metadata": {
    "slideshow": {
     "slide_type": "slide"
    }
   },
   "outputs": [
    {
     "name": "stdout",
     "output_type": "stream",
     "text": [
      "KNN Nested CV MSE : 3311.39\n"
     ]
    }
   ],
   "source": [
    "# Estimation de la MSE par validation croisée\n",
    "nested_knn = cross_val_score(cv_knn, diab_cov, dis_prog,\n",
    "                         cv = 10, scoring = \"neg_mean_squared_error\")\n",
    "print(\"KNN Nested CV MSE :\", np.round(np.mean(-1 * nested_knn), 2))"
   ]
  },
  {
   "cell_type": "markdown",
   "metadata": {
    "slideshow": {
     "slide_type": "-"
    }
   },
   "source": [
    "- *A priori*, le modèle de régression KNN à une performance plus faible que les modèles de régressions linéaires et contraintes. Ceci peut être dû à l'introduction de variables non pertinentes dans le modèle, ce qui influence la mesure de distance utilisée. Ce problème pourrait être résolu à l'aide d'une analyse plus poussée des variables à intégrer dans le modèle."
   ]
  },
  {
   "cell_type": "code",
   "execution_count": 87,
   "metadata": {
    "collapsed": true
   },
   "outputs": [],
   "source": [
    "# Visualisation du lien entre dis_prog et les variables explicatives\n",
    "fig = plt.figure(figsize = (11, 7))\n",
    "    \n",
    "fig.subplots_adjust(hspace = .6)\n",
    "fig.suptitle(\"Nuages de points : lien entre la progession de la \\nmaladie et \\\n",
    "les variables explicatives\", fontsize = 16)\n",
    "    \n",
    "for i, var in enumerate(diab_cov.columns) :\n",
    "    ax = fig.add_subplot(2, 5, i + 1)\n",
    "    ax.scatter(diab_cov[var], dis_prog, color = \"orange\", alpha = 0.2)\n",
    "    ax.set_title(var)"
   ]
  },
  {
   "cell_type": "code",
   "execution_count": 88,
   "metadata": {
    "slideshow": {
     "slide_type": "slide"
    }
   },
   "outputs": [
    {
     "data": {
      "image/png": "[encoded data removed]",
      "text/plain": [
       "<matplotlib.figure.Figure at 0x11a860cf8>"
      ]
     },
     "metadata": {},
     "output_type": "display_data"
    }
   ],
   "source": [
    "plt.show()"
   ]
  },
  {
   "cell_type": "markdown",
   "metadata": {
    "slideshow": {
     "slide_type": "-"
    }
   },
   "source": [
    "Quiz : Quelles variables ne semblent pas être associées à la variable dépendante?"
   ]
  },
  {
   "cell_type": "markdown",
   "metadata": {
    "slideshow": {
     "slide_type": "slide"
    }
   },
   "source": [
    "- Modèle restreint sans `age`, `bs1`, `bs2`, `bs4` et `bs6` :"
   ]
  },
  {
   "cell_type": "code",
   "execution_count": 89,
   "metadata": {},
   "outputs": [
    {
     "name": "stdout",
     "output_type": "stream",
     "text": [
      "{'n_neighbors': 25}\n",
      "KNN Nested CV MSE (modèle restreint) : 3115.24\n"
     ]
    }
   ],
   "source": [
    "# Estimation du modèle restreint\n",
    "cv_knn2 = GridSearchCV(KNeighborsRegressor(), params, cv = 10,\n",
    "                        scoring=\"neg_mean_squared_error\")\n",
    "cv_knn2.fit(diab_cov.drop([\"age\", \"bs1\", \"bs2\", \"bs4\", \"bs6\"], axis = 1), dis_prog)\n",
    "print(cv_knn2.best_params_)\n",
    "\n",
    "# Estimation de la MSE par validation croisée\n",
    "nested_knn2 = cross_val_score(cv_knn2, diab_cov.drop([\"age\", \"bs1\", \"bs2\", \"bs4\", \"bs6\"], axis = 1),\n",
    "                              dis_prog, cv = 10, scoring = \"neg_mean_squared_error\")\n",
    "print(\"KNN Nested CV MSE (modèle restreint) :\", np.round(np.mean(-1 * nested_knn2), 2))"
   ]
  },
  {
   "cell_type": "markdown",
   "metadata": {
    "slideshow": {
     "slide_type": "-"
    }
   },
   "source": [
    "- Le modèle fait déjà mieux que précédemment (3311.39).\n",
    "- Il est également possible que cette plus faible performance du modèle KNN soit le fruit de la *curse of dimensionality*."
   ]
  },
  {
   "cell_type": "markdown",
   "metadata": {
    "slideshow": {
     "slide_type": "slide"
    }
   },
   "source": [
    "***Curse of dimensionality***\n",
    "\n",
    "- La *curse of dimensionality* est un problème qui fait en sorte que lorsque le nombre de dimensions considérées par un modèle augmente (le nombre de variables explicatives que le modèle intègre augmente), les données deviennent très dispersées dans l'espace.\n",
    "- L'essentiel de l'espace dans lequel les données sont définies est alors composé de vide, ce qui cause problème lors de l'estimation du modèle.\n",
    "- En effet, l'environnement local d'un point d'évaluation étant composé de vide, les plus proches voisins deviennent moins pertinents pour effectuer de la prédiction étant donné leur éloignement important.\n",
    "- Solution : une bonne sélection des variables à intégrer, l'utilisation de méthode permettant la réduction de la dimensionalité (*PCA*) et l'estimation de modèles plus robustes à la collinéarité (régression ridge, entre autre)."
   ]
  },
  {
   "cell_type": "markdown",
   "metadata": {
    "slideshow": {
     "slide_type": "slide"
    }
   },
   "source": [
    "## 5.7 Arbre de décision\n",
    "\n",
    "***\n",
    "\n",
    "- Un arbre de décision est une autre forme de modèle non paramétrique. Son fonctionnement diffère toutefois complètement du modèle KNN.\n",
    "- Il existe deux types d'arbres de décision : les **arbres de régression** (présentés dans le présent module) et les **arbres de classification** (présentés dans le prochain module).\n",
    "- Un arbre de décision cherche à diviser l'échantillon de façon à créer des sous-groupes d'observations qui sont homogènes en ce qui a trait à leur valeur de $y$.\n",
    "- Pour ce faire, l'arbre cherche à minimiser la variation de $y$ pour chacun des sous-groupes.\n",
    "- Cette variation dans $y$ est mesurée par l'**impureté** des sous-groupes. Plus un sous-groupe est impur, plus les valeurs de $y$ des observations qui le composent sont dissemblables.\n",
    "- L'impureté est une notion commune aux arbres de régression et aux arbres de classification, mais son calcul diffère selon le type d'arbre entrainé."
   ]
  },
  {
   "cell_type": "markdown",
   "metadata": {
    "slideshow": {
     "slide_type": "slide"
    }
   },
   "source": [
    "Exemple :\n",
    "\n",
    "- Pour prédire la taille d'un groupe d'individus dont l'âge et le sexe sont connus, un arbre de régression pourrait produire les sous-groupes suivants :"
   ]
  },
  {
   "cell_type": "code",
   "execution_count": 93,
   "metadata": {
    "slideshow": {
     "slide_type": "-"
    }
   },
   "outputs": [
    {
     "data": {
      "text/plain": [
       "([<matplotlib.axis.YTick at 0x119dd8908>,\n",
       "  <matplotlib.axis.YTick at 0x11bec9c50>],\n",
       " <a list of 2 Text yticklabel objects>)"
      ]
     },
     "execution_count": 93,
     "metadata": {},
     "output_type": "execute_result"
    }
   ],
   "source": [
    "import matplotlib.pyplot as plt\n",
    "import numpy as np\n",
    "import pandas as pd\n",
    "\n",
    "ind = pd.DataFrame({\"Homme\" : np.random.binomial(1, 0.5, 100),\n",
    "                    \"Age\" : np.random.rand(100) * 70})\n",
    "\n",
    "plt.scatter(ind[\"Age\"], ind[\"Homme\"], color = \"orange\")\n",
    "plt.plot([12, 12], [-0.1, 1.1], color = \"black\")\n",
    "plt.plot([12, 70], [0.5, 0.5], color = \"black\")\n",
    "plt.ylim(-0.1,1.1); plt.xlim(-1, 71); plt.xlabel(\"Age\")\n",
    "plt.ylabel(\"Homme\"); plt.yticks([0, 1])"
   ]
  },
  {
   "cell_type": "code",
   "execution_count": 94,
   "metadata": {
    "slideshow": {
     "slide_type": "slide"
    }
   },
   "outputs": [
    {
     "data": {
      "image/png": "[encoded data removed]",
      "text/plain": [
       "<matplotlib.figure.Figure at 0x11a09dd68>"
      ]
     },
     "metadata": {},
     "output_type": "display_data"
    }
   ],
   "source": [
    "plt.show()"
   ]
  },
  {
   "cell_type": "markdown",
   "metadata": {
    "slideshow": {
     "slide_type": "-"
    }
   },
   "source": [
    "- La taille prédite pour chacun des sous-groupes produit par l'arbre serait alors la taille moyenne des individus qui composent chacun de ces sous-groupes. Ainsi, si l'arbre devait prédire la taille d'une femme de 24 ans, il prédirait la taille moyenne des individus se retrouvant dans le rectangle en bas à droite."
   ]
  },
  {
   "cell_type": "markdown",
   "metadata": {
    "slideshow": {
     "slide_type": "slide"
    }
   },
   "source": [
    "- Les arbres de décision sont appelés ainsi en raison de leur aspect visuel. Par exemple, pour l'arbre hypothétique venant d'être présenté, celui-ci ressemblerait à ceci :"
   ]
  },
  {
   "cell_type": "code",
   "execution_count": 81,
   "metadata": {
    "slideshow": {
     "slide_type": "-"
    }
   },
   "outputs": [
    {
     "name": "stdout",
     "output_type": "stream",
     "text": [
      "\n",
      "      /-age>12/Homme\n",
      "   /-|\n",
      "--|   \\-age>12/Femme\n",
      "  |\n",
      "   \\-age<=12\n"
     ]
    }
   ],
   "source": [
    "from ete3 import Tree, TreeStyle\n",
    "t = Tree(\"((age>12/Homme, age>12/Femme), age<=12);\")\n",
    "#t.populate(3)\n",
    "ts = TreeStyle()\n",
    "ts.show_leaf_name = True\n",
    "print(t)"
   ]
  },
  {
   "cell_type": "markdown",
   "metadata": {
    "slideshow": {
     "slide_type": "-"
    }
   },
   "source": [
    "- Intuitivement, l'arbre n'est en lui-même qu'une série de divisions binaires représentant des règles \"si/alors\" permettant de \"classer\" les observations jusqu'à un sous-groupe \"final\"."
   ]
  },
  {
   "cell_type": "markdown",
   "metadata": {
    "slideshow": {
     "slide_type": "slide"
    }
   },
   "source": [
    "Terminologie \n",
    "\n",
    "- La première division (`age > 12`) est appelée le noeud racine (*root node*).\n",
    "- Les divisions qui sont faites subséquemment (`Homme == 1`) sont appelées les noeuds intérieurs (*interior nodes*).\n",
    "- Les sous-groupes finaux (`age<=12`, `age>12/Femme` et `age>12/Homme`) sont appelés les feuilles (*leafs*) ou les noeuds terminaux (*terminal nodes*)."
   ]
  },
  {
   "cell_type": "markdown",
   "metadata": {
    "slideshow": {
     "slide_type": "slide"
    }
   },
   "source": [
    "- Formellement, le procesus permettant de construire l'arbre de régression procède comme suit. L'algorithme cherche d'abord à diviser chacune des variables explicatives qui lui sont fournies en deux noeuds de façon à minimiser l'impureté définie telle que :\n",
    "\n",
    "$$G(Q, \\theta) = \\frac{N_1}{N_1 + N_2}H(Q_1(\\theta)) + \\frac{N_2}{N_1 + N_2}H(Q_2(\\theta))$$\n",
    "\n",
    "\n",
    "où $N_1$ et $N_2$ sont le nombre d'observations se retrouvant respectivement dans les noeuds potentiels 1 et 2, où $Q_1(\\theta) = (y_i, x_i)~~ | ~~ x_i <= \\theta$, où $Q_2(\\theta) = (y_i, x_i)~~ | ~~ x_i > \\theta$ et où $\\theta$ est le seuil à déterminer.\n",
    "\n",
    "- Dans le cas d'un arbre de régression, $H(X_{j})$ est la variance intra-noeud :\n",
    "\n",
    "$$H(X_{j}) = \\frac{1}{N_j}\\sum_{i=1}^{N_j}(y_{i}-\\bar{y}_j)^2$$\n",
    "\n",
    "où $X_{j}$ sont les variables des observations se retrouvant dans le noeud $j$, où $N_j$ est le nombre d'observations se trouvant dans le noeud $j$ et où $\\bar{y}_j$ est la moyenne de la variable dépendante pour ces observations.\n"
   ]
  },
  {
   "cell_type": "markdown",
   "metadata": {
    "slideshow": {
     "slide_type": "slide"
    }
   },
   "source": [
    "- Les valeurs condidates permettant de définir le seuil $\\theta$ sont l'ensemble des valeurs prises par chacune des variables explicatives. En d'autres mots, l'algorithme calcule pour chaque valeur de chaque variable l'impureté qui résulterait d'une division sur celle-ci. Le seuil produisant la plus faible impureté est celui choisi pour effectuer la première division, à savoir :\n",
    "\n",
    "$$\\theta^* = \\text{argmin}_{\\theta} ~ G(Q, \\theta)$$\n",
    "\n",
    "où $\\theta^*$ est le seuil sélectionné.\n",
    "\n",
    "- Ensuite, pour chacun des nouveaux noeuds créés, ce processus est répété de nouveau.\n",
    "- L'algorithme procède ainsi jusqu'à ce qu'une règle d'arrêt soit atteinte. "
   ]
  },
  {
   "cell_type": "markdown",
   "metadata": {
    "slideshow": {
     "slide_type": "slide"
    }
   },
   "source": [
    "**Règles d'arrêt**\n",
    "\n",
    "- Si l'algorithme produisant l'arbre ne possède pas d'instructions sur quand s'arrêter, il risque de surappendre en créant une feuille pour chaque observation composant l'échantillon. Des règles d'arrêt sont donc nécessaires.\n",
    "- Ces règles sont les suivantes :\n",
    "    1. Nombre minimal d'observations dans un noeud pour que celui-ci puisse être divisé.\n",
    "    2. Nombre minimal d'observation dans un noeud terminal.\n",
    "    3. Profondeur maximale de l'arbre.\n",
    "    4. Nombre maximal de noeuds terminaux.\n",
    "    5. Nombre de variables explicatives à considérer lors des divisions."
   ]
  },
  {
   "cell_type": "code",
   "execution_count": 90,
   "metadata": {
    "slideshow": {
     "slide_type": "slide"
    }
   },
   "outputs": [
    {
     "name": "stdout",
     "output_type": "stream",
     "text": [
      "CPU times: user 2min 11s, sys: 78.3 ms, total: 2min 12s\n",
      "Wall time: 2min 11s\n"
     ]
    }
   ],
   "source": [
    "%%time\n",
    "import numpy as np\n",
    "from sklearn.tree import DecisionTreeRegressor\n",
    "\n",
    "dec_tree = DecisionTreeRegressor()\n",
    "\n",
    "# Paramètres à évaluer pour la validation  croisée\n",
    "params = {\"max_depth\" : np.arange(1, 15, 1),\n",
    "          \"min_samples_leaf\" : np.arange(1, 11, 1),\n",
    "          \"min_samples_split\" : np.arange(2, 15, 1)}\n",
    "\n",
    "# Paramétrisation de la validation croisée\n",
    "cv_tree = GridSearchCV(dec_tree, param_grid = params,\n",
    "                        scoring = \"neg_mean_squared_error\")\n",
    "\n",
    "# Sélection des hyperparamétres par CV\n",
    "cv_tree.fit(diab_cov, dis_prog)\n",
    "\n",
    "# Estimation de la la MSE par nested CV\n",
    "nested_tree = cross_val_score(cv_tree, diab_cov, dis_prog,\n",
    "                              cv = 10, scoring = \"neg_mean_squared_error\")"
   ]
  },
  {
   "cell_type": "markdown",
   "metadata": {
    "slideshow": {
     "slide_type": "slide"
    }
   },
   "source": [
    "- Résultats obtenus :"
   ]
  },
  {
   "cell_type": "code",
   "execution_count": 58,
   "metadata": {
    "slideshow": {
     "slide_type": "-"
    }
   },
   "outputs": [
    {
     "name": "stdout",
     "output_type": "stream",
     "text": [
      "Nested CV MSE : 4057.72 \n",
      "Paramètres sélectionnés : {'max_depth': 3, 'min_samples_leaf': 4, 'min_samples_split': 2}\n"
     ]
    }
   ],
   "source": [
    "print(\"Nested CV MSE :\", -1 * np.round(nested_tree.mean(), 2),\n",
    "      \"\\nParamètres sélectionnés :\", tree_results.best_params_) "
   ]
  },
  {
   "cell_type": "markdown",
   "metadata": {
    "collapsed": true,
    "slideshow": {
     "slide_type": "-"
    }
   },
   "source": [
    "- Il est possible de constater que l'arbre de régression obtenu fait moins bien que les autres modèles de régression vus jusqu'à présent."
   ]
  },
  {
   "cell_type": "markdown",
   "metadata": {
    "collapsed": true,
    "slideshow": {
     "slide_type": "slide"
    }
   },
   "source": [
    "- Visuellement, l'arbre de régression estimé peut être construit comme ceci :"
   ]
  },
  {
   "cell_type": "code",
   "execution_count": 59,
   "metadata": {},
   "outputs": [
    {
     "data": {
      "text/plain": [
       "True"
      ]
     },
     "execution_count": 59,
     "metadata": {},
     "output_type": "execute_result"
    }
   ],
   "source": [
    "import graphviz\n",
    "from sklearn.tree import export_graphviz\n",
    "import pydot\n",
    "\n",
    "# Enregistrement de l'arbre en .dot\n",
    "export_graphviz(tree_results.best_estimator_,\n",
    "                feature_names = diab_cov.columns,\n",
    "                out_file=\"reg_tree.dot\")\n",
    "\n",
    "# Conversion du fichier .dot en format .png\n",
    "(graph,) = pydot.graph_from_dot_file(\"reg_tree.dot\")\n",
    "graph.write_png(\"reg_tree.png\")"
   ]
  },
  {
   "cell_type": "markdown",
   "metadata": {
    "slideshow": {
     "slide_type": "slide"
    }
   },
   "source": [
    "![](reg_tree.png)\n",
    "\n",
    "- À noter, l'arbre de régression effectue naturellement une sélection des variables explicatives d'intérêt.\n",
    "- Il est important également de mentionner que les arbres de décision ne nécessite pas la normalisation/standardisation des données."
   ]
  },
  {
   "cell_type": "markdown",
   "metadata": {
    "slideshow": {
     "slide_type": "slide"
    }
   },
   "source": [
    "- Une technique complémentaire à l'estimation des arbres de régression est le ***pruning***.\n",
    "- Puisque les arbres de régression sont sujets au surapprentissage, le *pruning* consiste à retirer certaines sections de l'arbre après que celui-ci soit estimé.\n",
    "- Les sections retirées sont celles ayant peu de pouvoir prédictif et risquant de mener à une faible généralisation du modèle."
   ]
  },
  {
   "cell_type": "markdown",
   "metadata": {
    "collapsed": true,
    "slideshow": {
     "slide_type": "slide"
    }
   },
   "source": [
    "**Limites**\n",
    "\n",
    "Les arbres de régression ont plusieurs limites :\n",
    "- Ils sont sensibles aux variables corrélées;\n",
    "- Ils sont prompts au surapprentissage;\n",
    "- Ils sont instables, c'est-à-dire sensibles à une pertubation dans les données;\n",
    "- Leur capacité prédictive individuelle est plus faible que d'autres méthodes d'apprentissage automatique.\n",
    "\n",
    "Pourquoi alors s'intéresser à eux? Parce qu'ils sont la base du modèle de forêt aléatoire, l'un des modèles les plus performants en apprentissage automatique."
   ]
  },
  {
   "cell_type": "markdown",
   "metadata": {
    "slideshow": {
     "slide_type": "slide"
    }
   },
   "source": [
    "## 5.8 Forêt aléatoire\n",
    "\n",
    "***\n",
    "\n",
    "- Le modèle de forêt aléatoire (*random forest*) est un modèle dit d'apprentissage d'ensembles (*ensemble learning*).\n",
    "- Les modèles d'apprentissage d'ensembles estiment non pas un, mais bien plusieurs modèles différents pour résoudre un même problème d'apprentissage automatique supervisé. Les prédictions de chacun des modèles sont ensuite mises en commun pour obtenir des prédictions plus précises et robustes.\n",
    "- L'une de ces méthodes est le *bagging*, une méthode reposant sur le *bootstrap*."
   ]
  },
  {
   "cell_type": "markdown",
   "metadata": {
    "slideshow": {
     "slide_type": "slide"
    }
   },
   "source": [
    "- Le ***bootstrap*** est une méthode de rééchantillonnage avec remise. Elle consiste à sélectionner de façon aléatoire un nouvel échantillon de même taille que l'échantillon de départ à partir de celui-ci.\n",
    "- Pour chaque échantillon sélectionné, un modèle est estimé.\n",
    "- Cette procédure de rééchantillonage est répétée selon la volonté de l'analyste.\n",
    "- Le ***bagging*** consiste à conserver tous les modèles estimés et les utiliser pour effectuer une série de prédictions. Toutes les prédictions sont ensuite agrégées pour obtenir une prédiction unique, ce pourquoi ce type de méthode est appelé une méthode *bagging* : *boostrap aggregrating*.\n",
    "- Dans le cas des modèles de régression, l'agrégation des prédictions en faite en prenant la moyenne de toutes les prédictions.\n",
    "- Le *bagging* est plus utile avec les modèles sensibles comme les arbres de régression."
   ]
  },
  {
   "cell_type": "markdown",
   "metadata": {
    "collapsed": true,
    "slideshow": {
     "slide_type": "slide"
    }
   },
   "source": [
    "- Problème avec le *bagging* : il peut exister de la corrélation entre les modèles.\n",
    "- Cette corrélation fait en sorte que la majorité des modèles sont similaires, limitant ainsi la force de l'aggrégation.\n",
    "- Solution : restreindre le nombre de variables candidates à chacun des noeuds. C'est ce qui distingue le modèle de forêt aléatoire du simple *bagging*.\n",
    "- Permet de contourner le fait que les arbres de régression n'ont pas la capacité d'anticiper l'avenir, c'est-à-dire de prendre en considération les divisions à venir lors de la sélection présente."
   ]
  },
  {
   "cell_type": "markdown",
   "metadata": {
    "slideshow": {
     "slide_type": "slide"
    }
   },
   "source": [
    "Estimation d'un modèle de forêt aléatoire :"
   ]
  },
  {
   "cell_type": "code",
   "execution_count": 91,
   "metadata": {},
   "outputs": [
    {
     "name": "stdout",
     "output_type": "stream",
     "text": [
      "Nested CV MSE : 3208.14\n",
      "CPU times: user 1h 33min 44s, sys: 3.88 s, total: 1h 33min 48s\n",
      "Wall time: 1h 33min 48s\n"
     ]
    }
   ],
   "source": [
    "%%time\n",
    "\n",
    "from sklearn.ensemble import RandomForestRegressor\n",
    "\n",
    "# Paramétrisation du random forest\n",
    "rf_model = RandomForestRegressor(n_estimators = 100,\n",
    "                                criterion = \"mse\",\n",
    "                                random_state = 222,\n",
    "                                max_features = 0.30)\n",
    "\n",
    "# Paramétrisation de la validation croisée du random forest\n",
    "#avec les mêmes paramètres candidats que l'arbre de régression\n",
    "cv_rf = GridSearchCV(rf_model, param_grid = params,\n",
    "                        scoring = \"neg_mean_squared_error\")\n",
    "cv_rf.fit(diab_cov, dis_prog)\n",
    "\n",
    "# Estimation de la performance du modèle par Nested CV\n",
    "rf_results = cross_val_score(cv_rf, diab_cov, dis_prog,\n",
    "                         cv = 10, scoring = \"neg_mean_squared_error\")\n",
    "\n",
    "print(\"Nested CV MSE :\", np.round(np.mean(-1 * rf_results), 2))"
   ]
  },
  {
   "cell_type": "markdown",
   "metadata": {
    "collapsed": true,
    "slideshow": {
     "slide_type": "-"
    }
   },
   "source": [
    "- Le modèle performe passablement mieux qu'un arbre de régression seul."
   ]
  },
  {
   "cell_type": "markdown",
   "metadata": {
    "slideshow": {
     "slide_type": "slide"
    }
   },
   "source": [
    "- Il est ensuite possible de voir dans quelle mesure chacune des variables incluses dans le modèle est importante lors de son entrainement.\n",
    "- L'importance est calculée en fonction de la réduction du critère à minimiser (la MSE) attribuable à chacune des variables parmi l'ensemble des arbres estimés pour consituer la forêt aléatoire."
   ]
  },
  {
   "cell_type": "code",
   "execution_count": 153,
   "metadata": {
    "slideshow": {
     "slide_type": "-"
    }
   },
   "outputs": [
    {
     "data": {
      "text/plain": [
       "Text(0.5,1,'Contribution des variables explicatives à la \\nconstruction des arbres de régression')"
      ]
     },
     "execution_count": 153,
     "metadata": {},
     "output_type": "execute_result"
    }
   ],
   "source": [
    "import matplotlib.pyplot as plt\n",
    "import pandas as pd\n",
    "\n",
    "# Extraction de l'information sur l'importance\n",
    "importance = pd.DataFrame(np.array([cv_rf.best_estimator_.feature_importances_,\n",
    "                           diab_cov.columns]).T,\n",
    "                          columns = [\"import\", \"variable\"])\n",
    "importance = importance.sort_values([\"import\"], ascending = False)\n",
    "\n",
    "# Visualisation de l'importance\n",
    "x_axe = np.arange(len(importance))\n",
    "plt.bar(x_axe, importance[\"import\"], color = \"orange\")\n",
    "plt.xticks(x_axe, importance[\"variable\"])\n",
    "plt.xlabel(\"Variable\"); plt.ylabel(\"Importance relative\")\n",
    "plt.title(\"Contribution des variables explicatives à la \\nconstruction \\\n",
    "des arbres de régression\")"
   ]
  },
  {
   "cell_type": "code",
   "execution_count": 154,
   "metadata": {
    "slideshow": {
     "slide_type": "slide"
    }
   },
   "outputs": [
    {
     "data": {
      "image/png": "[encoded data removed]",
      "text/plain": [
       "<matplotlib.figure.Figure at 0x1181a7710>"
      ]
     },
     "metadata": {},
     "output_type": "display_data"
    }
   ],
   "source": [
    "plt.show()"
   ]
  },
  {
   "cell_type": "markdown",
   "metadata": {
    "slideshow": {
     "slide_type": "slide"
    }
   },
   "source": [
    "**Limites**\n",
    "\n",
    "Les forêts aléatoires ne sont évidemment pas sans failles :\n",
    "\n",
    "- Demeurent à risque de surapprentissage;\n",
    "- Même si chaque arbre de régression est facilement interprétable, les prédictions des forêts aléatoires relèvent plus d'une boite noire;\n",
    "- Puisqu'ils nécessitent plusieurs hyperparamètres, ils peuvent être long à entrainer;\n",
    "- Lorsque le modèle est complexe et que plusieurs arbres sont estimés, le modèle peut prendre du temps à estimer."
   ]
  },
  {
   "cell_type": "markdown",
   "metadata": {
    "slideshow": {
     "slide_type": "slide"
    }
   },
   "source": [
    "En somme : \n",
    "    \n",
    "- Il n'existe pas de modèle parfait faisant *toujours* mieux que les autres modèles.\n",
    "- Il est donc important de bien explorer les données, la relation entre les différentes variables et les différents modèles pouvant être estimés.\n",
    "- Il est également important de bien valider la performance de chacun des modèles, notamment à l'aide de la validation croisée, afin d'éviter le surapprentissage."
   ]
  },
  {
   "cell_type": "markdown",
   "metadata": {
    "slideshow": {
     "slide_type": "slide"
    }
   },
   "source": [
    "## 5.9 Devoir\n",
    "\n",
    "***\n",
    "\n",
    "Si un modèle de régression est privilégié pour le travail long :\n",
    "\n",
    "- Choisir et appliquer l'une des méthodes présentées dans le cours.\n",
    "- Présenter la méthode, ses forces et ses faiblesses.\n",
    "- Discuter des résultats obtenus.\n",
    "- Évaluer de façon adéquate la performance du modèle choisi."
   ]
  }
 ],
 "metadata": {
  "celltoolbar": "Slideshow",
  "kernelspec": {
   "display_name": "Python 3",
   "language": "python",
   "name": "python3"
  },
  "language_info": {
   "codemirror_mode": {
    "name": "ipython",
    "version": 3
   },
   "file_extension": ".py",
   "mimetype": "text/x-python",
   "name": "python",
   "nbconvert_exporter": "python",
   "pygments_lexer": "ipython3",
   "version": "3.6.3"
  }
 },
 "nbformat": 4,
 "nbformat_minor": 2
}
