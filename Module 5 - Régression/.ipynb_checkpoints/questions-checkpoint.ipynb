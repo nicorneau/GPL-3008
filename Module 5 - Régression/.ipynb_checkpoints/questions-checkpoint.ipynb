{
 "cells": [
  {
   "cell_type": "markdown",
   "metadata": {},
   "source": [
    "# Quiz de révision\n",
    "\n",
    "1. Pourquoi dit-on qu'il n'y aucune façon de valider la performance d'un modèle d'apprentissage non supervisé?\n",
    "2. Pourquoi dit-on que la méthode de regroupement hiérarchique est une méthode *bottom up*?\n",
    "3. En quoi l'analyse par composantes principales peut-elle être utile?"
   ]
  },
  {
   "cell_type": "markdown",
   "metadata": {},
   "source": [
    "- Exemple de solution pour la question 1.\n",
    "\n",
    "Dans le cas de l'apprentissage supervisé, les données fournies à l'algorithme possèdent une solution désirée. Ainsi, lorsqu'un modèle est entrainé dans le but de prédire une valeur, il est possible de comparer la valeur prédite à la valeur attendue. Cette comparaison permet alors de vérifier la perfomance du modèle. Quant à l'apprentissage non supervisé, il est un type d'apprentissage automatique où les données fournies à l'algorithme ne possèdent pas une solution désirée. Il est donc impossible de comparer la prédiction du modèle à une valeur attendue et donc de valider la perfomance du modèle."
   ]
  },
  {
   "cell_type": "markdown",
   "metadata": {},
   "source": [
    "- Exemple de solution pour la question 2.\n",
    "\n",
    "La méthode de regroupement hiéarchique est dite *bottom up* en comparaison à des méthodes dites *top down* telle que la méthode des k-moyennes. La méthode des k-moyennes est dite *top down* puisqu'elle détermine préalablement le nombre de regroupements à trouver et cherche ensuite ces regroupements dans les données. En comparaison, la méthode de regroupement hiérarchique débute avec les données. Elle regroupe une à une les observations les plus \"proches\" selon une mesure de distance quelconque. Initialement, il existe autant de regroupements que d'observations. Alors que les observations sont regroupées, le nombre de regroupements décroit. À la toute fin, un seul regroupement existe, englobant toutes les observations. L'analyste choisi alors le nombre de regroupements qui lui semble le plus cohérent selon la structure du dendrogramme représentant la séquence des regroupements. La méthode débute donc avec les données et termine avec le nombre de regroupements, ce qui est l'inverse de la méthode des k-moyennes."
   ]
  },
  {
   "cell_type": "markdown",
   "metadata": {},
   "source": [
    "- Exemple de solution pour la question 3.\n",
    "\n",
    "Lors de l'estimation d'un modèle, il peut arriver que le nombre de variables explicatives à inclure soit trop important et cause des problèmes d'estimation ou d'interprétabilité du modèle. Ce type de problème est souvent appelé un problème de dimensionnalité. L'analyse par composantes principales peut être une solution à ce problème. L'analyse par composantes principales crée de nouvelles variables en captant l'essentiel de l'information contenue dans les données. Ainsi, un nombre plus restreint de variables contient néanmoins l'essentiel de l'information disponible. L'information est définie dans ce cas par la variation dans les données."
   ]
  }
 ],
 "metadata": {
  "kernelspec": {
   "display_name": "Python 3",
   "language": "python",
   "name": "python3"
  },
  "language_info": {
   "codemirror_mode": {
    "name": "ipython",
    "version": 3
   },
   "file_extension": ".py",
   "mimetype": "text/x-python",
   "name": "python",
   "nbconvert_exporter": "python",
   "pygments_lexer": "ipython3",
   "version": "3.6.3"
  }
 },
 "nbformat": 4,
 "nbformat_minor": 2
}
