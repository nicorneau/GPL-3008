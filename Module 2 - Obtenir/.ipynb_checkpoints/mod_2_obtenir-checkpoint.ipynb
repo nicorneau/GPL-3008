{
 "cells": [
  {
   "cell_type": "markdown",
   "metadata": {
    "slideshow": {
     "slide_type": "slide"
    }
   },
   "source": [
    "# Quiz de révision*\n",
    "\n",
    "1. Écrire une fonction permettant d'imprimer les chiffres allant de 1 à 10.\n",
    "2. Modifier cette première fonction de façon à ce qu'elle retourne la chaine de caractères \"titi\" si le nombre à imprimer est un multiple de 3.\n",
    "3. Modifier cette seconde fonction de façon à ce qu'elle retourne la chaine de caractères \"toto\" si le nombre à imprimer est un multiple de 2 ET de 3.\n",
    "\n",
    "*<sub>Exercice inspiré par ce [site](https://ditam.github.io/posts/fizzbuzz/), mais version novice; pour d'autres exercices de programmation, voir [reddit/DailyProgammer](https://www.reddit.com/r/dailyprogrammer/)<sub>"
   ]
  },
  {
   "cell_type": "code",
   "execution_count": 10,
   "metadata": {
    "slideshow": {
     "slide_type": "slide"
    }
   },
   "outputs": [
    {
     "name": "stdout",
     "output_type": "stream",
     "text": [
      "1\n",
      "2\n",
      "3\n",
      "4\n",
      "5\n",
      "6\n",
      "7\n",
      "8\n",
      "9\n",
      "10\n"
     ]
    }
   ],
   "source": [
    "# Exemple de solution pour la question 1.\n",
    "def count1():\n",
    "    \"\"\"\n",
    "    Cette fonction imprime une série allant de 1 à 10.\n",
    "    \"\"\"\n",
    "    for nbr in range(1, 11) :\n",
    "        print(nbr)\n",
    "count1()"
   ]
  },
  {
   "cell_type": "code",
   "execution_count": 11,
   "metadata": {
    "slideshow": {
     "slide_type": "slide"
    }
   },
   "outputs": [
    {
     "name": "stdout",
     "output_type": "stream",
     "text": [
      "1\n",
      "2\n",
      "titi\n",
      "4\n",
      "5\n",
      "titi\n",
      "7\n",
      "8\n",
      "titi\n",
      "10\n"
     ]
    }
   ],
   "source": [
    "# Exemple de solution pour la question 2.\n",
    "def count2():\n",
    "    \"\"\"\n",
    "    Cette fonction imprime une série allant de 1 à 10 et\n",
    "    retourne la chaine de caractère \"titi\" si le nombre\n",
    "    à imprimer est un multiple de 3.\n",
    "    \"\"\"\n",
    "    for nbr in range(1, 11) :\n",
    "        if nbr % 3 == 0 :\n",
    "            print(\"titi\")\n",
    "        else :\n",
    "            print(nbr)\n",
    "\n",
    "count2()"
   ]
  },
  {
   "cell_type": "code",
   "execution_count": 12,
   "metadata": {
    "slideshow": {
     "slide_type": "slide"
    }
   },
   "outputs": [
    {
     "name": "stdout",
     "output_type": "stream",
     "text": [
      "1\n",
      "2\n",
      "titi\n",
      "4\n",
      "5\n",
      "toto\n",
      "7\n",
      "8\n",
      "titi\n",
      "10\n"
     ]
    }
   ],
   "source": [
    "# Exemple de solution pour la question 3.\n",
    "def count3():\n",
    "    \"\"\"\n",
    "    Cette fonction imprime une série allant de 1 à 10 et\n",
    "    retourne la chaine de caractère \"titi\" si le nombre\n",
    "    à imprimer est un multiple de 3 et \"toto\" si le nombre\n",
    "    à imprimer est un multiple de 2 ET de 3.\n",
    "    \"\"\"\n",
    "    for nbr in range(1, 11) :\n",
    "        if nbr % 3 == 0 and nbr % 2 == 0:\n",
    "            print(\"toto\")\n",
    "        elif nbr % 3 == 0:\n",
    "            print(\"titi\")\n",
    "        else:\n",
    "            print(nbr)\n",
    "\n",
    "count3()"
   ]
  },
  {
   "cell_type": "markdown",
   "metadata": {
    "slideshow": {
     "slide_type": "slide"
    }
   },
   "source": [
    "# Introduction à l'analyse de données\n",
    "\n",
    "## Module 2 : Obtenir et structurer des données\n",
    "\n",
    "### Par Nicolas Corneau-Tremblay"
   ]
  },
  {
   "cell_type": "markdown",
   "metadata": {
    "slideshow": {
     "slide_type": "slide"
    }
   },
   "source": [
    "# Plan du module\n",
    "\n",
    "***\n",
    "\n",
    "1. Les *tidy data*\n",
    "2. Les bases de données relationnelles\n",
    "3. Algèbre relationnelle\n",
    "4. Introduction au SQL\n",
    "5. Python et SQLite\n",
    "6. Devoir"
   ]
  },
  {
   "cell_type": "markdown",
   "metadata": {
    "slideshow": {
     "slide_type": "slide"
    }
   },
   "source": [
    "# 2.1 Les *tidy data*\n",
    "\n",
    "***\n",
    "\n",
    "Quiz : Combien y a-t-il de variables dans cette table et quelles sont-elles?*\n",
    "\n",
    "|  Individu  |  1999  |  2001  | 2003 |\n",
    "| ---------- |:------:|:------:|:----:|\n",
    "| Anne       |   3    |   5    |  7   |\n",
    "| Mathieu    |   9    |   2    |  1   |\n",
    "\n",
    "\n",
    "Difficile à dire, puisque les données ne sont pas organisées de façon intuitive.\n",
    "\n",
    "*<sub>Exemple inspiré de cette [présentation](http://courses.had.co.nz.s3-website-us-east-1.amazonaws.com/12-rice-bdsi/slides/07-tidy-data.pdf) d'Hadley Wickham<sub>"
   ]
  },
  {
   "cell_type": "markdown",
   "metadata": {
    "slideshow": {
     "slide_type": "slide"
    }
   },
   "source": [
    "Réponse : 3 variables $\\rightarrow$ Individu, Année, Valeur.\n",
    "\n",
    "|  Individu   |    Année   |     Valeur    |\n",
    "|:-----------:| :--------: | :------------:|\n",
    "|    Anne     |    1999    |       3       |\n",
    "|    Anne     |    2001    |       5       |\n",
    "|    Anne     |    2003    |       7       |\n",
    "|    Mathieu  |    1999    |       9       |\n",
    "|    Mathieu  |    2001    |       2       |\n",
    "|    Mathieu  |    2003    |       1       |\n",
    "\n",
    "Le problème, c'est que les noms de colonnes n'identifiaient pas des variables, mais plutôt les valeurs de la variable Année."
   ]
  },
  {
   "cell_type": "markdown",
   "metadata": {
    "collapsed": true,
    "slideshow": {
     "slide_type": "slide"
    }
   },
   "source": [
    "- À l'université, les données fournies aux étudiants dans le cadre des cours sont généralement bien organisées (ce cours ne fait pas exception à cette règle).\n",
    "- Dans la vraie vie, c'est autre chose!\n",
    "- Lorsque des données sont en jeu, il est important de bien cerner quel est le problème que l'on tente de résoudre, comment les données sont actuellement structurées et comment elles devraient l'être pour faciliter leur utilisation.\n",
    "- Cette réflexion est fondamentale puisque **récolter et organiser des données** constituent environ **80% du travail en analyse de données** (source : [Forbes](https://www.forbes.com/sites/gilpress/2016/03/23/data-preparation-most-time-consuming-least-enjoyable-data-science-task-survey-says/#4e69b73c6f63)).\n",
    "- C'est un travail qui peut paraître ingrat, mais qui est d'une importance capitale.\n",
    "- Adage célèbre en analyse de données : *garbage in, garbage out.*\n"
   ]
  },
  {
   "cell_type": "markdown",
   "metadata": {
    "collapsed": true,
    "slideshow": {
     "slide_type": "slide"
    }
   },
   "source": [
    "Les *tidy data* (expression proposée par Hadley Wickham) : une façon standardisée de lier la structure des données (leur présentation visuelle) à leur sémantique (leur sens).\n",
    "\n",
    "Structure des données :\n",
    "\n",
    "- Généralement, il est souhaitable que les données soient structurées dans une table rectangulaire composée de colonnes et de lignes (Penser feuille Excel). Cela facilite leur manipulation, leur analyse et leur utilisation.\n"
   ]
  },
  {
   "cell_type": "markdown",
   "metadata": {
    "slideshow": {
     "slide_type": "slide"
    }
   },
   "source": [
    "Sémantique des données :\n",
    "\n",
    "- Les données sont un ensemble de valeurs (numérique, chaine de caractères, etc.).\n",
    "- Chaque valeur appartient à une variable et à une observation.\n",
    "- Une variable contient toutes les valeurs mesurant une même caractéristique à travers les unités.\n",
    "- Une observation contient toutes les valeurs mesurées pour la même unité.\n"
   ]
  },
  {
   "cell_type": "markdown",
   "metadata": {
    "slideshow": {
     "slide_type": "slide"
    }
   },
   "source": [
    "Pour que des données répondent aux critères de *tidy data*, il faut que :\n",
    "\n",
    "1. Chaque variable forme une colonne.\n",
    "2. Chaque observation forme une rangée.\n",
    "3. Chaque type d'observation forme une table (important en base de données relationnelle, à suivre)."
   ]
  },
  {
   "cell_type": "markdown",
   "metadata": {
    "collapsed": true,
    "slideshow": {
     "slide_type": "slide"
    }
   },
   "source": [
    "- Structure et sémantique des données idéales :\n",
    "\n",
    "| Variable 1 | Variable 2 | Variable 2 | ...\n",
    "| :--------: |:----------:|:----------:|\n",
    "| valeur 1,1 | valeur 1,2 | valeur 1,3 | ...\n",
    "| valeur 2,1 | valeur 2,2 | valeur 2,3 | ...\n",
    "| valeur 3,1 | valeur 3,2 | valeur 3,3 | ...\n",
    "| ...        | ...        | ...        | ...\n",
    "\n",
    "- Les données répondent rarement aux trois critères précédents (problèmes : les noms de colonnes sont des valeurs, plusieurs variables sont stockées dans une même colonne, plusieurs unités d'observation dans une même table, etc.).\n",
    "- Obtenir et structurer des données consiste à faire en sorte qu'elles y parviennent."
   ]
  },
  {
   "cell_type": "markdown",
   "metadata": {
    "slideshow": {
     "slide_type": "slide"
    }
   },
   "source": [
    "En somme :\n",
    "\n",
    "- La notion de *tidy data* est une façon systématique et cohérente d'organiser les données.\n",
    "- Les variables et les observations doivent être identifiées correctement.\n",
    "- Le défi est de partir de l'état actuel des données pour parvenir à une forme *tidy*.\n",
    "- Le concept de *tidy data* sera possiblement peu pertinent durant vos études. Il risque de l'être beaucoup plus ensuite!\n"
   ]
  },
  {
   "cell_type": "markdown",
   "metadata": {
    "collapsed": true,
    "slideshow": {
     "slide_type": "slide"
    }
   },
   "source": [
    "## 1.2 Les bases de données relationnelles\n",
    "\n",
    "***\n",
    "\n",
    "- Situation hypothétique\n",
    "\n",
    "![](images/large.png)\n",
    "\n",
    "Pourquoi est-ce que cette table est potentiellement problématique?"
   ]
  },
  {
   "cell_type": "markdown",
   "metadata": {
    "slideshow": {
     "slide_type": "slide"
    }
   },
   "source": [
    "Problèmes :\n",
    "\n",
    "1. Doublon : même information dans différentes variables $\\rightarrow$ \"ville_provenance\" et \"ville\".\n",
    "2. Redondance : même information répétée $\\rightarrow$ information sur les études identique pour Anne et Paul.\n",
    "3. Dimension : énormément d'information contenue dans une même table.\n",
    "4. Erreur : saisir toutes les informations à chaque fois = erreurs plus fréquentes $\\rightarrow$ même signification pour valeurs \"Baccalaureat\" et \"Bacc.\", mais écrites différemment.\n",
    "5. Multiples tables (pas dans ce cas) : plusieurs tables à plusieurs endroits (Régistraire, département, associations étudiantes, etc.) $\\rightarrow$ Incohérence entre les différentes versions (synchronisation).\n",
    "\n",
    "Conséquences :\n",
    "\n",
    "1. Prend beaucoup de place de stockage.\n",
    "2. Ralentit la manipulation informatique.\n",
    "3. Crée un potentiel important d'erreur dans les données.\n"
   ]
  },
  {
   "cell_type": "markdown",
   "metadata": {
    "collapsed": true,
    "slideshow": {
     "slide_type": "slide"
    }
   },
   "source": [
    "- Alternative\n",
    "\n",
    "![](images/multiple.png)\n"
   ]
  },
  {
   "cell_type": "markdown",
   "metadata": {
    "slideshow": {
     "slide_type": "slide"
    }
   },
   "source": [
    "Avantages :\n",
    "\n",
    "1. Les modifications n'ont à être faites qu'à un seul endroit (multiples tables).\n",
    "2. Le stockage est fait de façon plus efficace (redondance et dimension).\n",
    "3. Le repérage et la correction des erreurs sont facilités (doublon et mauvaise entrée).\n",
    "5. Manipulation des tables et des données plus simple et rapide (ralentissement).\n",
    "\n",
    "À noter, dans la version alternative, chaque colonne est une variable, chaque obervation est une ligne et *chaque table contient un type d'observation*. Les tables la composant répondent donc aux trois critères des *tidy data*."
   ]
  },
  {
   "cell_type": "markdown",
   "metadata": {
    "collapsed": true,
    "slideshow": {
     "slide_type": "slide"
    }
   },
   "source": [
    "La structure précédente a un nom : une **base de données relationnelle**.\n",
    "\n",
    "- Ensemble de tables contenant de l'information différente.\n",
    "- Dans les tables, les colonnes se nomment des champs (variables) et les lignes se nomment des enregistrements (observations).\n",
    "- Ces tables sont liées entre elles à travers des clés.\n",
    "- Clé primaire : identifie de façon unique chaque enregistrement dans une table.\n",
    "- Clé étrangère : fait référence aux autres tables et garantit l'intégrité référentielle.\n",
    "- Intégrité référentielle : pour chaque valeur d'une table faisant référence à une valeur dans une autre table, la valeur dans l'autre table existe."
   ]
  },
  {
   "cell_type": "markdown",
   "metadata": {
    "collapsed": true,
    "slideshow": {
     "slide_type": "slide"
    }
   },
   "source": [
    "Quiz\n",
    "    \n",
    "![](images/quiz.png)\n",
    "\n",
    "1. Pour chaque table, quelle est la clé primaire?\n",
    "2. Quelle(s) table(s) contient (contiennent) des clés étrangères? Quelles sont ces clés?"
   ]
  },
  {
   "cell_type": "markdown",
   "metadata": {
    "slideshow": {
     "slide_type": "slide"
    }
   },
   "source": [
    "En somme, les bases de données relationnelles :\n",
    "\n",
    "- Permettent de stocker les données de façon optimale.\n",
    "- Permettent de faciliter leur organisation et leur gestion.\n",
    "- Permettent de mettre en relation des données de différentes provenances de manière structurée et cohérente.\n"
   ]
  },
  {
   "cell_type": "markdown",
   "metadata": {
    "slideshow": {
     "slide_type": "slide"
    }
   },
   "source": [
    "## 1.3 Algèbre relationnelle\n",
    "\n",
    "***\n",
    "\n",
    "Diverses opérations permettant de manipuler les tables dans une base de données relationnelles existent.\n",
    "\n",
    "Ces opérations sont définies par l'**algèbre relationnelle**.\n",
    "\n",
    "Algèbre relationnelle : ensemble d'opérations permettant de manipuler des relations afin d'en obtenir de nouvelles.\n",
    "\n",
    "Relation : ensemble de n-uplets partageant les mêmes attributs. Deux composantes :\n",
    "\n",
    "   1. Schéma : de quoi sont composés les n-uplets.\n",
    "   2. Extension : le contenu des n-uplets.\n",
    "\n",
    "N-uplet : objet ordonné ayant la forme $(x_1, ..., x_n)$ où chaque $x_i$ est un élément d'un ensemble défini.\n"
   ]
  },
  {
   "cell_type": "markdown",
   "metadata": {
    "collapsed": true,
    "slideshow": {
     "slide_type": "slide"
    }
   },
   "source": [
    "Exemple : Table etudiant\n",
    "\n",
    "![](images/algebre.png)\n",
    "\n",
    "Relation* : Table etudiant\n",
    "\n",
    "Schéma : \n",
    "\n",
    "{id, prenom, nom_famille, sexe, age, code_ville, code_etude}\n",
    "\n",
    "Extension : \n",
    "\n",
    "{11032242, Paul, St-Amand, H, 22, 322, ECN_B1}, {11037986, Anne, Nguyen, F, 19, 139, ECN_B1}, {11089654, Iris, Mathieu, F, 20, 172, MAT_M1}\n",
    "\n",
    "N-uplet :\n",
    "\n",
    "{11032242, Paul, St-Amand, H, 22, 322, ECN_B1}\n",
    "\n",
    "*<sub>Différence entre une relation et une table : Une relation est non-ordonnée et ne peut contenir deux fois le même enregistrement.<sub>\n",
    "\n",
    "\n"
   ]
  },
  {
   "cell_type": "markdown",
   "metadata": {
    "slideshow": {
     "slide_type": "slide"
    }
   },
   "source": [
    "Opérateurs en algèbre relationnelle :\n",
    "\n",
    "- Restriction ($\\sigma$).\n",
    "- Projection ($\\pi$).\n",
    "- Jointures."
   ]
  },
  {
   "cell_type": "markdown",
   "metadata": {
    "slideshow": {
     "slide_type": "slide"
    }
   },
   "source": [
    "**Restriction** :\n",
    "    \n",
    "- Pour une relation, sélectionne un ensemble de n-uplets qui vérifient un critère donné.\n",
    "- Retourne un nouvel ensemble de n-uplets provenant de la même relation."
   ]
  },
  {
   "cell_type": "markdown",
   "metadata": {
    "slideshow": {
     "slide_type": "slide"
    }
   },
   "source": [
    "Exemple : Relation 1\n",
    "    \n",
    "|    id    | sexe | age | code_ville | code_etude |\n",
    "|:--------:|:----:|:---:|:----------:|:----------:|\n",
    "| 11032242 |  H   | 22  |    322     |   ECN_B1   |\n",
    "| 11037986 |  F   | 19  |    139     |   ECN_B1   |\n",
    "| 11089654 |  F   | 20  |    172     |   MAT_M1   |\n",
    "\n",
    "Restriction : $\\sigma_{sexe == F}(R1)$\n",
    "\n",
    "    \n",
    "|    id    | sexe | age | code_ville | code_etude |\n",
    "|:--------:|:----:|:---:|:----------:|:----------:|\n",
    "| 11037986 |  F   | 19  |    139     |   ECN_B1   |\n",
    "| 11089654 |  F   | 20  |    172     |   MAT_M1   |\n"
   ]
  },
  {
   "cell_type": "markdown",
   "metadata": {
    "slideshow": {
     "slide_type": "slide"
    }
   },
   "source": [
    "**Projection** :\n",
    "\n",
    "- Pour une relation, sélectionne un ensemble d'attributs spécifiés.\n",
    "- Retourne un sous ensemble d'attributs pour l'ensemble de n-uplets provenant de la même relation."
   ]
  },
  {
   "cell_type": "markdown",
   "metadata": {
    "slideshow": {
     "slide_type": "slide"
    }
   },
   "source": [
    "Exemple : Relation 1 \n",
    "\n",
    "|    id    | sexe | age | code_ville | code_etude |\n",
    "|:--------:|:----:|:---:|:----------:|:----------:|\n",
    "| 11032242 |  H   | 22  |    322     |   ECN_B1   |\n",
    "| 11037986 |  F   | 19  |    139     |   ECN_B1   |\n",
    "| 11089654 |  F  |  20  |    172     |   MAT_M1   |\n",
    "\n",
    "Projection : $\\pi_{id, sexe, age}(R1)$\n",
    "\n",
    "|    id    | sexe | age |\n",
    "|:--------:|:----:|:---:|\n",
    "| 11032242 |  H   | 22  |\n",
    "| 11037986 |  F   | 19  |\n",
    "| 11089654 |  F  |  20  |"
   ]
  },
  {
   "cell_type": "markdown",
   "metadata": {
    "slideshow": {
     "slide_type": "slide"
    }
   },
   "source": [
    "**Jointure** :\n",
    "\n",
    "- Combine deux relations selon un critère donné.\n",
    "- Retourne une nouvelle relation composée d'un ensemble de n-uplets combinés selon le critère spécifié.\n",
    "- Le critère est déterminé par le type de jointure :\n",
    "\n",
    "    1. Jointure naturelle ($\\bowtie$).\n",
    "    2. Produit cartésien ($\\times$).\n",
    "    3. Thêta-Jointure ($\\bowtie_{\\theta}$)."
   ]
  },
  {
   "cell_type": "markdown",
   "metadata": {
    "slideshow": {
     "slide_type": "slide"
    }
   },
   "source": [
    "**Jointure, jointure naturelle** :\n",
    "    \n",
    "- Conserve l'ensemble des attributs de chacune des relations.\n",
    "- Retourne l'ensemble des n-uplets pour lesquels les attributs communs aux deux relations sont les mêmes."
   ]
  },
  {
   "cell_type": "markdown",
   "metadata": {
    "slideshow": {
     "slide_type": "slide"
    }
   },
   "source": [
    "Exemple : Relation 1\n",
    "\n",
    "|    id    | sexe | age | code_ville | code_etude |\n",
    "|:--------:|:----:|:---:|:----------:|:----------:|\n",
    "| 11032242 |  H   | 22  |    322     |   ECN_B1   |\n",
    "| 11037986 |  F   | 19  |    139     |   ECN_B1   |\n",
    "| 11089654 |  F  |  20  |    172     |   MAT_M1   |\n",
    "\n",
    "Relation 2\n",
    "\n",
    "| code_ville |   ville   |\n",
    "|:----------:|:---------:|\n",
    "|    322     | New-York  |\n",
    "\n",
    "Jointure naturelle : $R3 \\equiv R1 \\bowtie R2$\n",
    "\n",
    "|    id    | sexe | age | code_ville_R1 | code_etude | code_ville_R2  |   ville   |\n",
    "|:--------:|:----:|:---:|:-------------:|:----------:|:--------------:|:---------:|\n",
    "| 11032242 |  H   | 22  |      322      |   ECN_B1   |       322      | New-York  | "
   ]
  },
  {
   "cell_type": "markdown",
   "metadata": {
    "collapsed": true,
    "slideshow": {
     "slide_type": "slide"
    }
   },
   "source": [
    "**Jointure, produit cartésien :**\n",
    "\n",
    "- Conserve l'ensemble des attributs de chacune des relations.\n",
    "- Retourne l'ensemble des combinaisons possibles entre les deux relations.\n"
   ]
  },
  {
   "cell_type": "markdown",
   "metadata": {
    "slideshow": {
     "slide_type": "slide"
    }
   },
   "source": [
    "Exemple : Relation 1\n",
    "\n",
    "|    id    | sexe | age | code_ville | code_etude |\n",
    "|:--------:|:----:|:---:|:----------:|:----------:|\n",
    "| 11032242 |  H   | 22  |    322     |   ECN_B1   |\n",
    "| 11089654 |  F  |  20  |    172     |   MAT_M1   |\n",
    "\n",
    "Relation 2\n",
    "\n",
    "| code_etude |   programme  |\n",
    "|:----------:|:------------:|\n",
    "|   ECN_B1   |    Economie  |\n",
    "|   MAT_M1   | Mathématique |\n",
    "\n",
    "Produit cartésien : $R3 \\equiv R1 \\times R2$\n",
    "    \n",
    "|    id    | sexe | age | code_ville | code_etude_R1 | code_etude_R2 |   programme  |\n",
    "|:--------:|:----:|:---:|:----------:|:-------------:|:-------------:|:------------:|\n",
    "| 11032242 |  H   | 22  |    322     |     ECN_B1    |     ECN_B1    |    Economie  |\n",
    "| 11032242 |  H   | 22  |    322     |     ECN_B1    |     MAT_M1    | Mathématique |\n",
    "| 11089654 |  F   |  20 |    172     |     MAT_M1    |     ECN_B1    |    Economie  |\n",
    "| 11089654 |  F   |  20 |    172     |     MAT_M1    |     MAT_M1    | Mathématique |"
   ]
  },
  {
   "cell_type": "markdown",
   "metadata": {
    "collapsed": true,
    "slideshow": {
     "slide_type": "slide"
    }
   },
   "source": [
    "**Jointure, thêta-jointure** :\n",
    "\n",
    "- Calcul le produit cartésien.\n",
    "- Retourne ce résultat après y avoir imposée une restriction."
   ]
  },
  {
   "cell_type": "markdown",
   "metadata": {
    "slideshow": {
     "slide_type": "slide"
    }
   },
   "source": [
    "Exemple : Relation 1\n",
    "\n",
    "|    id    | sexe | age | code_ville | code_etude |\n",
    "|:--------:|:----:|:---:|:----------:|:----------:|\n",
    "| 11032242 |  H   | 22  |    322     |   ECN_B1   |\n",
    "| 11037986 |  F   | 19  |    139     |   ECN_B1   |\n",
    "| 11089654 |  F  |  20  |    172     |   MAT_M1   |\n",
    "\n",
    "Relation 2\n",
    "\n",
    "| code_ville |   ville   |\n",
    "|:----------:|:---------:|\n",
    "|    322     | New-York  |\n",
    "\n",
    "Jointure naturelle : $R3 \\equiv R1 \\bowtie R2$\n",
    "\n",
    "|    id    | sexe | age | code_ville_R1 | code_etude | code_ville_R2  |   ville   |\n",
    "|:--------:|:----:|:---:|:-------------:|:----------:|:--------------:|:---------:|\n",
    "| 11032242 |  H   | 22  |      322      |   ECN_B1   |       322      | New-York  |"
   ]
  },
  {
   "cell_type": "markdown",
   "metadata": {
    "collapsed": true,
    "slideshow": {
     "slide_type": "slide"
    }
   },
   "source": [
    "Thêta jointure : $R3 \\equiv R1 \\bowtie_{\\theta} R2 \\equiv \\sigma_{\\theta}(R1 \\times R2)$\n",
    "\n",
    "1. Produit cartésien : $R1 \\times R2$\n",
    "\n",
    "\n",
    "|    id    | sexe | age | code_ville_R1 | code_etude | code_ville_R2  |   ville   |\n",
    "|:--------:|:----:|:---:|:-------------:|:----------:|:--------------:|:---------:|\n",
    "| 11032242 |  H   | 22  |      322      |   ECN_B1   |       322      | New-York  |\n",
    "| 11037986 |  F   | 19  |      139      |   ECN_B1   |       322      | New-York  |\n",
    "| 11089654 |  F   |  20 |      172      |   MAT_M1   |       322      | New-York  |\n",
    "\n",
    "2. restriction : $\\sigma_{code\\_ville\\_R1 == code\\_ville\\_R2}(R3)$\n",
    "\n",
    "|    id    | sexe | age | code_ville_R1 | code_etude | code_ville_R2  |   ville   |\n",
    "|:--------:|:----:|:---:|:-------------:|:----------:|:--------------:|:---------:|\n",
    "| 11032242 |  H   | 22  |      322      |   ECN_B1   |       322      | New-York  |"
   ]
  },
  {
   "cell_type": "markdown",
   "metadata": {
    "slideshow": {
     "slide_type": "slide"
    }
   },
   "source": [
    "Il existe 4 types de thêta-jointure :\n",
    "\n",
    "1. Jointure interne (*inner join*).\n",
    "2. Jointure externe à gauche (*left outer join*).\n",
    "3. Jointure externe à droite (*right outer join*).\n",
    "4. Jointure externe complète (*full outer join*).\n"
   ]
  },
  {
   "cell_type": "markdown",
   "metadata": {
    "slideshow": {
     "slide_type": "slide"
    }
   },
   "source": [
    "**Jointure interne (*inner join*) :**\n",
    "    \n",
    "- Retourne l'ensemble des n-uplets pour lesquels la valeur d'un attribut spécifié est la même."
   ]
  },
  {
   "cell_type": "markdown",
   "metadata": {
    "slideshow": {
     "slide_type": "slide"
    }
   },
   "source": [
    "Exemple : Relation 1\n",
    "\n",
    "|    id    | sexe | age | code_ville | code_etude |\n",
    "|:--------:|:----:|:---:|:----------:|:----------:|\n",
    "| 11032242 |  H   | 22  |    322     |   ECN_B1   |\n",
    "| 11037986 |  F   | 19  |    139     |   ECN_B1   |\n",
    "| 11089654 |  F  |  20  |    172     |   MAT_M1   |\n",
    "\n",
    "Relation 2\n",
    "\n",
    "| code_etude | programme |\n",
    "|:----------:|:---------:|\n",
    "|   ECN_B1   |  Economie |\n",
    "|   SOC_B1 |  Sociologie |\n",
    "\n",
    "Jointure interne : code_etude(R1) == code_etude(R2)\n",
    "\n",
    "|    id    | sexe | age | code_ville | code_etude | programme |\n",
    "|:--------:|:----:|:---:|:----------:|:----------:|:---------:|\n",
    "| 11032242 |  H   | 22  |    322     |   ECN_B1   |  Economie |\n",
    "| 11037986 |  F   | 19  |    139     |   ECN_B1   |  Economie |"
   ]
  },
  {
   "cell_type": "markdown",
   "metadata": {
    "slideshow": {
     "slide_type": "slide"
    }
   },
   "source": [
    "**Jointure externe à gauche (*left outer join*) :**\n",
    "    \n",
    "- Retourne l'ensemble des n-uplets de la première relation (celle de gauche).\n",
    "- Retourne les n-uplets de la deuxième relation (celle de droite) pour lesquels la valeur d'un attribut spécifié est la même que celle d'un autre attribut dans la premier relation (celle de gauche)."
   ]
  },
  {
   "cell_type": "markdown",
   "metadata": {
    "slideshow": {
     "slide_type": "slide"
    }
   },
   "source": [
    "Exemple : Relation 1\n",
    "\n",
    "|    id    | sexe | age | code_ville | code_etude |\n",
    "|:--------:|:----:|:---:|:----------:|:----------:|\n",
    "| 11032242 |  H   | 22  |    322     |   ECN_B1   |\n",
    "| 11037986 |  F   | 19  |    139     |   ECN_B1   |\n",
    "| 11089654 |  F   | 20  |    172     |   MAT_M1   |\n",
    "\n",
    "Relation 2\n",
    "\n",
    "| code_etude |  programme  |\n",
    "|:----------:|:-----------:|\n",
    "|   ECN_B1   |    Economie |\n",
    "|   SOC_B1   |  Sociologie |\n",
    "\n",
    "\n",
    "Jointure externe à gauche : \n",
    "\n",
    "|    id    | sexe | age | code_ville | code_etude | programme |\n",
    "|:--------:|:----:|:---:|:----------:|:----------:|:---------:|\n",
    "| 11032242 |  H   | 22  |    322     |   ECN_B1   |  Economie |\n",
    "| 11037986 |  F   | 19  |    139     |   ECN_B1   |  Economie |\n",
    "| 11089654 |  F   | 20  |    172     |   MAT_M1   |    .      |"
   ]
  },
  {
   "cell_type": "markdown",
   "metadata": {
    "slideshow": {
     "slide_type": "slide"
    }
   },
   "source": [
    "**Jointure externe à droite (*right outer join*)** :\n",
    "\n",
    "- Retourne l'ensemble des n-uplets de la deuxième relation (celle de droite).\n",
    "- Retourne les n-uplets de la deuxième relation (celle de gauche) pour lesquels la valeur d'un attribut spécifié est la même que celle d'un autre attribut dans la premier relation (celle de droite)."
   ]
  },
  {
   "cell_type": "markdown",
   "metadata": {
    "slideshow": {
     "slide_type": "slide"
    }
   },
   "source": [
    "Exemple : Relation 1\n",
    "\n",
    "|    id    | sexe | age | code_ville | code_etude |\n",
    "|:--------:|:----:|:---:|:----------:|:----------:|\n",
    "| 11032242 |  H   | 22  |    322     |   ECN_B1   |\n",
    "| 11037986 |  F   | 19  |    139     |   ECN_B1   |\n",
    "| 11089654 |  F   | 20  |    172     |   MAT_M1   |\n",
    "\n",
    "Relation 2\n",
    "\n",
    "| code_etude | programme |\n",
    "|:----------:|:---------:|\n",
    "|   ECN_B1   |  Economie |\n",
    "|   SOC_B1 |  Sociologie |\n",
    "\n",
    "Jointure externe à droite :\n",
    "\n",
    "|    id    | sexe | age | code_ville | code_etude |  programme  |\n",
    "|:--------:|:----:|:---:|:----------:|:----------:|:-----------:|\n",
    "| 11032242 |  H   | 22  |    322     |   ECN_B1   |   Economie  |\n",
    "| 11037986 |  F   | 19  |    139     |   ECN_B1   |   Economie  |\n",
    "|     .    |  .   |  .  |     .      |   SOC_B1   |  Sociologie |"
   ]
  },
  {
   "cell_type": "markdown",
   "metadata": {
    "slideshow": {
     "slide_type": "slide"
    }
   },
   "source": [
    "**jointure externe complète (full outer join) :**\n",
    "\n",
    "- Retourne l'ensemble des n-uplets pour chacune des relations.\n",
    "- Pour les n-uplets dont la valeur d'un attribut spécifié est la même dans les deux relations, l'information des deux relations est jointes. "
   ]
  },
  {
   "cell_type": "markdown",
   "metadata": {
    "slideshow": {
     "slide_type": "slide"
    }
   },
   "source": [
    "Exemple : Relation 1\n",
    "\n",
    "|    id    | sexe | age | code_ville | code_etude |\n",
    "|:--------:|:----:|:---:|:----------:|:----------:|\n",
    "| 11032242 |  H   | 22  |    322     |   ECN_B1   |\n",
    "| 11037986 |  F   | 19  |    139     |   ECN_B1   |\n",
    "| 11089654 |  F  |  20  |    172     |   MAT_M1   |\n",
    "\n",
    "Relation 2\n",
    "\n",
    "| code_etude | programme |\n",
    "|:----------:|:---------:|\n",
    "|   ECN_B1   |  Economie |\n",
    "|   SOC_B1 |  Sociologie |\n",
    "\n",
    "Jointure externe complète :\n",
    "\n",
    "|    id    | sexe | age | code_ville | code_etude | programme  |\n",
    "|:--------:|:----:|:---:|:----------:|:----------:|:----------:|\n",
    "| 11032242 |  H   | 22  |    322     |   ECN_B1   |  Economie  |\n",
    "| 11037986 |  F   | 19  |    139     |   ECN_B1   |  Economie  |\n",
    "| 11089654 |  F   | 20  |    172     |   MAT_M1   |      .     |\n",
    "|     .    |   .  | .   |      .     |   SOC_B1   | Sociologie |"
   ]
  },
  {
   "cell_type": "markdown",
   "metadata": {
    "slideshow": {
     "slide_type": "slide"
    }
   },
   "source": [
    "- Un autre concept important en algèbre relationnelle est celui de la **cardinalité**.\n",
    "- Une particularité de la cardinalité est qu'elle possède deux définitions.\n",
    "- En algèbre relationnelle, la cardinalité est définie selon **le type d'association entre deux relations**. Il s'agir donc d'un concept distinct des jointures.\n",
    "- Il existe 3 types d'associations possibles entre deux relations : une à une, une à plusieurs/plusieurs à une, plusieurs à plusieurs.\n",
    "- L'association **une à une** implique que pour une association entre deux relations, chaque n-uplet d'une relation est associé à un seul n-uplet d'une autre relation. Ex.: une relation `vendeur` possédant l'information personnelle de chaque vendeur et une table `ventes_vendeur` indiquant l'information sur le nombre de ventes et le motant total auquel équivalent ces ventes. Chaque vendeur possède un seul montant total de ventes.\n",
    "- L'association **une à plusieurs/plusieurs à une** implique que pour une association entre deux relations, chaque n-uplet d'une relation est associé à plusieurs n-uplets d'une autre relation. Ex.: une relation `étudiant` et une relation `programme`. Chaque étudiant n'est inscrit qu'à un seul programme, mais plusieurs étudiants sont inscrits dans le même programme.\n",
    "- Ces deux types d'association entre deux relations peuvent être facilement implémentés avec les jointures vues ci-haut."
   ]
  },
  {
   "cell_type": "markdown",
   "metadata": {
    "slideshow": {
     "slide_type": "slide"
    }
   },
   "source": [
    "- L'association **plusieurs à plusieurs** implique que pour une association entre deux relations, plusieurs n-uplets d'une relation sont associés à plusieurs n-uplets d'une autre relation. Ex.: une relation `facture` et une relation `item`. Chaque facture peut contenir de nombreux items et chaque item peut se retrouver dans plusieurs factures.\n",
    "- Ce type d'association ne peut pas se faire directement d'une relation à une autre $\\rightarrow$ Nécessite une table d'association.\n",
    "- Une **table d'association** permet de lier deux relations lors d'une association de plusieurs à plusieurs.\n",
    "- Par exemple, dans la relation `facture`, chaque n-uplet est une facture différente. Dans la relation `item`, chaque n-uplet est un item différent. Conséquemment, dans la table d'association, chaque n-uplet est une facture-item.\n",
    "- Permet d'introduire de l'information sur l'association entre les deux n-uplets. Ex.: Le nombre d'items achetés sur une même facture.\n",
    "- Pour ce qui est de la cardinalité, son autre définition provient du SQL que nous allons voir à l'instant."
   ]
  },
  {
   "cell_type": "markdown",
   "metadata": {
    "slideshow": {
     "slide_type": "slide"
    }
   },
   "source": [
    "Exemple d'association plusieurs à plusieurs :\n",
    "\n",
    "| Facture | Motant |\n",
    "|:-------:|:------:|\n",
    "|    1    |    40  |\n",
    "|    2    |   100  |\n",
    "\n",
    "\n",
    "| Item | Prix unitaire|\n",
    "|:----:|:------------:|\n",
    "|  A   |       5      |\n",
    "|  B   |     7,50     |\n",
    "\n",
    "\n",
    "| Facture | Item | Quantité |\n",
    "|:-------:|:----:|:--------:|\n",
    "|    1    |   A  |     4    |\n",
    "|    1    |   C  |     2    |\n",
    "|    2    |   B  |    11    |\n",
    "\n",
    "\n",
    "Où la troisième table est la table d'association."
   ]
  },
  {
   "cell_type": "markdown",
   "metadata": {
    "slideshow": {
     "slide_type": "slide"
    }
   },
   "source": [
    "Em somme :\n",
    "\n",
    "- L'algèbre relationelle est l'abstraction mathématique permettant de manipuler et naviguer à travers les bases de données relationnelles.\n",
    "- Différents opérateurs existent en algèbre linéaire; ceux-ci permettent d'interoger la base de données afin d'obtenir uniquement les attributs et les nuplets désirés.\n",
    "- Les jointures sont d'une grande importance, car elle permettent de mettre en commun différentes relations afin d'obtenir une structure de données permettant d'effectuer ensuite des analyses statistiques."
   ]
  },
  {
   "cell_type": "markdown",
   "metadata": {
    "slideshow": {
     "slide_type": "slide"
    }
   },
   "source": [
    "## 2.4 Introduction au SQL\n",
    "\n",
    "***\n",
    "\n",
    "- L'implantation informatique de l'algèbre linéaire a été effectuée à l'aide du langage SQL (*Structured Query Language*).\n",
    "- SQL permet de faire des **requêtes** auprès d'une base de données afin d'interagir avec elle $\\rightarrow$ Le résultat d'une requête est généralement une relation.\n",
    "- Avantages du SQL (en plus des avantages déjà couverts des bases de données relationnelles) :\n",
    "    1. Optimiser pour la manipulation de données (rapide et efficace).\n",
    "    2. Synthaxe simple et claire (et avec très peu de code).\n",
    "    3. Très répandu.\n",
    "- Désavantages :\n",
    "    1. L'instauration d'une base de données peut être complexe pour les non initiés.\n",
    "    3. L'interface peut être difficile.\n",
    "    2. Certains formats de données ne se prêtent pas bien à la structure requise par les bases de données relationnelles et le SQL."
   ]
  },
  {
   "cell_type": "markdown",
   "metadata": {
    "slideshow": {
     "slide_type": "slide"
    }
   },
   "source": [
    "- SQL est composé de 4 langages :\n",
    "    1. **Langage de définition de données (*Data Definition Language, DDL*).**\n",
    "    2. **Langage de manipulation de données (*Data Manipulation Language, DML*).**\n",
    "    3. Langage de contrôle de données (*Data Control Language, DCL*).\n",
    "    4. Language de transaction de données (*Transaction Control Language, TCL*)."
   ]
  },
  {
   "cell_type": "markdown",
   "metadata": {
    "slideshow": {
     "slide_type": "slide"
    }
   },
   "source": [
    "**Langage de définition de données** :\n",
    "\n",
    "- Permet de manipuler la structure des données : créer/supprimer des tables, modifier des tables existantes, etc.\n",
    "\n",
    "Principaux mots-clés :\n",
    "\n",
    "- CREATE TABLE : Permet de créer une nouvelle table dans la base de données.\n",
    "\n",
    "- ALTER TABLE (ADD/DROP/ALTER COLUMN) : Permet d'ajouter, de retirer ou de modifier des variables dans une table existante. \n",
    "\n",
    "- DROP TABLE : Permet de retirer une table existante de la base de données."
   ]
  },
  {
   "cell_type": "markdown",
   "metadata": {
    "slideshow": {
     "slide_type": "slide"
    }
   },
   "source": [
    "Exemple de requête faite avec le langage de définition de données :\n",
    "\n",
    "`\n",
    "CREATE TABLE table1 (\n",
    "    var1 INT,\n",
    "    var2 REAL,\n",
    "    var3 TEXT,\n",
    "    PRIMARY KEY (var1)\n",
    ")\n",
    ";\n",
    "`\n",
    "\n",
    "Cette requête crée une table appelée table1 contenant 3 variables, var1, var2 et var3, qui ont respectivement comme entrées des nombres entiers, des nombres réels et des chaines de caractères.\n",
    "\n",
    "Les requêtes SQL se terminent toujours par un point-virgule (;).\n",
    "\n",
    "Ici, `PRIMARY KEY` est appelée une contrainte. Dans ce cas-ci, elle identifie de façon unique chaque enregistrement dans la base de données. Il existe beaucoup d'autres types de contraintes (e.g. `NOT NULL`)."
   ]
  },
  {
   "cell_type": "markdown",
   "metadata": {
    "slideshow": {
     "slide_type": "slide"
    }
   },
   "source": [
    "**Langage de manipulation de données :**\n",
    "\n",
    "- Permet de manipuler les données elles-mêmes : \n",
    "\n",
    "Principaux mots-clés :\n",
    "\n",
    "- SELECT ... FROM : Permet de sélectionner une ou plusieurres variables à l'intérieur d'une table (\\* permet de sélectionner tous les éléments de la table.)\n",
    "- INSERT INTO : Permet d'ajouter un nouvel enregistrement dans une table existante. \n",
    "- UPDATE ... SET : Permet de modifier la valeur d'un enregistrement déjà existant.\n",
    "- DELETE FROM : Permet de supprimer un enregistrement existant.\n"
   ]
  },
  {
   "cell_type": "markdown",
   "metadata": {
    "slideshow": {
     "slide_type": "slide"
    }
   },
   "source": [
    "- Les requêtes utilisant les mots-clés précédents peuvent être accompagnées de clauses.\n",
    "- Une clause est un opérateur sur le résultat d'une requête.\n",
    "\n",
    "Principales clauses :\n",
    "\n",
    "- WHERE : Permet d'introduire une condition sur les enregistrements retournés.\n",
    "- GROUP_BY : Permet de regrouper les enregistrements selon un attribut, généralement pour accompagner une fonction d'aggrégation (e.g. COUNT, AVG, etc.).\n",
    "- LIMIT : Permet d'introduire un nombre limite d'enregistrements à retourner (utile quand la relation retournée est de taille inconnue et potentiellement volumineuse).\n",
    "- INNER/LEFT OUTER/RIGHT OUTER/FULL OUTER JOIN : Permet d'effectuer des jointures selon l'algèbre relationnelle."
   ]
  },
  {
   "cell_type": "markdown",
   "metadata": {
    "slideshow": {
     "slide_type": "slide"
    }
   },
   "source": [
    "Exemple de requête faite avec le langage de manipulation de données :\n",
    "\n",
    "`\n",
    "SELECT table1.var1, table1.var2, table2.var3\n",
    "FROM table1\n",
    "LEFT OUTER JOIN table2 ON var1=var4\n",
    ";\n",
    "`\n",
    "\n",
    "Cette requête sélectionne les variables `var1` et `var2` de la table `table1` et la variable `var3` de la table `table2` et effectue ensuite une jointure complète à gauche sur la table `table1` avec la table `table2` à partir des variables `var1` (`table1`) et `var4` (`table2`)."
   ]
  },
  {
   "cell_type": "markdown",
   "metadata": {
    "slideshow": {
     "slide_type": "slide"
    }
   },
   "source": [
    "**Vue**\n",
    "\n",
    "- Est la sauvegarde du résultat d'une requête.\n",
    "- Est immuable (ne peut être transformée par son utilisateur).\n",
    "- Permet de contrôler l'accès aux tables."
   ]
  },
  {
   "cell_type": "markdown",
   "metadata": {
    "slideshow": {
     "slide_type": "slide"
    }
   },
   "source": [
    "Exemple de requête permettant de créer une vue :\n",
    "    \n",
    "`CREATE VIEW vue1 AS v1\n",
    "SELECT table1.var1, table1.var2, table2.var3\n",
    "FROM table1\n",
    "LEFT OUTER JOIN table2 ON var1=var4\n",
    ";\n",
    "`\n",
    "\n",
    "Cette requête crée une vue à partir de la requête précédente concernant l'utilisation de la jointure. Cette vue se nomme `vue1`.\n",
    "\n",
    "L'expression `AS` est utilisée afin de donner un *alias* à une table, en l'occurrence `v1`, comme il est possible de le faire avec les modules en Python.\n"
   ]
  },
  {
   "cell_type": "markdown",
   "metadata": {
    "slideshow": {
     "slide_type": "slide"
    }
   },
   "source": [
    "**Fonction**\n",
    "\n",
    "- Prend des intrants pour effectuer une ou plusieurs tâches.\n",
    "- Retourne une table ou une valeur.\n",
    "- Permet d'éviter la réécriture inutile de code (par exemple pour effectuer de façon récurente une requête).\n",
    "- Ne peut pas modifier la structure de la base de données (ne peut pas `UPDATE` une table)"
   ]
  },
  {
   "cell_type": "markdown",
   "metadata": {
    "slideshow": {
     "slide_type": "slide"
    }
   },
   "source": [
    "Exemple de création de fonction :\n",
    "\n",
    "`CREATE FUNCTION desc_var\n",
    "(\n",
    "    @table TEXT,\n",
    "    @column TEXT\n",
    ")\n",
    "RETURN TABLE\n",
    "AS\n",
    "BEGIN\n",
    "    RETURN\n",
    "    SELECT MIN(@column), MAX(@column), AVG(@column)\n",
    "    FROM @table\n",
    "END`\n",
    "\n",
    "Cette fonction décrit une variable en retournant la valeur minimum, la valeur maximum et la moyenne d'une colonne dans une table. Possibilité ensuite d'utiliser la fonction ainsi :\n",
    "\n",
    "`desc_var(employe, age)`\n"
   ]
  },
  {
   "cell_type": "markdown",
   "metadata": {
    "slideshow": {
     "slide_type": "slide"
    }
   },
   "source": [
    "**Procédure stockée**\n",
    "\n",
    "- Regroupement d'instruction SQL.\n",
    "- Sert à effectuer des tâches plus ou moins complexes sur la base de données de façon systématique.\n",
    "- Certains utilisent les procédures stockées comme des fonctions; par ailleurs, une fonction peut être appelée dans une procédure stockée."
   ]
  },
  {
   "cell_type": "markdown",
   "metadata": {
    "slideshow": {
     "slide_type": "slide"
    }
   },
   "source": [
    "Exemple de création d'une procédure stockée :\n",
    "\n",
    "`CREATE PROCEDURE nouvel_achat\n",
    "(\n",
    "    @id INT,\n",
    "    @montant INT\n",
    ")\n",
    "AS\n",
    "BEGIN\n",
    "    UPDATE client\n",
    "    SET depenses_tot = depenses_tot + @montant\n",
    "    WHERE client_id = @id\n",
    "END`\n",
    "\n",
    "\n",
    "\n",
    "Cette procédure stockée ajoute le montant d'une nouvelle dépense au montant de dépenses totales d'un client. Possibilité ensuite d'exécuter la procédure ainsi :\n",
    "\n",
    "`EXECUTE nouvel_achat 123, 25`"
   ]
  },
  {
   "cell_type": "markdown",
   "metadata": {
    "slideshow": {
     "slide_type": "slide"
    }
   },
   "source": [
    "**Cardinalité 2.0**\n",
    "\n",
    "- La cardinalité a déjà été définie en algèbre linéaire. Dans ce contexte, elle est définie selon le type d'associations possibles entre différentes relations.\n",
    "- En SQL, la cardinalité fait référence au nombre de valeurs uniques dans une colonne.\n",
    "- Une cardinalité faible signifie qu'il y a peu de valeurs uniques pour une certaine colonne (cas limite : cardinalité = 1).\n",
    "- Une cardinalité élevée signifie qu'il y a beaucoup de valeurs uniques pour une certaine colonne (cas limite : cardinalité = N, où N est le nombre d'enregistrements).\n",
    "- Dans ce contexte, la cardinalité est un nombre."
   ]
  },
  {
   "cell_type": "markdown",
   "metadata": {
    "slideshow": {
     "slide_type": "slide"
    }
   },
   "source": [
    "En somme :\n",
    "\n",
    "- Le SQL est l'implémentation informatique de l'algèbre relationnelle permettant de naviguer dans une base de données relationnelle.\n",
    "- Les requêtes permettent de questionner les différentes tables de la base de données pour obtenir une nouvelle table correspondant aux besoins des analyses.\n",
    "- La bonne compréhension de l'algèbre relationnelle va de paire avec la capacité d'écrire des requêtes SQL répondant correctement aux exigences."
   ]
  },
  {
   "cell_type": "markdown",
   "metadata": {
    "collapsed": true,
    "slideshow": {
     "slide_type": "slide"
    }
   },
   "source": [
    "## 2.5 Python et SQLite\n",
    "\n",
    "***\n",
    "\n",
    "- Il existe plusieurs implémentations de SQL : MySQL, MS SQL Server, Oracle Database, etc.\n",
    "- Dans le cadre de ce cours, SQLite sera utilisé.\n",
    "- SQLite est une version *light* de SQL : Gratuit et local.\n",
    "- SQLite possède deux types de commandes :\n",
    "    1. Commande SQL traditionnelle (e.g. SELECT)\n",
    "    2. Commande propre à SQLite (e.g. .table)\n",
    "- Son utilisation peut être faite à l'aide du terminal (ou de l'invite de commande), d'un interface graphique pour utilisateur (*Graphical User Interface, GUI*) tel que DB Browser ou SQLiteStudio, ou encore à l'intérieur d'un autre language de programmation.\n",
    "- Dans le cadre de ce cours : Le dernier choix!\n",
    "- SQLite vient avec Python via le module `sqlite3`"
   ]
  },
  {
   "cell_type": "markdown",
   "metadata": {
    "slideshow": {
     "slide_type": "slide"
    }
   },
   "source": [
    "- Importation du module sqlite3.\n",
    "- Définition d'une connection à une base de données.\n",
    "- Définition du curseur."
   ]
  },
  {
   "cell_type": "code",
   "execution_count": 4,
   "metadata": {
    "collapsed": true,
    "slideshow": {
     "slide_type": "-"
    }
   },
   "outputs": [],
   "source": [
    "import sqlite3\n",
    "\n",
    "# Définition d'une connection à une base de données\n",
    "connect = sqlite3.connect(\"etudiant_ulaval.db\")\n",
    "# si SQLite ne trouve pas la base de données, il l'a crée\n",
    "\n",
    "# Définition du curseur\n",
    "cur = connect.cursor()"
   ]
  },
  {
   "cell_type": "markdown",
   "metadata": {
    "slideshow": {
     "slide_type": "slide"
    }
   },
   "source": [
    "Création des tables\n",
    "\n",
    "etudiant\n",
    "\n",
    "|    id    | sexe | age | code_ville | code_etude |\n",
    "|:--------:|:----:|:---:|:----------:|:----------:|\n",
    "| 11032242 |  H   | 22  |    322     |   ECN_B1   |\n",
    "| 11037986 |  F   | 19  |    139     |   ECN_B1   |\n",
    "| 11089654 |  F   | 20  |    172     |   MAT_M1   |\n",
    "\n",
    "\n",
    "etude\n",
    "\n",
    "| code_etude |  programme  |\n",
    "|:----------:|:-----------:|\n",
    "|   ECN_B1   |    Economie |\n",
    "|   SOC_B1   |  Sociologie |"
   ]
  },
  {
   "cell_type": "code",
   "execution_count": 5,
   "metadata": {
    "slideshow": {
     "slide_type": "slide"
    }
   },
   "outputs": [
    {
     "name": "stdout",
     "output_type": "stream",
     "text": [
      "[('etudiant',), ('etude',)]\n"
     ]
    }
   ],
   "source": [
    "# Création de la table etudiant\n",
    "cur.execute(\"CREATE TABLE IF NOT EXISTS etudiant(id INT, sexe TEXT, age INT, \"\n",
    "            \"code_ville INT, code_etude TEXT) ;\")\n",
    "\n",
    "# Création de la table etude\n",
    "cur.execute(\"CREATE TABLE IF NOT EXISTS etude(code_etude TEXT, programme TEXT);\")\n",
    "\n",
    "# Pour voir les tables existantes dans la base de données\n",
    "cur.execute(\"SELECT name FROM sqlite_master WHERE type='table';\")\n",
    "tables_names = cur.fetchall() # .fetchall() \"copie\" le résultat de la requête\n",
    "print(tables_names)"
   ]
  },
  {
   "cell_type": "code",
   "execution_count": 6,
   "metadata": {
    "slideshow": {
     "slide_type": "-"
    }
   },
   "outputs": [
    {
     "name": "stdout",
     "output_type": "stream",
     "text": [
      "[]\n"
     ]
    }
   ],
   "source": [
    "# Pour voir le contenu d'une table\n",
    "cur.execute(\"SELECT * FROM etudiant;\")\n",
    "# L'astérisque veut dire \"tous les champs (variables)\" de la BD\n",
    "\n",
    "etudiant_content = cur.fetchall()\n",
    "print(etudiant_content)"
   ]
  },
  {
   "cell_type": "markdown",
   "metadata": {
    "slideshow": {
     "slide_type": "slide"
    }
   },
   "source": [
    "- Les tables sont créées, mais sont pour le moment vides.\n",
    "- Ajout d'enregistrements."
   ]
  },
  {
   "cell_type": "code",
   "execution_count": 7,
   "metadata": {
    "collapsed": true
   },
   "outputs": [],
   "source": [
    "# Ajout d'enregistrement dans la table etudiant\n",
    "cur.execute(\"INSERT INTO etudiant VALUES(11032242, 'H', 22, 322, 'ECN_B1');\")\n",
    "cur.execute(\"INSERT INTO etudiant VALUES(11037986, 'F', 19, 139, 'ECN_B1');\")\n",
    "cur.execute(\"INSERT INTO etudiant VALUES(11089654, 'F', 20, 172, 'MAT_M1');\")\n",
    "\n",
    "# Soumission des modifications à la base de données\n",
    "connect.commit()\n",
    "\n",
    "# Ajout d'enregistrement dans la table etude (autre méthode)\n",
    "cur.execute(\"INSERT INTO etude (code_etude, programme) VALUES(?, ?);\",\n",
    "            ('ECN_B1', 'Economie'))\n",
    "cur.execute(\"INSERT INTO etude (code_etude, programme) VALUES(?, ?);\",\n",
    "            ('SOC_B1', 'Sociologie'))\n",
    "connect.commit()"
   ]
  },
  {
   "cell_type": "code",
   "execution_count": 8,
   "metadata": {
    "slideshow": {
     "slide_type": "slide"
    }
   },
   "outputs": [
    {
     "data": {
      "text/plain": [
       "[('ECN_B1', 'Economie'), ('SOC_B1', 'Sociologie')]"
      ]
     },
     "execution_count": 8,
     "metadata": {},
     "output_type": "execute_result"
    }
   ],
   "source": [
    "# Contenu de la table etudiant\n",
    "cur.execute(\"SELECT * FROM etude;\")\n",
    "etude_content = cur.fetchall()\n",
    "etude_content"
   ]
  },
  {
   "cell_type": "markdown",
   "metadata": {},
   "source": [
    "- Les enregistrements sont à présent dans la table `etude`."
   ]
  },
  {
   "cell_type": "markdown",
   "metadata": {
    "slideshow": {
     "slide_type": "slide"
    }
   },
   "source": [
    "- Une fois les modifications/manipulations effectuées sur la base de données, fermer le curseur et la base de données."
   ]
  },
  {
   "cell_type": "code",
   "execution_count": 9,
   "metadata": {
    "collapsed": true,
    "slideshow": {
     "slide_type": "-"
    }
   },
   "outputs": [],
   "source": [
    "# Fermeture du curseur\n",
    "cur.close()\n",
    "\n",
    "# Fermeture de la base de données\n",
    "connect.close()"
   ]
  },
  {
   "cell_type": "markdown",
   "metadata": {
    "slideshow": {
     "slide_type": "-"
    }
   },
   "source": [
    "La base de données est maintenant créée..."
   ]
  },
  {
   "cell_type": "code",
   "execution_count": 10,
   "metadata": {
    "slideshow": {
     "slide_type": "-"
    }
   },
   "outputs": [
    {
     "data": {
      "text/plain": [
       "['etudiant_ulaval.db']"
      ]
     },
     "execution_count": 10,
     "metadata": {},
     "output_type": "execute_result"
    }
   ],
   "source": [
    "import glob\n",
    "\n",
    "# Voir tous les fichiers dans le dossiers finissant par l'extension \".db\"\n",
    "glob.glob(\"*.db\")"
   ]
  },
  {
   "cell_type": "markdown",
   "metadata": {
    "slideshow": {
     "slide_type": "-"
    }
   },
   "source": [
    "...et localisée dans le dossier de travail."
   ]
  },
  {
   "cell_type": "markdown",
   "metadata": {
    "slideshow": {
     "slide_type": "slide"
    }
   },
   "source": [
    "- Entrer les enregistrements à la main (ou *à la ligne*) n'est certainement pas optimal.\n",
    "- Pour une façon alternative de procéder, voir l'exemple de travail long.\n",
    "- Possibilité également de faire des jointures."
   ]
  },
  {
   "cell_type": "code",
   "execution_count": 11,
   "metadata": {
    "slideshow": {
     "slide_type": "-"
    }
   },
   "outputs": [
    {
     "name": "stdout",
     "output_type": "stream",
     "text": [
      "[('etudiant',), ('etude',)]\n"
     ]
    }
   ],
   "source": [
    "import sqlite3\n",
    "\n",
    "connect = sqlite3.connect(\"etudiant_ulaval.db\")\n",
    "cur = connect.cursor()\n",
    "\n",
    "cur.execute(\"SELECT name FROM sqlite_master WHERE type='table';\")\n",
    "tables_names = cur.fetchall()\n",
    "print(tables_names)"
   ]
  },
  {
   "cell_type": "code",
   "execution_count": 12,
   "metadata": {},
   "outputs": [
    {
     "data": {
      "text/plain": [
       "[(11032242, 22, 'H', 322, 'ECN_B1', 'Economie'),\n",
       " (11037986, 19, 'F', 139, 'ECN_B1', 'Economie'),\n",
       " (11089654, 20, 'F', 172, 'MAT_M1', None)]"
      ]
     },
     "execution_count": 12,
     "metadata": {},
     "output_type": "execute_result"
    }
   ],
   "source": [
    "# Visualisation du résultat d'une jointure\n",
    "cur.execute(\"\"\"SELECT etudiant.id AS id, etudiant.age AS age, etudiant.sexe AS sexe,\n",
    "            etudiant.code_ville AS code_ville, etudiant.code_etude AS code_etude, \n",
    "            etude.programme AS programme \n",
    "            FROM etudiant \n",
    "            LEFT OUTER JOIN etude ON etudiant.code_etude = etude.code_etude;\"\"\")\n",
    "join_gauche_content = cur.fetchall()\n",
    "join_gauche_content"
   ]
  },
  {
   "cell_type": "code",
   "execution_count": 13,
   "metadata": {
    "collapsed": true,
    "slideshow": {
     "slide_type": "-"
    }
   },
   "outputs": [],
   "source": [
    "cur.close()\n",
    "connect.close()"
   ]
  },
  {
   "cell_type": "markdown",
   "metadata": {
    "slideshow": {
     "slide_type": "slide"
    }
   },
   "source": [
    "Il est ensuite possible d'utiliser ce résultat et de le transformer dans un format que Python connait, par exemple un dataframe (format de données provenant du module Pandas que nous allons explorer plus en détails la semaine prochaine.)"
   ]
  },
  {
   "cell_type": "code",
   "execution_count": 15,
   "metadata": {
    "slideshow": {
     "slide_type": "-"
    }
   },
   "outputs": [
    {
     "data": {
      "text/html": [
       "<div>\n",
       "<style>\n",
       "    .dataframe thead tr:only-child th {\n",
       "        text-align: right;\n",
       "    }\n",
       "\n",
       "    .dataframe thead th {\n",
       "        text-align: left;\n",
       "    }\n",
       "\n",
       "    .dataframe tbody tr th {\n",
       "        vertical-align: top;\n",
       "    }\n",
       "</style>\n",
       "<table border=\"1\" class=\"dataframe\">\n",
       "  <thead>\n",
       "    <tr style=\"text-align: right;\">\n",
       "      <th></th>\n",
       "      <th>id</th>\n",
       "      <th>age</th>\n",
       "      <th>sexe</th>\n",
       "      <th>code_ville</th>\n",
       "      <th>code_etude</th>\n",
       "      <th>programme</th>\n",
       "    </tr>\n",
       "  </thead>\n",
       "  <tbody>\n",
       "    <tr>\n",
       "      <th>0</th>\n",
       "      <td>11032242</td>\n",
       "      <td>22</td>\n",
       "      <td>H</td>\n",
       "      <td>322</td>\n",
       "      <td>ECN_B1</td>\n",
       "      <td>Economie</td>\n",
       "    </tr>\n",
       "    <tr>\n",
       "      <th>1</th>\n",
       "      <td>11037986</td>\n",
       "      <td>19</td>\n",
       "      <td>F</td>\n",
       "      <td>139</td>\n",
       "      <td>ECN_B1</td>\n",
       "      <td>Economie</td>\n",
       "    </tr>\n",
       "    <tr>\n",
       "      <th>2</th>\n",
       "      <td>11089654</td>\n",
       "      <td>20</td>\n",
       "      <td>F</td>\n",
       "      <td>172</td>\n",
       "      <td>MAT_M1</td>\n",
       "      <td>None</td>\n",
       "    </tr>\n",
       "  </tbody>\n",
       "</table>\n",
       "</div>"
      ],
      "text/plain": [
       "         id  age sexe  code_ville code_etude programme\n",
       "0  11032242   22    H         322     ECN_B1  Economie\n",
       "1  11037986   19    F         139     ECN_B1  Economie\n",
       "2  11089654   20    F         172     MAT_M1      None"
      ]
     },
     "execution_count": 15,
     "metadata": {},
     "output_type": "execute_result"
    }
   ],
   "source": [
    "import pandas as pd\n",
    "\n",
    "connect = sqlite3.connect(\"etudiant_ulaval.db\")\n",
    "\n",
    "df = pd.read_sql_query(\"\"\"SELECT etudiant.id AS id, etudiant.age AS age, etudiant.sexe AS sexe,\n",
    "            etudiant.code_ville AS code_ville, etudiant.code_etude AS code_etude, \n",
    "            etude.programme AS programme \n",
    "            FROM etudiant \n",
    "            LEFT OUTER JOIN etude ON etudiant.code_etude = etude.code_etude;\"\"\", connect)\n",
    "\n",
    "connect.close()\n",
    "\n",
    "df"
   ]
  },
  {
   "cell_type": "markdown",
   "metadata": {
    "slideshow": {
     "slide_type": "-"
    }
   },
   "source": [
    "Exactement le résultat attendu tel que vu précédemment."
   ]
  },
  {
   "cell_type": "markdown",
   "metadata": {
    "slideshow": {
     "slide_type": "slide"
    }
   },
   "source": [
    "## 2.6 Devoir\n",
    "\n",
    "***\n",
    "\n",
    "1. Aller sur [Kaggle/Datasets](https://www.kaggle.com/datasets).\n",
    "2. Créer un compte Kaggle.\n",
    "3. Sélectionner et télécharger des données sur lesquelles vous désirez effectuer des analyses dans le cadre du travail long.\n",
    "4. Construire une base de données SQL dans un programme Python à l'aide du module sqlite3 (voir les présentes notes et l'exemple de travail long).\n",
    "\n",
    "Critères pour les données :\n",
    "\n",
    "- Au moins deux tables (afin de pouvoir effectuer une jointure). \n",
    "- Éviter les bases de données portant sur les images/sons/tout autre sujet très intéressant, mais moins adapté pour un cours d'introduction à l'apprentissage automatique.\n",
    "- Éviter les bases de données trop massives (paradoxal?).\n",
    "- Choisir des données sur un sujet qui vous intéresse, car vous utiliserez ces données tout au long de la session."
   ]
  }
 ],
 "metadata": {
  "celltoolbar": "Slideshow",
  "kernelspec": {
   "display_name": "Python 3",
   "language": "python",
   "name": "python3"
  },
  "language_info": {
   "codemirror_mode": {
    "name": "ipython",
    "version": 3
   },
   "file_extension": ".py",
   "mimetype": "text/x-python",
   "name": "python",
   "nbconvert_exporter": "python",
   "pygments_lexer": "ipython3",
   "version": "3.6.3"
  }
 },
 "nbformat": 4,
 "nbformat_minor": 2
}
