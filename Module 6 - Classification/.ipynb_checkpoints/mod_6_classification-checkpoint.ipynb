{
 "cells": [
  {
   "cell_type": "markdown",
   "metadata": {
    "slideshow": {
     "slide_type": "slide"
    }
   },
   "source": [
    "# Quiz de révision\n",
    "\n",
    "1. Quelles sont les principales utilités de la validation croisée? Pourquoi est-elle utilisée dans ces conditions?\n",
    "2. Expliquez ce qui distingue les forêts aléatoire de la méthode *bagging*.\n",
    "3. Pourquoi voudrait-on introduire du biais dans un modèle?\n",
    "4. Qu'est-ce qui distingue la régression ridge de la régression LASSO?"
   ]
  },
  {
   "cell_type": "markdown",
   "metadata": {
    "slideshow": {
     "slide_type": "slide"
    }
   },
   "source": [
    "- Exemple de réponse à la question 1.\n",
    "\n",
    "La validation croisée à principalement deux utilités. La première est l'évaluation non biaisée de la performance prdictive d'un modèle. En effet, estimer cette performance sur les données utilisées pour entrainer le modèle risque de données une mesure optimiste et donc biaisée de la performance réelle du modèle. Dans le cas extrême, le modèle pourrait surapprendre et prédire très bien les données d'entrainement sans toutefois pouvoir se généraliser à de nouvelles données. L'utilisation de données auxquelles le modèle n'a jamais été exposées est donc nécessaire pour effectuer la bonne mesure de la performance prédictive. Souvent, un groupe test est utilisé. Toutefois, de petits échantillons peuvent faire en sorte que le mise de côté d'une partie des données n'est pas possible. La validation croisée peut donc être une solution.\n",
    "\n",
    "La seconde utilité est lors de la sélection d'hyperparamètres dans un modèle. Plutôt que de choisir un hyperparamètre au hasard ou en se fiant simplement à son intuition, l'analyste peut utiliser la validation croiseé pour voir quelle valeur d'hyperparamètre permet la meilleure généralisation du modèle."
   ]
  },
  {
   "cell_type": "markdown",
   "metadata": {
    "slideshow": {
     "slide_type": "slide"
    }
   },
   "source": [
    "- Exemple de réponse à la question 2.\n",
    "\n",
    "La méthode *bagging* utilise le *boostrap* pour obtenir plusieurs échantillons différents tirés de l'échantillon initial. Ces échantillons sont ensuite utilisés pour estimer un modèle prédictif sur chacun d'eux. Lorsqu'une prédiction doit être faite, les données sont fournies à tous ces modèles de façon à obtenir une série de prédictions. Ces prédictions sont ensuite aggrégées afin d'obtenir une seule valeur prédite.\n",
    "\n",
    "Le problème qui peut survenir avec la méthode *bagging*, c'est que les différents modèles entrainés soient corrélés entre-eux, puisqu'ils partagent plusieurs observations communes. Pour palier à ce problème, les forêts aléatoires restreingnent le nombre de variables candidates pour effectuer les divisions binaires à un sous ensemble de celles-ci. De cette façon, la corrélation entre les différents arbres estimés est brisée, puisque pour chacun d'eux, un sous ensemble différent et aléatoire des variables explicatives peut être utilisé à chaque division."
   ]
  },
  {
   "cell_type": "markdown",
   "metadata": {
    "slideshow": {
     "slide_type": "slide"
    }
   },
   "source": [
    "- Exemple de réponse à la question 3.\n",
    "\n",
    "L'évaluation de la qualité des prédictions d'un modèle en régression est généralement fait en estimant la moyenne des erreurs quadratiques (MSE). Il est possible de montrer que la MSE peut être décomposée en trois éléments : une erreur aléatoire irréductible, le biais (au carré) du modèle et la variance du modèle. Or, pour tout modèle, il existe un arbitrage entre le biais et la variance de celui-ci. Dans certains cas, il pourrait donc être avantagueux d'introduire du biais dans un modèle afin de réduire la variance et tenter du même coup de réduire la MSE. Généralement, il existe une situation permettant un arbitrage optimal entre le biais et la variance qui minimise la MSE."
   ]
  },
  {
   "cell_type": "markdown",
   "metadata": {
    "slideshow": {
     "slide_type": "slide"
    }
   },
   "source": [
    "- Exemple de réponse à la question 4.\n",
    "\n",
    "La régression ridge et la régression LASSO sont deux extensions de la régression linéaire imposant une contrainte sur la dimension des coefficients de la régression. Ce qui distingue ces deux modèles est la forme de la contrainte. Dans le cas de la régression ridge, la contrainte imposée sur le modèle correspond à la somme des carrés des coefficients. Dans le cas de la régression LASSO, la contrainte correspond plutôt à la somme des valeurs absolues des coefficients.\n",
    "\n",
    "L'impact de ces contraintes sur les coefficients estimés est par ailleurs différents. Dans le cas de la régression ridge, la contrainte limite la dimension des coefficients afin que ceux-ci ne prennent pas des valeurs trop importantes. La régression ridge permet également d'estimer une régression linéaire pour un jeu de données qui possèderait plus de variables explicatives que d'observations.\n",
    "\n",
    "Dans le cas de la régression LASSO, la contrainte fait en sorte que certains coefficients seront fixés exactement à zéro. La régression LASSO a donc la capacité d'effectuer de la sélection de variables pertinentes."
   ]
  },
  {
   "cell_type": "markdown",
   "metadata": {
    "slideshow": {
     "slide_type": "slide"
    }
   },
   "source": [
    "# Introduction à l'analyse de données\n",
    "\n",
    "## Module 6 : Apprentissage automatique supervisé - Classification\n",
    "\n",
    "### Par Nicolas Corneau-Tremblay"
   ]
  },
  {
   "cell_type": "markdown",
   "metadata": {
    "slideshow": {
     "slide_type": "slide"
    }
   },
   "source": [
    "# Plan du module\n",
    "\n",
    "***\n",
    "\n",
    "1. Modèle de probabilité linéaire\n",
    "2. Mesure de performance\n",
    "3. Régression logistique\n",
    "4. Retour sur certaines méthodes\n",
    "5. Classification naïve bayésienne\n",
    "6. Analyse discriminante\n",
    "7. Classification multi classes\n",
    "7. Devoir"
   ]
  },
  {
   "cell_type": "markdown",
   "metadata": {
    "collapsed": true,
    "slideshow": {
     "slide_type": "slide"
    }
   },
   "source": [
    "## 6.1 Modèle de probabilité linéaire\n",
    "\n",
    "***\n",
    "\n",
    "- Deux types de modèles : prédisent une classe directement et prédisent une probabilité pour chaque classe.\n",
    "- Ces modèles peuvent être utilisés pour effectuer une classification binaire (deux classes) ou multi classes (plus de deux classes). Ce cours se concentrera la classification binaire. La classification multiclasse sera abordée à la fin du présent module.\n",
    "- La régresison linéaire a été le premier modèle présenté pour effectuer de la régression. Elle peut être utilisée également pour effectuer de la classification.\n",
    "- Dans le cas d'une situation à deux classes, la variable dépendante $y$ est une variable binaire plutôt qu'une variable continue.\n",
    "- Ce modèle s'appelle le modèle de probabilité linéaire."
   ]
  },
  {
   "cell_type": "markdown",
   "metadata": {
    "slideshow": {
     "slide_type": "slide"
    }
   },
   "source": [
    "- En régression linéaire, l'espérance de $y$ est modélisée en fonction de $X$ telle que\n",
    "\n",
    "$$E[y_i|x_i] = x'_i\\beta$$\n",
    "\n",
    "- De la même façon, la probabilité que $y$ soit égal à un peut également être une fonction de $X$. Le modèle de probabilité linéaire est donc écrit ainsi :\n",
    "\n",
    "$$E[y_i|x_i] = \\Pr(y_i = 1| x_i) = x_i'\\beta$$\n",
    "\n",
    "- Il est à noter que ce modèle génère automatique de l'hétéroscédasticité."
   ]
  },
  {
   "cell_type": "markdown",
   "metadata": {
    "slideshow": {
     "slide_type": "slide"
    }
   },
   "source": [
    "- Exemple avec un jeu de données portant sur le diagnostic d'une masse susceptible d'être un cancer du sein :"
   ]
  },
  {
   "cell_type": "code",
   "execution_count": 1,
   "metadata": {
    "slideshow": {
     "slide_type": "-"
    }
   },
   "outputs": [
    {
     "name": "stdout",
     "output_type": "stream",
     "text": [
      "Valeur de y \n",
      "y = 0 : malignant  ->  212 \n",
      "y = 1 : benign  ->  357 \n",
      "--------\n",
      "Dimension de bc_cov : (569, 10)\n"
     ]
    }
   ],
   "source": [
    "import pandas as pd\n",
    "from sklearn.datasets import load_breast_cancer\n",
    "\n",
    "# voir http://scikit-learn.org/stable/modules/classes.html#module-sklearn.datasets\n",
    "# pour des information sur la base de données\n",
    "data = load_breast_cancer()\n",
    "# print(data.DESCR) pour en apprendre plus\n",
    "benign = pd.Series(data.target)\n",
    "print(\"Valeur de y \\ny = 0 :\", data.target_names[0], \" -> \", benign.value_counts()[0],\n",
    "      \"\\ny = 1 :\", data.target_names[1], \" -> \", benign.value_counts()[1],\n",
    "      \"\\n--------\")\n",
    "bc_cov = pd.DataFrame(data.data, columns = data.feature_names)\n",
    "# conserve uniquement les 10 premières variables\n",
    "bc_cov = bc_cov.iloc[:, 0:10]\n",
    "print(\"Dimension de bc_cov :\", bc_cov.shape)"
   ]
  },
  {
   "cell_type": "code",
   "execution_count": 2,
   "metadata": {
    "slideshow": {
     "slide_type": "slide"
    }
   },
   "outputs": [
    {
     "name": "stdout",
     "output_type": "stream",
     "text": [
      "<class 'pandas.core.frame.DataFrame'>\n",
      "RangeIndex: 569 entries, 0 to 568\n",
      "Data columns (total 10 columns):\n",
      "mean radius               569 non-null float64\n",
      "mean texture              569 non-null float64\n",
      "mean perimeter            569 non-null float64\n",
      "mean area                 569 non-null float64\n",
      "mean smoothness           569 non-null float64\n",
      "mean compactness          569 non-null float64\n",
      "mean concavity            569 non-null float64\n",
      "mean concave points       569 non-null float64\n",
      "mean symmetry             569 non-null float64\n",
      "mean fractal dimension    569 non-null float64\n",
      "dtypes: float64(10)\n",
      "memory usage: 44.5 KB\n"
     ]
    }
   ],
   "source": [
    "bc_cov.info()"
   ]
  },
  {
   "cell_type": "code",
   "execution_count": 3,
   "metadata": {
    "collapsed": true,
    "slideshow": {
     "slide_type": "slide"
    }
   },
   "outputs": [],
   "source": [
    "from sklearn.model_selection import cross_val_predict\n",
    "from sklearn.linear_model import LinearRegression\n",
    "from sklearn.preprocessing import StandardScaler\n",
    "\n",
    "# Standardisation des données\n",
    "scaler = StandardScaler()\n",
    "bc_cov = pd.DataFrame(scaler.fit_transform(bc_cov), columns = bc_cov.columns)\n",
    "\n",
    "reg_lin = LinearRegression()\n",
    "\n",
    "# Estimation du modèle et obtention des prédictions\n",
    "# par validation croisée\n",
    "ben_lin_pred = cross_val_predict(reg_lin, bc_cov, benign, cv = 10)"
   ]
  },
  {
   "cell_type": "markdown",
   "metadata": {
    "slideshow": {
     "slide_type": "-"
    }
   },
   "source": [
    "- La fonction `cross_val_predict` permet d'obtenir une prédiction pour chacune des observations lorsque celle-ci se retrouve dans le groupe test lors de la validation croisée. Ces prédictions peuvent ensuite être utilisées pour évaluer le modèle."
   ]
  },
  {
   "cell_type": "code",
   "execution_count": 4,
   "metadata": {
    "slideshow": {
     "slide_type": "slide"
    }
   },
   "outputs": [
    {
     "data": {
      "image/png": "[encoded data removed]",
      "text/plain": [
       "<matplotlib.figure.Figure at 0x10d1ea0f0>"
      ]
     },
     "metadata": {},
     "output_type": "display_data"
    }
   ],
   "source": [
    "import matplotlib.pyplot as plt\n",
    "import numpy as np\n",
    "import seaborn as sns\n",
    "sns.set_style(\"white\")\n",
    "\n",
    "# Visualisation des prédictions\n",
    "plt.hist(ben_lin_pred, bins = 20, color = \"orange\", ec=\"black\", normed = True)\n",
    "sns.kdeplot(np.array(ben_lin_pred), bw=0.06, color = \"grey\")\n",
    "plt.xlim(ben_lin_pred.min(), ben_lin_pred.max())\n",
    "plt.ylabel(\"Fréquence\")\n",
    "plt.title(\"Histogramme des probabilités prédites\")\n",
    "plt.xlabel(\"Probabilité prédite\")\n",
    "plt.show()"
   ]
  },
  {
   "cell_type": "markdown",
   "metadata": {
    "slideshow": {
     "slide_type": "-"
    }
   },
   "source": [
    "Quiz : Identifier l'un des problèmes du modèle de probabilité linéaire."
   ]
  },
  {
   "cell_type": "markdown",
   "metadata": {
    "slideshow": {
     "slide_type": "slide"
    }
   },
   "source": [
    "- Une des limites importantes du modèle de probabilité linéaire est qu'aucune contrainte n'existe sur les valeurs de ses prédictions. Il peut donc prédire des probabilités négatives ou supérieures à un, ce qui a peu de sens.\n",
    "- Ceci étant, rien n'empêche d'utiliser ces prédictions. S'il est décidé que toutes les observations ayant une probabilité prédite supérieure à 0.50 est prédite comme bénigne, les résultats suivant sont obtenus :"
   ]
  },
  {
   "cell_type": "code",
   "execution_count": 5,
   "metadata": {},
   "outputs": [
    {
     "data": {
      "text/plain": [
       "1    382\n",
       "0    187\n",
       "dtype: int64"
      ]
     },
     "execution_count": 5,
     "metadata": {},
     "output_type": "execute_result"
    }
   ],
   "source": [
    "import numpy as np\n",
    "\n",
    "lin_pred = pd.Series(np.where(ben_lin_pred > 0.5, 1, 0))\n",
    "lin_pred.value_counts()"
   ]
  },
  {
   "cell_type": "markdown",
   "metadata": {
    "collapsed": true,
    "slideshow": {
     "slide_type": "slide"
    }
   },
   "source": [
    "## 6.2 Mesure de performance\n",
    "\n",
    "***\n",
    "\n",
    "- Puisque les modèles de classification prédisent une classe plutôt qu'une valeur numérique, la MSE n'est pas pertinente. Des alternatives existent toutefois.\n",
    "- Ces alternatives peuvent varier selon que le modèle prédit directement une classe ou qu'il prédit plutôt une probabilité pour chaque classe.\n",
    "- Plusieurs des mesures de performance pour les modèles prédisant directement une classe repose sur la matrice de confusion (*confusion matrix*). Voici un exemple de matrice de confusion pour une situation à deux classes :\n",
    "\n",
    "|  Prédiction \\ Valeur|  Non-évènement  |  Évènement  |\n",
    "|:--------------------|:---------------:|:-----------:|\n",
    "|  Non-évènement      |        TN       |      FN     |\n",
    "|  Évènement          |        FP       |      TP     |\n",
    "\n",
    "où TN est un vrai négatif (*true negative*), FN est un faux négatif (*false negative*), FP est un faux positif (*false positive*) et TP est un vrai positif (*true positive*).\n"
   ]
  },
  {
   "cell_type": "markdown",
   "metadata": {
    "slideshow": {
     "slide_type": "slide"
    }
   },
   "source": [
    "- Les cases de la matrice de confusion peuvent contenir le nombre de prédictions se retrouvant dans chacune d'elles où leur poucentage relatif respectif.\n",
    "- Il est possible de voir que la diagonale de cette matrice représent les prédictions correctes alors que les valeurs hors diagonales sont des prédictions erronées.\n",
    "- À partir de cette matrice, trois mesures de performance peuvent être dérivées : la précision (*accuracy*), la sensibilité (*sensitivity* ou *recall*) et la spécificité (*specificity*)."
   ]
  },
  {
   "cell_type": "markdown",
   "metadata": {
    "collapsed": true,
    "slideshow": {
     "slide_type": "slide"
    }
   },
   "source": [
    "- La **précision** représente la proportion des prédictions qui sont correctes. Il s'agit ainsi de la proportion d'observations se retrouvant sur la diagonale de la matrice de confusion. Formellement, la précision est calculée comme\n",
    "\n",
    "$$accuracy = \\frac{\\sum_{i=1}^n1(\\hat{y}_i = y_i)}{N}$$\n",
    "\n",
    "où $1(\\hat{y}_i = y_i)$ est une fonction indicatrice prenant la valeur un si la prédiction est correcte et zéro autrement et où $N$ est le nombre d'observations sur lesquelles des prédictions ont été effectuées.\n",
    "\n",
    "- Une mesure parfois utilisée est le taux d'erreur (*error rate*). Il s'agit simplement de un moins la précision, c'est-à-dire la proportion des prédictions qui sont incorrectes.\n",
    "- La précision possède toutefois quelques limites. D'abord, elle ne distingue pas le type d'erreur effectuée (e.g. ne pas diagnostiquer un cancer peut être plus grave que diagnostiquer un par erreur). \n",
    "- Elle est également sensible à la fréquence des évènements (e.g. pour un évènement rare, par exemple 1 par 1000, toujours prédire \"pas d'évènement\" donne une précision de 99,99%).\n",
    "- La sensibilité et la spécificité permettent de répondre à ces limites."
   ]
  },
  {
   "cell_type": "markdown",
   "metadata": {
    "collapsed": true,
    "slideshow": {
     "slide_type": "slide"
    }
   },
   "source": [
    "- La **sensibilité** représente la proportion d'évènements correctement prédits. Elle se calcule ainsi :\n",
    "\n",
    "$$sensitivity = \\frac{\\sum_{i=1}^n1(\\hat{y}_i = y_i \\cap y_i = 1)}{\\sum_{i=1}^n1(y_i = 1)}$$\n",
    "\n",
    "- Elle est parfois appelée le taux de vrais positifs (*true positive rate*) ou le rappel (*recall*).\n",
    "- Dans la matrice de confusion, la sensibilité est le résultat du nombre d'observations dans la case *TP* divisé par la somme des observations se retrouvant dans la colonne *Évènement* (*TP + FN*).\n",
    "- La **spécificité** est quant à elle la proportion de non-évènements correctement prédits. Elle se calcule ainsi :\n",
    "\n",
    "$$specificity = \\frac{\\sum_{i=1}^n1(\\hat{y}_i = y_i \\cap y_i = 0)}{\\sum_{i=1}^n1(y_i = 0)}$$\n",
    "\n",
    "- Elle est parfois appelée le taux de vrais négatifs (*true negative rate*).\n",
    "- Dans la matrice de confusion, la spécificité est le résultat du nombre d'observations dans la case *TN* divisé par la somme des observations se retrouvant dans la colonne *Non-évènement* (*FP + TN*)."
   ]
  },
  {
   "cell_type": "markdown",
   "metadata": {
    "slideshow": {
     "slide_type": "slide"
    }
   },
   "source": [
    "- Il a été mentionné précédemment que les mesures précédentes s'appliquent aux modèles prédisant directement des classes.\n",
    "- Par contre, si le modèle prédit une probabilité, un seuil peut être sélectionné pour attribuer les prédictions à chacune des classes. C'est ce qui a été fait dans l'exemple du modèle de probabilité linéaire. les mesures précédentes peuvent alors être utilisées par ce modèle.\n",
    "- Un seuil intuitif est 0.5. Il n'est toutefois pas le seul choix possible.\n",
    "- Le choix du seuil affecte les trois mesures de performance vu prédécemment.\n",
    "\n",
    "Quiz : Il existe un arbitrage entre la sensibilité et la spécificité. Pourquoi?"
   ]
  },
  {
   "cell_type": "markdown",
   "metadata": {
    "slideshow": {
     "slide_type": "slide"
    }
   },
   "source": [
    "- Plus le seuil est choisi de façon à détecter tous les évènements (maximiser la sensibilité), plus de faux positifs surviendront. Plus le seuil est choisi de façon à détecter tous les non-évènements (maximiser la spécificité), plus de faux négatifs surviendront.\n",
    "- La sensibilité se concentre sur les évènements. Elle est préférable lorsque les faux positifs sont plus acceptables (e.g. détection de transactions frauduleuses).\n",
    "- La spécificité se concentre sur les non-évènements. Elle est préférable lorsque les faux négatifs sont plus acceptables (e.g. détection de *spams*.)\n",
    "- Une façon de représenter cet arbitrage est la courbe ROC (*receiver operating characteristic*).\n",
    "- La **courbe ROC** est créée en évaluant les probabilités prédites par le modèle pour différents seuils. Pour chaque seuil considéré, la sensibilité et la spécificité sont calculées et représentées graphiquement l'une par rapport à l'autre."
   ]
  },
  {
   "cell_type": "markdown",
   "metadata": {
    "collapsed": true,
    "slideshow": {
     "slide_type": "slide"
    }
   },
   "source": [
    "- Considérons l'exemple de la régression précédente. La matrice de confusion de même que la précision pour un seuil à 0.5 sont obtenues ainsi :"
   ]
  },
  {
   "cell_type": "code",
   "execution_count": 6,
   "metadata": {
    "slideshow": {
     "slide_type": "-"
    }
   },
   "outputs": [
    {
     "name": "stdout",
     "output_type": "stream",
     "text": [
      "La matrice de confusion :\n",
      " [[179   8]\n",
      " [ 33 349]] \n",
      "--------\n",
      "La précision du modèle :\n",
      " 0.928 \n",
      "--------\n",
      "La précision d'un modèle naïf \n",
      "(prédictions toujours égales à 1) :\n",
      " 0.627\n"
     ]
    }
   ],
   "source": [
    "import numpy as np\n",
    "from sklearn.metrics import confusion_matrix\n",
    "from sklearn.metrics import accuracy_score\n",
    "\n",
    "conf_mat = confusion_matrix(lin_pred, benign)\n",
    "print(\"La matrice de confusion :\\n\", conf_mat,\n",
    "      \"\\n--------\\nLa précision du modèle :\\n\",\n",
    "      np.round(accuracy_score(lin_pred, benign), 3),\n",
    "      \"\\n--------\\nLa précision d'un modèle naïf \\\n",
    "\\n(prédictions toujours égales à 1) :\\n\", np.round(benign.mean(), 3))"
   ]
  },
  {
   "cell_type": "markdown",
   "metadata": {
    "slideshow": {
     "slide_type": "slide"
    }
   },
   "source": [
    "Pour un seuil à 0.5, la sensibilité et la spécificité du modèle sont obtenues ainsi :"
   ]
  },
  {
   "cell_type": "code",
   "execution_count": 7,
   "metadata": {},
   "outputs": [
    {
     "name": "stdout",
     "output_type": "stream",
     "text": [
      "La sensibilité du modèle :\n",
      " 0.914 \n",
      "-------\n",
      "La spécificité du modèle :\n",
      " 0.957\n"
     ]
    }
   ],
   "source": [
    "from sklearn.metrics import recall_score\n",
    "\n",
    "print(\"La sensibilité du modèle :\\n\",\n",
    "      np.round(recall_score(lin_pred, benign), 3),\n",
    "      \"\\n-------\")\n",
    "\n",
    "tn = conf_mat[0, 0]\n",
    "fn = conf_mat[0, 1]\n",
    "specificity = tn / (tn + fn)\n",
    "\n",
    "print(\"La spécificité du modèle :\\n\",\n",
    "      np.round(specificity, 3))"
   ]
  },
  {
   "cell_type": "markdown",
   "metadata": {
    "slideshow": {
     "slide_type": "slide"
    }
   },
   "source": [
    "- Enfin, la courbe ROC du modèle peut être obtenue ainsi :"
   ]
  },
  {
   "cell_type": "code",
   "execution_count": 8,
   "metadata": {},
   "outputs": [
    {
     "data": {
      "image/png": "[encoded data removed]",
      "text/plain": [
       "<matplotlib.figure.Figure at 0x102e21b70>"
      ]
     },
     "metadata": {},
     "output_type": "display_data"
    }
   ],
   "source": [
    "from sklearn.metrics import roc_curve\n",
    "import matplotlib.pyplot as plt\n",
    "\n",
    "fpr, tpr, thresholds = roc_curve(benign, ben_lin_pred)\n",
    "plt.plot(fpr, tpr, color = \"orange\")\n",
    "plt.plot([0, 1], [0, 1], color = \"grey\", linestyle = \":\")\n",
    "plt.xlabel(\"1 - Spécificité\"), plt.ylabel(\"Sensibilité\")\n",
    "plt.title(\"Courbe ROC pour modèle de \\nrégression linéaire\")\n",
    "plt.show()"
   ]
  },
  {
   "cell_type": "markdown",
   "metadata": {
    "slideshow": {
     "slide_type": "slide"
    }
   },
   "source": [
    "- La courbe ROC permet une évaluation plus riche d'un modèle prédisant des probabilités puisqu'elle ne nécessite pas de déterminer un seuil de façon *ad hoc*.\n",
    "- Plus la courbe ROC tend vers le coin supérieur gauche, plus le modèle prédictif performe bien. Inversement, un modèle dont la courbe ROC se retrouve sur la ligne pointillée ne ferait pas mieux qu'un tirage aléatoire.\n",
    "- La courbe ROC permet également de comparer deux modèles en représentant côte-à-côte leur courbe ROC respective.\n",
    "- Si la courbe d'un premier modèle est supérieure en tous points à celle d'un second modèle, le premier modèle possède un meilleur pouvoir prédictif."
   ]
  },
  {
   "cell_type": "markdown",
   "metadata": {
    "slideshow": {
     "slide_type": "slide"
    }
   },
   "source": [
    "- Enfin, une autre mesure de performance d'un modèle de classification binaire prédisant des probabilités est l'**aire sous la courbe ROC** : (*area under cruve, AUC*).\n",
    "- L'AUC pour un modèle prédisant parfaitement les classes est de 1 tandis qu'elle est de 0.5 pour un modèle ne faisant pas mieux qu'un processus aléatoire."
   ]
  },
  {
   "cell_type": "code",
   "execution_count": 9,
   "metadata": {},
   "outputs": [
    {
     "name": "stdout",
     "output_type": "stream",
     "text": [
      "AUC du modèle linéaire : 0.9808\n"
     ]
    }
   ],
   "source": [
    "import numpy as np\n",
    "from sklearn.metrics import roc_auc_score\n",
    "\n",
    "print(\"AUC du modèle linéaire :\", np.round(roc_auc_score(benign, ben_lin_pred), 5))"
   ]
  },
  {
   "cell_type": "markdown",
   "metadata": {
    "slideshow": {
     "slide_type": "slide"
    }
   },
   "source": [
    "En somme :\n",
    "\n",
    "- Il existe de nombreuses mesures de performance pour les modèles de classification. Seules quelques une ont été présentées ici.\n",
    "- La précision est très utile si les classes ne sont bien réparties. Sinon, la sensibilité et la spécificité peuvent être plus pertinentes.\n",
    "- Les courbres ROC sont un outil très utile pour visualiser l'arbitrage entre la sensibilité et la spécificité. Elle permettent également d'exploité toute l'information fournies par les modèles prédisant des probabilités plutôt que des classes directement."
   ]
  },
  {
   "cell_type": "markdown",
   "metadata": {
    "slideshow": {
     "slide_type": "slide"
    }
   },
   "source": [
    "## 6.3 Régression logistique\n",
    "\n",
    "***\n",
    "\n",
    "- Dans le cas où la variable dépendante prend seulement deux valeurs, il est possible d'écrire :\n",
    "\n",
    "$$y_i = \\bigg\\{ \\begin{array}{c c}\n",
    "1 \\\\\n",
    "0\n",
    "\\end{array}$$\n",
    "\n",
    "- $y_i$ suit donc une loi Bernouilli :\n",
    "\n",
    "$$\\Pr(y_i) = \\pi_i^{y_i}(1-\\pi_i)^{(1 - y_i)}$$\n",
    "\n",
    "où $\\pi_i = \\Pr(y_i = 1)$.\n",
    "\n",
    "- Il a été montré précédemment que dans le cas du modèle de probabilité linéaire, $\\pi_i$ se modélise ainsi\n",
    "\n",
    "$$\\Pr(y_i = 1| x_i) = \\pi_i = x_i'\\beta$$\n",
    "\n",
    "- Il a également été démontré que ce modèle est problématique puisque $\\hat{\\pi}_i$, c'est-à-dire la prédiction du modèle, n'est pas bornée entre zéro et un."
   ]
  },
  {
   "cell_type": "markdown",
   "metadata": {
    "collapsed": true,
    "slideshow": {
     "slide_type": "slide"
    }
   },
   "source": [
    "- La régression logistique impose une structure entre $\\pi_i$ et $x_i'\\beta$ de façon à ce que la probabilité $\\pi_i$ soit bien définie entre zéro et un.\n",
    "- Formellement, la régression logistique impose \n",
    "\n",
    "$$\\pi_i = \\frac{\\exp\\{x_i'\\beta\\}}{1 + \\exp\\{x_i'\\beta\\}}$$\n",
    "\n",
    "- Comme il est possible de le voir, si $x_i'\\beta \\rightarrow \\infty$, alors $\\pi_i \\rightarrow 1$ tandis que si $x_i'\\beta \\rightarrow -\\infty$, alors $\\pi_i \\rightarrow 0$.\n",
    "- Cette structure est parfois écrite de façon alternative\n",
    "\n",
    "$$\\pi_i = \\text{Logit}^{-1}(x_i'\\beta) = \\Lambda(x'_i\\beta)$$\n",
    "\n",
    "- En effet, après quelques manipulations simples, il est possible de montrer que\n",
    "\n",
    "$$x'\\beta = \\text{Logit}(\\pi_i) = \\ln\\frac{\\pi_i}{1 - \\pi_i}$$\n",
    "\n",
    "- Ainsi, la distribution de $y$ peut être réécrite :\n",
    "\n",
    "$$\\Pr(y_i| x_i) = \\Lambda(x'_i\\beta)^{y_i}\\left(1-\\Lambda(x'_i\\beta)\\right)^{(1 - y_i)}$$"
   ]
  },
  {
   "cell_type": "code",
   "execution_count": 10,
   "metadata": {
    "slideshow": {
     "slide_type": "slide"
    }
   },
   "outputs": [
    {
     "data": {
      "image/png": "[encoded data removed]",
      "text/plain": [
       "<matplotlib.figure.Figure at 0x110838b38>"
      ]
     },
     "metadata": {},
     "output_type": "display_data"
    }
   ],
   "source": [
    "#fonction de répartition de la loi logistique\n",
    "import numpy as np\n",
    "import matplotlib.pyplot as plt\n",
    "X = np.linspace(-6, 6, 200)\n",
    "Y = 1 / (1 + np.exp(-X))\n",
    "plt.plot([0, 0], [-1, 1.1], color = \"grey\", linestyle = \"--\")\n",
    "plt.ylim(0, 1); plt.xlabel(r\"$x_i\\beta$\"); plt.ylabel(r\"$\\Pr(y_i|x_i)$\")\n",
    "plt.plot(X, Y, color = \"orange\")\n",
    "plt.xticks([])\n",
    "plt.show()"
   ]
  },
  {
   "cell_type": "markdown",
   "metadata": {
    "collapsed": true,
    "slideshow": {
     "slide_type": "slide"
    }
   },
   "source": [
    "**Estimateur du maximum de vraisemblance**\n",
    "\n",
    "- La théorie des probabilités stipule que si deux évènements sont indépendants, alors leur probabilité jointe est simplement le produit de leur probabilité marginale :\n",
    "\n",
    "$$\\Pr(y_i, x_i) = \\Pr(y_i)\\Pr(x_i)$$\n",
    "\n",
    "\n",
    "- L'estimation du maximum de vraisemblance (*maximum likelihood estimator*, MLE) repose sur l'hypothèse que les observations composant l'échantillon ont été sélectionnées dans une même distribution de façon aléatoire et donc **indépendamment les unes des autres**.\n",
    "- Ainsi, leur probabilité jointe est simplement le produit de leur probabilité individuelle :\n",
    "\n",
    "$$\\Pr(y_1, y_2, ..., y_n) = \\Pr(y_1)\\Pr(y_2),...,\\Pr(y_n)$$\n",
    "\n",
    "où $\\Pr(y_i)$ est la probabilité que l'observation $i$ soit observée. Ainsi, $\\Pr(y_1, y_2, ..., y_n)$ représente la probabilité d'observer l'échantillon composé de $n$ observations."
   ]
  },
  {
   "cell_type": "markdown",
   "metadata": {
    "slideshow": {
     "slide_type": "slide"
    }
   },
   "source": [
    "- La fonction représentant $\\Pr(.)$ dépend généralement d'un ou de plusieurs paramètres $\\theta$. Le produit ci-haut peut donc être réécrit tel que \n",
    "\n",
    "$$\\Pr(y_1, y_2, ..., y_n; \\theta) = \\Pr(y_1; \\theta)\\Pr(y_2; \\theta),...,\\Pr(y_n; \\theta)$$\n",
    "\n",
    "où $\\theta$ est un vecteur de paramètres.\n",
    "- Puisque l'hypothèse postule que les observations proviennent de la même distribution, $\\theta$ est le même pour toutes les observations.\n",
    "- Le vecteur de paramètres $\\theta$ est généralement inconnu. Il est alors possible d'écrire une fonction définissant comment le produit des probabilités ci-haut varie selon la valeur des paramètres $\\theta$ :\n",
    "\n",
    "$$L(\\theta) = \\prod_{i=1}^N\\Pr(y_i; \\theta)$$\n",
    "\n",
    "- Cette expression est connue sous le nom de **fonction de vraisemblance** (*likelihood function*)."
   ]
  },
  {
   "cell_type": "markdown",
   "metadata": {
    "collapsed": true,
    "slideshow": {
     "slide_type": "slide"
    }
   },
   "source": [
    "- La vraisemblance est une fonction représentant la probabilité que l'échantillon disponible soit observé pour différentes valeurs de $\\theta$.\n",
    "\n",
    "Exemple : \n",
    "\n",
    "- Soit une variable $age = \\{42, 24, 36, 29, 51\\}$ provenant d'une distribution normale.\n",
    "- Un analyste est intéressé à estimer la moyenne de la population à partir de cet échantillon.\n",
    "- Soit deux valeurs candidates pour la moyenne de la variable age : $\\theta = \\{10, 37\\}$.\n",
    "- Quiz : Pour l'analyste, quelle valeur de $\\theta$ est la plus probable, sachant l'échantillon qu'il observe?"
   ]
  },
  {
   "cell_type": "markdown",
   "metadata": {
    "collapsed": true,
    "slideshow": {
     "slide_type": "slide"
    }
   },
   "source": [
    "- La fonction de vraisemblance repose sur cette intuition.\n",
    "- Elle retourne différentes valeurs pour différents $\\theta$ candidats. La plus grande valeur qu'elle retourne (le maximum de la fonction de vraisemblance) se trouve au $\\theta$ le plus probable sachant l'échantillon observé.\n",
    "- Trouver le maximum de la fonction est alors simplement un problème d'optimisation.\n",
    "- Puisque la fonction de vraisemblance est le résultat du produit des probabilités individuelles, prendre le logarithme de celle-ci permet d'obtenir la fonction suivante :\n",
    "\n",
    "$$\\text{ln} L(\\theta) = l(\\theta) = \\sum_{i=1}^n\\text{ln}\\left[\\Pr(y_i;\\theta)\\right]$$\n",
    "\n",
    "- Cette transformation est souhaitable puisqu'elle permet de mieux faire converger le modèle.\n",
    "- Il est possible de montrer que cette transformation ne change pas la valeur du maximum de la fonction.\n",
    "- Il est à noter que l'estimateur du maximum de vraisemblance est l'un des estimateurs les plus répandus en statistique, car il possède des propriétés statistiques très intéressantes."
   ]
  },
  {
   "cell_type": "markdown",
   "metadata": {
    "slideshow": {
     "slide_type": "slide"
    }
   },
   "source": [
    "- Le vecteur de paramètres $\\theta$ est alors obtenu en solutionnant le problème de maximisation suivant :\n",
    "\n",
    "$$\\max_{\\theta} ~ l(\\theta) = \\sum_{i=1}^n\\text{ln}\\left[\\Pr(y_i;\\theta)\\right]$$\n",
    "\n",
    "- Ici, $\\Pr(y_i;\\theta)$ n'est pas définie. Dans le cas de la régression logistique, celle-ci peut être remplacée par $\\Pr(y_i| x_i)$ vue ci-haut de façon à obtenir :\n",
    "\n",
    "\n",
    "$$\n",
    "\\begin{aligned}\n",
    "\\max_{\\beta} ~ l(\\beta) & = \\sum_{i=1}^n\\text{ln}\\left[\\Lambda(x'_i\\beta)^{y_i}\\left(1-\\Lambda(x'_i\\beta)\\right)^{(1 - y_i)}\\right] \\\\\n",
    "& = \\sum_{i=1}^n\\left(\\text{ln}\\left[\\Lambda(x'_i\\beta)^{y_i}\\right] + \\text{ln}\\left[\\left(1-\\Lambda(x'_i\\beta)\\right)^{(1 - y_i)}\\right]\\right) \\\\\n",
    "& = \\sum_{i=1}^n y_i\\text{ln}\\left[\\Lambda(x'_i\\beta)\\right] + \\sum_{i=1}^n(1-y_i)\\text{ln}\\left[(1-\\Lambda(x'_i\\beta)\\right]\n",
    "\\end{aligned}\n",
    "$$"
   ]
  },
  {
   "cell_type": "markdown",
   "metadata": {
    "slideshow": {
     "slide_type": "slide"
    }
   },
   "source": [
    "- Pour résoudre le problème de maximisation\n",
    "\n",
    "$$\\max_{\\beta} ~ l(\\beta) = \\sum_{i=1}^n y_i\\text{ln}\\left[\\Pr(y_i|x_i;\\theta)\\right] + \\sum_{i=1}^n(1-y_i)\\text{ln}\\left[\\Pr(y_i|x_i;\\theta)\\right]$$\n",
    "(où l'expression $\\Pr(y_i|x_i;\\theta)$ a été conservée afin d'alléger la notation).\n",
    "\n",
    "- Il suffit encore une fois de prendre la première dérivée et de l'égaliser à zéro, telle que \n",
    "\n",
    "$$\\frac{\\partial l(\\beta)}{\\partial\\beta} \\Rightarrow \\sum_{i=1}^ny_i\\frac{\\Pr'(y_i|x_i;\\theta)}{\\Pr(y_i|x_i;\\theta)}x_i - \\sum_{i=1}^n(1 - y_i)\\frac{\\Pr'(y_i|x_i;\\theta)}{\\left(1-\\Pr(y_i|x_i;\\theta)\\right)}x_i = 0$$\n"
   ]
  },
  {
   "cell_type": "markdown",
   "metadata": {
    "slideshow": {
     "slide_type": "slide"
    }
   },
   "source": [
    "- Il est possible de montrer que si $\\Pr(y_i|x_i;\\theta) = \\frac{\\exp\\{x_i'\\beta\\}}{1 + \\exp\\{x_i'\\beta\\}}$, alors $\\Pr'(y_i|x_i;\\theta) = \\Pr(y_i|x_i;\\theta)\\left(1-\\Pr(y_i|x_i;\\theta)\\right)$.\n",
    "- À l'aide de cette égalité, l'équation ci-haut peut être réécrite telle que :\n",
    "\n",
    "$$\n",
    "\\sum_{i=1}^ny_i\\frac{\\Pr(y_i|x_i;\\theta)\\left(1-\\Pr(y_i|x_i;\\theta)\\right)}{\\Pr(y_i|x_i;\\theta)}x_i - \\sum_{i=1}^n(1 - y_i)\\frac{\\Pr(y_i|x_i;\\theta)\\left(1-\\Pr(y_i|x_i;\\theta)\\right)}{\\left(1-\\Pr(y_i|x_i;\\theta)\\right)}x_i = 0 \\\\\n",
    "\\sum_{i=1}^ny_i\\left(1-\\Pr(y_i|x_i;\\theta)\\right)x_i - \\sum_{i=1}^n(1 - y_i)\\Pr(y_i|x_i;\\theta)x_i = 0 \\\\\n",
    "\\sum_{i=1}^n \\left(y_i-\\Pr(y_i|x_i;\\theta)\\right)x_i = 0\n",
    "$$\n",
    "\n",
    "- Il n'existe pas de solution analytique à cette équation. Une méthode numérique doit être utilisée pour obtenir le vecteur $\\hat{\\theta}$ solutionnant cette équation."
   ]
  },
  {
   "cell_type": "markdown",
   "metadata": {
    "slideshow": {
     "slide_type": "slide"
    }
   },
   "source": [
    "- En remplaçant l'expression $\\Pr(y_i|x_i;\\theta)$ par $\\Lambda(x'_i\\beta)$, il est possible de remarquer que $\\hat{\\theta}$ est alors remplacé par $\\hat{\\beta}$.\n",
    "- Une fois le vecteur de paramètres $\\hat{\\beta}$ obtenu, celui-ci peut être utilisé afin d'obtenir des prédictions pour un nouveau $x_i$ de la façon suivante :\n",
    "\n",
    "$$\\hat{\\pi}_i = \\frac{\\exp\\{x_i'\\hat{\\beta}\\}}{1 + \\exp\\{x_i'\\hat{\\beta}\\}}$$\n",
    "\n",
    "où $\\hat{\\pi}_i$ est la probabilité prédite par le modèle que $y_i$ soit égal à un pour l'observation $i$.\n",
    "- Encore une fois, cette forme à l'avantage de produire des prédictions bornées entre zéro et un."
   ]
  },
  {
   "cell_type": "markdown",
   "metadata": {
    "slideshow": {
     "slide_type": "slide"
    }
   },
   "source": [
    "- Contrairement à la régression linéaire, les coefficients estimés par régression logistique ne peuvent être interprétés directement. En effet, dans le cas de la régression linéaire :\n",
    "\n",
    "$$E[y|X] = X\\beta$$\n",
    "$$\\Rightarrow \\frac{\\partial E[y|X]}{\\partial x_j} = \\beta_j$$\n",
    "\n",
    "- Dans le cas de la régression logistique :\n",
    "\n",
    "$$\\Pr(y=1|X) = \\Lambda(X\\beta)$$\n",
    "$$\\Rightarrow \\frac{\\partial \\Pr(y=1|X)}{\\partial x_j} = \\Lambda'(X\\beta)\\beta_j$$\n",
    "\n",
    "où la valeur de $\\Lambda'(X\\beta)\\beta_j$ dépend de la matrice $X$.\n",
    "\n",
    "- Toutefois, puisque $\\Lambda'(X\\beta)$ est une fonction de densité, celle-ci est toujours définie positive. Ainsi, $\\Lambda'(X\\beta)\\beta_j$ prend nécessairement le signe de $\\beta_j$.\n",
    "- Une valeur positive de $\\beta_j$ veut dire qu'une augmentation de la variable $x_j$ augmente la probabilité que la classe 1 soit observée. Une valeur négative de $\\beta_j$ signifie plutôt que la probabilité que la classe 1 soit observée diminue."
   ]
  },
  {
   "cell_type": "markdown",
   "metadata": {
    "slideshow": {
     "slide_type": "slide"
    }
   },
   "source": [
    "- Exemple avec le jeu de données sur le cancer du sein :"
   ]
  },
  {
   "cell_type": "code",
   "execution_count": 11,
   "metadata": {
    "collapsed": true,
    "slideshow": {
     "slide_type": "-"
    }
   },
   "outputs": [],
   "source": [
    "from statsmodels.discrete.discrete_model import Logit\n",
    "\n",
    "logit = Logit(benign, bc_cov)\n",
    "logit_res = logit.fit(disp = False)"
   ]
  },
  {
   "cell_type": "markdown",
   "metadata": {
    "slideshow": {
     "slide_type": "-"
    }
   },
   "source": [
    "- L'option `disp` permet de décider si les informations concernant la converge du modèle doivent être affichées."
   ]
  },
  {
   "cell_type": "code",
   "execution_count": 12,
   "metadata": {
    "slideshow": {
     "slide_type": "slide"
    }
   },
   "outputs": [
    {
     "name": "stdout",
     "output_type": "stream",
     "text": [
      "                           Logit Regression Results                           \n",
      "==============================================================================\n",
      "Dep. Variable:                      y   No. Observations:                  569\n",
      "Model:                          Logit   Df Residuals:                      559\n",
      "Method:                           MLE   Df Model:                            9\n",
      "Date:                Thu, 12 Apr 2018   Pseudo R-squ.:                  0.8045\n",
      "Time:                        11:42:02   Log-Likelihood:                -73.435\n",
      "converged:                       True   LL-Null:                       -375.72\n",
      "                                        LLR p-value:                2.189e-124\n",
      "==========================================================================================\n",
      "                             coef    std err          z      P>|z|      [0.025      0.975]\n",
      "------------------------------------------------------------------------------------------\n",
      "mean radius                1.0360     10.822      0.096      0.924     -20.175      22.247\n",
      "mean texture              -1.6538      0.276     -5.993      0.000      -2.195      -1.113\n",
      "mean perimeter             4.0833     11.944      0.342      0.732     -19.327      27.493\n",
      "mean area                 -9.4092      2.594     -3.627      0.000     -14.494      -4.325\n",
      "mean smoothness           -1.0679      0.462     -2.310      0.021      -1.974      -0.162\n",
      "mean compactness           0.0789      1.091      0.072      0.942      -2.059       2.217\n",
      "mean concavity            -0.8511      0.633     -1.344      0.179      -2.092       0.390\n",
      "mean concave points       -2.4410      1.102     -2.214      0.027      -4.602      -0.280\n",
      "mean symmetry             -0.4529      0.295     -1.536      0.125      -1.031       0.125\n",
      "mean fractal dimension     0.4335      0.609      0.712      0.476      -0.760       1.627\n",
      "==========================================================================================\n",
      "\n",
      "Possibly complete quasi-separation: A fraction 0.17 of observations can be\n",
      "perfectly predicted. This might indicate that there is complete\n",
      "quasi-separation. In this case some parameters will not be identified.\n"
     ]
    }
   ],
   "source": [
    "print(logit_res.summary())"
   ]
  },
  {
   "cell_type": "code",
   "execution_count": 13,
   "metadata": {
    "slideshow": {
     "slide_type": "slide"
    }
   },
   "outputs": [
    {
     "data": {
      "image/png": "[encoded data removed]",
      "text/plain": [
       "<matplotlib.figure.Figure at 0x111a487b8>"
      ]
     },
     "metadata": {},
     "output_type": "display_data"
    }
   ],
   "source": [
    "import matplotlib.pyplot as plt\n",
    "import numpy as np\n",
    "\n",
    "logit_pred = logit_res.predict(bc_cov)\n",
    "\n",
    "# Visualisation des prédictions\n",
    "plt.hist(logit_pred, bins = 20, color = \"orange\", ec=\"black\", normed = True)\n",
    "plt.ylabel(\"Fréquence\")\n",
    "plt.title(\"Histogramme des probabilités prédites\")\n",
    "plt.xlabel(\"Probabilité prédite\")\n",
    "plt.show()"
   ]
  },
  {
   "cell_type": "markdown",
   "metadata": {
    "slideshow": {
     "slide_type": "slide"
    }
   },
   "source": [
    "- Puisque `Logit` ne provient pas de SciKit-Learn, son évaluation par validation coisée doit être faite \"à la main\"."
   ]
  },
  {
   "cell_type": "code",
   "execution_count": 14,
   "metadata": {
    "collapsed": true,
    "slideshow": {
     "slide_type": "-"
    }
   },
   "outputs": [],
   "source": [
    "from sklearn.metrics import roc_auc_score\n",
    "from sklearn.model_selection import KFold\n",
    "from statsmodels.discrete.discrete_model import Logit\n",
    "\n",
    "# initialisation de la validation croisée\n",
    "k_fold = KFold(n_splits = 10, shuffle = True, random_state = 222)\n",
    "k_fold.get_n_splits(bc_cov)\n",
    "\n",
    "# validation croisée pour calculer la performance de la régression logistique\n",
    "logit_cv = []\n",
    "for train, test in k_fold.split(bc_cov):\n",
    "    logit_temp = Logit(benign.values[train], bc_cov.values[train])\n",
    "    res_temp = logit.fit(disp = False)\n",
    "    pred_temp = res_temp.predict(bc_cov.values[test])\n",
    "    auc_temp = roc_auc_score(benign.values[test], pred_temp)\n",
    "    logit_cv.append(auc_temp)"
   ]
  },
  {
   "cell_type": "code",
   "execution_count": 15,
   "metadata": {
    "slideshow": {
     "slide_type": "slide"
    }
   },
   "outputs": [
    {
     "name": "stdout",
     "output_type": "stream",
     "text": [
      "L'AUC du modèle : \n",
      " 0.9905\n"
     ]
    }
   ],
   "source": [
    "print(\"L'AUC du modèle : \\n\",\n",
    "    np.round(np.mean(logit_cv), 5))"
   ]
  },
  {
   "cell_type": "markdown",
   "metadata": {
    "slideshow": {
     "slide_type": "-"
    }
   },
   "source": [
    "- Comme il est possible de le voir, un modèle simple comme la régression logistique peut produire de très bonnes prédictions.\n",
    "- Il est important de rappeler que les modèles simples peuvent souvent faire très bien le travail dans des problèmes de prédiction."
   ]
  },
  {
   "cell_type": "markdown",
   "metadata": {
    "slideshow": {
     "slide_type": "slide"
    }
   },
   "source": [
    "**Extension**\n",
    "\n",
    "- Tout comme la régression linéaire, la régression logistique peut souffrir de problème de multicolinéarité. \n",
    "- Tout comme la régression linéaire, ce problème peut être abordé en imposant des contraintes sur les paramètres.\n",
    "- Ces modèles ne sont toutefois pas couvert ici. Voir la documentation de SciKit-Learn sur la régression logistique pour en apprendre davantage."
   ]
  },
  {
   "cell_type": "markdown",
   "metadata": {
    "slideshow": {
     "slide_type": "slide"
    }
   },
   "source": [
    "En somme\n",
    "\n",
    "- La régression logistique palie à la limite du modèle de probabilité linéaire en contraignant la relation entre $y$ et $X$.\n",
    "- Cette structure permet notamment de s'assurer que les préditions soient bornées entre zéro et un.\n",
    "- La régression logistique repose toutefois sur des hypothèses relativement fortes, puisqu'elle impose également des effets additifs.\n",
    "- C'est néanmoins, encore à ce jour, l'une des méthodes de classification les plus utilisées, puisqu'elle demeure simple et rapide, tout en ayant souvent une très bonne performance."
   ]
  },
  {
   "cell_type": "markdown",
   "metadata": {
    "slideshow": {
     "slide_type": "slide"
    }
   },
   "source": [
    "## 6.4 Retour sur certaines méthodes\n",
    "\n",
    "***\n",
    "\n",
    "- Certaines des méthodes vues dans le module sur la régression possèdent un équivalent naturel en classification. C'est notamment le cas de la méthode des k plus proches voisins, des arbres de régression et des *random forests*."
   ]
  },
  {
   "cell_type": "markdown",
   "metadata": {
    "collapsed": true,
    "slideshow": {
     "slide_type": "slide"
    }
   },
   "source": [
    "**K plus proches voisins**\n",
    "\n",
    "- Un des modèles vus au module précédent et imposant le moins d'hypothèses sur la structure des données est la méthode des KNN.\n",
    "- L'idée de cette méthode en régression est d'effectuer la moyenne de la variable dépendante des $k$ plus proches observations et d'utiliser cette moyenne comme valeur prédite.\n",
    "- En classification, la méthode fonctionne de façon similaire. Toutefois, plutôt que d'utiliser la moyenne, le mode est utilisé. Ainsi, si $k = 5$ et que la classe pour $y$ des 5 observations est $\\{1,0,0,0,1\\}$, la classe 0 sera prédite.\n",
    "- Si $k$ est paire et que la variable dépendante est parfaitement distribuée parmi les observations, la valeur de l'observation la plus près sera généralement utilisée.\n",
    "- Il est également possible d'obtenir des probabilités plutôt qu'une classe en calculant la proportion que représente chacune des classes dans la feuille."
   ]
  },
  {
   "cell_type": "code",
   "execution_count": 39,
   "metadata": {
    "slideshow": {
     "slide_type": "slide"
    }
   },
   "outputs": [
    {
     "data": {
      "image/png": "[encoded data removed]",
      "text/plain": [
       "<matplotlib.figure.Figure at 0x10c102518>"
      ]
     },
     "metadata": {},
     "output_type": "display_data"
    }
   ],
   "source": [
    "import matplotlib.pyplot as plt\n",
    "import numpy as np\n",
    "\n",
    "# création d'un jeu de données jouet\n",
    "n = 20\n",
    "np.random.seed(222)\n",
    "x1 = np.random.randn(n)\n",
    "x2 = np.random.randn(n)\n",
    "color = [\"orange\", \"blue\"]\n",
    "y = np.random.choice(color, n, p = [0.5] * 2)\n",
    "\n",
    "plt.scatter(x1, x2, c = y)\n",
    "plt.xlabel(\"x1\"); plt.ylabel(\"x2\")\n",
    "plt.show()"
   ]
  },
  {
   "cell_type": "code",
   "execution_count": 40,
   "metadata": {
    "slideshow": {
     "slide_type": "slide"
    }
   },
   "outputs": [
    {
     "data": {
      "image/png": "[encoded data removed]",
      "text/plain": [
       "<matplotlib.figure.Figure at 0x10b88bdd8>"
      ]
     },
     "metadata": {},
     "output_type": "display_data"
    }
   ],
   "source": [
    "plt.scatter(x1, x2, c = y)\n",
    "plt.scatter([-.75], [0.1],\n",
    "            c = \"black\", marker = \"x\")\n",
    "plt.xlabel(\"x1\"); plt.ylabel(\"x2\")\n",
    "plt.show()"
   ]
  },
  {
   "cell_type": "markdown",
   "metadata": {
    "slideshow": {
     "slide_type": "-"
    }
   },
   "source": [
    "- Quiz : Quelle valeur devrait être prédite pour le nouveau point `x`?"
   ]
  },
  {
   "cell_type": "code",
   "execution_count": 83,
   "metadata": {
    "slideshow": {
     "slide_type": "slide"
    }
   },
   "outputs": [
    {
     "data": {
      "text/plain": [
       "{'n_neighbors': 14}"
      ]
     },
     "execution_count": 83,
     "metadata": {},
     "output_type": "execute_result"
    }
   ],
   "source": [
    "import numpy as np\n",
    "from sklearn.model_selection import GridSearchCV\n",
    "from sklearn.neighbors import KNeighborsClassifier\n",
    "\n",
    "knn = KNeighborsClassifier()\n",
    "\n",
    "# Paramètres à évaluer pour la validation  croisée\n",
    "params = {\"n_neighbors\" : np.arange(1, 15, 1)}\n",
    "\n",
    "# Paramétrisation de la validation croisée\n",
    "cv_knn = GridSearchCV(knn, param_grid = params,\n",
    "                      scoring = \"roc_auc\")\n",
    "\n",
    "# Sélection des hyperparamètres par CV\n",
    "cv_knn.fit(bc_cov, benign)\n",
    "\n",
    "cv_knn.best_params_"
   ]
  },
  {
   "cell_type": "code",
   "execution_count": 84,
   "metadata": {
    "slideshow": {
     "slide_type": "slide"
    }
   },
   "outputs": [
    {
     "name": "stdout",
     "output_type": "stream",
     "text": [
      "Nested CV AUC du modèle KNN : 0.98052\n"
     ]
    }
   ],
   "source": [
    "from sklearn.model_selection import cross_val_score\n",
    "\n",
    "# Estimation de l'AUC par nested CV\n",
    "nested_knn = cross_val_score(cv_knn, bc_cov, benign,\n",
    "                              cv = 10,\n",
    "                             scoring = \"roc_auc\")\n",
    "print(\"Nested CV AUC du modèle KNN :\", np.round(nested_knn.mean(), 5))"
   ]
  },
  {
   "cell_type": "markdown",
   "metadata": {
    "slideshow": {
     "slide_type": "slide"
    }
   },
   "source": [
    "**Arbre de classification**\n",
    "\n",
    "- L'arbre de classification est l'un des deux types d'arbre de décision. Contraitrement, à l'arbre de régression, l'arbre classification prédit une classe plutôt qu'une valeur.\n",
    "- L'estimation de l'arbre de classification est similaire à celle de l'arbre de régression. À chaque noeud, l'algorithme cherche à minimiser l'impureté des deux noeuds nouvellement créés en évaluant chaque valeur de chaque variable explicative qui lui est fournie.\n",
    "- Les divisions se poursuivent jusqu'à ce qu'une règle d'arrêt est atteinte. Les règles d'arrêt sont les mêmes que celles pour un arbre de régression.\n",
    "- Lorsque l'arbre est construit, celui-ci retourne pour chaque feuille la classe correspondant au mode de la variable dépendante (plutôt que la moyenne dans le cas d'un arbre de régression).\n",
    "- Comme avec le modèle KNN, il est également possible d'obtenir des probabilités plutôt qu'une classe en calculant la proportion que représente chacune des classes dans la feuille."
   ]
  },
  {
   "cell_type": "markdown",
   "metadata": {
    "collapsed": true,
    "slideshow": {
     "slide_type": "slide"
    }
   },
   "source": [
    "- Pour rappel, l'impureté se mesure ainsi :\n",
    "\n",
    "$$G(Q, \\theta) = \\frac{N_1}{N_1 + N_2}H(Q_1(\\theta)) + \\frac{N_2}{N_1 + N_2}H(Q_2(\\theta))$$\n",
    "\n",
    "\n",
    "où $N_1$ et $N_2$ sont le nombre d'observations se retrouvant respectivement dans les noeuds potentiels 1 et 2, où $Q_1(\\theta) = (y_i, x_i)~~ | ~~ x_i <= \\theta$, où $Q_2(\\theta) = (y_i, x_i)~~ | ~~ x_i > \\theta$ et où $\\theta$ est le seuil à déterminer.\n",
    "\n",
    "- Dans le cas de la classification, l'impureté capte la distribution des classes dans un noeud. Plus les classes sont bien séparées, plus chacun des noeuds créés lors de la division contient une proportion élevée de seulement une des classes, et plus le noeud est pur. Cette proportion $p_{kj}$ pour une classe $k$ dans un noeud $j$ est obtenue ainsi :\n",
    "\n",
    "$$\\hat{p}_{kj} = \\frac{1}{N_j}\\sum_{i=1}^{N_j}1(y_i = k)$$\n",
    "\n",
    "où $N_j$ est le nombre d'observations se trouvant dans le noeud $j$ et où $1(y_i = k)$ est une fonction indicatrice prenant la valeur un si la valeur dépendante de l'observation $i$ est égale à la classe $k$ et zéro autrement."
   ]
  },
  {
   "cell_type": "markdown",
   "metadata": {
    "collapsed": true,
    "slideshow": {
     "slide_type": "slide"
    }
   },
   "source": [
    "Critères de division\n",
    "\n",
    "- Le premier critère de division mesurant l'impureté est l'**index de Gini**. Il est calculé ainsi :\n",
    "\n",
    "$$H(X_{j}) = \\sum_{k=1}^K\\hat{p}_{kj}(1 - \\hat{p}_{kj})$$\n",
    "\n",
    "- Ainsi, si les classes sont parfaitement séparées, $\\hat{p}_{kj} = 1$ pour la classe $k$ et $\\hat{p}_{-kj} = 0$ pour les autres classes. L'index de Gini est alors égal à zéro. Le noeud ne possède alors aucune impureté.\n"
   ]
  },
  {
   "cell_type": "markdown",
   "metadata": {
    "slideshow": {
     "slide_type": "slide"
    }
   },
   "source": [
    "- Un second critère d'impureté est l'**entropie**.\n",
    "- L'entropie fait référence à la théorie de l'information. Il s'agit du niveau de désorganisation ou d'incertitude dans un système. Plus un système possède une entropie élevée, plus ce système est incertain.\n",
    "- Il est ainsi possible de faire un corrolaire en probabilité. Pour une situation où il existe une probabilité qu'un évènement survienne, plus cette probabilité est élevée, plus l'évènement est susceptible d'avoir lieu, moins la situation est incertaine et donc moins l'entropie de cette situation est élevée.\n",
    "- Dans le cas des noeuds créés lors de l'estimation de l'arbre de classification, la même logique s'applique. Plus un noeud est pur, plus la proportion relative de l'une des classes y est importante et plus son entropie est faible. \n",
    "- L'entropie se calcule de la façon suivante :\n",
    "\n",
    "$$H(X_{j}) = - \\sum_{k = 1}^K\\hat{p}_{kj}\\log \\hat{p}_{kj}$$\n",
    "\n",
    "- Encore une fois, si les classes sont parfaitement séparées, $\\hat{p}_{kj} = 1$ pour la classe $k$ et $\\hat{p}_{-kj} = 0$ pour les autres classes. L'entropie est alors égale à zéro ($\\log(1) = 0$).\n",
    "\n",
    "Quiz : Dans les deux mesures d'impureté qui viennent d'être présentées, quelle est la valeur de $\\hat{p}_{kj}$ où l'impureté est la plus importante (dans le cas où il y deux classes)?"
   ]
  },
  {
   "cell_type": "code",
   "execution_count": 85,
   "metadata": {
    "slideshow": {
     "slide_type": "slide"
    }
   },
   "outputs": [
    {
     "name": "stdout",
     "output_type": "stream",
     "text": [
      "CPU times: user 3min 22s, sys: 128 ms, total: 3min 22s\n",
      "Wall time: 3min 22s\n"
     ]
    }
   ],
   "source": [
    "%%time\n",
    "\n",
    "from sklearn.tree import DecisionTreeClassifier\n",
    "from sklearn.model_selection import GridSearchCV, cross_val_score\n",
    "\n",
    "clf_tree = DecisionTreeClassifier()\n",
    "\n",
    "# Paramètres à évaluer pour la validation  croisée\n",
    "params = {\"max_depth\" : np.arange(1, 15, 1),\n",
    "          \"min_samples_leaf\" : np.arange(1, 11, 1),\n",
    "          \"min_samples_split\" : np.arange(2, 15, 1)}\n",
    "\n",
    "# Paramétrisation de la validation croisée\n",
    "cv_tree = GridSearchCV(clf_tree, param_grid = params,\n",
    "                       scoring = \"roc_auc\")\n",
    "\n",
    "# Sélection des hyperparamètres par CV\n",
    "cv_tree.fit(bc_cov, benign)\n",
    "\n",
    "# Estimation de l'AUC par nested CV\n",
    "nested_tree = cross_val_score(cv_tree, bc_cov, benign,\n",
    "                              cv = 10,\n",
    "                              scoring = \"roc_auc\")"
   ]
  },
  {
   "cell_type": "markdown",
   "metadata": {
    "slideshow": {
     "slide_type": "slide"
    }
   },
   "source": [
    "- Les résultats pour cet arbre sont les suivants :"
   ]
  },
  {
   "cell_type": "code",
   "execution_count": 89,
   "metadata": {
    "slideshow": {
     "slide_type": "-"
    }
   },
   "outputs": [
    {
     "name": "stdout",
     "output_type": "stream",
     "text": [
      "Nested CV AUC du meilleur modèle : 0.95503 \n",
      "Paramètres sélectionnés : {'max_depth': 3, 'min_samples_leaf': 9, 'min_samples_split': 9}\n"
     ]
    }
   ],
   "source": [
    "print(\"Nested CV AUC du meilleur modèle :\", np.round(nested_tree.mean(), 5),\n",
    "      \"\\nParamètres sélectionnés :\", cv_tree.best_params_) "
   ]
  },
  {
   "cell_type": "markdown",
   "metadata": {
    "slideshow": {
     "slide_type": "-"
    }
   },
   "source": [
    "- Il est ensuite possible de visualiser l'arbre :"
   ]
  },
  {
   "cell_type": "code",
   "execution_count": 93,
   "metadata": {
    "slideshow": {
     "slide_type": "-"
    }
   },
   "outputs": [
    {
     "data": {
      "text/plain": [
       "True"
      ]
     },
     "execution_count": 93,
     "metadata": {},
     "output_type": "execute_result"
    }
   ],
   "source": [
    "import graphviz\n",
    "from sklearn.tree import export_graphviz\n",
    "import pydot\n",
    "\n",
    "# Enregistrement de l'arbre en .dot\n",
    "export_graphviz(cv_tree.best_estimator_,\n",
    "                feature_names = bc_cov.columns,\n",
    "                out_file=\"class_tree.dot\")\n",
    "\n",
    "# Conversion du fichier .dot en format .png\n",
    "(graph,) = pydot.graph_from_dot_file(\"class_tree.dot\")\n",
    "graph.write_png(\"class_tree.png\")"
   ]
  },
  {
   "cell_type": "markdown",
   "metadata": {
    "slideshow": {
     "slide_type": "slide"
    }
   },
   "source": [
    "![](class_tree.png)"
   ]
  },
  {
   "cell_type": "markdown",
   "metadata": {
    "collapsed": true,
    "slideshow": {
     "slide_type": "slide"
    }
   },
   "source": [
    "**Forêt aléatoire**\n",
    "\n",
    "- Le modèle de forêt aléatoire applique la même idée dans le cas de la classification que dans celui de la régression, c'est-à-dire l'aggrégation des résultats de plusieurs arbres pour effectuer une prédiction.\n",
    "- Dans le cas de la classification, c'est la classe qui est obtenue le plus souvent comme prédiction (le mode) parmi les prédictions de tous les arbres qui est utilisée comme prédiction du modèle de forêt aléatoire."
   ]
  },
  {
   "cell_type": "code",
   "execution_count": 94,
   "metadata": {
    "slideshow": {
     "slide_type": "-"
    }
   },
   "outputs": [
    {
     "name": "stdout",
     "output_type": "stream",
     "text": [
      "CPU times: user 17min 8s, sys: 2min 21s, total: 19min 30s\n",
      "Wall time: 35min 3s\n"
     ]
    }
   ],
   "source": [
    "%%time\n",
    "\n",
    "from sklearn.ensemble import RandomForestClassifier\n",
    "from sklearn.model_selection import GridSearchCV, cross_val_score\n",
    "\n",
    "# Paramétrisation du random forest\n",
    "rf_model = RandomForestClassifier(n_estimators = 100,\n",
    "                                  criterion = \"gini\",\n",
    "                                  random_state = 222,\n",
    "                                  max_features = 0.30,\n",
    "                                  n_jobs = 2)\n",
    "\n",
    "# Paramétrisation de la validation croisée du random forest\n",
    "# avec les mêmes paramètres candidats que l'arbre de classification\n",
    "cv_rf = GridSearchCV(rf_model, param_grid = params,\n",
    "                        scoring = \"roc_auc\")\n",
    "\n",
    "cv_rf.fit(bc_cov, benign)"
   ]
  },
  {
   "cell_type": "markdown",
   "metadata": {
    "slideshow": {
     "slide_type": "slide"
    }
   },
   "source": [
    "- Le modèle estimé est ensuite évalué à l'aide d'une validation croisée :"
   ]
  },
  {
   "cell_type": "code",
   "execution_count": 95,
   "metadata": {
    "slideshow": {
     "slide_type": "-"
    }
   },
   "outputs": [
    {
     "name": "stdout",
     "output_type": "stream",
     "text": [
      "Nested CV AUC : 0.98019\n",
      "CPU times: user 2h 45min 50s, sys: 22min 54s, total: 3h 8min 45s\n",
      "Wall time: 5h 50min 1s\n"
     ]
    }
   ],
   "source": [
    "%%time\n",
    "\n",
    "rf_cv = cross_val_score(cv_rf, bc_cov, benign,\n",
    "                         cv = 10, scoring = \"roc_auc\")\n",
    "\n",
    "print(\"Nested CV AUC :\", np.round(np.mean(rf_cv), 5))"
   ]
  },
  {
   "cell_type": "markdown",
   "metadata": {
    "collapsed": true,
    "slideshow": {
     "slide_type": "slide"
    }
   },
   "source": [
    "## 6.5 Classification naïve bayésienne\n",
    "\n",
    "***\n",
    "\n",
    "- La classification naïve bayésienne (*naive bayes*) repose sur le théorème de Bayes :\n",
    "\n",
    "$$\\Pr(y_i = c|x_i) = \\frac{\\Pr(x_i|y_i = c)\\Pr(y_i = c)}{\\Pr(x_i)}$$\n",
    "\n",
    "où $\\Pr(y_i = c|x_i)$ est la probabilité *a posteriori* (*posterior*) que $y_i$ soit égal à la classe $c$ conditionnelle à $x_i$, où $\\Pr(x_i|y_i = c)$ est la vraisemblance (*likelihood*) de $x_i$ conditionnelle à ce que $y_i$ soit égal à la classe $c$, où $\\Pr(y_i = c)$ est la probabilité *a priori* (*prior*) que $y_i$ soit égal à la classe $c$ et où $\\Pr(x_i)$ est la probabilité *a priori* de $x_i$.\n",
    "- Ce théorème peut être utilisé pour faire de la classification. Ce théorème peut être calculée pour chaque classe $c$. La valeur prédite est celle aossiciée à la probabilité la plus grande."
   ]
  },
  {
   "cell_type": "markdown",
   "metadata": {
    "slideshow": {
     "slide_type": "slide"
    }
   },
   "source": [
    "- La classification naïve bayésienne prédit donc de la façon suivante :\n",
    "\n",
    "$$\\hat{y}_i = \\underset{y}{\\text{argmax}} \\frac{\\Pr(x_i|y_i = c)\\Pr(y_i = c)}{\\Pr(x_i)}$$\n",
    "\n",
    "- Le problème est donc simplementy d'estimer $\\hat{\\Pr}(x_i|y_i = c)$, $\\hat{\\Pr}(y_i = c)$ et $\\hat{\\Pr}(x_i)$.\n",
    "\n",
    "- Quiz : Comment faire?"
   ]
  },
  {
   "cell_type": "markdown",
   "metadata": {
    "collapsed": true,
    "slideshow": {
     "slide_type": "slide"
    }
   },
   "source": [
    "- Pour $\\hat{\\Pr}(y_i = c)$, il est possible d'utiliser la proportion de chacune des classes observée dans l'échantillon :\n",
    "\n",
    "$$\\hat{\\Pr}(y_i = c) = \\frac{1}{N}\\sum_{i=1}^N 1(y_i = c)$$\n",
    "\n",
    "où $1(y_i = c)$ est une fonction inidicatrice prenant la valeur 1 si la variable dépendante de l'inidividu $i$ provient de la classe $c$ et 0 autrement.\n",
    "\n",
    "- Pour $\\hat{\\Pr}(x_i|y_i = c)$, les choses sont plus compliquées, puisque\n",
    "\n",
    "$$\\Pr(x_i|y_i = c) = \\Pr(x_{1i}|x_{2i}, x_{3i}, ..., x_{ki}, y_i = c)\\Pr(x_{2i}|x_{3i}, ..., x_{ki}, y_i = c)...\\Pr(x_{ki}|y_i = c)$$\n",
    "\n",
    "- Or, les probabilités conditionnelles partielles individuelles ne sont pas connues et difficilement estimable."
   ]
  },
  {
   "cell_type": "markdown",
   "metadata": {
    "collapsed": true,
    "slideshow": {
     "slide_type": "slide"
    }
   },
   "source": [
    "- Solution : l'indépendance des variables explicatives est supposée. De cette façon \n",
    "\n",
    "$$\n",
    "\\begin{aligned}\n",
    "\\Pr(x_i|y_i = c) & = \\Pr(x_{i1}|x_{i2}, x_{i3}, ..., x_{ik}, y_i = c)\\Pr(x_{i2}|x_{i3}, ..., x_{ik}, y_i = c)...\\Pr(x_{ik}|y_i = c) \\\\\n",
    "& = \\Pr(x_{i1}| y_i = c)\\Pr(x_{i2}|y_i = c)...\\Pr(x_{ik}|y_i = c) \\\\\n",
    "& = \\prod_{j=1}^K \\Pr(x_{ij}| y_i = c)\n",
    "\\end{aligned}\n",
    "$$\n",
    "\n",
    "- Cette hypothèse simplifie drôlement les choses!\n",
    "- Est-elle réaliste? Non! Est-ce problématique? Étonnament, pas tellement!\n",
    "- Ainsi, les probabilités des variables explicatives peuvent être estimées indépendamment les une des autres pour chacune des classes."
   ]
  },
  {
   "cell_type": "markdown",
   "metadata": {
    "collapsed": true,
    "slideshow": {
     "slide_type": "slide"
    }
   },
   "source": [
    "- Si $x_j$ est discrête,  $\\Pr(x_{ij}| y_i = c)$ est estimée par la proportion empirique observée dans l’échantillon :\n",
    "\n",
    "$$\\hat{\\Pr}(x_{ij}| y_i = c) = \\frac{1}{N_c}\\sum_{i=1}^N x_i$$\n",
    "\n",
    "où $N_c$ est le nombre d'observations ayant comme valeur de la variable dépendante la classe $c$.\n",
    "\n",
    "- Si $x_j$ est continue, $\\Pr(x_{ij}| y_i = c)$ est modélisée par une loi normale telle que \n",
    "\n",
    "$$x_j \\sim N(\\bar{x}_{jc}, \\sigma_{jc}^2)$$\n",
    "\n",
    "où $\\bar{x}_{jc}$ et $\\sigma_{jc}^2$ sont respectivement la moyenne et la variance empirique de la variable $j$ pour la classe $c$."
   ]
  },
  {
   "cell_type": "markdown",
   "metadata": {
    "slideshow": {
     "slide_type": "slide"
    }
   },
   "source": [
    "- Enfin, puisque $\\Pr(x_i)$ sert uniquement à normaliser les prédictions afin qu'elles sommes à un, celle-ci est estimée ainsi :\n",
    "\n",
    "$$\\hat{\\Pr}(x_i) = \\sum_{j=1}^k\\hat{\\Pr}(x_i|y_i = c)\\hat{\\Pr}(y_i = c)$$\n",
    "\n",
    "Ainsi, la classification naïve bayésienne prédit donc de la façon suivante :\n",
    "\n",
    "$$\\hat{y}_i = \\underset{y}{\\text{argmax}} \\frac{\\hat{\\Pr}(x_i|y_i = c)\\hat{\\Pr}(y_i = c)}{\\sum_{j=1}^k\\hat{\\Pr}(x_i|y_i = c)\\hat{\\Pr}(y_i = c)}$$"
   ]
  },
  {
   "cell_type": "code",
   "execution_count": 16,
   "metadata": {
    "slideshow": {
     "slide_type": "slide"
    }
   },
   "outputs": [
    {
     "name": "stdout",
     "output_type": "stream",
     "text": [
      "Naive Bayes CV AUC : 0.97453\n",
      "CPU times: user 22.1 ms, sys: 1.41 ms, total: 23.6 ms\n",
      "Wall time: 24.1 ms\n"
     ]
    }
   ],
   "source": [
    "%%time\n",
    "\n",
    "import numpy as np\n",
    "from sklearn.model_selection import cross_val_score\n",
    "from sklearn.naive_bayes import GaussianNB\n",
    "# pour des x discrets, ce serait BernoulliNB\n",
    "\n",
    "nbayes = GaussianNB()\n",
    "\n",
    "# le modele naif bayesien n'a pas d'hyperparametre\n",
    "cv_nbayes = cross_val_score(nbayes, bc_cov, benign,\n",
    "                              cv = 10,\n",
    "                              scoring = \"roc_auc\")\n",
    "\n",
    "print(\"Naive Bayes CV AUC :\", np.round(np.mean(cv_nbayes), 5))"
   ]
  },
  {
   "cell_type": "markdown",
   "metadata": {
    "slideshow": {
     "slide_type": "slide"
    }
   },
   "source": [
    "Le fait de ne pouvoir estimer un modèle qu'avec un seul type de variable est une limite de l'implémentation de la classification naïve bayésienne dans SciKit-Learn. Néanmoins, puisque l'hypothèse d'indépendance des variables explicatives est faite, une solution peut simplement être d'estimer deux modèles : un avec uniquement les variables discrêtes et un avec uniquement les variables continues. Il est alors possible de prédire les probabilités pour chacun des modèles, les mutiplier ensemble puis normaliser le tout."
   ]
  },
  {
   "cell_type": "markdown",
   "metadata": {
    "slideshow": {
     "slide_type": "slide"
    }
   },
   "source": [
    "En somme, la classification naïve bayésienne possède plusieurs avantages :\n",
    "\n",
    "- Très simple.\n",
    "- Très rapide.\n",
    "- Surprenament performante, malgré l'hypothèse forte d'indépendance des variables explicatives.\n",
    "- Performe bien lorsqu'il y beaucoup de variables explicatives, ce qui typiquement le cas en analyse de texte. C'est pourquoi elle est notamment utilisée dans la détection de *SPAM*."
   ]
  },
  {
   "cell_type": "markdown",
   "metadata": {
    "slideshow": {
     "slide_type": "slide"
    }
   },
   "source": [
    "## 6.6 Analyse discriminante\n",
    "\n",
    "***\n",
    "\n",
    "- La classification naïve bayésienne repose sur l'hypothèse d'indépendance des variables explicatives.\n",
    "- Hypothèse forte!\n",
    "- L'analyse discrimante estime le même problème que la classification naïve bayésienne, à savoir\n",
    "\n",
    "$$\\Pr(y_i = c|x_i) = \\frac{\\Pr(x_i|y_i = c)\\Pr(y_i = c)}{\\Pr(x_i)}$$\n",
    "\n",
    "- Or, plutôt que de faire l'hypothèse d'indépendance des variables explicatives, $\\Pr(x_i|y_i = c)$ est modélisée à partir d'une loi normale multivariée."
   ]
  },
  {
   "cell_type": "markdown",
   "metadata": {
    "collapsed": true,
    "slideshow": {
     "slide_type": "slide"
    }
   },
   "source": [
    "- Ainsi, la structure suivante est supposée\n",
    "\n",
    "$$\\Pr(x_i|y_i = c) = N_p(\\mu_c,\\Sigma_c)$$\n",
    "\n",
    "où $c$ représente chacune des classes à prédire.\n",
    "- Les paramètres $\\mu_k$ et $\\Sigma_k$ peuvent alors être estimés simplement :\n",
    "\n",
    "$$\\hat{\\mu}_c = \\frac{1}{N_c}\\sum_{i=1}^{N_c}x_i$$\n",
    "\n",
    "et \n",
    "\n",
    "$$\\hat{\\Sigma}_c = \\frac{1}{N_c - 1}\\sum_{i=1}^{N_c}(x_i-\\hat{\\mu}_c)(x_i-\\hat{\\mu}_c)'$$\n"
   ]
  },
  {
   "cell_type": "markdown",
   "metadata": {
    "slideshow": {
     "slide_type": "slide"
    }
   },
   "source": [
    "- Ensuite, comme pour la classification naïve bayésienne\n",
    "\n",
    "$$\\hat{\\Pr}(y_i = c) = \\frac{1}{N}\\sum_{i=1}^N 1(y_i = c)$$\n",
    "\n",
    "et \n",
    "\n",
    "$$\\hat{\\Pr}(x_i) = \\sum_{j=1}^k\\hat{\\Pr}(x_i|y_i = c)\\hat{\\Pr}(y_i = c)$$"
   ]
  },
  {
   "cell_type": "markdown",
   "metadata": {
    "collapsed": true,
    "slideshow": {
     "slide_type": "slide"
    }
   },
   "source": [
    "- L'analyse discriminante se divise en deux types : linéaire et quadratique.\n",
    "- **Analyse discriminante linéaire** (*linear discriminant analysis*, LDA) : La matrice $\\Sigma$ est commune à toute les classes.\n",
    "\n",
    "$$\\Sigma_c = \\hat{\\Sigma}$$\n",
    "\n",
    "- **Analyse discriminante quadratique** (*quadratic discriminant analysis*, QDA) : La matrice $\\Sigma$ est propre à chaque classe.\n",
    "\n",
    "$$\\Sigma_c = \\hat{\\Sigma}_c$$\n",
    "\n",
    "- La LDA impose une hypothèse plus forte et est moins flexible.\n",
    "- En contre partie, elle est plus simple computationnellement.\n",
    "- Également, moins de paramètres à estimer, donc moins de variabilité."
   ]
  },
  {
   "cell_type": "code",
   "execution_count": 17,
   "metadata": {
    "slideshow": {
     "slide_type": "slide"
    }
   },
   "outputs": [
    {
     "name": "stdout",
     "output_type": "stream",
     "text": [
      "LDA CV AUC : 0.98286\n"
     ]
    }
   ],
   "source": [
    "import numpy as np\n",
    "from sklearn.model_selection import cross_val_score\n",
    "from sklearn.discriminant_analysis import LinearDiscriminantAnalysis as LDA\n",
    "\n",
    "lda = LDA()\n",
    "\n",
    "# le modele n'a pas d'hyperparametre\n",
    "cv_lda = cross_val_score(lda, bc_cov, benign,\n",
    "                              cv = 10,\n",
    "                              scoring = \"roc_auc\")\n",
    "\n",
    "print(\"LDA CV AUC :\", np.round(np.mean(cv_lda), 5))"
   ]
  },
  {
   "cell_type": "code",
   "execution_count": 18,
   "metadata": {
    "slideshow": {
     "slide_type": "slide"
    }
   },
   "outputs": [
    {
     "name": "stdout",
     "output_type": "stream",
     "text": [
      "QDA CV AUC : 0.98449\n"
     ]
    }
   ],
   "source": [
    "import numpy as np\n",
    "from sklearn.model_selection import cross_val_score\n",
    "from sklearn.discriminant_analysis import QuadraticDiscriminantAnalysis as QDA\n",
    "\n",
    "qda = QDA()\n",
    "\n",
    "# le modele n'a pas d'hyperparametre\n",
    "cv_qda = cross_val_score(qda, bc_cov, benign,\n",
    "                              cv = 10,\n",
    "                              scoring = \"roc_auc\")\n",
    "\n",
    "print(\"QDA CV AUC :\", np.round(np.mean(cv_qda), 5))"
   ]
  },
  {
   "cell_type": "markdown",
   "metadata": {
    "slideshow": {
     "slide_type": "slide"
    }
   },
   "source": [
    "## 6.7 Classification multi classes\n",
    "\n",
    "Mesure de performance\n",
    "\n",
    "- Toutes les mesures de performance couvertes ont été présentées dans le contexte d'une classificartion binaire (2 classes). La matrice de confusion, la précision, la sensibilité et la spécificité se généralise facilement pour le cas à plusieurs classes.\n",
    "- Certains modèles se généralisent bien à la prédiction multi classes : régression logistique $\\right$ régression logistique multinomiale, KNN et arbre de classification (le mode est prédit), classification naïve bayésienne, analyse discriminante ($\\Pr(y_i|x_i)$ calculé pour toutes les classes)."
   ]
  },
  {
   "cell_type": "markdown",
   "metadata": {
    "collapsed": true,
    "slideshow": {
     "slide_type": "slide"
    }
   },
   "source": [
    "Si un modèle ne permet pas la prédiction multi classes, deux solutions existent :\n",
    "\n",
    "- One-vs-one : crée une série de classifieurs binaires comparant tous les couple de classes possibles.\n",
    "- One-vs-all : crée une série de classifieurs binaires comparant chaque des classes à toutes les autres simultanément"
   ]
  },
  {
   "cell_type": "markdown",
   "metadata": {
    "collapsed": true,
    "slideshow": {
     "slide_type": "slide"
    }
   },
   "source": [
    "## 6.7 Devoir\n",
    "\n",
    "***\n",
    "\n",
    "Si un modèle de classification est privilégié pour le travail long :\n",
    "\n",
    "- Choisir et appliquer l'une des méthodes présentées dans le cours.\n",
    "- Présenter la méthode, ses forces et ses faiblesses.\n",
    "- Discuter des résultats obtenus.\n",
    "- Évaluer de façon adéquate la performance du modèle choisi."
   ]
  },
  {
   "cell_type": "markdown",
   "metadata": {
    "collapsed": true,
    "slideshow": {
     "slide_type": "slide"
    }
   },
   "source": [
    "## Quiz de révision\n",
    "\n",
    "1. Pourquoi la précision pourrait ne pas être une mesure de performance pertinente?\n",
    "2. Pourquoi doit-on imposer des contraites sur la tailles des arbres de décision?\n",
    "3. Pourquoi un modèle d'apprentissage supervisé permettant d'effectuer de la régression doit être évité pour faire de la classification?"
   ]
  },
  {
   "cell_type": "markdown",
   "metadata": {
    "slideshow": {
     "slide_type": "slide"
    }
   },
   "source": [
    "Exemple de solution pour la question 1.\n",
    "\n",
    "- La précision mesure la proportion de classes prédites correctement. Or, lorsque les classes sont débalancées, c'est-à-dire que l'une des classes est majoritaire et l'autre est rare, la précision peut devenir problématique, puisque les classes prédites n'auront pas le moins impact dans la mesure de celle-ci. En effet, ne jamais bien prédire la classe rare affectera très peu la précision. Dans un cas limite, si une classe est présente seulement 5% du temps, prédire systématiquement la classe majoritaire donnera une précision de 0,95, ou 95%. C'est pourquoi des mesures comment la sensibilité et la spécificité ont été développées."
   ]
  },
  {
   "cell_type": "markdown",
   "metadata": {
    "slideshow": {
     "slide_type": "slide"
    }
   },
   "source": [
    "Exemple de solution pour la question 2.\n",
    "\n",
    "- Parce qu'autrement, les arbres sont sujets au surapprentissage. En effet, si aucune contrainte n'est imposée sur la taille de l'arbre, celui-ci peut être tenté de faire en sorte que chaque observation ait sa propre feuille. Dans ce cas, les données d'entrainement seront très  bien prédites, mais de nouvelles données risquent de moins bien performées dans ce modèle."
   ]
  },
  {
   "cell_type": "markdown",
   "metadata": {
    "slideshow": {
     "slide_type": "slide"
    }
   },
   "source": [
    "Exemple de solution pour la question 3.\n",
    "\n",
    "- Parce que les modèles effectuant de la régression tentent de prédire une valeur plutôt qu'une classe. Il n'existe donc aucune contrainte sur les prédictions qu'ils peuvent faire, ce qui peut être problématique lorsque qu'une probabilité doit être prédite par exemple. Cette situation peut en effet résultée en des probabilités prédites prenant des valeurs négatives ou supérieures à un."
   ]
  }
 ],
 "metadata": {
  "celltoolbar": "Slideshow",
  "kernelspec": {
   "display_name": "Python 3",
   "language": "python",
   "name": "python3"
  },
  "language_info": {
   "codemirror_mode": {
    "name": "ipython",
    "version": 3
   },
   "file_extension": ".py",
   "mimetype": "text/x-python",
   "name": "python",
   "nbconvert_exporter": "python",
   "pygments_lexer": "ipython3",
   "version": "3.6.3"
  }
 },
 "nbformat": 4,
 "nbformat_minor": 2
}
