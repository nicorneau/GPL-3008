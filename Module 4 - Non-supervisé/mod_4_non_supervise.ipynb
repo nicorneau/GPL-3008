{
 "cells": [
  {
   "cell_type": "markdown",
   "metadata": {
    "slideshow": {
     "slide_type": "slide"
    }
   },
   "source": [
    "# Quiz de révision\n",
    "\n",
    "1. Pourquoi dit-on que la normalisation (min-max) est sensible aux valeurs aberrantes?\n",
    "2. Quelles sont les trois manipulations possibles lorsqu'une variable contient une valeur manquante?\n",
    "3. Pourquoi partitionne-t-on les données?\n",
    "4. Pourquoi le partitionnement se fait-il de façon aléatoire?"
   ]
  },
  {
   "cell_type": "markdown",
   "metadata": {
    "slideshow": {
     "slide_type": "slide"
    }
   },
   "source": [
    "- Exemple de solution pour la question 1.\n",
    "\n",
    "L'objectif de la normalisation est de transformer les valeurs d'une variable afin qu'elles se distribuent sur un support entre zéro et un. La formule permettant de normaliser une variable $x$ pour les observations $i$ est la suivante :\n",
    "\n",
    "$$\\tilde{x_i} = \\frac{x_i - \\min(x)}{\\max(x) - \\min(x)}.$$\n",
    "\n",
    "Si $\\max(x)$ est une valeur très importante par rapport à $\\min(x)$, le dénominateur sera un chiffre très élevé. Également, si $\\max(x)$ est une valeur aberrante, la valeur des autres observations ressemble davantage à $\\min(x)$, ce qui implique que lors de la normalisation, elles seront toutes divisées par un nombre très elevé en comparaison à leur propre valeur. Les observations se retrouveront alors toutes concentrés près de zéro, tandis que la valeur aberrante prendra la valeur un.\n"
   ]
  },
  {
   "cell_type": "markdown",
   "metadata": {
    "slideshow": {
     "slide_type": "slide"
    }
   },
   "source": [
    "- Exemple de solution pout la question 2.\n",
    "\n",
    "    1. Se débarasser de la variable contenant la valeur manquante $\\rightarrow$ Problématique si cette variable est importante.\n",
    "    2. Se débarasser de l'observation contenant la valeur manquante $\\rightarrow$ Problématique s'il y a peu d'observations ou si la valeur est manquante suite à un processus de sélection.\n",
    "    3. Imputer la valeur manquante $\\rightarrow$ Repose sur des hypothèses fortes."
   ]
  },
  {
   "cell_type": "markdown",
   "metadata": {
    "slideshow": {
     "slide_type": "slide"
    }
   },
   "source": [
    "- Exemple de solution pour la question 3.\n",
    "\n",
    "Pour évaluer la performance d'un modèle, la qualité des prédictions qu'il effectue est généralement un critère important. Or, si les prédictions effectuées par le modèle sont faites sur les mêmes données que celles utilisées pour entrainer celui-ci, il y a un risque de surapprentissage (*overfitting*). Dans ce cas, le modèle prédit très bien lorsque les données d'entrainement lui sont fournies, mais se généralise mal à de nouvelles données.\n",
    "\n",
    "Le partitionnement des données permet d'éviter ce problème. Le modèle est entrainé sur une partie des données, le groupe d'entrainement. Sa performance est ensuite évaluée en mesurant la qualité de ses prédictions sur des données auxquelles il n'a jamais été exposé, le groupe test."
   ]
  },
  {
   "cell_type": "markdown",
   "metadata": {
    "slideshow": {
     "slide_type": "slide"
    }
   },
   "source": [
    "- Exemple de solution pour la question 4.\n",
    "\n",
    "Le partitionnement est fait de façon aléatoire pour que chaque observation ait une chance égale de se retrouver dans le groupe d'entrainement et dans le groupe test. Si ce n'était pas le cas et que le partitionnement était fait en sélectionnant les observations selon leurs caractéristiques, il pourrait survenir une situation ou toutes les observations ayant une certaine valeur pour une variable se retrouve dans le groupe d'entrainement alors que toutes celles ayant une autre valeur se retrouve dans le groupe test. L'algorithme étant estimé sur le groupe d'entrainement, celui-ci n'aurait jamais vu des observations ayant la seconde valeur et ne pourrait donc pas se généraliser à ces observations. Par exemple, si je fournis uniquement des hommes à mon algorithme lors de son entrainement, celui-ci risque de ne pas bien se généraliser à des données contenant ensuite des femmes."
   ]
  },
  {
   "cell_type": "markdown",
   "metadata": {
    "slideshow": {
     "slide_type": "slide"
    }
   },
   "source": [
    "# Introduction à l'analyse de données\n",
    "\n",
    "## Module 4 : Apprentissage automatique non supervisé\n",
    "\n",
    "### Par Nicolas Corneau-Tremblay"
   ]
  },
  {
   "cell_type": "markdown",
   "metadata": {
    "slideshow": {
     "slide_type": "slide"
    }
   },
   "source": [
    "# Plan du module\n",
    "\n",
    "***\n",
    "\n",
    "1. Qu'est-ce que l'apprentissage automatique non supervisé?\n",
    "2. Mesure de distance\n",
    "3. Méthode des k-moyennes\n",
    "4. Regroupement hiérarchique\n",
    "5. Analyse par composantes principales\n",
    "6. Devoir"
   ]
  },
  {
   "cell_type": "markdown",
   "metadata": {
    "slideshow": {
     "slide_type": "slide"
    }
   },
   "source": [
    "## 4.1 Qu'est-ce que l'apprentissage automatique non supervisé?\n",
    "\n",
    "***\n",
    "\n",
    "- **Rappel** L'apprentissage automatique : science qui étudie comment les ordinateurs donnent un sens aux données à l'aide d'algorithmes (source : [IBM](https://www.ibm.com/analytics/ca/fr/technology/machine-learning/)).\n",
    "- L'apprentissage automatique **supervisé** : apprentissage automatique où les données fournies à l'algorithme possèdent une solution désirée. Ex.: Prédiction.\n",
    "- L'apprentissage automatique **non supervisé** : apprentissage automatique où les données fournies à l'algorithme ne possèdent pas une solution désirée. Ex.: regroupement (*clustering*).\n",
    "- Difficulté de l'apprentissage automatique non supervisé : aucun moyen de savoir si le modèle fait bien ou non."
   ]
  },
  {
   "cell_type": "markdown",
   "metadata": {
    "slideshow": {
     "slide_type": "slide"
    }
   },
   "source": [
    "Utilisation :\n",
    "\n",
    "- L'apprentissage automatique non supervisé peut être utilisé pour faire de l'analyse exploratoire dans les données. Ex.: détecter des groupes à partir de caractéristiques individuelles (e.g. segmentation de clientèle par caractéristiques sociodémographiques).\n",
    "- Les méthodes de regroupement permettent de rassembler dans un même groupe des individus considérés similaires.\n",
    "- La similarité est généralement évaluée en terme de \"distance\" entre les individus."
   ]
  },
  {
   "cell_type": "markdown",
   "metadata": {
    "slideshow": {
     "slide_type": "slide"
    }
   },
   "source": [
    "## 4.2 Mesure de distance\n",
    "\n",
    "***\n",
    "\n",
    "Quiz : Lequel des points entre \"B\" et \"C\" est le plus proche de \"A\"?"
   ]
  },
  {
   "cell_type": "code",
   "execution_count": 1,
   "metadata": {
    "slideshow": {
     "slide_type": "-"
    }
   },
   "outputs": [
    {
     "data": {
      "image/png": "[encoded data removed]",
      "text/plain": [
       "<matplotlib.figure.Figure at 0x10a73e6a0>"
      ]
     },
     "metadata": {},
     "output_type": "display_data"
    }
   ],
   "source": [
    "import pandas as pd\n",
    "import matplotlib.pyplot as plt\n",
    "\n",
    "data = pd.DataFrame({\"x1\" : [1, 3, 4], \"x2\" : [1, 5, 4]})\n",
    "\n",
    "plt.scatter(data[\"x1\"], data[\"x2\"], color = \"orange\"); plt.ylim(0, 6); plt.xlim(0, 6); plt.axis(\"square\")\n",
    "plt.xlabel(\"X1\"); plt.ylabel(\"X2\"); plt.text(1.2, 1, \"A\"); plt.text(3.2, 4.9, \"B\"); plt.text(4.2, 4, \"C\")\n",
    "plt.show()"
   ]
  },
  {
   "cell_type": "markdown",
   "metadata": {
    "slideshow": {
     "slide_type": "slide"
    }
   },
   "source": [
    "- En géométrie euclidienne, la distance entre deux points est définie par la distance euclidienne.\n",
    "- Pour deux points $\\{x_1, x_2\\}$ dans un espace à k-dimensions ($I\\!R_K$), la distance euclidienne séparant ces deux points est définie par :\n",
    "\n",
    "$$d_e(x_1, x_2) = \\sqrt{\\sum_{k=1}^K(x_{k2} - x_{k1})^2}$$\n",
    "\n",
    "\n",
    "- C'est ainsi que la longueur de l'hypoténuse d'un triangle est obtenue.\n",
    "- Les observations dans une table peuvent être interprétées comme des points dans un espace à k-dimensions (e.g. un individu a un âge, un revenu, etc.).\n",
    "- La distance euclidienne entre chaque couple d'observations peut donc aisément être calculée.\n",
    "- Les variables continues doivent être normalisées/standardisées pour que les distances entre chacunes d'elles soient comparables.\n",
    "- Il existe d'autres mesures de distance moins répandues, notamment certaines permettant d'introduire des variables catégoriques."
   ]
  },
  {
   "cell_type": "markdown",
   "metadata": {
    "slideshow": {
     "slide_type": "slide"
    }
   },
   "source": [
    "## 4.3 Méthode des k-moyennes\n",
    "\n",
    "***\n",
    "\n",
    "- Méthode des k-moyennes : façon simple de regrouper des données dans $k$ groupes mutuellement exclusifs.\n",
    "\n",
    "Procédure :\n",
    "\n",
    "1. Déterminer le nombre de groupes (k).\n",
    "2. Choisir k points parmis les observations disponibles comme points centraux des groupes (centroïdes).\n",
    "3. Assigner chaque observations au centroïde le plus \"près\".\n",
    "4. Relocaliser chaque nouveau centroïde \"au centre\" de son groupe.\n",
    "5. Répéter 3 et 4 jusqu'à convergence."
   ]
  },
  {
   "cell_type": "markdown",
   "metadata": {
    "slideshow": {
     "slide_type": "slide"
    }
   },
   "source": [
    "Exemple"
   ]
  },
  {
   "cell_type": "code",
   "execution_count": 2,
   "metadata": {
    "collapsed": true
   },
   "outputs": [],
   "source": [
    "import numpy as np\n",
    "import pandas as pd\n",
    "from sklearn.preprocessing import StandardScaler\n",
    "\n",
    "# Création aléatoire de 18 observations appartenant à 3\n",
    "# groupes définies selon 2 variables\n",
    "np.random.seed(222)\n",
    "k_data = pd.DataFrame({\"x1\" : np.reshape(np.array([[0.8 * np.random.randn(6) + 1],\n",
    "                                                   [0.8 * np.random.randn(6) + 3],\n",
    "                                                   [0.8 * np.random.randn(6) + 5]]), 18),\n",
    "                       \"x2\" : np.reshape(np.array([[0.8 * np.random.randn(6) + 1],\n",
    "                                                   [0.8 * np.random.randn(6) + 4],\n",
    "                                                   [0.8 * np.random.randn(6) + 1]]), 18)})\n",
    "\n",
    "# Standardisation des variables\n",
    "scaler = StandardScaler()\n",
    "k_data_stan = pd.DataFrame(scaler.fit_transform(k_data), columns = k_data.columns)"
   ]
  },
  {
   "cell_type": "code",
   "execution_count": 3,
   "metadata": {
    "slideshow": {
     "slide_type": "slide"
    }
   },
   "outputs": [
    {
     "data": {
      "image/png": "[encoded data removed]",
      "text/plain": [
       "<matplotlib.figure.Figure at 0x102528cc0>"
      ]
     },
     "metadata": {},
     "output_type": "display_data"
    }
   ],
   "source": [
    "import matplotlib.pyplot as plt\n",
    "\n",
    "# Représentation visuelle de la dispersion des observations selon les deux variables\n",
    "plt.scatter(x = k_data_stan[\"x1\"], y = k_data_stan[\"x2\"], color = \"orange\")\n",
    "plt.xlabel(\"X1\")\n",
    "plt.ylabel(\"X2\")\n",
    "plt.title(\"Nuage de points \\n(N = 18)\")\n",
    "plt.show()"
   ]
  },
  {
   "cell_type": "markdown",
   "metadata": {
    "slideshow": {
     "slide_type": "-"
    }
   },
   "source": [
    "Soit l'échantillon ci-dessus. Si la structure des données était inconnue, il pourrait être intéressant de voir s'il existe des regroupements à travers les observations."
   ]
  },
  {
   "cell_type": "markdown",
   "metadata": {
    "slideshow": {
     "slide_type": "slide"
    }
   },
   "source": [
    "Processus de la méthode des k-moyennes :\n",
    "    \n",
    "1) Définir le nombre de groupes (k). Pour le moment, k = 3.\n",
    "\n",
    "2) Choisir k points parmi les observations disponibles comme points centraux des groupes (centroïdes). Pour commencer, les 3 premiers points du dataframe."
   ]
  },
  {
   "cell_type": "code",
   "execution_count": 4,
   "metadata": {
    "slideshow": {
     "slide_type": "-"
    }
   },
   "outputs": [
    {
     "data": {
      "text/html": [
       "<div>\n",
       "<style>\n",
       "    .dataframe thead tr:only-child th {\n",
       "        text-align: right;\n",
       "    }\n",
       "\n",
       "    .dataframe thead th {\n",
       "        text-align: left;\n",
       "    }\n",
       "\n",
       "    .dataframe tbody tr th {\n",
       "        vertical-align: top;\n",
       "    }\n",
       "</style>\n",
       "<table border=\"1\" class=\"dataframe\">\n",
       "  <thead>\n",
       "    <tr style=\"text-align: right;\">\n",
       "      <th></th>\n",
       "      <th>x1</th>\n",
       "      <th>x2</th>\n",
       "    </tr>\n",
       "  </thead>\n",
       "  <tbody>\n",
       "    <tr>\n",
       "      <th>0</th>\n",
       "      <td>-0.369067</td>\n",
       "      <td>-0.635399</td>\n",
       "    </tr>\n",
       "    <tr>\n",
       "      <th>1</th>\n",
       "      <td>-1.222453</td>\n",
       "      <td>-1.299315</td>\n",
       "    </tr>\n",
       "    <tr>\n",
       "      <th>2</th>\n",
       "      <td>-1.129973</td>\n",
       "      <td>-0.823886</td>\n",
       "    </tr>\n",
       "  </tbody>\n",
       "</table>\n",
       "</div>"
      ],
      "text/plain": [
       "         x1        x2\n",
       "0 -0.369067 -0.635399\n",
       "1 -1.222453 -1.299315\n",
       "2 -1.129973 -0.823886"
      ]
     },
     "execution_count": 4,
     "metadata": {},
     "output_type": "execute_result"
    }
   ],
   "source": [
    "centroids = k_data_stan.head(3)\n",
    "centroids"
   ]
  },
  {
   "cell_type": "code",
   "execution_count": 5,
   "metadata": {
    "slideshow": {
     "slide_type": "slide"
    }
   },
   "outputs": [
    {
     "data": {
      "image/png": "[encoded data removed]",
      "text/plain": [
       "<matplotlib.figure.Figure at 0x10f2687b8>"
      ]
     },
     "metadata": {},
     "output_type": "display_data"
    }
   ],
   "source": [
    "# Représentation visuelle des 3 points sélectionnés\n",
    "plt.scatter(x = k_data_stan[\"x1\"], y = k_data_stan[\"x2\"], color = \"orange\")\n",
    "plt.scatter(x = centroids[\"x1\"], y = centroids[\"x2\"],\n",
    "            color = \"black\", marker = \"x\")\n",
    "plt.text(centroids[\"x1\"][0], centroids[\"x2\"][0] + 0.1, \"A\")\n",
    "plt.text(centroids[\"x1\"][1], centroids[\"x2\"][1] + 0.1, \"B\")\n",
    "plt.text(centroids[\"x1\"][2], centroids[\"x2\"][2] + 0.1, \"C\")\n",
    "plt.xlabel(\"X1\"); plt.ylabel(\"X2\")\n",
    "plt.title(\"Nuage de points et centroïdes \\n(N = 18)\")\n",
    "plt.show()"
   ]
  },
  {
   "cell_type": "markdown",
   "metadata": {
    "slideshow": {
     "slide_type": "slide"
    }
   },
   "source": [
    "3) Assigner chaque observation au centroïde le plus \"près\". La proximité ici sera calculée à l'aide de la distance euclidienne."
   ]
  },
  {
   "cell_type": "code",
   "execution_count": 6,
   "metadata": {
    "collapsed": true
   },
   "outputs": [],
   "source": [
    "# Calcul des distances avec chaque centroïde\n",
    "k_data_stan[\"dist_A\"] = np.sqrt((k_data_stan[\"x1\"] - centroids[\"x1\"][0]) ** 2 +\n",
    "                                (k_data_stan[\"x2\"] - centroids[\"x2\"][0]) ** 2)\n",
    "k_data_stan[\"dist_B\"] = np.sqrt((k_data_stan[\"x1\"] - centroids[\"x1\"][1]) ** 2 +\n",
    "                                (k_data_stan[\"x2\"] - centroids[\"x2\"][1]) ** 2)\n",
    "k_data_stan[\"dist_C\"] = np.sqrt((k_data_stan[\"x1\"] - centroids[\"x1\"][2]) ** 2 +\n",
    "                                (k_data_stan[\"x2\"] - centroids[\"x2\"][2]) ** 2)\n",
    "\n",
    "# Condition de proximité\n",
    "cond_A = k_data_stan[\"dist_A\"] == k_data_stan[[\"dist_A\", \"dist_B\", \"dist_C\"]].min(axis = 1)\n",
    "cond_B = k_data_stan[\"dist_B\"] == k_data_stan[[\"dist_A\", \"dist_B\", \"dist_C\"]].min(axis = 1)\n",
    "cond_C = k_data_stan[\"dist_C\"] == k_data_stan[[\"dist_A\", \"dist_B\", \"dist_C\"]].min(axis = 1)\n",
    "\n",
    "# Assignation du centroïde le plus proche pour chaque observation\n",
    "k_data_stan.loc[cond_A, \"pproche\"] = \"A\"\n",
    "k_data_stan.loc[cond_B, \"pproche\"] = \"B\"\n",
    "k_data_stan.loc[cond_C, \"pproche\"] = \"C\""
   ]
  },
  {
   "cell_type": "code",
   "execution_count": 7,
   "metadata": {
    "slideshow": {
     "slide_type": "slide"
    }
   },
   "outputs": [
    {
     "data": {
      "text/plain": [
       "Text(0.5,1,'Nuage de points : regroupement à la main \\n(N = 18)')"
      ]
     },
     "execution_count": 7,
     "metadata": {},
     "output_type": "execute_result"
    }
   ],
   "source": [
    "# Représentation visuelle des 3 groupes formés\n",
    "plt.scatter(x = k_data_stan[\"x1\"][k_data_stan[\"pproche\"] == \"A\"],\n",
    "            y = k_data_stan[\"x2\"][k_data_stan[\"pproche\"] == \"A\"],\n",
    "            color = \"orange\")\n",
    "plt.scatter(x = k_data_stan[\"x1\"][k_data_stan[\"pproche\"] == \"B\"],\n",
    "            y = k_data_stan[\"x2\"][k_data_stan[\"pproche\"] == \"B\"],\n",
    "            color = \"blue\")\n",
    "plt.scatter(x = k_data_stan[\"x1\"][k_data_stan[\"pproche\"] == \"C\"],\n",
    "            y = k_data_stan[\"x2\"][k_data_stan[\"pproche\"] == \"C\"],\n",
    "            color = \"red\")\n",
    "plt.text(centroids[\"x1\"][0], centroids[\"x2\"][0] + 0.1, \"A\")\n",
    "plt.text(centroids[\"x1\"][1], centroids[\"x2\"][1] + 0.1, \"B\")\n",
    "plt.text(centroids[\"x1\"][2], centroids[\"x2\"][2] + 0.1, \"C\")\n",
    "plt.xlabel(\"X1\"); plt.ylabel(\"X2\")\n",
    "plt.title(\"Nuage de points : regroupement à la main \\n(N = 18)\")"
   ]
  },
  {
   "cell_type": "code",
   "execution_count": 8,
   "metadata": {
    "slideshow": {
     "slide_type": "slide"
    }
   },
   "outputs": [
    {
     "data": {
      "image/png": "[encoded data removed]",
      "text/plain": [
       "<matplotlib.figure.Figure at 0x10f35edd8>"
      ]
     },
     "metadata": {},
     "output_type": "display_data"
    }
   ],
   "source": [
    "plt.show()"
   ]
  },
  {
   "cell_type": "markdown",
   "metadata": {
    "slideshow": {
     "slide_type": "slide"
    }
   },
   "source": [
    "4) Relocaliser chaque nouveau centroïde \"au centre\" de son groupe.\n",
    "\n",
    "Le centre est déterminé par le point moyen de chaque groupe (d'où le nom des k-moyennes)."
   ]
  },
  {
   "cell_type": "code",
   "execution_count": 9,
   "metadata": {
    "collapsed": true
   },
   "outputs": [],
   "source": [
    "# Calcul des nouveaux centroides\n",
    "centroids = pd.DataFrame({\"x1\" : [sum(k_data_stan[\"x1\"][k_data_stan[\"pproche\"] == \"A\"])/\n",
    "                len(k_data_stan[\"x1\"][k_data_stan[\"pproche\"] == \"A\"]),\n",
    "                sum(k_data_stan[\"x1\"][k_data_stan[\"pproche\"] == \"B\"])/\n",
    "                len(k_data_stan[\"x1\"][k_data_stan[\"pproche\"] == \"B\"]),\n",
    "                sum(k_data_stan[\"x1\"][k_data_stan[\"pproche\"] == \"C\"])/\n",
    "                len(k_data_stan[\"x1\"][k_data_stan[\"pproche\"] == \"C\"])],\n",
    "        \"x2\" : [sum(k_data_stan[\"x2\"][k_data_stan[\"pproche\"] == \"A\"])/\n",
    "                len(k_data_stan[\"x2\"][k_data_stan[\"pproche\"] == \"A\"]),\n",
    "                sum(k_data_stan[\"x2\"][k_data_stan[\"pproche\"] == \"B\"])/\n",
    "                len(k_data_stan[\"x2\"][k_data_stan[\"pproche\"] == \"B\"]),\n",
    "                sum(k_data_stan[\"x2\"][k_data_stan[\"pproche\"] == \"C\"])/\n",
    "                len(k_data_stan[\"x2\"][k_data_stan[\"pproche\"] == \"C\"])]})                                                                   "
   ]
  },
  {
   "cell_type": "code",
   "execution_count": 10,
   "metadata": {
    "slideshow": {
     "slide_type": "slide"
    }
   },
   "outputs": [
    {
     "data": {
      "text/plain": [
       "Text(0.5,1,'Nuage de points : regroupement à la main \\n(N = 18)')"
      ]
     },
     "execution_count": 10,
     "metadata": {},
     "output_type": "execute_result"
    }
   ],
   "source": [
    "# Représentation visuelle des 3 groupes formés\n",
    "# avec les nouveaux centroides\n",
    "plt.scatter(x = k_data_stan[\"x1\"][k_data_stan[\"pproche\"] == \"A\"],\n",
    "            y = k_data_stan[\"x2\"][k_data_stan[\"pproche\"] == \"A\"],\n",
    "            color = \"orange\")\n",
    "plt.scatter(x = k_data_stan[\"x1\"][k_data_stan[\"pproche\"] == \"B\"],\n",
    "            y = k_data_stan[\"x2\"][k_data_stan[\"pproche\"] == \"B\"],\n",
    "            color = \"blue\")\n",
    "plt.scatter(x = k_data_stan[\"x1\"][k_data_stan[\"pproche\"] == \"C\"],\n",
    "            y = k_data_stan[\"x2\"][k_data_stan[\"pproche\"] == \"C\"],\n",
    "            color = \"red\")\n",
    "plt.scatter(x = centroids[\"x1\"], y = centroids[\"x2\"],\n",
    "            color = \"black\", marker = \"x\")\n",
    "plt.text(centroids[\"x1\"][0], centroids[\"x2\"][0] + 0.1, \"A\")\n",
    "plt.text(centroids[\"x1\"][1], centroids[\"x2\"][1] + 0.1, \"B\")\n",
    "plt.text(centroids[\"x1\"][2], centroids[\"x2\"][2] + 0.1, \"C\")\n",
    "plt.xlabel(\"X1\"); plt.ylabel(\"X2\")\n",
    "plt.title(\"Nuage de points : regroupement à la main \\n(N = 18)\")"
   ]
  },
  {
   "cell_type": "code",
   "execution_count": 11,
   "metadata": {
    "slideshow": {
     "slide_type": "slide"
    }
   },
   "outputs": [
    {
     "data": {
      "image/png": "[encoded data removed]",
      "text/plain": [
       "<matplotlib.figure.Figure at 0x10f47ccc0>"
      ]
     },
     "metadata": {},
     "output_type": "display_data"
    }
   ],
   "source": [
    "plt.show()"
   ]
  },
  {
   "cell_type": "code",
   "execution_count": 12,
   "metadata": {
    "collapsed": true,
    "slideshow": {
     "slide_type": "slide"
    }
   },
   "outputs": [],
   "source": [
    "# Calcul des distances avec chaque centroïde\n",
    "k_data_stan[\"dist_A\"] = np.sqrt((k_data_stan[\"x1\"] - centroids[\"x1\"][0]) ** 2 +\n",
    "                                (k_data_stan[\"x2\"] - centroids[\"x2\"][0]) ** 2)\n",
    "k_data_stan[\"dist_B\"] = np.sqrt((k_data_stan[\"x1\"] - centroids[\"x1\"][1]) ** 2 +\n",
    "                                (k_data_stan[\"x2\"] - centroids[\"x2\"][1]) ** 2)\n",
    "k_data_stan[\"dist_C\"] = np.sqrt((k_data_stan[\"x1\"] - centroids[\"x1\"][2]) ** 2 +\n",
    "                                (k_data_stan[\"x2\"] - centroids[\"x2\"][2]) ** 2)\n",
    "\n",
    "# Condition de proximité\n",
    "mask_A = k_data_stan[\"dist_A\"] == k_data_stan[[\"dist_A\", \"dist_B\", \"dist_C\"]].min(axis = 1)\n",
    "mask_B = k_data_stan[\"dist_B\"] == k_data_stan[[\"dist_A\", \"dist_B\", \"dist_C\"]].min(axis = 1)\n",
    "mask_C = k_data_stan[\"dist_C\"] == k_data_stan[[\"dist_A\", \"dist_B\", \"dist_C\"]].min(axis = 1)\n",
    "\n",
    "# Assignation de chaque observation au centroïde le plus proche\n",
    "k_data_stan.loc[mask_A, \"pproche\"] = \"A\"\n",
    "k_data_stan.loc[mask_B, \"pproche\"] = \"B\"\n",
    "k_data_stan.loc[mask_C, \"pproche\"] = \"C\""
   ]
  },
  {
   "cell_type": "code",
   "execution_count": 13,
   "metadata": {
    "slideshow": {
     "slide_type": "slide"
    }
   },
   "outputs": [
    {
     "data": {
      "text/plain": [
       "Text(0.5,1,'Nuage de points : regroupement à la main \\n(N = 18)')"
      ]
     },
     "execution_count": 13,
     "metadata": {},
     "output_type": "execute_result"
    }
   ],
   "source": [
    "# Représentation visuelle des 3 groupes formés\n",
    "plt.scatter(x = k_data_stan[\"x1\"][k_data_stan[\"pproche\"] == \"A\"],\n",
    "            y = k_data_stan[\"x2\"][k_data_stan[\"pproche\"] == \"A\"],\n",
    "            color = \"orange\")\n",
    "plt.scatter(x = k_data_stan[\"x1\"][k_data_stan[\"pproche\"] == \"B\"],\n",
    "            y = k_data_stan[\"x2\"][k_data_stan[\"pproche\"] == \"B\"],\n",
    "            color = \"blue\")\n",
    "plt.scatter(x = k_data_stan[\"x1\"][k_data_stan[\"pproche\"] == \"C\"],\n",
    "            y = k_data_stan[\"x2\"][k_data_stan[\"pproche\"] == \"C\"],\n",
    "            color = \"red\")\n",
    "plt.scatter(x = centroids[\"x1\"], y = centroids[\"x2\"],\n",
    "            color = \"black\", marker = \"x\")\n",
    "plt.text(centroids[\"x1\"][0], centroids[\"x2\"][0] + 0.1, \"A\")\n",
    "plt.text(centroids[\"x1\"][1], centroids[\"x2\"][1] + 0.1, \"B\")\n",
    "plt.text(centroids[\"x1\"][2], centroids[\"x2\"][2] + 0.1, \"C\")\n",
    "plt.xlabel(\"X1\"); plt.ylabel(\"X2\")\n",
    "plt.title(\"Nuage de points : regroupement à la main \\n(N = 18)\")"
   ]
  },
  {
   "cell_type": "code",
   "execution_count": 14,
   "metadata": {
    "slideshow": {
     "slide_type": "slide"
    }
   },
   "outputs": [
    {
     "data": {
      "image/png": "[encoded data removed]",
      "text/plain": [
       "<matplotlib.figure.Figure at 0x10f562860>"
      ]
     },
     "metadata": {},
     "output_type": "display_data"
    }
   ],
   "source": [
    "plt.show()"
   ]
  },
  {
   "cell_type": "markdown",
   "metadata": {
    "slideshow": {
     "slide_type": "-"
    }
   },
   "source": [
    "Et ainsi de suite..."
   ]
  },
  {
   "cell_type": "markdown",
   "metadata": {
    "collapsed": true,
    "slideshow": {
     "slide_type": "slide"
    }
   },
   "source": [
    "- À la main, peut devenir rapidement laborieux $\\rightarrow$ utilisation de SciKit-Learn."
   ]
  },
  {
   "cell_type": "code",
   "execution_count": 15,
   "metadata": {
    "collapsed": true
   },
   "outputs": [],
   "source": [
    "        from sklearn.cluster import KMeans\n",
    "\n",
    "# Retour aux données initiales\n",
    "k_data_stan = pd.DataFrame(scaler.fit_transform(k_data), columns = k_data.columns)\n",
    "\n",
    "# Définition des centroïdes\n",
    "centroids = k_data_stan.head(3)"
   ]
  },
  {
   "cell_type": "code",
   "execution_count": 16,
   "metadata": {
    "collapsed": true,
    "slideshow": {
     "slide_type": "slide"
    }
   },
   "outputs": [],
   "source": [
    "# Commande pour implémenter la méthode des k-moyennes\n",
    "km = KMeans(n_clusters = 3,\n",
    "           init = centroids,\n",
    "           n_init = 1,\n",
    "           max_iter = 2,\n",
    "           random_state = 222)\n",
    "clusters = km.fit_predict(k_data_stan)"
   ]
  },
  {
   "cell_type": "markdown",
   "metadata": {
    "slideshow": {
     "slide_type": "-"
    }
   },
   "source": [
    "- `n_clusters` détermine le nombre de groupes.\n",
    "- `init` choisi les points de départ.\n",
    "- `n_init` détermine combien de relance du modèle l'algorithme doit faire.\n",
    "- `max_iter` détermine à combien d'itérations l'algorithme doit s'arrêter s'il ne converge pas.\n",
    "- `random_state` détermine le seed permettant de reproduire les résultats."
   ]
  },
  {
   "cell_type": "code",
   "execution_count": 17,
   "metadata": {
    "slideshow": {
     "slide_type": "slide"
    }
   },
   "outputs": [
    {
     "data": {
      "text/plain": [
       "Text(0.5,1,'Nuage de points : regroupements avec KMeans \\n(N = 18)')"
      ]
     },
     "execution_count": 17,
     "metadata": {},
     "output_type": "execute_result"
    }
   ],
   "source": [
    "# Représentation visuelle des 3 groupes formés par SciKit-Learn\n",
    "plt.scatter(x = k_data_stan[\"x1\"][clusters == 0],\n",
    "            y = k_data_stan[\"x2\"][clusters == 0],\n",
    "            color = \"orange\")\n",
    "plt.scatter(x = k_data_stan[\"x1\"][clusters == 1],\n",
    "            y = k_data_stan[\"x2\"][clusters == 1],\n",
    "            color = \"blue\")\n",
    "plt.scatter(x = k_data_stan[\"x1\"][clusters == 2],\n",
    "            y = k_data_stan[\"x2\"][clusters == 2],\n",
    "            color = \"red\")\n",
    "plt.scatter(x = km.cluster_centers_[:, 0], y = km.cluster_centers_[:, 1],\n",
    "            color = \"black\", marker = \"x\")\n",
    "plt.text(km.cluster_centers_[0, 0], km.cluster_centers_[0, 1] + 0.1, \"A\")\n",
    "plt.text(km.cluster_centers_[1, 0], km.cluster_centers_[1, 1] + 0.1, \"B\")\n",
    "plt.text(km.cluster_centers_[2, 0], km.cluster_centers_[2, 1] + 0.1, \"C\")\n",
    "plt.xlabel(\"X1\"); plt.ylabel(\"X2\")\n",
    "plt.title(\"Nuage de points : regroupements avec KMeans \\n(N = 18)\")"
   ]
  },
  {
   "cell_type": "code",
   "execution_count": 18,
   "metadata": {
    "slideshow": {
     "slide_type": "slide"
    }
   },
   "outputs": [
    {
     "data": {
      "image/png": "[encoded data removed]",
      "text/plain": [
       "<matplotlib.figure.Figure at 0x1102adf60>"
      ]
     },
     "metadata": {},
     "output_type": "display_data"
    }
   ],
   "source": [
    "plt.show()"
   ]
  },
  {
   "cell_type": "markdown",
   "metadata": {
    "slideshow": {
     "slide_type": "-"
    }
   },
   "source": [
    "Même résultat!"
   ]
  },
  {
   "cell_type": "markdown",
   "metadata": {
    "slideshow": {
     "slide_type": "slide"
    }
   },
   "source": [
    "Possibilité de laisser l'algorithme faire plusieurs itérations et tenter plusieurs centroïdes initiaux différents."
   ]
  },
  {
   "cell_type": "code",
   "execution_count": 19,
   "metadata": {
    "collapsed": true,
    "slideshow": {
     "slide_type": "-"
    }
   },
   "outputs": [],
   "source": [
    "km2 = KMeans(n_clusters = 3,\n",
    "           init = \"random\",\n",
    "           n_init = 10,\n",
    "           max_iter = 300,\n",
    "           random_state = 222)\n",
    "cluster2 = km2.fit_predict(k_data_stan)"
   ]
  },
  {
   "cell_type": "code",
   "execution_count": 26,
   "metadata": {
    "slideshow": {
     "slide_type": "slide"
    }
   },
   "outputs": [
    {
     "data": {
      "text/plain": [
       "Text(0.5,1,'Nuage de points : regroupements avec KMeans, k = 3 \\n(N = 18)')"
      ]
     },
     "execution_count": 26,
     "metadata": {},
     "output_type": "execute_result"
    }
   ],
   "source": [
    "# Représentation visuelle des 3 groupes formés\n",
    "plt.scatter(x = k_data_stan[\"x1\"][cluster2 == 0],\n",
    "            y = k_data_stan[\"x2\"][cluster2 == 0],\n",
    "            color = \"orange\")\n",
    "plt.scatter(x = k_data_stan[\"x1\"][cluster2 == 1],\n",
    "            y = k_data_stan[\"x2\"][cluster2 == 1],\n",
    "            color = \"blue\")\n",
    "plt.scatter(x = k_data_stan[\"x1\"][cluster2 == 2],\n",
    "            y = k_data_stan[\"x2\"][cluster2 == 2],\n",
    "            color = \"red\")\n",
    "plt.scatter(x = km2.cluster_centers_[:, 0], y = km2.cluster_centers_[:, 1],\n",
    "            color = \"black\", marker = \"x\")\n",
    "plt.text(km2.cluster_centers_[0, 0], km2.cluster_centers_[0, 1] + 0.1, \"A\")\n",
    "plt.text(km2.cluster_centers_[1, 0], km2.cluster_centers_[1, 1] + 0.1, \"B\")\n",
    "plt.text(km2.cluster_centers_[2, 0], km2.cluster_centers_[2, 1] + 0.1, \"C\")\n",
    "plt.xlabel(\"X1\"); plt.ylabel(\"X2\")\n",
    "plt.title(\"Nuage de points : regroupements avec KMeans, k = 3 \\n(N = 18)\")"
   ]
  },
  {
   "cell_type": "code",
   "execution_count": 27,
   "metadata": {
    "scrolled": true,
    "slideshow": {
     "slide_type": "slide"
    }
   },
   "outputs": [
    {
     "data": {
      "image/png": "[encoded data removed]",
      "text/plain": [
       "<matplotlib.figure.Figure at 0x110513a90>"
      ]
     },
     "metadata": {},
     "output_type": "display_data"
    }
   ],
   "source": [
    "plt.show()"
   ]
  },
  {
   "cell_type": "markdown",
   "metadata": {
    "slideshow": {
     "slide_type": "slide"
    }
   },
   "source": [
    "- Les groupes de départ sont effectivement retrouvés!\n",
    "- Comment l'algorithme \"sait\" quel modèle conserver?\n",
    "- Il conserve le modèle qui minimise la variance intra-groupe (*sum of squared error*) :\n",
    "\n",
    "$$SSE = \\sum_{k=1}^K \\frac{1}{|C_k|}\\sum_{i,i'\\in C_k}\\sum_{j=1}^p(x_{i,j} - x_{i',j})^2$$\n",
    "\n",
    "où $\\sum_{j=1}^p(x_{i,j} - x_{i',j})^2$ est la distance euclidienne entre les observations $i$ et $i'$ d'un même groupe. La distance est caculée en comparant les $p$ attributs de chacune des observations.\n",
    "- Cette distance est sommée pour toutes les paires de points $(i, i')$ dans un groupe $C_k$ puis divisée par le nombre d'observations dans le groupe k ($|C_k|$).\n",
    "- Cette valeur est ensuite sommée pour les k groupes."
   ]
  },
  {
   "cell_type": "markdown",
   "metadata": {
    "slideshow": {
     "slide_type": "slide"
    }
   },
   "source": [
    "- La présentation ci-haut était dans un cas idéal. Or, ce n'est pas toujours le cas.\n",
    "- Que se passes-t-il si quatre groupes sont choisis plutôt que trois?"
   ]
  },
  {
   "cell_type": "code",
   "execution_count": 28,
   "metadata": {
    "collapsed": true,
    "slideshow": {
     "slide_type": "-"
    }
   },
   "outputs": [],
   "source": [
    "km3 = KMeans(n_clusters = 4,\n",
    "           init = \"random\",\n",
    "           n_init = 10,\n",
    "           max_iter = 300,\n",
    "           random_state = 222)\n",
    "cluster3 = km3.fit_predict(k_data_stan)"
   ]
  },
  {
   "cell_type": "code",
   "execution_count": 29,
   "metadata": {
    "slideshow": {
     "slide_type": "slide"
    }
   },
   "outputs": [
    {
     "data": {
      "text/plain": [
       "Text(0.5,1,'Nuage de points : regroupements avec KMeans, k = 4 \\n(N = 18)')"
      ]
     },
     "execution_count": 29,
     "metadata": {},
     "output_type": "execute_result"
    }
   ],
   "source": [
    "# Représentation visuelle des 3 groupes formés\n",
    "plt.scatter(x = k_data_stan[\"x1\"][cluster3 == 0],\n",
    "            y = k_data_stan[\"x2\"][cluster3 == 0],\n",
    "            color = \"orange\")\n",
    "plt.scatter(x = k_data_stan[\"x1\"][cluster3 == 1],\n",
    "            y = k_data_stan[\"x2\"][cluster3 == 1],\n",
    "            color = \"blue\")\n",
    "plt.scatter(x = k_data_stan[\"x1\"][cluster3 == 2],\n",
    "            y = k_data_stan[\"x2\"][cluster3 == 2],\n",
    "            color = \"red\")\n",
    "plt.scatter(x = k_data_stan[\"x1\"][cluster3 == 3],\n",
    "            y = k_data_stan[\"x2\"][cluster3 == 3],\n",
    "            color = \"green\")\n",
    "plt.scatter(x = km3.cluster_centers_[:, 0], y = km3.cluster_centers_[:, 1],\n",
    "            color = \"black\", marker = \"x\")\n",
    "plt.text(km3.cluster_centers_[0, 0], km3.cluster_centers_[0, 1] + 0.1, \"A\")\n",
    "plt.text(km3.cluster_centers_[1, 0], km3.cluster_centers_[1, 1] + 0.1, \"B\")\n",
    "plt.text(km3.cluster_centers_[2, 0], km3.cluster_centers_[2, 1] + 0.1, \"C\")\n",
    "plt.text(km3.cluster_centers_[3, 0], km3.cluster_centers_[3, 1] + 0.1, \"D\")\n",
    "plt.xlabel(\"X1\"); plt.ylabel(\"X2\")\n",
    "plt.title(\"Nuage de points : regroupements avec KMeans, k = 4 \\n(N = 18)\")"
   ]
  },
  {
   "cell_type": "code",
   "execution_count": 30,
   "metadata": {
    "slideshow": {
     "slide_type": "slide"
    }
   },
   "outputs": [
    {
     "data": {
      "image/png": "[encoded data removed]",
      "text/plain": [
       "<matplotlib.figure.Figure at 0x10f24ea20>"
      ]
     },
     "metadata": {},
     "output_type": "display_data"
    }
   ],
   "source": [
    "plt.show()"
   ]
  },
  {
   "cell_type": "markdown",
   "metadata": {
    "slideshow": {
     "slide_type": "-"
    }
   },
   "source": [
    "- Quatre groupes sont effectivement trouvés. Toutefois, les données proviennent en réalité de seulement trois groupes."
   ]
  },
  {
   "cell_type": "markdown",
   "metadata": {
    "slideshow": {
     "slide_type": "slide"
    }
   },
   "source": [
    "- La sélection de k demeure subjective. Il n'existe pas de concensus sur la bonne façon de faire.\n",
    "- L'algorithme trouvera toujours des groupes $\\rightarrow$ Rôle important de l'interprétation des résultats.\n",
    "- Possibillité de fournir d'autres mesures de distance à l'algorithme.\n",
    "- **Attention**, une attention particulière doit être portée à quelle variable est introduite dans la mesure de distance. La distance entre les observations est calculée en considérant toutes les variables fournies, quelles soient pertinentes ou non.\n",
    "\n",
    "En somme :\n",
    "\n",
    "- La méthode des k-moyennes est très simple et efficace, ce qui explique sa popularité.\n",
    "- Le cas à deux dimensions a été couvert à des fins de simplicité et de visualisation, mais le nombre d'attributs considérés peut être plus important.\n",
    "- La visualisation à l'aide d'une graphique à deux dimensions est possible lorsque seulement deux attributs sont considérés, mais devient problématique lorsque le nombre d'attributs augmente $\\rightarrow$ Voir l'exemple de travail long pour un cas de visualisation dans ces conditions.\n",
    "- **Attention**, dépendamment des centroïdes et du nombre de groupes choisis, la méthode ne converge pas toujours vers la même solution, ce qui est parfois problématique lorsque le nombre de variables prises en considération est important $\\rightarrow$ Encore une fois,il est important de vérifier plusieurs modèles et de s'attarder à la signification des regroupements pour ne pas regrouper du \"bruit\"."
   ]
  },
  {
   "cell_type": "markdown",
   "metadata": {
    "slideshow": {
     "slide_type": "slide"
    }
   },
   "source": [
    "## 4.4 Regroupement hiérarchique\n",
    "\n",
    "***\n",
    "\n",
    "- La méthode des k-moyennes est dites *top-down*, puisque le nombre de groupes est imposé à l'algorithme qui doit ensuite classer les observations dans chaque groupe.\n",
    "- La méthode de regroupement hiérarchique est quant à elle dites *bottom-up* $\\rightarrow$ Part des observations et construit des groupes en rassemblant les observations les plus \"proches\".\n",
    "- Encore une fois, comment définir la \"proximité\"? Mesure de distance (euclidienne ou autres)."
   ]
  },
  {
   "cell_type": "markdown",
   "metadata": {
    "slideshow": {
     "slide_type": "slide"
    }
   },
   "source": [
    "**Matrice de proximité**\n",
    "\n",
    "- Une fois une mesure de distance sélectionnée, il est possible de mesurer pour chaque observation la distance qui la sépare des autres observations.\n",
    "- Ce qui en résulte est une matrice de taille $(N \\times N)$ appelée la **matrice de proximité**."
   ]
  },
  {
   "cell_type": "code",
   "execution_count": 146,
   "metadata": {
    "slideshow": {
     "slide_type": "slide"
    }
   },
   "outputs": [
    {
     "data": {
      "text/html": [
       "<div>\n",
       "<style>\n",
       "    .dataframe thead tr:only-child th {\n",
       "        text-align: right;\n",
       "    }\n",
       "\n",
       "    .dataframe thead th {\n",
       "        text-align: left;\n",
       "    }\n",
       "\n",
       "    .dataframe tbody tr th {\n",
       "        vertical-align: top;\n",
       "    }\n",
       "</style>\n",
       "<table border=\"1\" class=\"dataframe\">\n",
       "  <thead>\n",
       "    <tr style=\"text-align: right;\">\n",
       "      <th></th>\n",
       "      <th>x1</th>\n",
       "      <th>x2</th>\n",
       "    </tr>\n",
       "  </thead>\n",
       "  <tbody>\n",
       "    <tr>\n",
       "      <th>ob_1</th>\n",
       "      <td>-1.336306</td>\n",
       "      <td>-1.372813</td>\n",
       "    </tr>\n",
       "    <tr>\n",
       "      <th>ob_2</th>\n",
       "      <td>0.267261</td>\n",
       "      <td>0.980581</td>\n",
       "    </tr>\n",
       "    <tr>\n",
       "      <th>ob_3</th>\n",
       "      <td>1.069045</td>\n",
       "      <td>0.392232</td>\n",
       "    </tr>\n",
       "  </tbody>\n",
       "</table>\n",
       "</div>"
      ],
      "text/plain": [
       "            x1        x2\n",
       "ob_1 -1.336306 -1.372813\n",
       "ob_2  0.267261  0.980581\n",
       "ob_3  1.069045  0.392232"
      ]
     },
     "execution_count": 146,
     "metadata": {},
     "output_type": "execute_result"
    }
   ],
   "source": [
    "import pandas as pd\n",
    "import matplotlib.pyplot as plt\n",
    "from sklearn.preprocessing import StandardScaler\n",
    "\n",
    "# Création et standardisation d'un dataframe\n",
    "ind = [\"ob_1\", \"ob_2\", \"ob_3\"]\n",
    "data = pd.DataFrame({\"x1\" : [1, 3, 4], \"x2\" : [1, 5, 4]}, index = ind)\n",
    "scaler = StandardScaler()\n",
    "data_stan = pd.DataFrame(scaler.fit_transform(data), columns = data.columns, index = ind)\n",
    "data_stan"
   ]
  },
  {
   "cell_type": "code",
   "execution_count": 147,
   "metadata": {
    "slideshow": {
     "slide_type": "slide"
    }
   },
   "outputs": [
    {
     "data": {
      "text/html": [
       "<div>\n",
       "<style>\n",
       "    .dataframe thead tr:only-child th {\n",
       "        text-align: right;\n",
       "    }\n",
       "\n",
       "    .dataframe thead th {\n",
       "        text-align: left;\n",
       "    }\n",
       "\n",
       "    .dataframe tbody tr th {\n",
       "        vertical-align: top;\n",
       "    }\n",
       "</style>\n",
       "<table border=\"1\" class=\"dataframe\">\n",
       "  <thead>\n",
       "    <tr style=\"text-align: right;\">\n",
       "      <th></th>\n",
       "      <th>ob_1</th>\n",
       "      <th>ob_2</th>\n",
       "      <th>ob_3</th>\n",
       "    </tr>\n",
       "  </thead>\n",
       "  <tbody>\n",
       "    <tr>\n",
       "      <th>ob_1</th>\n",
       "      <td>0.000000</td>\n",
       "      <td>2.847787</td>\n",
       "      <td>2.983471</td>\n",
       "    </tr>\n",
       "    <tr>\n",
       "      <th>ob_2</th>\n",
       "      <td>2.847787</td>\n",
       "      <td>0.000000</td>\n",
       "      <td>0.994490</td>\n",
       "    </tr>\n",
       "    <tr>\n",
       "      <th>ob_3</th>\n",
       "      <td>2.983471</td>\n",
       "      <td>0.994490</td>\n",
       "      <td>0.000000</td>\n",
       "    </tr>\n",
       "  </tbody>\n",
       "</table>\n",
       "</div>"
      ],
      "text/plain": [
       "          ob_1      ob_2      ob_3\n",
       "ob_1  0.000000  2.847787  2.983471\n",
       "ob_2  2.847787  0.000000  0.994490\n",
       "ob_3  2.983471  0.994490  0.000000"
      ]
     },
     "execution_count": 147,
     "metadata": {},
     "output_type": "execute_result"
    }
   ],
   "source": [
    "from scipy.spatial.distance import pdist, squareform\n",
    "\n",
    "# Calcule de la distance euclidienne entre chaque observation du\n",
    "# dataframe afin de créé une matrice de proximité\n",
    "dist = pdist(data_stan, \"euclidean\")\n",
    "data_dist = pd.DataFrame(squareform(dist), columns = ind, index = ind)\n",
    "data_dist"
   ]
  },
  {
   "cell_type": "markdown",
   "metadata": {
    "collapsed": true,
    "slideshow": {
     "slide_type": "-"
    }
   },
   "source": [
    "- Généralement, cette matrice est calculée par la fonction permettant l'implémentation de l'algorithme de regroupement $\\rightarrow$ C'est le cas avec le module SciPy."
   ]
  },
  {
   "cell_type": "markdown",
   "metadata": {
    "slideshow": {
     "slide_type": "slide"
    }
   },
   "source": [
    "Intermède : Introduction au module **SciPy**\n",
    "\n",
    "- SciPy est un module conçu pour effectuer de la programmation scientifique.\n",
    "- Il est construit pour interagir facilement avec Numpy et Pandas.\n",
    "- Il est utilisé ici pour effectuer le regroupement hiérarchique."
   ]
  },
  {
   "cell_type": "markdown",
   "metadata": {
    "collapsed": true,
    "slideshow": {
     "slide_type": "slide"
    }
   },
   "source": [
    "Retour au regroupement hiérarchique.\n",
    "\n",
    "- La méthode de regroupement hiérarchique réunit ensuite les deux observations les plus proches (ayant la plus courte distance les séparant).\n",
    "- Ces deux observations formeront ainsi un premier groupe. \n",
    "- L'observation la plus proche de ce groupe est ensuite ajoutée à celui-ci pour former un nouveau groupe, et ainsi de suite.\n",
    "- Ce processus continue jusqu'à ce que toutes les observations soient incluses dans un groupe unique."
   ]
  },
  {
   "cell_type": "markdown",
   "metadata": {
    "collapsed": true,
    "slideshow": {
     "slide_type": "slide"
    }
   },
   "source": [
    "- Exemple à partir de nos 3 observations standardisées contenues dans `data_stan`."
   ]
  },
  {
   "cell_type": "code",
   "execution_count": 148,
   "metadata": {
    "slideshow": {
     "slide_type": "-"
    }
   },
   "outputs": [
    {
     "data": {
      "text/html": [
       "<div>\n",
       "<style>\n",
       "    .dataframe thead tr:only-child th {\n",
       "        text-align: right;\n",
       "    }\n",
       "\n",
       "    .dataframe thead th {\n",
       "        text-align: left;\n",
       "    }\n",
       "\n",
       "    .dataframe tbody tr th {\n",
       "        vertical-align: top;\n",
       "    }\n",
       "</style>\n",
       "<table border=\"1\" class=\"dataframe\">\n",
       "  <thead>\n",
       "    <tr style=\"text-align: right;\">\n",
       "      <th></th>\n",
       "      <th>ob_1</th>\n",
       "      <th>ob_2</th>\n",
       "      <th>ob_3</th>\n",
       "    </tr>\n",
       "  </thead>\n",
       "  <tbody>\n",
       "    <tr>\n",
       "      <th>ob_1</th>\n",
       "      <td>0.000000</td>\n",
       "      <td>2.847787</td>\n",
       "      <td>2.983471</td>\n",
       "    </tr>\n",
       "    <tr>\n",
       "      <th>ob_2</th>\n",
       "      <td>2.847787</td>\n",
       "      <td>0.000000</td>\n",
       "      <td>0.994490</td>\n",
       "    </tr>\n",
       "    <tr>\n",
       "      <th>ob_3</th>\n",
       "      <td>2.983471</td>\n",
       "      <td>0.994490</td>\n",
       "      <td>0.000000</td>\n",
       "    </tr>\n",
       "  </tbody>\n",
       "</table>\n",
       "</div>"
      ],
      "text/plain": [
       "          ob_1      ob_2      ob_3\n",
       "ob_1  0.000000  2.847787  2.983471\n",
       "ob_2  2.847787  0.000000  0.994490\n",
       "ob_3  2.983471  0.994490  0.000000"
      ]
     },
     "execution_count": 148,
     "metadata": {},
     "output_type": "execute_result"
    }
   ],
   "source": [
    "data_dist"
   ]
  },
  {
   "cell_type": "markdown",
   "metadata": {
    "slideshow": {
     "slide_type": "-"
    }
   },
   "source": [
    "- `obs_2` et `obs_3` semblent être les plus proches l'une de l'autre, suivie par `obs_1`."
   ]
  },
  {
   "cell_type": "code",
   "execution_count": 149,
   "metadata": {
    "collapsed": true,
    "slideshow": {
     "slide_type": "slide"
    }
   },
   "outputs": [],
   "source": [
    "from scipy.cluster.hierarchy import linkage, dendrogram\n",
    "import matplotlib.pyplot as plt\n",
    "\n",
    "# Calcul des groupes\n",
    "hier = linkage(data_stan,\n",
    "              method = \"average\",\n",
    "              metric = \"euclidean\")"
   ]
  },
  {
   "cell_type": "markdown",
   "metadata": {
    "slideshow": {
     "slide_type": "-"
    }
   },
   "source": [
    "- `method` détermine le type de lien entre les données (sera couvert dans un instant).\n",
    "- `metric` détermine le type de distance à utiliser pour mesurer la proximité."
   ]
  },
  {
   "cell_type": "code",
   "execution_count": 150,
   "metadata": {
    "slideshow": {
     "slide_type": "slide"
    }
   },
   "outputs": [
    {
     "data": {
      "image/png": "[encoded data removed]",
      "text/plain": [
       "<matplotlib.figure.Figure at 0x11eeff550>"
      ]
     },
     "metadata": {},
     "output_type": "display_data"
    }
   ],
   "source": [
    "# Visualisation du dendrogramme\n",
    "hier_dend = dendrogram(hier, labels = ind)\n",
    "plt.tight_layout()\n",
    "plt.ylabel(\"Distance euclidienne\")\n",
    "plt.xlabel(\"Observations\")\n",
    "plt.title(\"Dendrogramme \\n(N = 3)\")\n",
    "plt.show()"
   ]
  },
  {
   "cell_type": "markdown",
   "metadata": {
    "slideshow": {
     "slide_type": "slide"
    }
   },
   "source": [
    "Dendrogramme :\n",
    "\n",
    "- Un dendrogramme est une représentation visuelle des regroupements effectués à l'aide des observations selon leur proximité.\n",
    "- Le plus tôt deux points sont regroupés, le plus similaire (\"proche\") sont ces points.\n",
    "- **Attention** : la proximité de deux observations n'est pas déterminée par leur distance sur l'axe des abscisses, mais bien par la hauteur à laquelle leur branche se rejoignent sur l'axe des ordonnées"
   ]
  },
  {
   "cell_type": "markdown",
   "metadata": {
    "slideshow": {
     "slide_type": "-"
    }
   },
   "source": [
    "Quiz : une fois des observations réunies à l'intérieur d'un groupe, comment calculer la distance entre ce groupe et une autre observation?"
   ]
  },
  {
   "cell_type": "markdown",
   "metadata": {
    "slideshow": {
     "slide_type": "slide"
    }
   },
   "source": [
    "Cette question est résolue par le type de lien (*linkage*) utilisé par l'algorithme.\n",
    "\n",
    "1. Complet : distance maximale inter-groupe.\n",
    "2. Simple : distance minimale inter-groupe.\n",
    "3. Moyen : distance moyenne inter-groupe.\n",
    "4. Centroïdes : distance entre les centroïdes de chaque groupe.\n",
    "\n",
    "Le type de lien est défini dans la fonction `linkage` du module SciPy à l'aide de l'option `method`."
   ]
  },
  {
   "cell_type": "markdown",
   "metadata": {
    "slideshow": {
     "slide_type": "slide"
    }
   },
   "source": [
    "- Exemple avec plus de trois observations : données utilisées pour la méthode des k-moyennes."
   ]
  },
  {
   "cell_type": "code",
   "execution_count": 151,
   "metadata": {},
   "outputs": [
    {
     "data": {
      "image/png": "[encoded data removed]",
      "text/plain": [
       "<matplotlib.figure.Figure at 0x11f12ea20>"
      ]
     },
     "metadata": {},
     "output_type": "display_data"
    }
   ],
   "source": [
    "k_data_stan = pd.DataFrame(scaler.fit_transform(k_data), columns = k_data.columns)\n",
    "\n",
    "# Représentation visuelle de la dispertion des observations\n",
    "plt.scatter(x = k_data_stan[\"x1\"], y = k_data_stan[\"x2\"], color = \"orange\")\n",
    "plt.xlabel(\"X1\")\n",
    "plt.ylabel(\"X2\")\n",
    "plt.title(\"Nuage de points \\n(N = 18)\")\n",
    "plt.show()"
   ]
  },
  {
   "cell_type": "code",
   "execution_count": 152,
   "metadata": {
    "slideshow": {
     "slide_type": "slide"
    }
   },
   "outputs": [
    {
     "data": {
      "image/png": "[encoded data removed]",
      "text/plain": [
       "<matplotlib.figure.Figure at 0x11f3f1940>"
      ]
     },
     "metadata": {},
     "output_type": "display_data"
    }
   ],
   "source": [
    "# Calcul des groupes\n",
    "hier2 = linkage(k_data_stan,\n",
    "              method = \"average\",\n",
    "              metric = \"euclidean\")\n",
    "\n",
    "# Visualisation du dendrogramme\n",
    "hier_dend2 = dendrogram(hier2)\n",
    "plt.tight_layout()\n",
    "plt.ylabel(\"Distance euclidienne\")\n",
    "plt.xlabel(\"Observations\")\n",
    "plt.title(\"Dendogramme \\n(N = 18)\")\n",
    "plt.show()"
   ]
  },
  {
   "cell_type": "markdown",
   "metadata": {
    "slideshow": {
     "slide_type": "slide"
    }
   },
   "source": [
    "- De nouveau, les trois groupes sont retrouvés!\n",
    "- Il est ensuite possible de déterminer le nombre de groupes désirés : \"couper\" le dendrogramme à l'endroit nécessaire.\n",
    "\n",
    "En somme :\n",
    "    \n",
    "- Le regroupement hiérarchique est une méthode *bottom-up* regroupant les observations selon leur distance les unes par rapport aux autres.\n",
    "- En pratique, les groupes formés sont sensibles à la mesure de distance utilisée de même qu'au type de lien (*linkage*) retenu.\n",
    "- Il est aussi possible d'implémenter le regroupement hiérarchique avec SciKit-Learn à l'aide de la fonction AgglomerativeClustering."
   ]
  },
  {
   "cell_type": "markdown",
   "metadata": {
    "slideshow": {
     "slide_type": "slide"
    }
   },
   "source": [
    "## 4.5 Analyse par composantes principales\n",
    "\n",
    "***\n",
    "\n",
    "- Les méthodes présentées précédemment sont des méthodes de regroupement $\\rightarrow$ Utiles pour l'analyse exploratoire.\n",
    "- D'autres techniques existent pour l'analyse exploratoire des variables explicatives. Ex.: Les graphiques à deux dimensions (e.g. taille en fonction de l'âge).\n",
    "- Problème : lorsqu'il y a beaucoup de variables explicatives, le nombre de graphiques explose.\n",
    "- Plus généralement, il s'agit d'un **problème de dimensionnalité**.\n",
    "- Problème de dimensionnalité :\n",
    "\n",
    "    1. Nombre de variables très important (e.g. >100, >1000, >10000).\n",
    "    2. Nombre de variables supérieur au nombre d'observations.\n",
    "\n",
    "- Peut causer des problèmes d'interprétabilité des modèles, des problèmes de surapprentissage ou des problèmes d'estimation.\n",
    "- Solution : trouver les variables contenant le plus \"d'information\" afin de réduire la dimensionnalité.\n",
    "- Comment faire? Certaines techniques permettent d'identifier ces variables lors de la modélisation (quelques-unes seront présentées dans le module sur l'apprentissage supervisé)."
   ]
  },
  {
   "cell_type": "markdown",
   "metadata": {
    "slideshow": {
     "slide_type": "slide"
    }
   },
   "source": [
    "- Alternative : analyse par composantes principales (*principal component analysis*, *PCA*).\n",
    "- L'analyse par composantes principales ne cherche pas à identifier les variables contenant le plus \"d'information\" $\\rightarrow$ Cherche à **créer** de nouvelles variables de façon à extraire cette \"information\".\n",
    "- L'information est définie par la variabilité; la variabilité est mesurée par la variance des données.\n",
    "- Exemple : si je n'observe que des hommes, il n'y pas de variation dans le sexe $\\rightarrow$ pas d'information sur les femmes.\n",
    "- L'objectif est de créer de nouvelles variables, appelées composantes principales, captant l'essentiel de la variation dans les données."
   ]
  },
  {
   "cell_type": "code",
   "execution_count": 1,
   "metadata": {
    "slideshow": {
     "slide_type": "slide"
    }
   },
   "outputs": [
    {
     "data": {
      "text/plain": [
       "<matplotlib.text.Text at 0x11a36a128>"
      ]
     },
     "execution_count": 1,
     "metadata": {},
     "output_type": "execute_result"
    }
   ],
   "source": [
    "import numpy as np\n",
    "import pandas as pd\n",
    "import matplotlib.pyplot as plt\n",
    "\n",
    "# création d'un dataframe avec 2 variables\n",
    "np.random.seed(222)\n",
    "data = pd.DataFrame({\"x1\" : np.random.rand(10)})\n",
    "data[\"x2\"] = data[\"x1\"] + np.random.randn(10) * 0.05\n",
    "plt.scatter(x = data[\"x1\"], y = data[\"x2\"], color = \"orange\")\n",
    "plt.xlabel(\"x1\"); plt.ylabel(\"x2\")\n",
    "plt.annotate(\"\", xy = (.45, .85), xytext = (.45, 0.45),\n",
    "             arrowprops = dict(facecolor = \"black\", width = 0.4))\n",
    "plt.annotate(\"\", xy = (.85, 0.45), xytext = (.45, 0.45),\n",
    "             arrowprops = dict(facecolor = \"black\", width = 0.4))\n",
    "\n",
    "plt.text(0.65, 0.4, \"x1\")\n",
    "plt.text(0.4, 0.65, \"x2\")"
   ]
  },
  {
   "cell_type": "code",
   "execution_count": 2,
   "metadata": {
    "slideshow": {
     "slide_type": "slide"
    }
   },
   "outputs": [
    {
     "data": {
      "image/png": "[encoded data removed]",
      "text/plain": [
       "<matplotlib.figure.Figure at 0x1176bf6a0>"
      ]
     },
     "metadata": {},
     "output_type": "display_data"
    }
   ],
   "source": [
    "plt.show()"
   ]
  },
  {
   "cell_type": "markdown",
   "metadata": {
    "slideshow": {
     "slide_type": "-"
    }
   },
   "source": [
    "Quiz : laquelle des variables entre `x1` et `x2` explique le plus la variation dans les données?"
   ]
  },
  {
   "cell_type": "markdown",
   "metadata": {
    "slideshow": {
     "slide_type": "slide"
    }
   },
   "source": [
    "Suite à un changement d'axe, il est possible de créer 2 nouvelles variables : `z1` et `z2`."
   ]
  },
  {
   "cell_type": "code",
   "execution_count": 3,
   "metadata": {
    "slideshow": {
     "slide_type": "-"
    }
   },
   "outputs": [
    {
     "data": {
      "text/plain": [
       "<matplotlib.text.Text at 0x11a4d0438>"
      ]
     },
     "execution_count": 3,
     "metadata": {},
     "output_type": "execute_result"
    }
   ],
   "source": [
    "import numpy as np\n",
    "import pandas as pd\n",
    "import matplotlib.pyplot as plt\n",
    "\n",
    "# création d'un dataframe avec 2 variables\n",
    "np.random.seed(222)\n",
    "data[\"x2\"] = data[\"x1\"] + np.random.randn(10) * 0.05\n",
    "plt.scatter(x = data[\"x1\"], y = data[\"x2\"], color = \"orange\")\n",
    "plt.xlabel(\"x1\"); plt.ylabel(\"x2\")\n",
    "plt.annotate(\"\", xy = (.8, .8), xytext = (.45, 0.45),\n",
    "             arrowprops = dict(facecolor = \"black\", width = 0.4))\n",
    "plt.annotate(\"\", xy = (.42, .54), xytext = (.45, 0.45),\n",
    "             arrowprops = dict(facecolor = \"black\", width = 0.4))\n",
    "plt.text(0.62, 0.55, \"z1\")\n",
    "plt.text(0.4, 0.43, \"z2\")"
   ]
  },
  {
   "cell_type": "code",
   "execution_count": 4,
   "metadata": {
    "slideshow": {
     "slide_type": "slide"
    }
   },
   "outputs": [
    {
     "data": {
      "image/png": "[encoded data removed]",
      "text/plain": [
       "<matplotlib.figure.Figure at 0x11a36a0f0>"
      ]
     },
     "metadata": {},
     "output_type": "display_data"
    }
   ],
   "source": [
    "plt.show()"
   ]
  },
  {
   "cell_type": "markdown",
   "metadata": {
    "slideshow": {
     "slide_type": "-"
    }
   },
   "source": [
    "Quiz : laquelles des variables entre `z1` et `z2` explique maintenant le plus la variation dans les données?"
   ]
  },
  {
   "cell_type": "markdown",
   "metadata": {
    "slideshow": {
     "slide_type": "slide"
    }
   },
   "source": [
    "- `z1` et `z2` sont les **composantes principales** provenant des données.\n",
    "- La première composante principale capte la dimension à travers laquelle les données varient le plus. La seconde composante principale capte la seconde dimension à travers laquelle les données varient le plus, et ainsi de suite...\n",
    "- Avantage : peut réduire le nombre de variables à considérer dans les analyses.\n",
    "- Inconvénient : peut engendrer une perte d'information.\n",
    "- Arbitrage entre le nombre de variables à conserver et la quantité d'information perdue."
   ]
  },
  {
   "cell_type": "markdown",
   "metadata": {
    "slideshow": {
     "slide_type": "slide"
    }
   },
   "source": [
    "- Les composantes principales proviennent d'une combinaison linéaire des variables présentes dans les données. Par exemple, la première composante principale est le fruit de la combinaison suivante :\n",
    "\n",
    "\n",
    "$$z_1 = \\sum_{j=1}^kx_{j}\\phi_{1j}$$\n",
    "\n",
    "où $k$ est le nombre de variables et où $\\phi_{1j}$ sont les **coefficients de chargement** (*loading*), c'est-à-dire la contribution de chaque variable dans la construction de la première composante.\n",
    "\n",
    "- La première composante principale est obtenu de façon à maximiser sa variance, c'est-à-dire :\n",
    "\n",
    "$$\\max_{\\phi} \\text{var}(z_1) = \\text{var}(X\\phi_1)$$\n",
    "\n",
    "- Puisque le vecteur $\\phi_1$ est constant, le problème peut être réécrit ainsi :\n",
    "\n",
    "$$\\max_{\\phi} \\phi_1 \\Sigma \\phi_1$$\n",
    "\n",
    "où $\\Sigma$ est la matrice de variance-covariance de $X$.\n",
    "\n",
    "- Quiz : Si le problème demeure ainsi, que risque-t-il d'arriver?\n"
   ]
  },
  {
   "cell_type": "markdown",
   "metadata": {
    "slideshow": {
     "slide_type": "slide"
    }
   },
   "source": [
    "- Il est nécessaire d'imposer une contrainte sur la taille des paramètres $\\phi_1$ afin de s'assurer que ceux-ci peuvent être identifié. La contrainte imposée ici est que la somme des coefficients au carré est égale à un. Le problème devient donc :\n",
    "\n",
    "$$\\max_{\\phi} \\phi_1 \\Sigma \\phi_1 ~~\\text{s.c.}~~\\phi_1'\\phi_1 = 1$$\n",
    "\n",
    "- Ce problème de maximisation peut être résolu à l'aide de la méthode de Lagrange.\n",
    "\n",
    "$$\\max_{\\phi} F(\\phi_1, \\lambda) = \\phi_1 \\Sigma \\phi_1-\\lambda(\\phi_1'\\phi_1 -1)$$\n",
    "\n",
    "- La première dérivée est prise par rapport à $\\phi_1$ :\n",
    "\n",
    "$$\\frac{\\partial F}{\\partial \\phi_1} \\Rightarrow 2\\Sigma\\phi_1 - 2\\lambda\\phi_1 = 0$$\n",
    "\n",
    "- En réorganisant, le résultat suivant est trouvé :\n",
    "\n",
    "$$\n",
    "\\begin{aligned}\n",
    "\\Rightarrow 2\\Sigma\\phi_1 & = 2\\lambda\\phi_1 \\\\\n",
    "\\Sigma\\phi_1 & = \\lambda\\phi_1\n",
    "\\end{aligned}\n",
    "$$\n",
    "\n",
    "- Quiz : À quoi cette structure fait-elle référence?"
   ]
  },
  {
   "cell_type": "markdown",
   "metadata": {
    "slideshow": {
     "slide_type": "slide"
    }
   },
   "source": [
    "- $\\phi_1$ est un vecteur propre de $\\Sigma$ tandis que $\\lambda$ est une de ses valeurs propres.\n",
    "- $\\Sigma$ n'a toutefois pas encore été définie. Puisqu'il s'agit de la matrice de variance-covariance de $X$, celle-ci peut être obtenue ainsi :\n",
    "\n",
    "$$\\Sigma = \\frac{1}{n}(X-\\bar{x})'(X-\\bar{x})$$\n",
    "\n",
    "où $\\Sigma$ est une matrice de taille $k \\times k$, $k$ étant le nombre de variables contenues dans $X$, où $X$ est la matrice des données et où $\\bar{x}$ est un vecteur contenant la moyenne de chacune des variables.\n",
    "\n",
    "- Puisque les composantes principales sont obtenus de façon à maximiser leur variance, l'unité de mesure des variables présentes dans $X$ peut avoir un impact important sur la construction de celles-ci.\n",
    "- Généralement, les variables seront standardisées (de moyenne zéro et de variance un) avant d'être soumises à une analyse par composantes principales.\n",
    "- Lorsque les données sont standardisées, l'équation de $\\Sigma$ peut être réécrite ainsi :\n",
    "\n",
    "$$\\Sigma = \\frac{1}{n}X'X$$\n",
    "\n",
    "- Il est possible de montrer que chacun des vecteurs de chargement des composantes principales obtenus pour un jeu de données représente un des vecteur propres de la matrice $\\Sigma$."
   ]
  },
  {
   "cell_type": "markdown",
   "metadata": {
    "slideshow": {
     "slide_type": "slide"
    }
   },
   "source": [
    "Rappel à propos des valeurs/vecteurs propres. Soit un vecteur $x = (2, 2)$."
   ]
  },
  {
   "cell_type": "code",
   "execution_count": 5,
   "metadata": {
    "slideshow": {
     "slide_type": "-"
    }
   },
   "outputs": [
    {
     "data": {
      "image/png": "[encoded data removed]",
      "text/plain": [
       "<matplotlib.figure.Figure at 0x11a4217b8>"
      ]
     },
     "metadata": {},
     "output_type": "display_data"
    }
   ],
   "source": [
    "import matplotlib.pyplot as plt\n",
    "import numpy as np\n",
    "\n",
    "x = np.array([2, 2])\n",
    "\n",
    "#direction du vecteur\n",
    "plt.plot([0, 2], [0,2])\n",
    "plt.annotate(\"\", xy = (2, 2), xytext = (0, 0),\n",
    "             arrowprops = dict(facecolor = \"black\", width = 0.4))\n",
    "plt.text(2, 1.8, \"x\")\n",
    "plt.title(\"vecteur x\"); plt.show()"
   ]
  },
  {
   "cell_type": "markdown",
   "metadata": {
    "slideshow": {
     "slide_type": "slide"
    }
   },
   "source": [
    "Soit également une matrice $A = \\left(\\begin{matrix} 1 ,3 \\\\ 1/2, 1 \\end{matrix}\\right)$. Il est possible d'obtenir un vecteur $y$ à l'aide de la transformation $y = Ax$."
   ]
  },
  {
   "cell_type": "code",
   "execution_count": 18,
   "metadata": {
    "slideshow": {
     "slide_type": "-"
    }
   },
   "outputs": [
    {
     "data": {
      "text/plain": [
       "array([ 8.,  3.])"
      ]
     },
     "execution_count": 18,
     "metadata": {},
     "output_type": "execute_result"
    }
   ],
   "source": [
    "# Transformation du vecteur x par une matrice A\n",
    "A = np.array([[1, 3], [1 / 2, 1]])\n",
    "\n",
    "# La fonction dot du module numpy permet la\n",
    "# multiplication de matrices\n",
    "y = A.dot(x)\n",
    "y"
   ]
  },
  {
   "cell_type": "code",
   "execution_count": 19,
   "metadata": {
    "slideshow": {
     "slide_type": "slide"
    }
   },
   "outputs": [
    {
     "data": {
      "image/png": "[encoded data removed]",
      "text/plain": [
       "<matplotlib.figure.Figure at 0x11cc54f60>"
      ]
     },
     "metadata": {},
     "output_type": "display_data"
    }
   ],
   "source": [
    "# Visulation des vecteurs x et y\n",
    "plt.plot([0, 2], [0, 2])\n",
    "plt.plot([0, 8], [0, 3])\n",
    "plt.annotate(\"\", xy = (2, 2), xytext = (0, 0),\n",
    "             arrowprops = dict(facecolor = \"black\", width = 0.4))\n",
    "plt.annotate(\"\", xy = (8, 3), xytext = (0, 0),\n",
    "             arrowprops = dict(facecolor = \"black\", width = 0.4))\n",
    "plt.text(2.1, 1.8, \"x\")\n",
    "plt.text(8, 2.7, \"y\")\n",
    "plt.title(\"Vecteurs x et y\"); plt.show()"
   ]
  },
  {
   "cell_type": "markdown",
   "metadata": {
    "slideshow": {
     "slide_type": "-"
    }
   },
   "source": [
    "La direction du vecteur $x$ a été modifiée lors de la transformation vers le vecteur $y$."
   ]
  },
  {
   "cell_type": "markdown",
   "metadata": {
    "slideshow": {
     "slide_type": "slide"
    }
   },
   "source": [
    "Les vecteurs qui ne changent pas de direction lorsqu'ils sont multipliés par la matrice $A$ sont les **vecteurs propres** de $A$. Formellement, un vecteur propre respecte :\n",
    "\n",
    "$$Av = \\lambda v$$\n",
    "\n",
    "où $A$ est une matrice, $v$ est l'un de ses vecteurs propres et $\\lambda$ est une constante."
   ]
  },
  {
   "cell_type": "code",
   "execution_count": 20,
   "metadata": {
    "slideshow": {
     "slide_type": "-"
    }
   },
   "outputs": [
    {
     "name": "stdout",
     "output_type": "stream",
     "text": [
      "Vecteurs propres :\n",
      " [[ 0.9258201   0.37796447]\n",
      " [-0.9258201   0.37796447]]\n"
     ]
    }
   ],
   "source": [
    "# Obtention des valeurs propres et des vecteurs propres\n",
    "# de la matrice A\n",
    "val, vec = np.linalg.eig(A)\n",
    "\n",
    "# Concentration sur les vecteurs propres pour le moment\n",
    "print(\"Vecteurs propres :\\n\", vec.T)"
   ]
  },
  {
   "cell_type": "code",
   "execution_count": 21,
   "metadata": {
    "slideshow": {
     "slide_type": "slide"
    }
   },
   "outputs": [
    {
     "data": {
      "image/png": "[encoded data removed]",
      "text/plain": [
       "<matplotlib.figure.Figure at 0x11e647898>"
      ]
     },
     "metadata": {},
     "output_type": "display_data"
    }
   ],
   "source": [
    "# Validation du premier vecteur propre\n",
    "vec1 = A.dot(vec[:,0])\n",
    "\n",
    "plt.plot([0, vec[0][0]], [0, vec[1][0]],\n",
    "         color = \"black\", label = \"Vec. propre\")\n",
    "plt.plot([0, vec1[0]], [0, vec1[1]],\n",
    "         color = \"orange\", label = \"A*(vec. propre)\")\n",
    "plt.annotate(\"\", xy = (vec1[0], vec1[1]), xytext = (0, 0),\n",
    "             arrowprops = dict(color = \"orange\", width = 0.4))\n",
    "plt.annotate(\"\", xy = (vec[0][0], vec[1][0]), xytext = (0, 0),\n",
    "             arrowprops = dict(facecolor = \"black\", width = 0.4))\n",
    "plt.title(\"Vecteur propre et résultat de la \\nmultiplication avec la matrice A\")\n",
    "plt.legend()\n",
    "plt.show()"
   ]
  },
  {
   "cell_type": "markdown",
   "metadata": {
    "slideshow": {
     "slide_type": "-"
    }
   },
   "source": [
    "Lors de la multiplication par la matrice $A$, la direction du premier vecteur propre est préservée."
   ]
  },
  {
   "cell_type": "markdown",
   "metadata": {
    "slideshow": {
     "slide_type": "slide"
    }
   },
   "source": [
    "Les ratios entre les vecteurs propres multipliés à leur matrice et les vecteurs qui résultent de cette multiplication sont appelés les **valeurs propres**. Ainsi, dans\n",
    "\n",
    "$$Av = \\lambda v$$\n",
    "\n",
    "$\\lambda$ est l'une des valeurs propres de $A$, en l'occurence celle associée au vecteur propre $v$."
   ]
  },
  {
   "cell_type": "code",
   "execution_count": 22,
   "metadata": {
    "slideshow": {
     "slide_type": "-"
    }
   },
   "outputs": [
    {
     "name": "stdout",
     "output_type": "stream",
     "text": [
      "Première valeur propre : 2.22474\n"
     ]
    }
   ],
   "source": [
    "# Calcul du ratio des longueurs\n",
    "print(\"Première valeur propre :\", np.round([vec1 / vec[:,0]][0][0], 5))"
   ]
  },
  {
   "cell_type": "markdown",
   "metadata": {
    "slideshow": {
     "slide_type": "-"
    }
   },
   "source": [
    "Confirmation auprès de l'output de la fonction `linalg.eig` du module Numpy qui retourne les vecteurs propres et les valeurs propres d'une matrice :"
   ]
  },
  {
   "cell_type": "code",
   "execution_count": 23,
   "metadata": {
    "slideshow": {
     "slide_type": "-"
    }
   },
   "outputs": [
    {
     "name": "stdout",
     "output_type": "stream",
     "text": [
      "Première valeur propre : 2.22474\n"
     ]
    }
   ],
   "source": [
    "print(\"Première valeur propre :\", np.round(val[0], 5))"
   ]
  },
  {
   "cell_type": "markdown",
   "metadata": {
    "slideshow": {
     "slide_type": "slide"
    }
   },
   "source": [
    "- Quel est le lien entre les valeurs propres, les vecteurs propres et l'analyse par composante principale?\n",
    "- Possibilité de reprendre la matrice $A = \\left(\\begin{matrix} 1 ,3 \\\\ 1/2, 1 \\end{matrix}\\right)$ vue précédemment. Visuellement, les deux vecteurs contenus dans $A$ peuvent être représentés ainsi :"
   ]
  },
  {
   "cell_type": "code",
   "execution_count": 24,
   "metadata": {},
   "outputs": [
    {
     "data": {
      "image/png": "[encoded data removed]",
      "text/plain": [
       "<matplotlib.figure.Figure at 0x11e63f978>"
      ]
     },
     "metadata": {},
     "output_type": "display_data"
    }
   ],
   "source": [
    "plt.plot([0, 1], [0, 3], color = \"black\")\n",
    "plt.plot([0, 0.5], [0, 1], color = \"black\")\n",
    "plt.annotate(\"\", xy = (1, 3), xytext = (0, 0),\n",
    "             arrowprops = dict(facecolor = \"black\", width = 0.4))\n",
    "plt.annotate(\"\", xy = (0.5, 1), xytext = (0, 0),\n",
    "             arrowprops = dict(facecolor = \"black\", width = 0.4))\n",
    "plt.title(\"Vecteurs de la matrice A\"); plt.show()"
   ]
  },
  {
   "cell_type": "markdown",
   "metadata": {
    "slideshow": {
     "slide_type": "slide"
    }
   },
   "source": [
    "Si le premier vecteur propre est ajouté, la figure suivante est obtenue :"
   ]
  },
  {
   "cell_type": "code",
   "execution_count": 25,
   "metadata": {},
   "outputs": [
    {
     "data": {
      "text/plain": [
       "<matplotlib.legend.Legend at 0x11a5dc5f8>"
      ]
     },
     "execution_count": 25,
     "metadata": {},
     "output_type": "execute_result"
    }
   ],
   "source": [
    "plt.plot([0, 1], [0, 3], color = \"black\", label = \"vecteurs de A\")\n",
    "plt.plot([0, 0.5], [0, 1], color = \"black\")\n",
    "plt.plot([0, vec.T[0][1]], [0, vec.T[0][0]],\n",
    "         color = \"orange\", label = \"vec. propre 1\")\n",
    "plt.annotate(\"\", xy = (1, 3), xytext = (0, 0),\n",
    "             arrowprops = dict(facecolor = \"black\", width = 0.4))\n",
    "plt.annotate(\"\", xy = (0.5, 1), xytext = (0, 0),\n",
    "             arrowprops = dict(facecolor = \"black\", width = 0.4))\n",
    "plt.annotate(\"\", xy = (vec.T[0][1], vec.T[0][0]), xytext = (0, 0),\n",
    "             arrowprops = dict(color = \"orange\", width = 0.4))\n",
    "plt.title(\"Vecteurs de A et premier \\nvecteur propre\")\n",
    "plt.legend()"
   ]
  },
  {
   "cell_type": "code",
   "execution_count": 26,
   "metadata": {
    "slideshow": {
     "slide_type": "slide"
    }
   },
   "outputs": [
    {
     "data": {
      "image/png": "[encoded data removed]",
      "text/plain": [
       "<matplotlib.figure.Figure at 0x11e6a4a58>"
      ]
     },
     "metadata": {},
     "output_type": "display_data"
    }
   ],
   "source": [
    "plt.show()"
   ]
  },
  {
   "cell_type": "markdown",
   "metadata": {
    "slideshow": {
     "slide_type": "-"
    }
   },
   "source": [
    "La direction du premier vecteur propre est celle à travers laquelle les deux vecteurs de la matrice se \"déplacent\" le plus. Si la matrice $A$ est maintenant une matrice de covariance, le premier vecteur propre retourne la direction à travers laquelle les covariances (donc la variabilité des données) sont les plus importantes."
   ]
  },
  {
   "cell_type": "markdown",
   "metadata": {
    "slideshow": {
     "slide_type": "slide"
    }
   },
   "source": [
    "- Exemple à partir d'un vrai jeu de données :"
   ]
  },
  {
   "cell_type": "code",
   "execution_count": 12,
   "metadata": {},
   "outputs": [
    {
     "data": {
      "text/html": [
       "<div>\n",
       "<style>\n",
       "    .dataframe thead tr:only-child th {\n",
       "        text-align: right;\n",
       "    }\n",
       "\n",
       "    .dataframe thead th {\n",
       "        text-align: left;\n",
       "    }\n",
       "\n",
       "    .dataframe tbody tr th {\n",
       "        vertical-align: top;\n",
       "    }\n",
       "</style>\n",
       "<table border=\"1\" class=\"dataframe\">\n",
       "  <thead>\n",
       "    <tr style=\"text-align: right;\">\n",
       "      <th></th>\n",
       "      <th>MedInc</th>\n",
       "      <th>HouseAge</th>\n",
       "      <th>AveRooms</th>\n",
       "      <th>AveBedrms</th>\n",
       "      <th>Population</th>\n",
       "      <th>AveOccup</th>\n",
       "    </tr>\n",
       "  </thead>\n",
       "  <tbody>\n",
       "    <tr>\n",
       "      <th>0</th>\n",
       "      <td>8.3252</td>\n",
       "      <td>41.0</td>\n",
       "      <td>6.984127</td>\n",
       "      <td>1.023810</td>\n",
       "      <td>322.0</td>\n",
       "      <td>2.555556</td>\n",
       "    </tr>\n",
       "    <tr>\n",
       "      <th>1</th>\n",
       "      <td>8.3014</td>\n",
       "      <td>21.0</td>\n",
       "      <td>6.238137</td>\n",
       "      <td>0.971880</td>\n",
       "      <td>2401.0</td>\n",
       "      <td>2.109842</td>\n",
       "    </tr>\n",
       "    <tr>\n",
       "      <th>2</th>\n",
       "      <td>7.2574</td>\n",
       "      <td>52.0</td>\n",
       "      <td>8.288136</td>\n",
       "      <td>1.073446</td>\n",
       "      <td>496.0</td>\n",
       "      <td>2.802260</td>\n",
       "    </tr>\n",
       "  </tbody>\n",
       "</table>\n",
       "</div>"
      ],
      "text/plain": [
       "   MedInc  HouseAge  AveRooms  AveBedrms  Population  AveOccup\n",
       "0  8.3252      41.0  6.984127   1.023810       322.0  2.555556\n",
       "1  8.3014      21.0  6.238137   0.971880      2401.0  2.109842\n",
       "2  7.2574      52.0  8.288136   1.073446       496.0  2.802260"
      ]
     },
     "execution_count": 12,
     "metadata": {},
     "output_type": "execute_result"
    }
   ],
   "source": [
    "from sklearn.datasets import fetch_california_housing\n",
    "import pandas as pd\n",
    "\n",
    "# Chargement des données sur le marché immobilier californien\n",
    "housing = fetch_california_housing()\n",
    "housing_data = pd.DataFrame(housing.data, columns = housing.feature_names)\n",
    "housing_data = housing_data.drop([\"Latitude\", \"Longitude\"], axis = 1)\n",
    "housing_data.head(3)"
   ]
  },
  {
   "cell_type": "markdown",
   "metadata": {
    "slideshow": {
     "slide_type": "slide"
    }
   },
   "source": [
    "À partir de ces données, il est possible de calculer les deux premières composantes principales de la façon suivante :"
   ]
  },
  {
   "cell_type": "code",
   "execution_count": 13,
   "metadata": {
    "collapsed": true,
    "slideshow": {
     "slide_type": "-"
    }
   },
   "outputs": [],
   "source": [
    "from sklearn.preprocessing import StandardScaler\n",
    "from sklearn.decomposition import PCA\n",
    "\n",
    "# Standardisation des données\n",
    "scaler = StandardScaler()\n",
    "hous_data =  pd.DataFrame(scaler.fit_transform(housing_data), columns = housing_data.columns)\n",
    "\n",
    "# Définition du nombre de composanes principales\n",
    "pca = PCA(n_components = 2)\n",
    "\n",
    "# Projection des composantes\n",
    "housing_proj = pd.DataFrame(pca.fit_transform(hous_data), columns = [\"comp_1\", \"comp_2\"])"
   ]
  },
  {
   "cell_type": "markdown",
   "metadata": {
    "slideshow": {
     "slide_type": "slide"
    }
   },
   "source": [
    "Il est ensuite possible de s'attarder à la création des composantes principales."
   ]
  },
  {
   "cell_type": "code",
   "execution_count": 14,
   "metadata": {
    "slideshow": {
     "slide_type": "-"
    }
   },
   "outputs": [
    {
     "data": {
      "text/html": [
       "<div>\n",
       "<style>\n",
       "    .dataframe thead tr:only-child th {\n",
       "        text-align: right;\n",
       "    }\n",
       "\n",
       "    .dataframe thead th {\n",
       "        text-align: left;\n",
       "    }\n",
       "\n",
       "    .dataframe tbody tr th {\n",
       "        vertical-align: top;\n",
       "    }\n",
       "</style>\n",
       "<table border=\"1\" class=\"dataframe\">\n",
       "  <thead>\n",
       "    <tr style=\"text-align: right;\">\n",
       "      <th></th>\n",
       "      <th>coef_comp_1</th>\n",
       "      <th>coef_comp_2</th>\n",
       "    </tr>\n",
       "  </thead>\n",
       "  <tbody>\n",
       "    <tr>\n",
       "      <th>MedInc</th>\n",
       "      <td>0.228031</td>\n",
       "      <td>0.240443</td>\n",
       "    </tr>\n",
       "    <tr>\n",
       "      <th>HouseAge</th>\n",
       "      <td>-0.186531</td>\n",
       "      <td>-0.650329</td>\n",
       "    </tr>\n",
       "    <tr>\n",
       "      <th>AveRooms</th>\n",
       "      <td>0.703455</td>\n",
       "      <td>-0.052145</td>\n",
       "    </tr>\n",
       "    <tr>\n",
       "      <th>AveBedrms</th>\n",
       "      <td>0.645461</td>\n",
       "      <td>-0.170953</td>\n",
       "    </tr>\n",
       "    <tr>\n",
       "      <th>Population</th>\n",
       "      <td>-0.040706</td>\n",
       "      <td>0.683752</td>\n",
       "    </tr>\n",
       "    <tr>\n",
       "      <th>AveOccup</th>\n",
       "      <td>-0.009076</td>\n",
       "      <td>0.140707</td>\n",
       "    </tr>\n",
       "  </tbody>\n",
       "</table>\n",
       "</div>"
      ],
      "text/plain": [
       "            coef_comp_1  coef_comp_2\n",
       "MedInc         0.228031     0.240443\n",
       "HouseAge      -0.186531    -0.650329\n",
       "AveRooms       0.703455    -0.052145\n",
       "AveBedrms      0.645461    -0.170953\n",
       "Population    -0.040706     0.683752\n",
       "AveOccup      -0.009076     0.140707"
      ]
     },
     "execution_count": 14,
     "metadata": {},
     "output_type": "execute_result"
    }
   ],
   "source": [
    "# Extraction des deux premiers vecteurs\n",
    "# contenant les coefficients de chargement\n",
    "comp = pd.DataFrame(pca.components_.transpose(),\n",
    "                    columns = [\"coef_comp_1\", \"coef_comp_2\"]) \n",
    "comp = comp.set_index(hous_data.columns)\n",
    "comp"
   ]
  },
  {
   "cell_type": "markdown",
   "metadata": {
    "collapsed": true,
    "slideshow": {
     "slide_type": "-"
    }
   },
   "source": [
    "- `coef_comp_1` et `coef_comp_2` sont les coefficients de chargement des deux premières composantes principales.\n",
    "- Ce que représente les composantes principales peut être clair (composante 1 : taille de la maison) ou non (composante 2 : modernité du quartier...).\n",
    "- Les coefficients ci-haut sont les valeurs des deux premiers vecteurs propres de la matrice $\\Sigma$ estimée à partir de ces données.\n",
    "- Possibilité de retrouver ces résultats manuellement en calculant la matrice de covariance \n",
    "\n",
    "$$\\Sigma = \\frac{1}{n}X'X$$"
   ]
  },
  {
   "cell_type": "code",
   "execution_count": 15,
   "metadata": {
    "slideshow": {
     "slide_type": "slide"
    }
   },
   "outputs": [
    {
     "data": {
      "text/plain": [
       "array([[ 1.    , -0.119 ,  0.3269, -0.062 ,  0.0048,  0.0188],\n",
       "       [-0.119 ,  1.    , -0.1533, -0.0777, -0.2962,  0.0132],\n",
       "       [ 0.3269, -0.1533,  1.    ,  0.8476, -0.0722, -0.0049],\n",
       "       [-0.062 , -0.0777,  0.8476,  1.    , -0.0662, -0.0062],\n",
       "       [ 0.0048, -0.2962, -0.0722, -0.0662,  1.    ,  0.0699],\n",
       "       [ 0.0188,  0.0132, -0.0049, -0.0062,  0.0699,  1.    ]])"
      ]
     },
     "execution_count": 15,
     "metadata": {},
     "output_type": "execute_result"
    }
   ],
   "source": [
    "mat_cov = (1 / len(hous_data)) * np.dot(hous_data.values.T, hous_data.values)\n",
    "\n",
    "# Visualisation de la matrice de covariance\n",
    "np.round(mat_cov, 4)"
   ]
  },
  {
   "cell_type": "markdown",
   "metadata": {
    "slideshow": {
     "slide_type": "slide"
    }
   },
   "source": [
    "Il est ensuite possible d'obtenir les vecteurs propres et les valeurs propres de cette matrice de covariance."
   ]
  },
  {
   "cell_type": "code",
   "execution_count": 16,
   "metadata": {
    "collapsed": true,
    "slideshow": {
     "slide_type": "-"
    }
   },
   "outputs": [],
   "source": [
    "# Obtention des valeurs propres et des vecteurs propres\n",
    "# de la matrice de covariance\n",
    "val_propres, vec_propres = np.linalg.eig(mat_cov)\n",
    "\n",
    "# Mise en ordre décroissant des valeurs propres et des vecteurs\n",
    "# propres selon la taille des valeurs propres associées\n",
    "order = np.argsort(val_propres)[::-1]\n",
    "val_propres = val_propres[order]\n",
    "vec_propres = -1 * vec_propres.T[order]"
   ]
  },
  {
   "cell_type": "markdown",
   "metadata": {
    "slideshow": {
     "slide_type": "-"
    }
   },
   "source": [
    "(À la dernière ligne de code, la multiplication des vecteurs propres par moins un est simplement pour obtenir des signes cohérents avec l'exemple qui suit. La direction des vecteurs est conservée, seul leur sens change.)"
   ]
  },
  {
   "cell_type": "markdown",
   "metadata": {
    "slideshow": {
     "slide_type": "slide"
    }
   },
   "source": [
    "Vecteur associé à la valeur propre possédant la valeur la plus importante :"
   ]
  },
  {
   "cell_type": "code",
   "execution_count": 17,
   "metadata": {},
   "outputs": [
    {
     "data": {
      "text/plain": [
       "array([ 0.22803146, -0.18653063,  0.70345527,  0.64546053, -0.04070615,\n",
       "       -0.00907636])"
      ]
     },
     "execution_count": 17,
     "metadata": {},
     "output_type": "execute_result"
    }
   ],
   "source": [
    "vec_propres[0]"
   ]
  },
  {
   "cell_type": "markdown",
   "metadata": {
    "slideshow": {
     "slide_type": "-"
    }
   },
   "source": [
    "- Même résultat qu'avec la fonction de SciKit-Learn ci-haut."
   ]
  },
  {
   "cell_type": "markdown",
   "metadata": {
    "slideshow": {
     "slide_type": "slide"
    }
   },
   "source": [
    "- Il a été mentionné plus haut que les composantes principales sont construites de façon à capter le maximum de variation dans les données.\n",
    "- Puisque les composantes principales \"captent\" la variance présente dans les données, il est possible de quantifier quelle part de la variance dans les données est expliquée par chacune des composantes."
   ]
  },
  {
   "cell_type": "code",
   "execution_count": 9,
   "metadata": {
    "collapsed": true,
    "slideshow": {
     "slide_type": "-"
    }
   },
   "outputs": [],
   "source": [
    "import numpy as np\n",
    "\n",
    "# Calcul de toutes les composantes principales\n",
    "pca2 = PCA()\n",
    "housing_proj2 = pca2.fit_transform(hous_data)\n",
    "\n",
    "# Récupération des ratios de variance\n",
    "hous_var = pd.DataFrame(pca2.explained_variance_ratio_, columns = [\"var_exp\"])\n",
    "hous_var[\"comp\"] = range(1, len(pca2.explained_variance_ratio_)+1)\n",
    "\n",
    "# Création du ratio de variance cummulé\n",
    "hous_var[\"var_cum\"] = np.cumsum(hous_var[\"var_exp\"])"
   ]
  },
  {
   "cell_type": "code",
   "execution_count": 10,
   "metadata": {
    "slideshow": {
     "slide_type": "slide"
    }
   },
   "outputs": [
    {
     "data": {
      "text/plain": [
       "(0, 1.1)"
      ]
     },
     "execution_count": 10,
     "metadata": {},
     "output_type": "execute_result"
    }
   ],
   "source": [
    "fig = plt.figure()\n",
    "ax1 = fig.add_subplot(1, 2, 1)\n",
    "ax2 = fig.add_subplot(1, 2, 2)\n",
    "\n",
    "ax1.scatter(hous_var[\"comp\"], hous_var[\"var_exp\"], color = \"orange\")\n",
    "ax1.plot(hous_var[\"comp\"], hous_var[\"var_exp\"], color = \"orange\")\n",
    "ax1.set_title(\"Pourcentage de la \\nvariance expliquée\")\n",
    "ax1.set_xlabel(\"Composantes principales\")\n",
    "ax1.set_ylabel(\"% de la variance expliquée\")\n",
    "ax1.set_xticks(np.arange(1, 7))\n",
    "\n",
    "ax2.scatter(hous_var[\"comp\"], hous_var[\"var_cum\"], color = \"orange\")\n",
    "ax2.plot(hous_var[\"comp\"], hous_var[\"var_cum\"], color = \"orange\")\n",
    "ax2.set_title(\"Pourcentage cummulatif \\nde la variance expliquée\")\n",
    "ax2.set_xlabel(\"Composantes principales\")\n",
    "ax2.set_ylabel(\"% cummulatif de la \\nvariance expliquée\")\n",
    "ax2.set_xticks(np.arange(1, 7))\n",
    "\n",
    "ax2.set_ylim([0, 1.1])"
   ]
  },
  {
   "cell_type": "code",
   "execution_count": 11,
   "metadata": {
    "slideshow": {
     "slide_type": "slide"
    }
   },
   "outputs": [
    {
     "data": {
      "image/png": "[encoded data removed]",
      "text/plain": [
       "<matplotlib.figure.Figure at 0x11cf03390>"
      ]
     },
     "metadata": {},
     "output_type": "display_data"
    }
   ],
   "source": [
    "plt.tight_layout()\n",
    "plt.show()"
   ]
  },
  {
   "cell_type": "markdown",
   "metadata": {
    "slideshow": {
     "slide_type": "-"
    }
   },
   "source": [
    "- Il existe $\\min(n-1, k)$ composantes principales possibles, où $n$ est le nombre d'observations et $k$ le nombre de variables explicatives.\n",
    "- Comment choisir le nombre de composantes à conserver? Pas de consensus.\n",
    "- Un truc : la \"technique du coude\"."
   ]
  },
  {
   "cell_type": "markdown",
   "metadata": {
    "slideshow": {
     "slide_type": "slide"
    }
   },
   "source": [
    "- Possibilité ensuite de faire de la visualisation."
   ]
  },
  {
   "cell_type": "code",
   "execution_count": 12,
   "metadata": {},
   "outputs": [
    {
     "data": {
      "image/png": "[encoded data removed]",
      "text/plain": [
       "<matplotlib.figure.Figure at 0x11e97c0f0>"
      ]
     },
     "metadata": {},
     "output_type": "display_data"
    }
   ],
   "source": [
    "import matplotlib.pyplot as plt\n",
    "hous_pca = pd.DataFrame(housing_proj, columns = [\"comp_1\", \"comp_2\"])\n",
    "\n",
    "plt.scatter(x = hous_pca[\"comp_1\"], y = hous_pca[\"comp_2\"], alpha = 0.2, color = \"orange\")\n",
    "plt.xlabel(\"Première composante\"); plt.ylabel(\"Deuxième composante\")\n",
    "plt.title(\"Représentation des deux premières composantes principales \\n(N = 20 640)\")\n",
    "plt.show()"
   ]
  },
  {
   "cell_type": "markdown",
   "metadata": {
    "slideshow": {
     "slide_type": "slide"
    }
   },
   "source": [
    "Pour obtenir la valeur de la première composante principale pour chacune des observations contenues dans la matrice $X$, $X$ n'a qu'à être multipliée par le premier vecteur propre de $X'X$ :\n",
    "\n",
    "$$z_1 = X\\phi_1$$\n",
    "\n",
    "où $z_1$ est le vecteur de taile $n \\times 1$ contenant la première composante principale, où $X$ est la matrice des données et où $\\phi_1$ est le premier vecteur propre (et donc le vecteur des coefficients de chargement de la première composante principale)."
   ]
  },
  {
   "cell_type": "code",
   "execution_count": 37,
   "metadata": {
    "slideshow": {
     "slide_type": "-"
    }
   },
   "outputs": [
    {
     "data": {
      "text/plain": [
       "array([[ 0.73451507,  0.67091118,  0.87521127]])"
      ]
     },
     "execution_count": 37,
     "metadata": {},
     "output_type": "execute_result"
    }
   ],
   "source": [
    "comp_princ = pd.DataFrame(hous_data.values.dot(vec_propres[0]), columns = [\"comp_un\"])\n",
    "comp_princ.head(3).values.T"
   ]
  },
  {
   "cell_type": "code",
   "execution_count": 39,
   "metadata": {
    "slideshow": {
     "slide_type": "-"
    }
   },
   "outputs": [
    {
     "data": {
      "text/plain": [
       "array([ 0.73451507,  0.67091118,  0.87521127])"
      ]
     },
     "execution_count": 39,
     "metadata": {},
     "output_type": "execute_result"
    }
   ],
   "source": [
    "hous_pca[\"comp_1\"].head(3).values"
   ]
  },
  {
   "cell_type": "markdown",
   "metadata": {
    "slideshow": {
     "slide_type": "-"
    }
   },
   "source": [
    "Mêmes valeurs que lors de l'utilisation de la fonction `PCA` du module SciKit-Learn."
   ]
  },
  {
   "cell_type": "markdown",
   "metadata": {
    "collapsed": true,
    "slideshow": {
     "slide_type": "slide"
    }
   },
   "source": [
    "En somme  :\n",
    "\n",
    "- L'analyse par composantes principales permet de résoudre des problèmes associés à la dimensionnalité des données.\n",
    "- Elle crée de nouvelles variables captant l'essentiel de l'information contenue dans les données.\n",
    "- Les composantes peuvent ensuite être utilisées dans différents algorithmes d'apprentissage automatique.\n",
    "- Le nombre de composantes utilisées détermine la quantité d'information provenant des données qui est conservée.\n",
    "- **Attention** : l'analyse par composantes principales explique la variabilité des variables explicatives. Toutefois, rien ne dit que cette variabilité sera elle-même associée à la variation dans la variable dépendante."
   ]
  },
  {
   "cell_type": "markdown",
   "metadata": {
    "slideshow": {
     "slide_type": "slide"
    }
   },
   "source": [
    "## 4.6 Devoir\n",
    "\n",
    "***\n",
    "\n",
    "- Appliquer l'une des méthodes présentées dans ce module à vos données.\n",
    "- Expliquer la méthodologie et son application à votre situation."
   ]
  }
 ],
 "metadata": {
  "celltoolbar": "Slideshow",
  "kernelspec": {
   "display_name": "Python 3",
   "language": "python",
   "name": "python3"
  },
  "language_info": {
   "codemirror_mode": {
    "name": "ipython",
    "version": 3
   },
   "file_extension": ".py",
   "mimetype": "text/x-python",
   "name": "python",
   "nbconvert_exporter": "python",
   "pygments_lexer": "ipython3",
   "version": "3.6.3"
  }
 },
 "nbformat": 4,
 "nbformat_minor": 2
}
