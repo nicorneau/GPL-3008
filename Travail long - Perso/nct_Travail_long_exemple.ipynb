{
 "cells": [
  {
   "cell_type": "markdown",
   "metadata": {},
   "source": [
    "![](pokemon.png)"
   ]
  },
  {
   "cell_type": "markdown",
   "metadata": {},
   "source": [
    "# Attrapez les tous : Analyses des déterminants de la victoire dans les batailles de Pokémon\n",
    "\n",
    "#### Travail présenté dans le cadre du cours GPL-3008 : Gestion et analyse de bases de données en sciences sociales \n",
    "\n",
    "### Par Nicolas Corneau-Tremblay\n",
    "\n",
    "#### (Exemple de travail long pour le cours)\n"
   ]
  },
  {
   "cell_type": "markdown",
   "metadata": {},
   "source": [
    "### 0. Préambule\n",
    "\n",
    "Ce travail porte sur les combats de Pokémon. Dans celui-ci, nous tentons d'explorer la dynamique de ces combats et d'entraîner un modèle prédictif permettant de déterminer le vainqueur lors d'un affrontement entre deux Pokémon.\n",
    "\n",
    "Le travail est structuré de la façon suivante : la première partie présente la construction d'une base de données SQLite permettant de mettre les différentes tables disponibles en commun; La seconde partie présente le partitionnement et le traitement des données; la troisième partie contient une analyse exploratoire des combats à l'aide de la méthode des k-moyennes; la quatrième partie présente la construction d'un modèle prédictif de type forêt aléatoire de même que l'évaluation de sa performance; une conclusion termine le tout."
   ]
  },
  {
   "cell_type": "code",
   "execution_count": 1,
   "metadata": {
    "collapsed": true
   },
   "outputs": [],
   "source": [
    "# Modules utilisées\n",
    "import csv\n",
    "import matplotlib.pyplot as plt\n",
    "import numpy as np\n",
    "import os\n",
    "import pandas as pd\n",
    "import sqlite3\n",
    "\n",
    "# Fonctions utilisées provenant de certains modules\n",
    "from sklearn.cluster import KMeans\n",
    "from sklearn.ensemble import RandomForestClassifier\n",
    "from sklearn.exceptions import NotFittedError\n",
    "from sklearn.metrics import accuracy_score\n",
    "from sklearn.model_selection import cross_val_score, GridSearchCV, train_test_split\n",
    "from sklearn.preprocessing import StandardScaler\n",
    "\n",
    "# Définition de la localisation de travail\n",
    "os.chdir(\"/Users/nct/Dropbox (CEDIA)/ULaval/GPL-3008/Travail long - Perso\")"
   ]
  },
  {
   "cell_type": "markdown",
   "metadata": {},
   "source": [
    "### 1. Importation des données\n",
    "\n",
    "Cette section présente la construction d'une base de données SQLite permettant de mettre en commun les différentes tables que nous comptons utiliser dans le cadre de ce travail. Ces tables sont tirées de la base de données *Pokémon -  Weedle's Cave* qui a été téléchargée sur le site [Kaggle](https://www.kaggle.com/). \n",
    "\n",
    "Nous vérifions d'abord que les données sont bien disponibles avant d'effectuer la construction de notre base de données."
   ]
  },
  {
   "cell_type": "code",
   "execution_count": 2,
   "metadata": {},
   "outputs": [
    {
     "data": {
      "text/plain": [
       "['combats.csv', 'pokemon.csv', 'tests.csv']"
      ]
     },
     "execution_count": 2,
     "metadata": {},
     "output_type": "execute_result"
    }
   ],
   "source": [
    "os.listdir(path = \"pokemon-challenge\")"
   ]
  },
  {
   "cell_type": "markdown",
   "metadata": {},
   "source": [
    "Nous créons ensuite une base de données SQLite se nommant `pokemon_data` contenant deux tables : `combat` et `pokemon` (le fichier `test.csv` ne sera pas utilisé pour ce travail). La table `combat` contient de l'information sur les différents combats : quels Pokémon se sont affrontés et qui en est sorti vainqueur. La table `pokemon` contient de l'information sur chacun des Pokémon, notamment leur niveau d'énergie et leur force de frappe offensive.\n",
    "\n",
    "Les manipulations de la base de données sont effecutées à l'aide des fonctions `create_rdb` et `insert_data` définies ci-dessous."
   ]
  },
  {
   "cell_type": "code",
   "execution_count": 3,
   "metadata": {
    "collapsed": true
   },
   "outputs": [],
   "source": [
    "def create_rdb() :\n",
    "    \"\"\"\n",
    "    Cette fonction crée la base de données relationnelle et les tables qui la composent.\n",
    "    \"\"\"\n",
    "    \n",
    "    # Définition de la connection\n",
    "    connect = sqlite3.connect(\"pokemon_data.db\")\n",
    "\n",
    "    #Définition du curseur\n",
    "    cur = connect.cursor()\n",
    "\n",
    "    # Création de la table combat\n",
    "    cur.execute(\"CREATE TABLE IF NOT EXISTS combat(first_pokemon INT, second_pokemon INt, winner INT);\")\n",
    "\n",
    "    #création de la table pokemon\n",
    "    cur.execute(\"\"\"CREATE TABLE IF NOT EXISTS\n",
    "            pokemon(id INT, name TEXT, type_1 TEXT, type_2 TEXT, hp INT, attack INT, defense INT, \n",
    "            sp_atk INT, sp_def INT, speed INT, generation INT, legendary TEXT);\"\"\")\n",
    "\n",
    "    cur.close()\n",
    "    connect.close()"
   ]
  },
  {
   "cell_type": "code",
   "execution_count": 4,
   "metadata": {
    "collapsed": true
   },
   "outputs": [],
   "source": [
    "def insert_data(csv_path = \"\", table_name = \"\", col_name = []) :\n",
    "    \"\"\"\n",
    "    Cette fonction saisit les données issues d'un fichier .csv et les insère dans la table désignée.\n",
    "    \"\"\"\n",
    "    connect = sqlite3.connect(\"pokemon_data.db\")\n",
    "    cur = connect.cursor()\n",
    "\n",
    "    # Remplissage de la table\n",
    "    temp = pd.read_csv(csv_path, header = None, names = col_name, skiprows = 1)\n",
    "    temp.to_sql(table_name, connect, if_exists=\"append\", index=False)\n",
    "\n",
    "    connect.commit()\n",
    "\n",
    "    cur.close()\n",
    "    connect.close()"
   ]
  },
  {
   "cell_type": "code",
   "execution_count": 5,
   "metadata": {},
   "outputs": [
    {
     "name": "stdout",
     "output_type": "stream",
     "text": [
      "La base de données 'pokemon_data.db' a déjà été créée.\n"
     ]
    }
   ],
   "source": [
    "# Vérification de l'existence de la base de données et création de celle-ci si nécessaire\n",
    "if \"pokemon_data.db\" in os.listdir():\n",
    "    \n",
    "    print(\"La base de données 'pokemon_data.db' a déjà été créée.\")\n",
    "    \n",
    "else :\n",
    "    # Création de la base de données\n",
    "    create_rdb()\n",
    "\n",
    "    # Définition des noms de colonnes pour la table combat\n",
    "    noms_col_combat = [\"first_pokemon\", \"second_pokemon\", \"winner\"]\n",
    "    \n",
    "    # Insertion des données dans la table combat\n",
    "    insert_data(\"pokemon-challenge/combats.csv\", \"combat\", noms_col_combat)\n",
    "\n",
    "    # Définition des noms de colonnes pour la table pokemon\n",
    "    noms_col_pokemon = [\"id\", \"name\", \"type_1\", \"type_2\", \"hp\", \"attack\", \"defense\",\n",
    "                      \"sp_atk\", \"sp_def\", \"speed\", \"generation\", \"legendary\"]\n",
    "    \n",
    "    # Insertion des données dans la table pokemon\n",
    "    insert_data(\"pokemon-challenge/pokemon.csv\", \"pokemon\", noms_col_pokemon)"
   ]
  },
  {
   "cell_type": "markdown",
   "metadata": {
    "collapsed": true
   },
   "source": [
    "Lorsque la base de données SQLite est créée, il est possible d'y effectuer une requête afin d'obtenir les données dont nous avons besoin. Cette requête est effectuée à l'aide de la fonction `read_sql_query` du module `Pandas`."
   ]
  },
  {
   "cell_type": "code",
   "execution_count": 6,
   "metadata": {
    "collapsed": true
   },
   "outputs": [],
   "source": [
    "# Importation des données nécessaires à la suite des analyses\n",
    "connect = sqlite3.connect(\"pokemon_data.db\")\n",
    "\n",
    "df = pd.read_sql_query(\"\"\"SELECT combat.first_pokemon AS first_pokemon, combat.second_pokemon AS sec_pokemon,\n",
    "            combat.winner AS winner,\n",
    "            pok_first.type_1 AS first_type, pok_first.hp AS first_hp, pok_first.attack AS first_atk,\n",
    "            pok_first.defense AS first_def, pok_first.sp_atk AS first_sp_atk, pok_first.sp_def AS first_sp_def,\n",
    "            pok_first.speed AS first_speed, pok_first.legendary AS first_leg,\n",
    "            pok_sec.type_1 AS sec_type, pok_sec.hp AS sec_hp, pok_sec.attack AS sec_atk,\n",
    "            pok_sec.defense AS sec_def, pok_sec.sp_atk AS sec_sp_atk, pok_sec.sp_def AS sec_sp_def,\n",
    "            pok_sec.speed AS sec_speed, pok_sec.legendary AS sec_leg\n",
    "            FROM combat\n",
    "            LEFT OUTER JOIN pokemon AS pok_first\n",
    "            ON combat.first_pokemon = pok_first.id\n",
    "            LEFT OUTER JOIN pokemon AS pok_sec\n",
    "            ON combat.second_pokemon = pok_sec.id;\"\"\", connect)\n",
    "\n",
    "connect.close()"
   ]
  },
  {
   "cell_type": "markdown",
   "metadata": {},
   "source": [
    "Nous devons ensuite créer notre variable dépendante pour notre modèle prédictif : le vainqueur du combat. Une fois cette variable créée, les variables `'first_pokemon'`, `'sec_pokemon'` et `'winner'` ne sont plus nécessaires. "
   ]
  },
  {
   "cell_type": "code",
   "execution_count": 7,
   "metadata": {
    "collapsed": true
   },
   "outputs": [],
   "source": [
    "df[\"winner_is_1\"] = df[\"first_pokemon\"] == df[\"winner\"]\n",
    "df[\"winner_is_1\"] = df[\"winner_is_1\"] * 1\n",
    "df = df.drop([\"first_pokemon\", \"sec_pokemon\", \"winner\"], axis = 1)"
   ]
  },
  {
   "cell_type": "markdown",
   "metadata": {},
   "source": [
    "Pour voir les premières lignes du dataframe venant d'être créé, nous utilisons la méthode `head`."
   ]
  },
  {
   "cell_type": "code",
   "execution_count": 8,
   "metadata": {},
   "outputs": [
    {
     "data": {
      "text/html": [
       "<div>\n",
       "<style>\n",
       "    .dataframe thead tr:only-child th {\n",
       "        text-align: right;\n",
       "    }\n",
       "\n",
       "    .dataframe thead th {\n",
       "        text-align: left;\n",
       "    }\n",
       "\n",
       "    .dataframe tbody tr th {\n",
       "        vertical-align: top;\n",
       "    }\n",
       "</style>\n",
       "<table border=\"1\" class=\"dataframe\">\n",
       "  <thead>\n",
       "    <tr style=\"text-align: right;\">\n",
       "      <th></th>\n",
       "      <th>first_type</th>\n",
       "      <th>first_hp</th>\n",
       "      <th>first_atk</th>\n",
       "      <th>first_def</th>\n",
       "      <th>first_sp_atk</th>\n",
       "      <th>first_sp_def</th>\n",
       "      <th>first_speed</th>\n",
       "      <th>first_leg</th>\n",
       "      <th>sec_type</th>\n",
       "      <th>sec_hp</th>\n",
       "      <th>sec_atk</th>\n",
       "      <th>sec_def</th>\n",
       "      <th>sec_sp_atk</th>\n",
       "      <th>sec_sp_def</th>\n",
       "      <th>sec_speed</th>\n",
       "      <th>sec_leg</th>\n",
       "      <th>winner_is_1</th>\n",
       "    </tr>\n",
       "  </thead>\n",
       "  <tbody>\n",
       "    <tr>\n",
       "      <th>0</th>\n",
       "      <td>Rock</td>\n",
       "      <td>50</td>\n",
       "      <td>64</td>\n",
       "      <td>50</td>\n",
       "      <td>45</td>\n",
       "      <td>50</td>\n",
       "      <td>41</td>\n",
       "      <td>0</td>\n",
       "      <td>Grass</td>\n",
       "      <td>70</td>\n",
       "      <td>70</td>\n",
       "      <td>40</td>\n",
       "      <td>60</td>\n",
       "      <td>40</td>\n",
       "      <td>60</td>\n",
       "      <td>0</td>\n",
       "      <td>0</td>\n",
       "    </tr>\n",
       "    <tr>\n",
       "      <th>1</th>\n",
       "      <td>Grass</td>\n",
       "      <td>91</td>\n",
       "      <td>90</td>\n",
       "      <td>72</td>\n",
       "      <td>90</td>\n",
       "      <td>129</td>\n",
       "      <td>108</td>\n",
       "      <td>1</td>\n",
       "      <td>Rock</td>\n",
       "      <td>91</td>\n",
       "      <td>129</td>\n",
       "      <td>90</td>\n",
       "      <td>72</td>\n",
       "      <td>90</td>\n",
       "      <td>108</td>\n",
       "      <td>1</td>\n",
       "      <td>0</td>\n",
       "    </tr>\n",
       "    <tr>\n",
       "      <th>2</th>\n",
       "      <td>Fairy</td>\n",
       "      <td>55</td>\n",
       "      <td>40</td>\n",
       "      <td>85</td>\n",
       "      <td>80</td>\n",
       "      <td>105</td>\n",
       "      <td>40</td>\n",
       "      <td>0</td>\n",
       "      <td>Psychic</td>\n",
       "      <td>75</td>\n",
       "      <td>75</td>\n",
       "      <td>75</td>\n",
       "      <td>125</td>\n",
       "      <td>95</td>\n",
       "      <td>40</td>\n",
       "      <td>0</td>\n",
       "      <td>0</td>\n",
       "    </tr>\n",
       "    <tr>\n",
       "      <th>3</th>\n",
       "      <td>Fire</td>\n",
       "      <td>40</td>\n",
       "      <td>40</td>\n",
       "      <td>40</td>\n",
       "      <td>70</td>\n",
       "      <td>40</td>\n",
       "      <td>20</td>\n",
       "      <td>0</td>\n",
       "      <td>Dragon</td>\n",
       "      <td>77</td>\n",
       "      <td>120</td>\n",
       "      <td>90</td>\n",
       "      <td>60</td>\n",
       "      <td>90</td>\n",
       "      <td>48</td>\n",
       "      <td>0</td>\n",
       "      <td>0</td>\n",
       "    </tr>\n",
       "    <tr>\n",
       "      <th>4</th>\n",
       "      <td>Rock</td>\n",
       "      <td>70</td>\n",
       "      <td>60</td>\n",
       "      <td>125</td>\n",
       "      <td>115</td>\n",
       "      <td>70</td>\n",
       "      <td>55</td>\n",
       "      <td>0</td>\n",
       "      <td>Bug</td>\n",
       "      <td>20</td>\n",
       "      <td>10</td>\n",
       "      <td>230</td>\n",
       "      <td>10</td>\n",
       "      <td>230</td>\n",
       "      <td>5</td>\n",
       "      <td>0</td>\n",
       "      <td>1</td>\n",
       "    </tr>\n",
       "  </tbody>\n",
       "</table>\n",
       "</div>"
      ],
      "text/plain": [
       "  first_type  first_hp  first_atk  first_def  first_sp_atk  first_sp_def  \\\n",
       "0       Rock        50         64         50            45            50   \n",
       "1      Grass        91         90         72            90           129   \n",
       "2      Fairy        55         40         85            80           105   \n",
       "3       Fire        40         40         40            70            40   \n",
       "4       Rock        70         60        125           115            70   \n",
       "\n",
       "   first_speed first_leg sec_type  sec_hp  sec_atk  sec_def  sec_sp_atk  \\\n",
       "0           41         0    Grass      70       70       40          60   \n",
       "1          108         1     Rock      91      129       90          72   \n",
       "2           40         0  Psychic      75       75       75         125   \n",
       "3           20         0   Dragon      77      120       90          60   \n",
       "4           55         0      Bug      20       10      230          10   \n",
       "\n",
       "   sec_sp_def  sec_speed sec_leg  winner_is_1  \n",
       "0          40         60       0            0  \n",
       "1          90        108       1            0  \n",
       "2          95         40       0            0  \n",
       "3          90         48       0            0  \n",
       "4         230          5       0            1  "
      ]
     },
     "execution_count": 8,
     "metadata": {},
     "output_type": "execute_result"
    }
   ],
   "source": [
    "df.head()"
   ]
  },
  {
   "cell_type": "markdown",
   "metadata": {},
   "source": [
    "Pour la suite de notre travail, nous utilisons différentes caractéristiques pour représenter chacun des deux Pokémon au combat. Ces caractéristiques sont le type de Pokémon (`type`), le niveau d'énergie (`hp`), la force offensive (`atk`), la force défensive (`def`), l'attaque spéciale et la défensive spéciale (respectivement `sp_atk` et `sp_def`), la vitesse (`speed`) et le fait que que le Pokémon soit légendaire ou non (`leg`). Ces variables sont définies pour les deux Pokémon combattant et possèdent donc un préfixe (respectivement `first_` et `sec_`) afin d'identifier à quel Pokémon chacune variable fait référence."
   ]
  },
  {
   "cell_type": "markdown",
   "metadata": {},
   "source": [
    "### 2. Partitionnement et préparation des données\n",
    "\n",
    "Cette section présente le partitionnement et la préparation de nos données pour la suite des analyses.\n",
    "\n",
    "La première étape lors de la préparation des données est le partitionnement de celles-ci. Cette étape est réalisée à l'aide de la fonction `train_test_split` du module `SciKit-Learn`. Nous attribuons une proportion de 70% à notre groupe d'entraînement et donc une proportion de 30% à notre groupe test."
   ]
  },
  {
   "cell_type": "code",
   "execution_count": 9,
   "metadata": {},
   "outputs": [
    {
     "name": "stdout",
     "output_type": "stream",
     "text": [
      "Taille des groupes : \n",
      "Groupe d'entraînement = (35000, 17)\n",
      "Groupe test = (15000, 17)\n"
     ]
    }
   ],
   "source": [
    "# Partitionnement des données\n",
    "train, test = train_test_split(df, test_size = 0.30, random_state = 222)\n",
    "print(\"Taille des groupes : \\nGroupe d'entraînement = \", train.shape,\n",
    "      \"\\nGroupe test = \", test.shape, sep = \"\")"
   ]
  },
  {
   "cell_type": "markdown",
   "metadata": {
    "collapsed": true
   },
   "source": [
    "Une fois notre groupe d'entraînement créé, nous pouvons investiguer la présence de valeurs manquantes et de valeurs aberrantes dans les données qu'il contient. Cette seconde étape est réalisée à l'aide de la méthode `describe`."
   ]
  },
  {
   "cell_type": "code",
   "execution_count": 10,
   "metadata": {},
   "outputs": [
    {
     "data": {
      "text/html": [
       "<div>\n",
       "<style>\n",
       "    .dataframe thead tr:only-child th {\n",
       "        text-align: right;\n",
       "    }\n",
       "\n",
       "    .dataframe thead th {\n",
       "        text-align: left;\n",
       "    }\n",
       "\n",
       "    .dataframe tbody tr th {\n",
       "        vertical-align: top;\n",
       "    }\n",
       "</style>\n",
       "<table border=\"1\" class=\"dataframe\">\n",
       "  <thead>\n",
       "    <tr style=\"text-align: right;\">\n",
       "      <th></th>\n",
       "      <th>first_type</th>\n",
       "      <th>first_hp</th>\n",
       "      <th>first_atk</th>\n",
       "      <th>first_def</th>\n",
       "      <th>first_sp_atk</th>\n",
       "      <th>first_sp_def</th>\n",
       "      <th>first_speed</th>\n",
       "      <th>first_leg</th>\n",
       "      <th>sec_type</th>\n",
       "      <th>sec_hp</th>\n",
       "      <th>sec_atk</th>\n",
       "      <th>sec_def</th>\n",
       "      <th>sec_sp_atk</th>\n",
       "      <th>sec_sp_def</th>\n",
       "      <th>sec_speed</th>\n",
       "      <th>sec_leg</th>\n",
       "      <th>winner_is_1</th>\n",
       "    </tr>\n",
       "  </thead>\n",
       "  <tbody>\n",
       "    <tr>\n",
       "      <th>count</th>\n",
       "      <td>35000</td>\n",
       "      <td>35000.000000</td>\n",
       "      <td>35000.000000</td>\n",
       "      <td>35000.000000</td>\n",
       "      <td>35000.000000</td>\n",
       "      <td>35000.000000</td>\n",
       "      <td>35000.000000</td>\n",
       "      <td>35000</td>\n",
       "      <td>35000</td>\n",
       "      <td>35000.000000</td>\n",
       "      <td>35000.000000</td>\n",
       "      <td>35000.000000</td>\n",
       "      <td>35000.000000</td>\n",
       "      <td>35000.000000</td>\n",
       "      <td>35000.000000</td>\n",
       "      <td>35000</td>\n",
       "      <td>35000.000000</td>\n",
       "    </tr>\n",
       "    <tr>\n",
       "      <th>unique</th>\n",
       "      <td>18</td>\n",
       "      <td>NaN</td>\n",
       "      <td>NaN</td>\n",
       "      <td>NaN</td>\n",
       "      <td>NaN</td>\n",
       "      <td>NaN</td>\n",
       "      <td>NaN</td>\n",
       "      <td>2</td>\n",
       "      <td>18</td>\n",
       "      <td>NaN</td>\n",
       "      <td>NaN</td>\n",
       "      <td>NaN</td>\n",
       "      <td>NaN</td>\n",
       "      <td>NaN</td>\n",
       "      <td>NaN</td>\n",
       "      <td>2</td>\n",
       "      <td>NaN</td>\n",
       "    </tr>\n",
       "    <tr>\n",
       "      <th>top</th>\n",
       "      <td>Water</td>\n",
       "      <td>NaN</td>\n",
       "      <td>NaN</td>\n",
       "      <td>NaN</td>\n",
       "      <td>NaN</td>\n",
       "      <td>NaN</td>\n",
       "      <td>NaN</td>\n",
       "      <td>0</td>\n",
       "      <td>Water</td>\n",
       "      <td>NaN</td>\n",
       "      <td>NaN</td>\n",
       "      <td>NaN</td>\n",
       "      <td>NaN</td>\n",
       "      <td>NaN</td>\n",
       "      <td>NaN</td>\n",
       "      <td>0</td>\n",
       "      <td>NaN</td>\n",
       "    </tr>\n",
       "    <tr>\n",
       "      <th>freq</th>\n",
       "      <td>4986</td>\n",
       "      <td>NaN</td>\n",
       "      <td>NaN</td>\n",
       "      <td>NaN</td>\n",
       "      <td>NaN</td>\n",
       "      <td>NaN</td>\n",
       "      <td>NaN</td>\n",
       "      <td>32158</td>\n",
       "      <td>4920</td>\n",
       "      <td>NaN</td>\n",
       "      <td>NaN</td>\n",
       "      <td>NaN</td>\n",
       "      <td>NaN</td>\n",
       "      <td>NaN</td>\n",
       "      <td>NaN</td>\n",
       "      <td>32101</td>\n",
       "      <td>NaN</td>\n",
       "    </tr>\n",
       "    <tr>\n",
       "      <th>mean</th>\n",
       "      <td>NaN</td>\n",
       "      <td>68.981114</td>\n",
       "      <td>79.187971</td>\n",
       "      <td>74.280314</td>\n",
       "      <td>72.822029</td>\n",
       "      <td>72.080743</td>\n",
       "      <td>68.177714</td>\n",
       "      <td>NaN</td>\n",
       "      <td>NaN</td>\n",
       "      <td>69.113400</td>\n",
       "      <td>79.066743</td>\n",
       "      <td>74.083114</td>\n",
       "      <td>72.796143</td>\n",
       "      <td>71.997743</td>\n",
       "      <td>68.408057</td>\n",
       "      <td>NaN</td>\n",
       "      <td>0.472571</td>\n",
       "    </tr>\n",
       "    <tr>\n",
       "      <th>std</th>\n",
       "      <td>NaN</td>\n",
       "      <td>25.211388</td>\n",
       "      <td>32.644604</td>\n",
       "      <td>31.634607</td>\n",
       "      <td>32.670941</td>\n",
       "      <td>27.920859</td>\n",
       "      <td>29.184342</td>\n",
       "      <td>NaN</td>\n",
       "      <td>NaN</td>\n",
       "      <td>25.138107</td>\n",
       "      <td>32.421108</td>\n",
       "      <td>31.512517</td>\n",
       "      <td>32.758536</td>\n",
       "      <td>27.597523</td>\n",
       "      <td>29.021283</td>\n",
       "      <td>NaN</td>\n",
       "      <td>0.499254</td>\n",
       "    </tr>\n",
       "    <tr>\n",
       "      <th>min</th>\n",
       "      <td>NaN</td>\n",
       "      <td>1.000000</td>\n",
       "      <td>5.000000</td>\n",
       "      <td>5.000000</td>\n",
       "      <td>10.000000</td>\n",
       "      <td>20.000000</td>\n",
       "      <td>5.000000</td>\n",
       "      <td>NaN</td>\n",
       "      <td>NaN</td>\n",
       "      <td>1.000000</td>\n",
       "      <td>5.000000</td>\n",
       "      <td>5.000000</td>\n",
       "      <td>10.000000</td>\n",
       "      <td>20.000000</td>\n",
       "      <td>5.000000</td>\n",
       "      <td>NaN</td>\n",
       "      <td>0.000000</td>\n",
       "    </tr>\n",
       "    <tr>\n",
       "      <th>25%</th>\n",
       "      <td>NaN</td>\n",
       "      <td>50.000000</td>\n",
       "      <td>55.000000</td>\n",
       "      <td>50.000000</td>\n",
       "      <td>50.000000</td>\n",
       "      <td>50.000000</td>\n",
       "      <td>45.000000</td>\n",
       "      <td>NaN</td>\n",
       "      <td>NaN</td>\n",
       "      <td>50.000000</td>\n",
       "      <td>55.000000</td>\n",
       "      <td>50.000000</td>\n",
       "      <td>50.000000</td>\n",
       "      <td>50.000000</td>\n",
       "      <td>45.000000</td>\n",
       "      <td>NaN</td>\n",
       "      <td>0.000000</td>\n",
       "    </tr>\n",
       "    <tr>\n",
       "      <th>50%</th>\n",
       "      <td>NaN</td>\n",
       "      <td>65.000000</td>\n",
       "      <td>75.000000</td>\n",
       "      <td>70.000000</td>\n",
       "      <td>65.000000</td>\n",
       "      <td>70.000000</td>\n",
       "      <td>65.000000</td>\n",
       "      <td>NaN</td>\n",
       "      <td>NaN</td>\n",
       "      <td>65.000000</td>\n",
       "      <td>75.000000</td>\n",
       "      <td>70.000000</td>\n",
       "      <td>65.000000</td>\n",
       "      <td>70.000000</td>\n",
       "      <td>65.000000</td>\n",
       "      <td>NaN</td>\n",
       "      <td>0.000000</td>\n",
       "    </tr>\n",
       "    <tr>\n",
       "      <th>75%</th>\n",
       "      <td>NaN</td>\n",
       "      <td>80.000000</td>\n",
       "      <td>100.000000</td>\n",
       "      <td>90.000000</td>\n",
       "      <td>95.000000</td>\n",
       "      <td>90.000000</td>\n",
       "      <td>90.000000</td>\n",
       "      <td>NaN</td>\n",
       "      <td>NaN</td>\n",
       "      <td>80.000000</td>\n",
       "      <td>100.000000</td>\n",
       "      <td>90.000000</td>\n",
       "      <td>95.000000</td>\n",
       "      <td>90.000000</td>\n",
       "      <td>90.000000</td>\n",
       "      <td>NaN</td>\n",
       "      <td>1.000000</td>\n",
       "    </tr>\n",
       "    <tr>\n",
       "      <th>max</th>\n",
       "      <td>NaN</td>\n",
       "      <td>255.000000</td>\n",
       "      <td>190.000000</td>\n",
       "      <td>230.000000</td>\n",
       "      <td>194.000000</td>\n",
       "      <td>230.000000</td>\n",
       "      <td>180.000000</td>\n",
       "      <td>NaN</td>\n",
       "      <td>NaN</td>\n",
       "      <td>255.000000</td>\n",
       "      <td>190.000000</td>\n",
       "      <td>230.000000</td>\n",
       "      <td>194.000000</td>\n",
       "      <td>230.000000</td>\n",
       "      <td>180.000000</td>\n",
       "      <td>NaN</td>\n",
       "      <td>1.000000</td>\n",
       "    </tr>\n",
       "  </tbody>\n",
       "</table>\n",
       "</div>"
      ],
      "text/plain": [
       "       first_type      first_hp     first_atk     first_def  first_sp_atk  \\\n",
       "count       35000  35000.000000  35000.000000  35000.000000  35000.000000   \n",
       "unique         18           NaN           NaN           NaN           NaN   \n",
       "top         Water           NaN           NaN           NaN           NaN   \n",
       "freq         4986           NaN           NaN           NaN           NaN   \n",
       "mean          NaN     68.981114     79.187971     74.280314     72.822029   \n",
       "std           NaN     25.211388     32.644604     31.634607     32.670941   \n",
       "min           NaN      1.000000      5.000000      5.000000     10.000000   \n",
       "25%           NaN     50.000000     55.000000     50.000000     50.000000   \n",
       "50%           NaN     65.000000     75.000000     70.000000     65.000000   \n",
       "75%           NaN     80.000000    100.000000     90.000000     95.000000   \n",
       "max           NaN    255.000000    190.000000    230.000000    194.000000   \n",
       "\n",
       "        first_sp_def   first_speed first_leg sec_type        sec_hp  \\\n",
       "count   35000.000000  35000.000000     35000    35000  35000.000000   \n",
       "unique           NaN           NaN         2       18           NaN   \n",
       "top              NaN           NaN         0    Water           NaN   \n",
       "freq             NaN           NaN     32158     4920           NaN   \n",
       "mean       72.080743     68.177714       NaN      NaN     69.113400   \n",
       "std        27.920859     29.184342       NaN      NaN     25.138107   \n",
       "min        20.000000      5.000000       NaN      NaN      1.000000   \n",
       "25%        50.000000     45.000000       NaN      NaN     50.000000   \n",
       "50%        70.000000     65.000000       NaN      NaN     65.000000   \n",
       "75%        90.000000     90.000000       NaN      NaN     80.000000   \n",
       "max       230.000000    180.000000       NaN      NaN    255.000000   \n",
       "\n",
       "             sec_atk       sec_def    sec_sp_atk    sec_sp_def     sec_speed  \\\n",
       "count   35000.000000  35000.000000  35000.000000  35000.000000  35000.000000   \n",
       "unique           NaN           NaN           NaN           NaN           NaN   \n",
       "top              NaN           NaN           NaN           NaN           NaN   \n",
       "freq             NaN           NaN           NaN           NaN           NaN   \n",
       "mean       79.066743     74.083114     72.796143     71.997743     68.408057   \n",
       "std        32.421108     31.512517     32.758536     27.597523     29.021283   \n",
       "min         5.000000      5.000000     10.000000     20.000000      5.000000   \n",
       "25%        55.000000     50.000000     50.000000     50.000000     45.000000   \n",
       "50%        75.000000     70.000000     65.000000     70.000000     65.000000   \n",
       "75%       100.000000     90.000000     95.000000     90.000000     90.000000   \n",
       "max       190.000000    230.000000    194.000000    230.000000    180.000000   \n",
       "\n",
       "       sec_leg   winner_is_1  \n",
       "count    35000  35000.000000  \n",
       "unique       2           NaN  \n",
       "top          0           NaN  \n",
       "freq     32101           NaN  \n",
       "mean       NaN      0.472571  \n",
       "std        NaN      0.499254  \n",
       "min        NaN      0.000000  \n",
       "25%        NaN      0.000000  \n",
       "50%        NaN      0.000000  \n",
       "75%        NaN      1.000000  \n",
       "max        NaN      1.000000  "
      ]
     },
     "execution_count": 10,
     "metadata": {},
     "output_type": "execute_result"
    }
   ],
   "source": [
    "train.describe(include = \"all\")"
   ]
  },
  {
   "cell_type": "markdown",
   "metadata": {
    "collapsed": true
   },
   "source": [
    "Le tableau ci-haut nous renseigne sur les variables présentes dans notre groupe d'entraînement. D'abord, comme il est possible de le constater, aucune de nos variables numériques, y compris les variables contenant des entiers (`first_leg` et `sec_leg`) et des booléens (`winner_is_1`), ne semble contenir de valeurs manquantes puisque celles-ci contiennent toutes 35 000 observations. Par ailleurs, aucune variable ne semble *a priori* contenir de valeurs aberrantes.\n",
    "\n",
    "Notre seule variable catégorique est la variable indiquant le type de Pokémon (`'first_type_1'` et `'sec_type_1'`)."
   ]
  },
  {
   "cell_type": "code",
   "execution_count": 11,
   "metadata": {
    "scrolled": true
   },
   "outputs": [
    {
     "data": {
      "text/plain": [
       "Water       4986\n",
       "Normal      4205\n",
       "Bug         3077\n",
       "Grass       2968\n",
       "Psychic     2584\n",
       "Fire        2255\n",
       "Rock        2008\n",
       "Electric    1834\n",
       "Ghost       1398\n",
       "Dragon      1373\n",
       "Ground      1361\n",
       "Dark        1360\n",
       "Poison      1254\n",
       "Steel       1241\n",
       "Fighting    1150\n",
       "Ice         1045\n",
       "Fairy        732\n",
       "Flying       169\n",
       "Name: first_type, dtype: int64"
      ]
     },
     "execution_count": 11,
     "metadata": {},
     "output_type": "execute_result"
    }
   ],
   "source": [
    "train[\"first_type\"].value_counts()"
   ]
  },
  {
   "cell_type": "markdown",
   "metadata": {},
   "source": [
    "Cette variable ne semble également pas contenir de valeur manquante ou d'erreur d'enregistrement dans ses différentes catégories.\n",
    "\n",
    "La première étape dans la préparation de nos données est la création de variable dépendante pour notre modèle prédictif, `train_y`, séparemment des variables explicatives."
   ]
  },
  {
   "cell_type": "code",
   "execution_count": null,
   "metadata": {
    "collapsed": true
   },
   "outputs": [],
   "source": [
    "# Construction de l'outcome\n",
    "train_y = train[\"winner_is_1\"].values\n",
    "train = train.drop(\"winner_is_1\", axis = 1)"
   ]
  },
  {
   "cell_type": "markdown",
   "metadata": {},
   "source": [
    "L'étape suivante est la dichotomisation de nos variables catégoriques et la standardisation de nos variables numériques continues. La variable indiquant le type de Pokémon est dichotomisée à l'aide de la fonction `get_dummies` du module `Pandas`. Les variables binaires créées sont ensuite jointes à un  un dataframe comprenant les autres variables dichotomiques (`first_leg`, `sec_leg` et `winner_is_1`). Toutes ces étapes sont réalisées à l'aide de notre fonction `tran_dummy`."
   ]
  },
  {
   "cell_type": "code",
   "execution_count": 12,
   "metadata": {
    "collapsed": true
   },
   "outputs": [],
   "source": [
    "def tran_dummy(df, var_dummy, var_untouched) :\n",
    "    \"\"\"\n",
    "    Cette fonction effectue la gestion des variables catégoriques d'un dataframe.\n",
    "    \"\"\"\n",
    "    \n",
    "    # Obtention des variables dichotomiques\n",
    "    df_temp = pd.get_dummies(df[var_dummy])\n",
    "    \n",
    "    # Réunion des variables dichotomisées et des autres variables\n",
    "    df_temp = pd.concat([df_temp, df[var_untouched]],\n",
    "                       axis = 1, join_axes = [df_temp.index])\n",
    "    df_temp.reset_index(drop = True, inplace = True)\n",
    "    \n",
    "    return df_temp"
   ]
  },
  {
   "cell_type": "code",
   "execution_count": 13,
   "metadata": {
    "collapsed": true
   },
   "outputs": [],
   "source": [
    "# Dichotomisation des variables catégoriques\n",
    "train_cat = tran_dummy(train, [\"first_type\", \"sec_type\"], [\"first_leg\", \"sec_leg\"])"
   ]
  },
  {
   "cell_type": "markdown",
   "metadata": {
    "collapsed": true
   },
   "source": [
    "Les variables numériques continues sont ensuite standardisées à l'aide des méthodes `fit_transform` et `transform` de la classe `StandardScaler` du module `SciKit-Learn`. La standardisation des données consiste à soustraire à chaque valeur d'une observation la moyenne de la variable auquelle elle correspond puis de la diviser par l'écart-type de cette même variable. Cela permet d'avoir des variables explicatives centrées à zéro et ayant une variance de un. L'initialisation de la classe `StandardScaler` est faite à l'aide de notre fonction `call_scaler` et la standardisation de nos données à l'aide de notre fonction `tran_cont`."
   ]
  },
  {
   "cell_type": "code",
   "execution_count": 14,
   "metadata": {
    "collapsed": true
   },
   "outputs": [],
   "source": [
    "def call_scaler():\n",
    "    \"\"\"\n",
    "    Cette fonction initialise l'objet scaler afin d'effectuer la gestion des variables\n",
    "    numériques d'un dataframe.\n",
    "    \"\"\"\n",
    "    \n",
    "    # Création d'une variable globale contenant l'objet issu de la classe StandardScaler\n",
    "    global scaler\n",
    "    scaler = StandardScaler()"
   ]
  },
  {
   "cell_type": "code",
   "execution_count": 15,
   "metadata": {
    "collapsed": true
   },
   "outputs": [],
   "source": [
    "def tran_cont(df, var_drop = None) :\n",
    "    \"\"\"\n",
    "    Cette fonction effectue la gestion des variables numériques d'un dataframe.\n",
    "    \"\"\"\n",
    "    \n",
    "    # Vérification si des variables à omettre sont fournies en intrants\n",
    "    if var_drop:\n",
    "        df_temp = df.drop(var_drop, axis = 1, inplace = False)\n",
    "        \n",
    "    else:\n",
    "        df_temp = df\n",
    "    \n",
    "    # Vérification si l'objet scaler a déjà été initialisé\n",
    "    try:\n",
    "        df_numeric = pd.DataFrame(scaler.transform(df_temp))\n",
    "    \n",
    "    except NotFittedError:\n",
    "        df_numeric = pd.DataFrame(scaler.fit_transform(df_temp), columns = df_temp.columns)\n",
    "    \n",
    "    df_numeric.reset_index(drop = True, inplace = True)\n",
    "    \n",
    "    return df_numeric"
   ]
  },
  {
   "cell_type": "code",
   "execution_count": 16,
   "metadata": {
    "collapsed": true
   },
   "outputs": [],
   "source": [
    "# Standardisation des variables numériques continues\n",
    "call_scaler()\n",
    "train_numeric = tran_cont(train,\n",
    "                          [\"first_type\",\n",
    "                           \"sec_type\",\n",
    "                           \"first_leg\",\n",
    "                           \"sec_leg\"])\n",
    "\n",
    "# Reconstruction d'un nouveau dataframe contenant les variables préparées\n",
    "train_prep = pd.concat([train_cat, train_numeric], axis = 1, join_axes = [train_cat.index])"
   ]
  },
  {
   "cell_type": "markdown",
   "metadata": {
    "collapsed": true
   },
   "source": [
    "### 3. Analyse exploratoire\n",
    "\n",
    "Dans cette section, nous tentons de découvrir si des regroupements peuvent être trouvés à travers les différents combats. Pour ce faire, nous utilisons la méthode des k-moyennes. Cette méthode consiste à déterminer préalablement un nombre de groupes possibles puis d'assigner les observations à chacun de ces groupes. Chaque groupe est représenté par un centroïde, une observation \"moyenne\" en quelque sorte. Les observations d'un même groupe sont donc celles étant le plus proches d'un même centroïde. Par ailleurs, toutes les observations sont assignées à l'un des centroïdes.\n",
    "\n",
    "La méthode des k-moyemmes fonctionne comme suit. Une série de centroïdes correspondant aux nombres de regroupements désirés est initialement sélectionnée de façon aléatoire parmi les observations. Les observations sont ensuite assignées au groupe dont le centroïde est le plus près. La proximité entre les centroïdes et les observations est mesurée à l'aide de la distance euclidienne. Après la première assignation de toutes les observations à un centroïde, ceux-ci sont de nouveau calculés. Leur nouvelle position à travers les observations est déterminée par la position moyenne de toutes les observations qui leur sont assignées. Les centroïdes ayant changé de position, les observations sont de nouveau assignées au centroïde le plus près, formant ainsi de nouveaux groupes. Ce processus se repète ainsi jusqu'à ce que la composition des groupes ne change plus. Les groupes sont alors formés d'observations partageant la caractéristique d'être toutes plus près du même centroïde.\n",
    "\n",
    "Pour utiliser la distance euclidienne sur nos observations de façon adéquate celles-ci doivent d'abord être standardisées, ce que nous avons déjà fait. Puisque la distance euclidienne est conçue pour être utilisée sur des variables continues, les variables discrètes sont omises de cette analyse explotatoire. \n",
    "\n",
    "La méthode des k-moyennes est appliquée à l'aide de la classe `KMeans` du module `SciKit-Learn`."
   ]
  },
  {
   "cell_type": "code",
   "execution_count": 17,
   "metadata": {
    "collapsed": true
   },
   "outputs": [],
   "source": [
    "# Définition des paramètres de la fonctions KMeans\n",
    "km = KMeans(n_clusters = 4,\n",
    "           max_iter = 300,\n",
    "           n_init = 10,\n",
    "           init = \"random\",\n",
    "           random_state = 222)\n",
    "\n",
    "# Prédiction des groupes\n",
    "clusters = km.fit_predict(train_numeric)\n",
    "\n",
    "# Assignation des groupes aux observations\n",
    "train_numeric[\"cluster\"] = clusters + 1"
   ]
  },
  {
   "cell_type": "code",
   "execution_count": 18,
   "metadata": {
    "collapsed": true
   },
   "outputs": [],
   "source": [
    "# Calcul des valeurs moyennes des caractéristiques par groupe\n",
    "cluster_mean = train_numeric.groupby(\"cluster\").agg(\"mean\")"
   ]
  },
  {
   "cell_type": "markdown",
   "metadata": {},
   "source": [
    "Nous effectuons nos analyses de façon à retrouver quatre groupes. Un groupe étant identifié pour toutes les observations, il est ensuite possible de voir comment les caractéristiques des combats fournies à la méthode des k-moyennes se distribuent entre les groupes. Cette visualisation est effectuée à l'aide de notre fonction `graph_cluster`."
   ]
  },
  {
   "cell_type": "code",
   "execution_count": 27,
   "metadata": {
    "collapsed": true
   },
   "outputs": [],
   "source": [
    "def graph_cluster(n_graph, mean, main_title, y_title) :\n",
    "    \"\"\"\n",
    "    Cette fonction permet la visualisation de la distribution des caractéristiques moyennes par regroupement.\n",
    "    \"\"\"\n",
    "    n_rows = n_graph // 2\n",
    "    n_cats = np.arange(len(cluster_mean.columns))\n",
    "    width = 0.6\n",
    "    \n",
    "    # Initialisation de la figure\n",
    "    fig = plt.figure(figsize = (11, 7))\n",
    "    fig.subplots_adjust(hspace = .6)\n",
    "    fig.suptitle(main_title, fontsize = 16)\n",
    "    \n",
    "    # Boucle permettant la construction de chacun des graphs\n",
    "    for graph in range(n_graph):\n",
    "\n",
    "        ax = fig.add_subplot(n_rows, 2, graph + 1)\n",
    "        ax.bar(n_cats, mean.iloc[graph], width, color = \"orange\")\n",
    "        ax.set_ylim(cluster_mean.min().values.min() - 0.05, cluster_mean.max().values.max() + 0.05)\n",
    "        ax.set_title(\"Groupe \" + str(graph + 1))\n",
    "        ax.set_xticks([])\n",
    "        \n",
    "        if (graph == 0) or ((graph + 1) // 4 == 1) :\n",
    "            ax.set_xticks(n_cats + width / 2)\n",
    "            ax.set_xticklabels(mean.columns, rotation = 90)\n",
    "            ax.set_ylabel(y_title)\n",
    "        \n",
    "    plt.show()"
   ]
  },
  {
   "cell_type": "code",
   "execution_count": 28,
   "metadata": {},
   "outputs": [
    {
     "data": {
      "image/png": "[encoded data removed]",
      "text/plain": [
       "<matplotlib.figure.Figure at 0x10eba24e0>"
      ]
     },
     "metadata": {},
     "output_type": "display_data"
    }
   ],
   "source": [
    "graph_cluster(4, cluster_mean, \"Distribution des caractéristiques par groupe\", \"valeurs standardisées\")"
   ]
  },
  {
   "cell_type": "markdown",
   "metadata": {},
   "source": [
    "À l'aide de la méthode des k-moyennes, nous obtenons quatre groupes distincts représentant des types de combats. Les groupes 1 et 4 contiennent des combats où la distribution des caractéristiques des Pokémon semble être avantageuse pour l'un des deux. En effet, le groupe 1 réunit des combats où le premier Pokemon possède des caractéristiques largement supérieures à celles du second. La situation est inverse dans le groupe 4 où le second Pokémon possède des caractéristiques dominant celles de son adversaire. Pour ce qui est des groupes 2 et 3, ceux-ci contiennent des combats aux résultats plus incertains. Le groupe 2 réunit des combats où les adversaires semblent être tous les deux très forts tandis que le groupe 3 contient des combats ou les adversaires sont tous les plutôt faibles."
   ]
  },
  {
   "cell_type": "code",
   "execution_count": 21,
   "metadata": {},
   "outputs": [
    {
     "data": {
      "text/html": [
       "<div>\n",
       "<style>\n",
       "    .dataframe thead tr:only-child th {\n",
       "        text-align: right;\n",
       "    }\n",
       "\n",
       "    .dataframe thead th {\n",
       "        text-align: left;\n",
       "    }\n",
       "\n",
       "    .dataframe tbody tr th {\n",
       "        vertical-align: top;\n",
       "    }\n",
       "</style>\n",
       "<table border=\"1\" class=\"dataframe\">\n",
       "  <thead>\n",
       "    <tr style=\"text-align: right;\">\n",
       "      <th></th>\n",
       "      <th>Pokémon 1 : Défaite</th>\n",
       "      <th>Pokémon 1 : Victoire</th>\n",
       "    </tr>\n",
       "  </thead>\n",
       "  <tbody>\n",
       "    <tr>\n",
       "      <th>Groupe 1</th>\n",
       "      <td>0.26</td>\n",
       "      <td>0.74</td>\n",
       "    </tr>\n",
       "    <tr>\n",
       "      <th>Groupe 2</th>\n",
       "      <td>0.52</td>\n",
       "      <td>0.48</td>\n",
       "    </tr>\n",
       "    <tr>\n",
       "      <th>Groupe 3</th>\n",
       "      <td>0.53</td>\n",
       "      <td>0.47</td>\n",
       "    </tr>\n",
       "    <tr>\n",
       "      <th>Groupe 4</th>\n",
       "      <td>0.80</td>\n",
       "      <td>0.20</td>\n",
       "    </tr>\n",
       "  </tbody>\n",
       "</table>\n",
       "</div>"
      ],
      "text/plain": [
       "          Pokémon 1 : Défaite  Pokémon 1 : Victoire\n",
       "Groupe 1                 0.26                  0.74\n",
       "Groupe 2                 0.52                  0.48\n",
       "Groupe 3                 0.53                  0.47\n",
       "Groupe 4                 0.80                  0.20"
      ]
     },
     "execution_count": 21,
     "metadata": {},
     "output_type": "execute_result"
    }
   ],
   "source": [
    "# Comparaison des groupes aux résultats des combats\n",
    "comp = pd.concat([train_numeric[\"cluster\"].reset_index(drop = True),\n",
    "                  pd.Series(train_y, name = \"winner_is_1\")], axis = 1)\n",
    "pd.DataFrame(np.round(pd.crosstab(comp.cluster, comp.winner_is_1, normalize = \"index\").values, 2),\n",
    "             columns = [\"Pokémon 1 : Défaite\", \"Pokémon 1 : Victoire\"],\n",
    "             index = [\"Groupe 1\", \"Groupe 2\", \"Groupe 3\", \"Groupe 4\"])"
   ]
  },
  {
   "cell_type": "markdown",
   "metadata": {},
   "source": [
    "En comparant les résultats de ces regroupements aux résultats des combats, nous constatons sans surprise que les combats provenant du groupe 1 sont gagnés à 74% par le premier combattant. À l'inverse, dans les combats contenus dans le groupe 4, le second Pokémon sort vainqueur 80% du temps. Du côté des combats des groupes 2 et 3, les victoires sont uniformément distribuées entre les combattants."
   ]
  },
  {
   "cell_type": "markdown",
   "metadata": {
    "collapsed": true
   },
   "source": [
    "### 4. Analyse prédictive\n",
    "\n",
    "Cette section présente l'estimation et l'évaluation d'un modèle prédictif permettant de déterminer le vainqueur dans un affrontement entre deux Pokémon.\n",
    "\n",
    "Le modèle prédictif estimé est un modèle de forêt aléatoire de classification (en anglais, *random forest*). Ce modèle est un modèle d'ensembles puisqu'il effectue l'agrégation des résultats provenant de diffèrents modèles prédictifs afin d'obtenir des prédictions plus robustes. Dans le cas du modèle de forêt aléatoire appliqué à un problème de classification, les modèles agrégés sont des arbres de classification.\n",
    "\n",
    "Un arbre de classification est un modèle de prédiction non paramétrique cherchant à réunir des observations dans des noeuds sur la base de leur similitude dans leur variable dépendante. Ces noeuds sont obtenus à la suite d'une série de divisions binaires faites sur l'échantillon. L'arbre commence d'abord avec l'ensemble des observations composant l'échantillon; cet ensemble est appelé le noeud racine. Pour effectuer sa première division, l'algorithme produisant l'arbre de classification cherche parmi l'ensemble des valeurs prises par chacune des variables explicatives celle permettant de diviser les observations de façon à minimiser une mesure quelconque. Lorsque cette valeur est identifiée, elle devient un critère permettant de diviser le premier noeud en deux nouveaux noeuds. Si la valeur choisie est tirée d'une variable continue, la règle de division fait en sorte que les observations possédant une valeur inférieure à la valeur sélectionnée se retrouvent dans le premier noeud alors que celles possédant une valeur supérieure se retrouvent dans le second. Si la division est faite sur une variable binaire, les observations ayant pour cette variable la première valeur se retrouvent dans le premier noeud tandis que celles ayant la seconde valeur se retrouvent dans le second noeud. Une fois ces nouveaux noeuds créés, ceux-ci sont soumis au même processus de division et ainsi de suite.\n",
    "\n",
    "Il a été mentionné que les divisions sont faites de façon à minimiser une mesure quelconque. Cette mesure est l'impureté des nouveaux noeuds produits. L'impureté est une mesure de la dissemblance des observations réunies dans un noeud. Dans le cas de notre travail, nous entraînons un modèle forêt aléatoire reposant sur des arbres effectuant de la classification, c'est pourquoi la mesure d'impureté utilisée est l'entropie. L'entropie est une mesure de désorganisation ou d'incertitude d'un système. Elle mesure à quel point chacun des noeuds produits lors d'une division est composé d'un mélange uniforme des classes à prédire. Plus la distribution des classes est uniforme dans le noeud, plus l'entropie y est élevée. À l'inverse, plus une classe est sureprésentée par rapport à une autre, plus l'entropie y est faible. Suivant cette logique, l'algorithme cherche à créer des noeuds séparant le mieux possible les classes.\n",
    "\n",
    "L'algorithme produisant un arbre de classification effectue des divisions sur les noeuds jusqu'à ce qu'une règle d'arrêt soient remplie. Ces règles d'arrêt sont des hyperparamètres du modèle et doivent être sélectionnées afin construire les arbres qui composent le modèle de forêt aléatoire. Ces hyperparamètres déterminent des contraintes sur la dimension des arbres de façon à éviter le surapprentissage, c'est-à-dire l'incapacité du modèle à se généraliser à de nouvelles données. Dans le cas des arbres de classification, les hyperparamètres à sélectionner sont la profondeur maximale de l'arbre en terme de noeuds, le nombre minimal d'observations devant se retrouver dans un noeud terminal, c'est-à-dire un noeud à partir duquel sera fait une prédiction, et le nombre minimal d'observations devant se retrouver dans un noeud pour que celui-ci soit éligible à une nouvelle division.\n",
    "\n",
    "Les hyperparamètres sont sélectionnés par validation croisée. La validation croisée consiste à diviser le groupe d'entraînement en une série de sous-groupes. Ces sous-groupes sont utilisés pour estimer le modèle en omettant un des groupes de l'estimation. Ce groupe omis est ensuite utilisé pour effectuer des prédictions et évaluer la performance du modèle. Ce processus est effectué de façon à ce que chacun des groupes serve de groupe test. Cette procédure est ensuite effectuée pour chaque ensemble de paramètres candidats possibles. Les paramètres ayant générés la meilleure performance moyenne à travers les sous-groupes sont ceux conservés pour estimer le modèle sur l'ensemble des données.\n",
    "\n",
    "Lorsque la construction d'un arbre est terminée, de nouvelles observations peuvent lui être fournies afin d'effectuer des prédictions pour celles-ci. Un arbre de décision représentant essentiellement une série de régles \"si/alors\", l'observation n'a qu'à être classée dans un noeud terminal en suivant chacune des règles qui s'applique à elle. La prédiction est effectuée à partir des données utilisées pour entraîner l'arbre. En fait, la prédiction faite pour la nouvelle observation est la classe représentant le mode de la variable dépendante parmi les observations se trouvant dans le noeud terminal.\n",
    "\n",
    "Un modèle de forêt aléatoire estime plusieurs arbres de classification pour ensuite agréger leur prédiction. Pour ce faire, il utilise la méthode *bootstrap*. Cette méthode consiste à sélectionner plusieurs nouveaux échantillons à partir de l'échantillon initial. Chacun de ces nouveaux échantillons est ensuite utilisé pour estimer un arbre de classification différent. Toutefois, simplement estimer une série d'arbres de classification sur des échantillons *bootstrap* risquerait de générer une série d'arbres très similaires. Le modèle de forêt aléatoire impose donc une restriction supplémentaire en ne permettant qu'à une partie des variables explicatives disponibles d'être candidates pour effectuer les divisions. Ces variables sont sélectionnées de façon aléatoire à chaque nouvelle division pour chacun des arbres entraînés.\n",
    "\n",
    "Lorsqu'une nouvelle observation est fournie au modèle de forêt aléatoire, celui-ci effectue une série de prédictions à l'aide de l'ensemble des arbres de classification qui le composent. Chacune de ces prédictions étant une classe, le modèle de forêt aléatoire utilise la classe ayant été prédite le plus souvent par les arbres de classification comme prédiction.\n",
    "\n",
    "Pour évaluer la performance prédictive de notre modèle, la précision (traduction de *accuracy*, à distinguer de *precision*) sera utilisée. La précision représente la proportion des prédictions qui ont la même valeur que celle attendue. Une limite de cette mesure de performance est de ne pas être adaptée à la prédiction d'évènements rares, mais cette situation ne s'applique pas ici puisque nos deux classes (défaite/victoire du combattant un) sont réparties presque uniformément parmi les observations.\n",
    "\n",
    "Dans le code qui suit, le modèle de forêt aléatoire est appelé à l'aide de la classe `RandomForestClassifier`. La validation croisée permettant de sélectionner le meilleur ensemble d'hyperparamètres est définie à l'aide de la classe `GridSearchCV` et est estimée grâce à la méthode `fit`. Ces deux classes proviennent du module `SciKit-Learn`."
   ]
  },
  {
   "cell_type": "code",
   "execution_count": 181,
   "metadata": {},
   "outputs": [
    {
     "name": "stdout",
     "output_type": "stream",
     "text": [
      "CPU times: user 10h 14min 23s, sys: 15min 12s, total: 10h 29min 36s\n",
      "Wall time: 5h 18min 42s\n"
     ]
    }
   ],
   "source": [
    "%%time\n",
    "\n",
    "# Définition de l'estimateur random forest\n",
    "rforest = RandomForestClassifier(n_estimators = 50,\n",
    "                                  criterion = \"entropy\",\n",
    "                                  random_state = 222,\n",
    "                                  max_features = 0.35,\n",
    "                                  n_jobs = 3)\n",
    "\n",
    "# Définition des hyperparamètres candidats pour la validation croisée\n",
    "params = {\"max_depth\" : np.arange(1, 20, 1),\n",
    "          \"min_samples_leaf\" : np.arange(1, 20, 1),\n",
    "          \"min_samples_split\" : np.arange(2, 20, 1)}\n",
    "\n",
    "# Paramétrisation de la validation croisée\n",
    "cv_rforest = GridSearchCV(rforest, param_grid = params,\n",
    "                          scoring = \"accuracy\")\n",
    "\n",
    "# Sélection des hyperparamètres par validation croisée\n",
    "cv_rforest.fit(train_prep, train_y)"
   ]
  },
  {
   "cell_type": "code",
   "execution_count": 182,
   "metadata": {},
   "outputs": [
    {
     "data": {
      "text/plain": [
       "{'max_depth': 18, 'min_samples_leaf': 1, 'min_samples_split': 3}"
      ]
     },
     "execution_count": 182,
     "metadata": {},
     "output_type": "execute_result"
    }
   ],
   "source": [
    "# Obtention des paramètres sélectionnés\n",
    "cv_rforest.best_params_"
   ]
  },
  {
   "cell_type": "markdown",
   "metadata": {},
   "source": [
    "Le modèle dont la performance est maximisée dans le cadre de notre analyse est celui dont les arbres de classification composant la forêt aléatoire possèdent une profondeur maximale de dix-huit noeuds. Les arbres peuvent également contenir minimalement une seule observation dans un noeud terminal. Enfin, la présence d'au moins trois observations dans un noeud est requise pour que celui-ci soit candidat à une nouvelle division.\n",
    "\n",
    "Il est possible d'évaluer la performance naïve de ce modèle en calculant la précision sur l'ensemble de notre groupe d'entraînement. Cette mesure est obtenue à l'aide de la fonction `accuracy_score` du module `SciKit-Learn`."
   ]
  },
  {
   "cell_type": "code",
   "execution_count": 39,
   "metadata": {
    "collapsed": true
   },
   "outputs": [],
   "source": [
    "train_y_pred = cv_rforest.best_estimator_.predict(train_prep)\n",
    "rf_accuracy = accuracy_score(train_y, train_y_pred)"
   ]
  },
  {
   "cell_type": "code",
   "execution_count": 40,
   "metadata": {},
   "outputs": [
    {
     "name": "stdout",
     "output_type": "stream",
     "text": [
      "Naive accuracy :  0.9954\n"
     ]
    }
   ],
   "source": [
    "print(\"Naive accuracy : \", rf_accuracy)"
   ]
  },
  {
   "cell_type": "markdown",
   "metadata": {},
   "source": [
    "Dans le cas de notre modèle, la mesure de performance naïve de celui-ci est de 99,54%. Cette mesure est toutefois optimiste puisqu'elle est estimée sur une partie des observations utilisées pour entraîner le modèle prédictif.\n",
    "\n",
    "La performance intra-échantillon de ce modèle peut également être mesurée à l'aide de la validation croisée enboîtée. Cette technique permet d'estimer le modèle sur une partie des données et de valider sa performance sur le reste de celles-ci. La validation croisée emboîtée est effectuée à l'aide de la classe `cross_val_score` du module `SciKit-Lear` à laquelle nous fournissons comme estimateur le modèle obtenu par validation croisée calculé à l'aide de `GridSearchCV`."
   ]
  },
  {
   "cell_type": "code",
   "execution_count": 41,
   "metadata": {},
   "outputs": [
    {
     "name": "stdout",
     "output_type": "stream",
     "text": [
      "CPU times: user 3d 20h 22min 59s, sys: 2h 16min 54s, total: 3d 22h 39min 54s\n",
      "Wall time: 2d 2h 44min 14s\n"
     ]
    }
   ],
   "source": [
    "%%time\n",
    "\n",
    "rforest_nested = cross_val_score(cv_rforest, train_prep, train_y,\n",
    "                                 cv = 10, scoring = \"accuracy\")"
   ]
  },
  {
   "cell_type": "code",
   "execution_count": 42,
   "metadata": {},
   "outputs": [
    {
     "name": "stdout",
     "output_type": "stream",
     "text": [
      "Nested CV Accuracy : 0.95091\n"
     ]
    }
   ],
   "source": [
    "print(\"Nested CV Accuracy :\", np.round(np.mean(rforest_nested), 5))"
   ]
  },
  {
   "cell_type": "markdown",
   "metadata": {
    "collapsed": true
   },
   "source": [
    "Comme nous devions nous y attendre, la performance du modèle estimée par validation croisée emboîtée est plus conservatrice. À l'aide de cette méthode, nous obtenons une précision de 95,09%. Cela signifie que le gagnant prédit par notre modèle sort effectivement vainqueur de l'affrontement 95% du temps.\n",
    "\n",
    "Il est à noter toutefois que l'estimation de la performance par validation croisée emboîtée peut être passablement longue. Ce temps de calcul peut également être augmenté lors de l'estimation de modèles non paramétriques, ce qui est le cas avec le modèle de forêt aléatoire. En l'occurence, le calcul de la performance par cette méthode a pris un peu plus de deux jours à se faire.\n",
    "\n",
    "Nous nous intéressons ensuite aux variables explicatives ayant un impact sur la formation des arbres de classification contenus dans notre modèle de forêt aléatoire. Cet impact est mesuré par l'importance de chaque variable, c'est-à-dire la contribution relative de chacune d'elles dans la réduction de l'impureté (dans notre cas, mesurée par l'entropie) lors de l'estimation de l'ensemble des arbres constituant la forêt aléatoire."
   ]
  },
  {
   "cell_type": "code",
   "execution_count": 193,
   "metadata": {},
   "outputs": [
    {
     "data": {
      "image/png": "[encoded data removed]",
      "text/plain": [
       "<matplotlib.figure.Figure at 0x1190b8588>"
      ]
     },
     "metadata": {},
     "output_type": "display_data"
    }
   ],
   "source": [
    "# Extraction de l'information sur l'importance\n",
    "importance = pd.DataFrame(np.array([cv_rforest.best_estimator_.feature_importances_,\n",
    "                           train_prep.columns]).T,\n",
    "                          columns = [\"import\", \"variable\"])\n",
    "importance = importance.sort_values([\"import\"], ascending = False)\n",
    "\n",
    "# Création de la figure permettant de représenter l'importance des variables explicatives\n",
    "fig = plt.figure(figsize = (11, 7))\n",
    "fig.suptitle(\"Importance relative des caractéristiques des Pokemon \", fontsize = 16)\n",
    "ax = fig.add_subplot(1, 1, 1)\n",
    "ax.bar(x_axe, importance[\"import\"], color = \"orange\")\n",
    "ax.set_xticks(x_axe)\n",
    "ax.set_xticklabels(importance[\"variable\"], rotation = 90)\n",
    "plt.show()"
   ]
  },
  {
   "cell_type": "markdown",
   "metadata": {},
   "source": [
    "Il est possible de constater qu'un peu de plus de 60% de la réduction de l'impureté dans notre modèle de forêt aléatoire est due à deux variables, à savoir la vitesse de chacun des adversaires impliqués dans le combat. En ajoutant les deux variables suivantes, la force d'attaque de chacun des Pokémon, c'est environ 75% de la réduction de l'impureté qui est expliquée. Ainsi, ces quatre variables jouent un rôle déterminant dans la construction des arbres de classification.\n",
    "\n",
    "Il est à noter que le modèle de forêt aléatoire possède comme avantage de permettre facilement la sélection de variables explicatives pertinentes. Dans notre cas, il semble évident que les variables captant le type de chacun des Pokémon ont un apport négligeable dans le modèle. Une façon de rendre l'estimation de celui-ci plus rapide pourrait donc être de simplement ignorer ces variables lors de la procédure.\n",
    "\n",
    "Les mesures de performance naïve et obtenue par validation croisée emboîtée sont importantes dans la sélection de notre modèle, mais elles demeurent toujours à risque d'un biais optimiste. La meilleure façon de valider la performance d'un modèle est de mesurer la qualité de ses prédictions sur des données auxquelles il n'a jamais été exposées. Nous pouvons effectuer cet exercice à l'aide du groupe test que nous avons créé en début d'analyse et que nous n'avons pas touché depuis. "
   ]
  },
  {
   "cell_type": "code",
   "execution_count": 227,
   "metadata": {},
   "outputs": [
    {
     "name": "stdout",
     "output_type": "stream",
     "text": [
      "Taille du groupe test = (15000, 16)\n"
     ]
    }
   ],
   "source": [
    "print(\"Taille du groupe test = \", test.shape, sep = \"\")"
   ]
  },
  {
   "cell_type": "markdown",
   "metadata": {},
   "source": [
    "Tel que mentionné précédemment, le groupe test contient 15 000 observations. C'est sur ces observations que la performance hors échantillon de notre modèle prédictif sera mesurée. Tout comme le groupe d'entraînement, nous nous assurons que le groupe test ne contient aucune valeur manquante."
   ]
  },
  {
   "cell_type": "code",
   "execution_count": 196,
   "metadata": {},
   "outputs": [
    {
     "data": {
      "text/html": [
       "<div>\n",
       "<style>\n",
       "    .dataframe thead tr:only-child th {\n",
       "        text-align: right;\n",
       "    }\n",
       "\n",
       "    .dataframe thead th {\n",
       "        text-align: left;\n",
       "    }\n",
       "\n",
       "    .dataframe tbody tr th {\n",
       "        vertical-align: top;\n",
       "    }\n",
       "</style>\n",
       "<table border=\"1\" class=\"dataframe\">\n",
       "  <thead>\n",
       "    <tr style=\"text-align: right;\">\n",
       "      <th></th>\n",
       "      <th>first_type</th>\n",
       "      <th>first_hp</th>\n",
       "      <th>first_atk</th>\n",
       "      <th>first_def</th>\n",
       "      <th>first_sp_atk</th>\n",
       "      <th>first_sp_def</th>\n",
       "      <th>first_speed</th>\n",
       "      <th>first_leg</th>\n",
       "      <th>sec_type</th>\n",
       "      <th>sec_hp</th>\n",
       "      <th>sec_atk</th>\n",
       "      <th>sec_def</th>\n",
       "      <th>sec_sp_atk</th>\n",
       "      <th>sec_sp_def</th>\n",
       "      <th>sec_speed</th>\n",
       "      <th>sec_leg</th>\n",
       "      <th>winner_is_1</th>\n",
       "    </tr>\n",
       "  </thead>\n",
       "  <tbody>\n",
       "    <tr>\n",
       "      <th>count</th>\n",
       "      <td>15000</td>\n",
       "      <td>15000.000000</td>\n",
       "      <td>15000.000000</td>\n",
       "      <td>15000.000000</td>\n",
       "      <td>15000.000000</td>\n",
       "      <td>15000.000000</td>\n",
       "      <td>15000.000000</td>\n",
       "      <td>15000</td>\n",
       "      <td>15000</td>\n",
       "      <td>15000.000000</td>\n",
       "      <td>15000.000000</td>\n",
       "      <td>15000.000000</td>\n",
       "      <td>15000.000000</td>\n",
       "      <td>15000.000000</td>\n",
       "      <td>15000.00000</td>\n",
       "      <td>15000</td>\n",
       "      <td>15000.000000</td>\n",
       "    </tr>\n",
       "    <tr>\n",
       "      <th>unique</th>\n",
       "      <td>18</td>\n",
       "      <td>NaN</td>\n",
       "      <td>NaN</td>\n",
       "      <td>NaN</td>\n",
       "      <td>NaN</td>\n",
       "      <td>NaN</td>\n",
       "      <td>NaN</td>\n",
       "      <td>2</td>\n",
       "      <td>18</td>\n",
       "      <td>NaN</td>\n",
       "      <td>NaN</td>\n",
       "      <td>NaN</td>\n",
       "      <td>NaN</td>\n",
       "      <td>NaN</td>\n",
       "      <td>NaN</td>\n",
       "      <td>2</td>\n",
       "      <td>NaN</td>\n",
       "    </tr>\n",
       "    <tr>\n",
       "      <th>top</th>\n",
       "      <td>Water</td>\n",
       "      <td>NaN</td>\n",
       "      <td>NaN</td>\n",
       "      <td>NaN</td>\n",
       "      <td>NaN</td>\n",
       "      <td>NaN</td>\n",
       "      <td>NaN</td>\n",
       "      <td>0</td>\n",
       "      <td>Water</td>\n",
       "      <td>NaN</td>\n",
       "      <td>NaN</td>\n",
       "      <td>NaN</td>\n",
       "      <td>NaN</td>\n",
       "      <td>NaN</td>\n",
       "      <td>NaN</td>\n",
       "      <td>0</td>\n",
       "      <td>NaN</td>\n",
       "    </tr>\n",
       "    <tr>\n",
       "      <th>freq</th>\n",
       "      <td>2029</td>\n",
       "      <td>NaN</td>\n",
       "      <td>NaN</td>\n",
       "      <td>NaN</td>\n",
       "      <td>NaN</td>\n",
       "      <td>NaN</td>\n",
       "      <td>NaN</td>\n",
       "      <td>13756</td>\n",
       "      <td>2106</td>\n",
       "      <td>NaN</td>\n",
       "      <td>NaN</td>\n",
       "      <td>NaN</td>\n",
       "      <td>NaN</td>\n",
       "      <td>NaN</td>\n",
       "      <td>NaN</td>\n",
       "      <td>13797</td>\n",
       "      <td>NaN</td>\n",
       "    </tr>\n",
       "    <tr>\n",
       "      <th>mean</th>\n",
       "      <td>NaN</td>\n",
       "      <td>69.267133</td>\n",
       "      <td>78.964867</td>\n",
       "      <td>74.174400</td>\n",
       "      <td>73.061600</td>\n",
       "      <td>72.068333</td>\n",
       "      <td>68.300067</td>\n",
       "      <td>NaN</td>\n",
       "      <td>NaN</td>\n",
       "      <td>69.068533</td>\n",
       "      <td>78.961267</td>\n",
       "      <td>74.301400</td>\n",
       "      <td>72.356400</td>\n",
       "      <td>72.066733</td>\n",
       "      <td>67.97860</td>\n",
       "      <td>NaN</td>\n",
       "      <td>0.470733</td>\n",
       "    </tr>\n",
       "    <tr>\n",
       "      <th>std</th>\n",
       "      <td>NaN</td>\n",
       "      <td>25.429819</td>\n",
       "      <td>32.799151</td>\n",
       "      <td>31.637921</td>\n",
       "      <td>32.919654</td>\n",
       "      <td>27.906914</td>\n",
       "      <td>29.530236</td>\n",
       "      <td>NaN</td>\n",
       "      <td>NaN</td>\n",
       "      <td>25.245431</td>\n",
       "      <td>32.396977</td>\n",
       "      <td>31.731817</td>\n",
       "      <td>32.376179</td>\n",
       "      <td>28.385701</td>\n",
       "      <td>29.30995</td>\n",
       "      <td>NaN</td>\n",
       "      <td>0.499159</td>\n",
       "    </tr>\n",
       "    <tr>\n",
       "      <th>min</th>\n",
       "      <td>NaN</td>\n",
       "      <td>1.000000</td>\n",
       "      <td>5.000000</td>\n",
       "      <td>5.000000</td>\n",
       "      <td>10.000000</td>\n",
       "      <td>20.000000</td>\n",
       "      <td>5.000000</td>\n",
       "      <td>NaN</td>\n",
       "      <td>NaN</td>\n",
       "      <td>1.000000</td>\n",
       "      <td>5.000000</td>\n",
       "      <td>5.000000</td>\n",
       "      <td>10.000000</td>\n",
       "      <td>20.000000</td>\n",
       "      <td>5.00000</td>\n",
       "      <td>NaN</td>\n",
       "      <td>0.000000</td>\n",
       "    </tr>\n",
       "    <tr>\n",
       "      <th>25%</th>\n",
       "      <td>NaN</td>\n",
       "      <td>50.000000</td>\n",
       "      <td>55.000000</td>\n",
       "      <td>50.000000</td>\n",
       "      <td>50.000000</td>\n",
       "      <td>50.000000</td>\n",
       "      <td>45.000000</td>\n",
       "      <td>NaN</td>\n",
       "      <td>NaN</td>\n",
       "      <td>50.000000</td>\n",
       "      <td>55.000000</td>\n",
       "      <td>50.000000</td>\n",
       "      <td>50.000000</td>\n",
       "      <td>50.000000</td>\n",
       "      <td>45.00000</td>\n",
       "      <td>NaN</td>\n",
       "      <td>0.000000</td>\n",
       "    </tr>\n",
       "    <tr>\n",
       "      <th>50%</th>\n",
       "      <td>NaN</td>\n",
       "      <td>65.000000</td>\n",
       "      <td>75.000000</td>\n",
       "      <td>70.000000</td>\n",
       "      <td>65.000000</td>\n",
       "      <td>70.000000</td>\n",
       "      <td>65.000000</td>\n",
       "      <td>NaN</td>\n",
       "      <td>NaN</td>\n",
       "      <td>65.000000</td>\n",
       "      <td>75.000000</td>\n",
       "      <td>70.000000</td>\n",
       "      <td>65.000000</td>\n",
       "      <td>70.000000</td>\n",
       "      <td>65.00000</td>\n",
       "      <td>NaN</td>\n",
       "      <td>0.000000</td>\n",
       "    </tr>\n",
       "    <tr>\n",
       "      <th>75%</th>\n",
       "      <td>NaN</td>\n",
       "      <td>80.000000</td>\n",
       "      <td>100.000000</td>\n",
       "      <td>90.000000</td>\n",
       "      <td>95.000000</td>\n",
       "      <td>90.000000</td>\n",
       "      <td>90.000000</td>\n",
       "      <td>NaN</td>\n",
       "      <td>NaN</td>\n",
       "      <td>80.000000</td>\n",
       "      <td>100.000000</td>\n",
       "      <td>90.000000</td>\n",
       "      <td>95.000000</td>\n",
       "      <td>90.000000</td>\n",
       "      <td>90.00000</td>\n",
       "      <td>NaN</td>\n",
       "      <td>1.000000</td>\n",
       "    </tr>\n",
       "    <tr>\n",
       "      <th>max</th>\n",
       "      <td>NaN</td>\n",
       "      <td>255.000000</td>\n",
       "      <td>190.000000</td>\n",
       "      <td>230.000000</td>\n",
       "      <td>194.000000</td>\n",
       "      <td>230.000000</td>\n",
       "      <td>180.000000</td>\n",
       "      <td>NaN</td>\n",
       "      <td>NaN</td>\n",
       "      <td>255.000000</td>\n",
       "      <td>190.000000</td>\n",
       "      <td>230.000000</td>\n",
       "      <td>194.000000</td>\n",
       "      <td>230.000000</td>\n",
       "      <td>180.00000</td>\n",
       "      <td>NaN</td>\n",
       "      <td>1.000000</td>\n",
       "    </tr>\n",
       "  </tbody>\n",
       "</table>\n",
       "</div>"
      ],
      "text/plain": [
       "       first_type      first_hp     first_atk     first_def  first_sp_atk  \\\n",
       "count       15000  15000.000000  15000.000000  15000.000000  15000.000000   \n",
       "unique         18           NaN           NaN           NaN           NaN   \n",
       "top         Water           NaN           NaN           NaN           NaN   \n",
       "freq         2029           NaN           NaN           NaN           NaN   \n",
       "mean          NaN     69.267133     78.964867     74.174400     73.061600   \n",
       "std           NaN     25.429819     32.799151     31.637921     32.919654   \n",
       "min           NaN      1.000000      5.000000      5.000000     10.000000   \n",
       "25%           NaN     50.000000     55.000000     50.000000     50.000000   \n",
       "50%           NaN     65.000000     75.000000     70.000000     65.000000   \n",
       "75%           NaN     80.000000    100.000000     90.000000     95.000000   \n",
       "max           NaN    255.000000    190.000000    230.000000    194.000000   \n",
       "\n",
       "        first_sp_def   first_speed first_leg sec_type        sec_hp  \\\n",
       "count   15000.000000  15000.000000     15000    15000  15000.000000   \n",
       "unique           NaN           NaN         2       18           NaN   \n",
       "top              NaN           NaN         0    Water           NaN   \n",
       "freq             NaN           NaN     13756     2106           NaN   \n",
       "mean       72.068333     68.300067       NaN      NaN     69.068533   \n",
       "std        27.906914     29.530236       NaN      NaN     25.245431   \n",
       "min        20.000000      5.000000       NaN      NaN      1.000000   \n",
       "25%        50.000000     45.000000       NaN      NaN     50.000000   \n",
       "50%        70.000000     65.000000       NaN      NaN     65.000000   \n",
       "75%        90.000000     90.000000       NaN      NaN     80.000000   \n",
       "max       230.000000    180.000000       NaN      NaN    255.000000   \n",
       "\n",
       "             sec_atk       sec_def    sec_sp_atk    sec_sp_def    sec_speed  \\\n",
       "count   15000.000000  15000.000000  15000.000000  15000.000000  15000.00000   \n",
       "unique           NaN           NaN           NaN           NaN          NaN   \n",
       "top              NaN           NaN           NaN           NaN          NaN   \n",
       "freq             NaN           NaN           NaN           NaN          NaN   \n",
       "mean       78.961267     74.301400     72.356400     72.066733     67.97860   \n",
       "std        32.396977     31.731817     32.376179     28.385701     29.30995   \n",
       "min         5.000000      5.000000     10.000000     20.000000      5.00000   \n",
       "25%        55.000000     50.000000     50.000000     50.000000     45.00000   \n",
       "50%        75.000000     70.000000     65.000000     70.000000     65.00000   \n",
       "75%       100.000000     90.000000     95.000000     90.000000     90.00000   \n",
       "max       190.000000    230.000000    194.000000    230.000000    180.00000   \n",
       "\n",
       "       sec_leg   winner_is_1  \n",
       "count    15000  15000.000000  \n",
       "unique       2           NaN  \n",
       "top          0           NaN  \n",
       "freq     13797           NaN  \n",
       "mean       NaN      0.470733  \n",
       "std        NaN      0.499159  \n",
       "min        NaN      0.000000  \n",
       "25%        NaN      0.000000  \n",
       "50%        NaN      0.000000  \n",
       "75%        NaN      1.000000  \n",
       "max        NaN      1.000000  "
      ]
     },
     "execution_count": 196,
     "metadata": {},
     "output_type": "execute_result"
    }
   ],
   "source": [
    "test.describe(include = \"all\")"
   ]
  },
  {
   "cell_type": "markdown",
   "metadata": {},
   "source": [
    "Nous vérifions également que notre seule variable carégorique ne possède aucune anomalie."
   ]
  },
  {
   "cell_type": "code",
   "execution_count": 197,
   "metadata": {},
   "outputs": [
    {
     "data": {
      "text/plain": [
       "Water       2029\n",
       "Normal      1833\n",
       "Bug         1309\n",
       "Grass       1289\n",
       "Psychic     1144\n",
       "Fire        1011\n",
       "Rock         869\n",
       "Electric     815\n",
       "Dragon       597\n",
       "Ghost        587\n",
       "Ground       564\n",
       "Poison       551\n",
       "Dark         531\n",
       "Steel        520\n",
       "Fighting     511\n",
       "Ice          454\n",
       "Fairy        313\n",
       "Flying        73\n",
       "Name: first_type, dtype: int64"
      ]
     },
     "execution_count": 197,
     "metadata": {},
     "output_type": "execute_result"
    }
   ],
   "source": [
    "test[\"first_type\"].value_counts()"
   ]
  },
  {
   "cell_type": "markdown",
   "metadata": {},
   "source": [
    "Puisque les données contenues dans notre groupe test ne semblent pas contenir de valeur manquante, nous pouvons les préparer pour l'algorithme. Cette préparation devant être la même que celle des données d'entraînement, nous utilisons les mêmes fonctions que nous avons créées pour dichotomiser les variables catégoriques et standardisiser les variables continues."
   ]
  },
  {
   "cell_type": "code",
   "execution_count": 220,
   "metadata": {
    "collapsed": true
   },
   "outputs": [],
   "source": [
    "# Construction de l'outcome\n",
    "test_y = test[\"winner_is_1\"].values\n",
    "test = test.drop(\"winner_is_1\", axis = 1)\n",
    "\n",
    "# Dichotomisation des variables catégoriques\n",
    "test_cat = tran_dummy(test, [\"first_type\", \"sec_type\"], [\"first_leg\", \"sec_leg\"])"
   ]
  },
  {
   "cell_type": "code",
   "execution_count": 221,
   "metadata": {
    "collapsed": true
   },
   "outputs": [],
   "source": [
    "# Standardisation des variables numériques continues\n",
    "test_numeric = tran_cont(test,\n",
    "                          [\"first_type\",\n",
    "                           \"sec_type\",\n",
    "                           \"first_leg\",\n",
    "                           \"sec_leg\"])\n",
    "\n",
    "# Reconstruction du nouveau dataframe\n",
    "test_prep = pd.concat([test_cat, test_numeric], axis = 1, join_axes = [test_cat.index])"
   ]
  },
  {
   "cell_type": "markdown",
   "metadata": {},
   "source": [
    "Contrairement à lorsque nous avons standardisé les variables continues du groupe d'entraînement, la fonction `call_scaler` n'a pas été appelée pour la standardisation des variables continues du groupe test. C'est le cas puisque cette fonction sert à initialiser la classe permettant la standardisation des données. Dans le cas du groupe test, nous voulons récupérer les valeurs utilisées pour standardiser les observations du groupe d'entraînement plutôt que d'en calculer de nouvelles pour le groupe test. C'est pourquoi la classe n'est pas réinitialisée.\n",
    "\n",
    "Les prédictions pour le groupe test sont ensuite obtenues et comparées aux valeurs attendues. Ceci nous permet d'obtenir la précision hors échantillon, la véritable mesure de performance de notre modèle."
   ]
  },
  {
   "cell_type": "code",
   "execution_count": 228,
   "metadata": {
    "collapsed": true
   },
   "outputs": [],
   "source": [
    "test_y_pred = cv_rforest.best_estimator_.predict(test_prep)\n",
    "rf_accuracy_test = accuracy_score(test_y, test_y_pred)"
   ]
  },
  {
   "cell_type": "code",
   "execution_count": 229,
   "metadata": {},
   "outputs": [
    {
     "name": "stdout",
     "output_type": "stream",
     "text": [
      "Out of sample accuracy : 0.9492\n"
     ]
    }
   ],
   "source": [
    "print(\"Out of sample accuracy :\", np.round(np.mean(rf_accuracy_test), 5))"
   ]
  },
  {
   "cell_type": "markdown",
   "metadata": {},
   "source": [
    "Notre précision hors échantillon est de 94,92%, ce qui signifie que près de 95% de nos prédictions concernant le vainqueur d'un combat de Pokémon s'avèrent exactes.\n",
    "\n",
    "Il est intéressant de constater que même si la performance naïve calculée était effectivement optimiste sur la qualité de notre modèle prédictif, celle obtenue à l'aide de la validation croisée emboîtée était assez près de la performance obtenue hors échantillon. Ceci suggère que cette méthode est bien appropriée pour mesurer la performance prédictive la capacité d'un modèle à se généraliser à de nouvelles données. "
   ]
  },
  {
   "cell_type": "markdown",
   "metadata": {},
   "source": [
    "### 5. Conclusion\n",
    "\n",
    "Dans ce travail nous avons tenté de comprendre la dynamique des combats de Pokémon. Pour ce faire, nous avons utilisé des données obtenus sur le site Kaggle. Ces données introduites dans une base de données SQLite à laquelle nous avons pu ensuite faire une requête pour obtenir de façon optimale les données dont nous avions besoin. Les données ont ensuite été partitionnées puis préparées pour les analyses exploratoire et prédictive.\n",
    "\n",
    "Dans notre analyse exploratoire, nous avons découvert que nos combats peuvent être rassemblés en 4 grands groupes, soient deux groupes où l'un des adversaires est nettement plus fort que l'autre et deux autres groupes où les adversaires sont soient tous deux très forts, soient tous deux très faibles. Pour ce qui est de notre analyse prédictive, nous avons construit un modèle prédictif qui permet de déterminer le vainqueur de ces combats. Notre modèle possède une performance hors échantillon d'environ 95%. \n",
    "\n",
    "Notre analyse possède quelques limites et extensions possibles. D'abord, notre analyse exploratoire a porté uniquement sur les variables continues, ce qui a pu laisser de côté une partie de l'information contenue dans les données. Nous avons toutefois vu à l'aide de notre modèle prédictif que les variables demeurées inutilisées dans notre analyse exploratoire semblent avoir une importance secondaire dans l'issue des combats.\n",
    "\n",
    "Du côté de notre modèle prédictif, le nombre d'arbres utilisés dans notre forêt aléatoire est relativement faible (50), notamment puisque celui-ci est très long à entraîner. Ce temps d'entraînement pourrait toutefois être réduit en retirant les variables catégoriques puisque, comme nous l'avons vu, celles-ci semblent permettre une diminution faible de l'impureté dans les arbres de classification. Enfin, il serait intéressant de comparer nos résultats à ceux obtenus à l'aide d'un modèle prédictif paramétrique, donc imposant une structure plus grande sur la relation entre les variables. Il nous permettrait notamment d'avoir une mesure de performance comparative pour notre modèle et de voir si un modèle plus simple parviendrait à une performance similaire."
   ]
  }
 ],
 "metadata": {
  "kernelspec": {
   "display_name": "Python 3",
   "language": "python",
   "name": "python3"
  },
  "language_info": {
   "codemirror_mode": {
    "name": "ipython",
    "version": 3
   },
   "file_extension": ".py",
   "mimetype": "text/x-python",
   "name": "python",
   "nbconvert_exporter": "python",
   "pygments_lexer": "ipython3",
   "version": "3.6.3"
  }
 },
 "nbformat": 4,
 "nbformat_minor": 2
}
